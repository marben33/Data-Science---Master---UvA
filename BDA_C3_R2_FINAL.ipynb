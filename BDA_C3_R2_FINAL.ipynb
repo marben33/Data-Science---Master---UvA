{
 "cells": [
  {
   "cell_type": "markdown",
   "id": "d511edef",
   "metadata": {
    "papermill": {
     "duration": 0.01887,
     "end_time": "2023-10-09T10:40:01.608286",
     "exception": false,
     "start_time": "2023-10-09T10:40:01.589416",
     "status": "completed"
    },
    "tags": []
   },
   "source": [
    "# **Amazon Baby Products Review - Group 14**"
   ]
  },
  {
   "cell_type": "markdown",
   "id": "d5701c5e",
   "metadata": {
    "papermill": {
     "duration": 0.015805,
     "end_time": "2023-10-09T10:40:01.640254",
     "exception": false,
     "start_time": "2023-10-09T10:40:01.624449",
     "status": "completed"
    },
    "tags": []
   },
   "source": [
    "# 1. The project\n",
    "\n",
    "In this competition we predict customer sentiments regarding [Baby products purchased on Amazon.com](http://jmcauley.ucsd.edu/data/amazon/), on the basis of their written reviews."
   ]
  },
  {
   "cell_type": "markdown",
   "id": "05da68b5",
   "metadata": {
    "papermill": {
     "duration": 0.017068,
     "end_time": "2023-10-09T10:40:01.673121",
     "exception": false,
     "start_time": "2023-10-09T10:40:01.656053",
     "status": "completed"
    },
    "tags": []
   },
   "source": [
    "**1. Data origin and qualities**\n",
    "\n",
    "* The data for this project are obtained from Amazon customer reviews of baby products, gathered by Amazon itself through their website by inviting customers to enter a review of a baby product that they had bought. This includes reviews and ratings on a 1 to 5 scale. The data was obtain from http://jmcauley.ucsd.edu/data/amazon/ thanks to Professors Emily Fox, Ph.D. and Carlos Guestrin, Ph.D.\n",
    "\n",
    "* The results of this analysis will mostly apply to a specific subset of Amazon customers who are interested in purchasing baby products. Generalizing these findings to all Amazon customers may not be valid, as those who leave online reviews (especially for baby products) might have different characteristics. For example, they might have been encouraged by Amazon to provide feedback. It's essential to think about these specifications before drawing conclusions or making decisions.\n",
    "\n",
    "**2. Potential machine learning methods and features**\n",
    "\n",
    "* Candidate machine learning methods for this project include linear and logistic regression. The goal is to predict customer ratings based on their review text (rating 4,5 OR rating 1, 2, 3).\n",
    "\n",
    "* Given that the outcome variable can be categorized as either satisfied or not satisfied (binary), logistic regression is a suitable choice. Additionally, ridge and lasso regression, along with forward feature selection, are potential methods to explore.\n",
    "\n",
    "* Feature engineering can leverage various text analysis sentiment features, such as sentiment scores, as well as general text attributes like stopwords and text length. Special emphasis will be placed on using TF-IDF (Term Frequency-Inverse Document Frequency).\n",
    "\n",
    "**3. Bayes' error bound?**\n",
    "\n",
    "* It's also important to consider the Bayes' error bound when developing our predictive models. The Bayes' error rate provides a statistical lower limit on the achievable error rate for a given classification problem and the choice of features. Estimating this rate helps assess the effectiveness of the feature set used for classification.\n",
    "\n",
    "* In our case, the outcome variable consists of 5-star ratings, with varying frequencies for each rating category (1 - 12735, 2 - 9448, 3 - 14010, 4 - 27695, 5 - 89643). By calculating the probability of a review being classified as satisfied* (rating > 3), we find that it's approximately 0.764 (117,338 / 153,531 ≈ 0.764), so 76.4%. This indicates a very low Bayes' error bound, suggesting that even a simple model should perform reasonably well.\n",
    "\n",
    "*Total number of ratings > 3 (satisfied): 27,695 (4-star) + 89,643 (5-star) = 117,338 Total number of ratings 1 through 5: 12,735 (1-star) + 9,448 (2-star) + 14,010 (3-star) + 27,695 (4-star) + 89,643 (5-star) = 153,531"
   ]
  },
  {
   "cell_type": "markdown",
   "id": "e6bb8e10",
   "metadata": {
    "_uuid": "ea195a804433c840f3dab99683f4e8b9e69c55a0",
    "papermill": {
     "duration": 0.015845,
     "end_time": "2023-10-09T10:40:01.704892",
     "exception": false,
     "start_time": "2023-10-09T10:40:01.689047",
     "status": "completed"
    },
    "tags": []
   },
   "source": [
    "# 2. Reading Data"
   ]
  },
  {
   "cell_type": "markdown",
   "id": "b589c1bd",
   "metadata": {
    "papermill": {
     "duration": 0.015908,
     "end_time": "2023-10-09T10:40:01.736739",
     "exception": false,
     "start_time": "2023-10-09T10:40:01.720831",
     "status": "completed"
    },
    "tags": []
   },
   "source": [
    "## 2.1. Libraries"
   ]
  },
  {
   "cell_type": "code",
   "execution_count": 1,
   "id": "2d41fc6e",
   "metadata": {
    "_execution_state": "idle",
    "_uuid": "c91e583abe80b0537679954bd6c8ffa891d03d01",
    "execution": {
     "iopub.execute_input": "2023-10-09T10:40:01.772509Z",
     "iopub.status.busy": "2023-10-09T10:40:01.770379Z",
     "iopub.status.idle": "2023-10-09T10:40:05.437491Z",
     "shell.execute_reply": "2023-10-09T10:40:05.435021Z"
    },
    "papermill": {
     "duration": 3.688444,
     "end_time": "2023-10-09T10:40:05.440847",
     "exception": false,
     "start_time": "2023-10-09T10:40:01.752403",
     "status": "completed"
    },
    "tags": []
   },
   "outputs": [
    {
     "name": "stderr",
     "output_type": "stream",
     "text": [
      "── \u001b[1mAttaching core tidyverse packages\u001b[22m ──────────────────────── tidyverse 2.0.0 ──\n",
      "\u001b[32m✔\u001b[39m \u001b[34mdplyr    \u001b[39m 1.1.2     \u001b[32m✔\u001b[39m \u001b[34mreadr    \u001b[39m 2.1.4\n",
      "\u001b[32m✔\u001b[39m \u001b[34mforcats  \u001b[39m 1.0.0     \u001b[32m✔\u001b[39m \u001b[34mstringr  \u001b[39m 1.5.0\n",
      "\u001b[32m✔\u001b[39m \u001b[34mggplot2  \u001b[39m 3.4.2     \u001b[32m✔\u001b[39m \u001b[34mtibble   \u001b[39m 3.2.1\n",
      "\u001b[32m✔\u001b[39m \u001b[34mlubridate\u001b[39m 1.9.2     \u001b[32m✔\u001b[39m \u001b[34mtidyr    \u001b[39m 1.3.0\n",
      "\u001b[32m✔\u001b[39m \u001b[34mpurrr    \u001b[39m 1.0.1     \n",
      "── \u001b[1mConflicts\u001b[22m ────────────────────────────────────────── tidyverse_conflicts() ──\n",
      "\u001b[31m✖\u001b[39m \u001b[34mdplyr\u001b[39m::\u001b[32mfilter()\u001b[39m masks \u001b[34mstats\u001b[39m::filter()\n",
      "\u001b[31m✖\u001b[39m \u001b[34mdplyr\u001b[39m::\u001b[32mlag()\u001b[39m    masks \u001b[34mstats\u001b[39m::lag()\n",
      "\u001b[36mℹ\u001b[39m Use the conflicted package (\u001b[3m\u001b[34m<http://conflicted.r-lib.org/>\u001b[39m\u001b[23m) to force all conflicts to become errors\n",
      "Loading required package: RColorBrewer\n",
      "\n",
      "Loading required package: lattice\n",
      "\n",
      "\n",
      "Attaching package: ‘caret’\n",
      "\n",
      "\n",
      "The following object is masked from ‘package:purrr’:\n",
      "\n",
      "    lift\n",
      "\n",
      "\n",
      "The following object is masked from ‘package:httr’:\n",
      "\n",
      "    progress\n",
      "\n",
      "\n",
      "\n",
      "Attaching package: ‘pls’\n",
      "\n",
      "\n",
      "The following object is masked from ‘package:caret’:\n",
      "\n",
      "    R2\n",
      "\n",
      "\n",
      "The following object is masked from ‘package:stats’:\n",
      "\n",
      "    loadings\n",
      "\n",
      "\n",
      "Type 'citation(\"pROC\")' for a citation.\n",
      "\n",
      "\n",
      "Attaching package: ‘pROC’\n",
      "\n",
      "\n",
      "The following objects are masked from ‘package:stats’:\n",
      "\n",
      "    cov, smooth, var\n",
      "\n",
      "\n"
     ]
    },
    {
     "data": {
      "text/html": [
       "'customer-sentiment-from-reviews-bda-2023'"
      ],
      "text/latex": [
       "'customer-sentiment-from-reviews-bda-2023'"
      ],
      "text/markdown": [
       "'customer-sentiment-from-reviews-bda-2023'"
      ],
      "text/plain": [
       "[1] \"customer-sentiment-from-reviews-bda-2023\""
      ]
     },
     "metadata": {},
     "output_type": "display_data"
    }
   ],
   "source": [
    "# Importing libraries\n",
    "library(tidyverse)\n",
    "library(tidytext)\n",
    "library(wordcloud)\n",
    "library(caret)\n",
    "library(pls)\n",
    "library(pROC)\n",
    "library(splines)\n",
    "\n",
    "## Data attached to this notebook\n",
    "list.files(path = \"../input\")"
   ]
  },
  {
   "cell_type": "markdown",
   "id": "997f84db",
   "metadata": {
    "papermill": {
     "duration": 0.016599,
     "end_time": "2023-10-09T10:40:05.474193",
     "exception": false,
     "start_time": "2023-10-09T10:40:05.457594",
     "status": "completed"
    },
    "tags": []
   },
   "source": [
    "## 2.2. Creating more memory\n",
    "\n",
    "In high level programming languages, a garbage collector is a background program that will automatically clear out unused objects from memory every so often. This alleviates the programmer from having to code this step manually, as is required in low level languages, and prevents common problems like memory overflow, caused by forgetting to delete unused objects from memory. However, instead of waiting for the garbage collector to do its next round, you can call it manually too in R via the gc() function. Usage of the gc() function is demonstrated here, and may be used throughout this notebook to optimize performance. For most projects it's not necessary to use gc() manually, but for this notebook it might lead to improved performance, seeing as the data sets that are processed here have an uncompressed size of up to and over 40 gigabytes, and most mid- to upper range machines typically only have 8 to 16 gigabytes of RAM available, which is also used for other programs like your browser and the OS itself."
   ]
  },
  {
   "cell_type": "code",
   "execution_count": 2,
   "id": "959b88cf",
   "metadata": {
    "execution": {
     "iopub.execute_input": "2023-10-09T10:40:05.554994Z",
     "iopub.status.busy": "2023-10-09T10:40:05.509628Z",
     "iopub.status.idle": "2023-10-09T10:40:05.825956Z",
     "shell.execute_reply": "2023-10-09T10:40:05.824273Z"
    },
    "papermill": {
     "duration": 0.337495,
     "end_time": "2023-10-09T10:40:05.828384",
     "exception": false,
     "start_time": "2023-10-09T10:40:05.490889",
     "status": "completed"
    },
    "tags": []
   },
   "outputs": [
    {
     "data": {
      "text/html": [
       "<table class=\"dataframe\">\n",
       "<caption>A matrix: 2 × 6 of type dbl</caption>\n",
       "<thead>\n",
       "\t<tr><th></th><th scope=col>used</th><th scope=col>(Mb)</th><th scope=col>gc trigger</th><th scope=col>(Mb)</th><th scope=col>max used</th><th scope=col>(Mb)</th></tr>\n",
       "</thead>\n",
       "<tbody>\n",
       "\t<tr><th scope=row>Ncells</th><td>2642692</td><td>141.2</td><td> 4690848</td><td>250.6</td><td>4690848</td><td>250.6</td></tr>\n",
       "\t<tr><th scope=row>Vcells</th><td>4443809</td><td> 34.0</td><td>10146329</td><td> 77.5</td><td>6778731</td><td> 51.8</td></tr>\n",
       "</tbody>\n",
       "</table>\n"
      ],
      "text/latex": [
       "A matrix: 2 × 6 of type dbl\n",
       "\\begin{tabular}{r|llllll}\n",
       "  & used & (Mb) & gc trigger & (Mb) & max used & (Mb)\\\\\n",
       "\\hline\n",
       "\tNcells & 2642692 & 141.2 &  4690848 & 250.6 & 4690848 & 250.6\\\\\n",
       "\tVcells & 4443809 &  34.0 & 10146329 &  77.5 & 6778731 &  51.8\\\\\n",
       "\\end{tabular}\n"
      ],
      "text/markdown": [
       "\n",
       "A matrix: 2 × 6 of type dbl\n",
       "\n",
       "| <!--/--> | used | (Mb) | gc trigger | (Mb) | max used | (Mb) |\n",
       "|---|---|---|---|---|---|---|\n",
       "| Ncells | 2642692 | 141.2 |  4690848 | 250.6 | 4690848 | 250.6 |\n",
       "| Vcells | 4443809 |  34.0 | 10146329 |  77.5 | 6778731 |  51.8 |\n",
       "\n"
      ],
      "text/plain": [
       "       used    (Mb)  gc trigger (Mb)  max used (Mb) \n",
       "Ncells 2642692 141.2  4690848   250.6 4690848  250.6\n",
       "Vcells 4443809  34.0 10146329    77.5 6778731   51.8"
      ]
     },
     "metadata": {},
     "output_type": "display_data"
    }
   ],
   "source": [
    "# Example usage of a manual call to the garbage collector\n",
    "gc(verbose=TRUE, full=TRUE)"
   ]
  },
  {
   "cell_type": "markdown",
   "id": "33063c8b",
   "metadata": {
    "papermill": {
     "duration": 0.017,
     "end_time": "2023-10-09T10:40:05.862427",
     "exception": false,
     "start_time": "2023-10-09T10:40:05.845427",
     "status": "completed"
    },
    "tags": []
   },
   "source": [
    "## 2.3. Locating and loading the data into memory"
   ]
  },
  {
   "cell_type": "code",
   "execution_count": 3,
   "id": "414a2596",
   "metadata": {
    "_uuid": "f66f7f950943394a8a4a148177f47055988d9967",
    "execution": {
     "iopub.execute_input": "2023-10-09T10:40:05.899407Z",
     "iopub.status.busy": "2023-10-09T10:40:05.897984Z",
     "iopub.status.idle": "2023-10-09T10:40:05.917229Z",
     "shell.execute_reply": "2023-10-09T10:40:05.915547Z"
    },
    "papermill": {
     "duration": 0.040328,
     "end_time": "2023-10-09T10:40:05.919527",
     "exception": false,
     "start_time": "2023-10-09T10:40:05.879199",
     "status": "completed"
    },
    "tags": []
   },
   "outputs": [
    {
     "data": {
      "text/html": [
       "<style>\n",
       ".list-inline {list-style: none; margin:0; padding: 0}\n",
       ".list-inline>li {display: inline-block}\n",
       ".list-inline>li:not(:last-child)::after {content: \"\\00b7\"; padding: 0 .5ex}\n",
       "</style>\n",
       "<ol class=list-inline><li>'customer-sentiment-from-reviews-bda-2023/amazon_baby_testset_sample.csv'</li><li>'customer-sentiment-from-reviews-bda-2023/amazon_baby.csv'</li></ol>\n"
      ],
      "text/latex": [
       "\\begin{enumerate*}\n",
       "\\item 'customer-sentiment-from-reviews-bda-2023/amazon\\_baby\\_testset\\_sample.csv'\n",
       "\\item 'customer-sentiment-from-reviews-bda-2023/amazon\\_baby.csv'\n",
       "\\end{enumerate*}\n"
      ],
      "text/markdown": [
       "1. 'customer-sentiment-from-reviews-bda-2023/amazon_baby_testset_sample.csv'\n",
       "2. 'customer-sentiment-from-reviews-bda-2023/amazon_baby.csv'\n",
       "\n",
       "\n"
      ],
      "text/plain": [
       "[1] \"customer-sentiment-from-reviews-bda-2023/amazon_baby_testset_sample.csv\"\n",
       "[2] \"customer-sentiment-from-reviews-bda-2023/amazon_baby.csv\"               "
      ]
     },
     "metadata": {},
     "output_type": "display_data"
    }
   ],
   "source": [
    "dir(\"../input\", recursive=TRUE)"
   ]
  },
  {
   "cell_type": "code",
   "execution_count": 4,
   "id": "a3829447",
   "metadata": {
    "_uuid": "9ac5a75e758d075847213a02fe4ccff21c025b2a",
    "execution": {
     "iopub.execute_input": "2023-10-09T10:40:05.957335Z",
     "iopub.status.busy": "2023-10-09T10:40:05.955895Z",
     "iopub.status.idle": "2023-10-09T10:40:07.971292Z",
     "shell.execute_reply": "2023-10-09T10:40:07.969598Z"
    },
    "papermill": {
     "duration": 2.037254,
     "end_time": "2023-10-09T10:40:07.974168",
     "exception": false,
     "start_time": "2023-10-09T10:40:05.936914",
     "status": "completed"
    },
    "tags": []
   },
   "outputs": [
    {
     "data": {
      "text/html": [
       "<table class=\"dataframe\">\n",
       "<caption>A tibble: 6 × 4</caption>\n",
       "<thead>\n",
       "\t<tr><th scope=col>id</th><th scope=col>name</th><th scope=col>review</th><th scope=col>rating</th></tr>\n",
       "\t<tr><th scope=col>&lt;chr&gt;</th><th scope=col>&lt;chr&gt;</th><th scope=col>&lt;chr&gt;</th><th scope=col>&lt;dbl&gt;</th></tr>\n",
       "</thead>\n",
       "<tbody>\n",
       "\t<tr><td>1</td><td>Planetwise Flannel Wipes                                                                           </td><td>These flannel wipes are OK, but in my opinion not worth keeping.  I also ordered someImse Vimse Cloth Wipes-Ocean Blue-12 countwhich are larger, had a nicer, softer texture and just seemed higher quality.  I use cloth wipes for hands and faces and have been usingThirsties 6 Pack Fab Wipes, Boyfor about 8 months now and need to replace them because they are starting to get rough and have had stink issues for a while that stripping no longer handles.                                            </td><td> 3</td></tr>\n",
       "\t<tr><td>2</td><td>Planetwise Wipe Pouch                                                                              </td><td>it came early and was not disappointed. i love planet wise bags and now my wipe holder. it keps my osocozy wipes moist and does not leak. highly recommend it.                                                                                                                                                                                                                                                                                                                                                  </td><td> 5</td></tr>\n",
       "\t<tr><td>3</td><td>Annas Dream Full Quilt with 2 Shams                                                                </td><td>Very soft and comfortable and warmer than it looks...fit the full size bed perfectly...would recommend to anyone looking for this type of quilt                                                                                                                                                                                                                                                                                                                                                                 </td><td>NA</td></tr>\n",
       "\t<tr><td>4</td><td>Stop Pacifier Sucking without tears with Thumbuddy To Love\\'s Binky Fairy Puppet and Adorable Book</td><td>This is a product well worth the purchase.  I have not found anything else like this, and it is a positive, ingenious approach to losing the binky.  What I love most about this product is how much ownership my daughter has in getting rid of the binky.  She is so proud of herself, and loves her little fairy.  I love the artwork, the chart in the back, and the clever approach of this tool.                                                                                                          </td><td> 5</td></tr>\n",
       "\t<tr><td>5</td><td>Stop Pacifier Sucking without tears with Thumbuddy To Love\\'s Binky Fairy Puppet and Adorable Book</td><td>All of my kids have cried non-stop when I tried to ween them off their pacifier, until I found Thumbuddy To Love\\'s Binky Fairy Puppet.  It is an easy way to work with your kids to allow them to understand where their pacifier is going and help them part from it.This is a must buy book, and a great gift for expecting parents!!  You will save them soo many headaches.Thanks for this book!  You all rock!!                                                                                          </td><td>NA</td></tr>\n",
       "\t<tr><td>6</td><td>Stop Pacifier Sucking without tears with Thumbuddy To Love\\'s Binky Fairy Puppet and Adorable Book</td><td>When the Binky Fairy came to our house, we didn\\'t have any special gift and book to help explain to her about how important it is to stop using a pacifier. This book does a great job to help prepare your child for the loss of their favorite item. The doll is adorable and we made lots of cute movies with the Binky Fairy telling our daughter about what happens when the Binky Fairy comes. I would highly recommend this product for any parent trying to break the pacifier or thumb sucking habit.</td><td> 5</td></tr>\n",
       "</tbody>\n",
       "</table>\n"
      ],
      "text/latex": [
       "A tibble: 6 × 4\n",
       "\\begin{tabular}{llll}\n",
       " id & name & review & rating\\\\\n",
       " <chr> & <chr> & <chr> & <dbl>\\\\\n",
       "\\hline\n",
       "\t 1 & Planetwise Flannel Wipes                                                                            & These flannel wipes are OK, but in my opinion not worth keeping.  I also ordered someImse Vimse Cloth Wipes-Ocean Blue-12 countwhich are larger, had a nicer, softer texture and just seemed higher quality.  I use cloth wipes for hands and faces and have been usingThirsties 6 Pack Fab Wipes, Boyfor about 8 months now and need to replace them because they are starting to get rough and have had stink issues for a while that stripping no longer handles.                                             &  3\\\\\n",
       "\t 2 & Planetwise Wipe Pouch                                                                               & it came early and was not disappointed. i love planet wise bags and now my wipe holder. it keps my osocozy wipes moist and does not leak. highly recommend it.                                                                                                                                                                                                                                                                                                                                                   &  5\\\\\n",
       "\t 3 & Annas Dream Full Quilt with 2 Shams                                                                 & Very soft and comfortable and warmer than it looks...fit the full size bed perfectly...would recommend to anyone looking for this type of quilt                                                                                                                                                                                                                                                                                                                                                                  & NA\\\\\n",
       "\t 4 & Stop Pacifier Sucking without tears with Thumbuddy To Love\\textbackslash{}'s Binky Fairy Puppet and Adorable Book & This is a product well worth the purchase.  I have not found anything else like this, and it is a positive, ingenious approach to losing the binky.  What I love most about this product is how much ownership my daughter has in getting rid of the binky.  She is so proud of herself, and loves her little fairy.  I love the artwork, the chart in the back, and the clever approach of this tool.                                                                                                           &  5\\\\\n",
       "\t 5 & Stop Pacifier Sucking without tears with Thumbuddy To Love\\textbackslash{}'s Binky Fairy Puppet and Adorable Book & All of my kids have cried non-stop when I tried to ween them off their pacifier, until I found Thumbuddy To Love\\textbackslash{}'s Binky Fairy Puppet.  It is an easy way to work with your kids to allow them to understand where their pacifier is going and help them part from it.This is a must buy book, and a great gift for expecting parents!!  You will save them soo many headaches.Thanks for this book!  You all rock!!                                                                                           & NA\\\\\n",
       "\t 6 & Stop Pacifier Sucking without tears with Thumbuddy To Love\\textbackslash{}'s Binky Fairy Puppet and Adorable Book & When the Binky Fairy came to our house, we didn\\textbackslash{}'t have any special gift and book to help explain to her about how important it is to stop using a pacifier. This book does a great job to help prepare your child for the loss of their favorite item. The doll is adorable and we made lots of cute movies with the Binky Fairy telling our daughter about what happens when the Binky Fairy comes. I would highly recommend this product for any parent trying to break the pacifier or thumb sucking habit. &  5\\\\\n",
       "\\end{tabular}\n"
      ],
      "text/markdown": [
       "\n",
       "A tibble: 6 × 4\n",
       "\n",
       "| id &lt;chr&gt; | name &lt;chr&gt; | review &lt;chr&gt; | rating &lt;dbl&gt; |\n",
       "|---|---|---|---|\n",
       "| 1 | Planetwise Flannel Wipes                                                                            | These flannel wipes are OK, but in my opinion not worth keeping.  I also ordered someImse Vimse Cloth Wipes-Ocean Blue-12 countwhich are larger, had a nicer, softer texture and just seemed higher quality.  I use cloth wipes for hands and faces and have been usingThirsties 6 Pack Fab Wipes, Boyfor about 8 months now and need to replace them because they are starting to get rough and have had stink issues for a while that stripping no longer handles.                                             |  3 |\n",
       "| 2 | Planetwise Wipe Pouch                                                                               | it came early and was not disappointed. i love planet wise bags and now my wipe holder. it keps my osocozy wipes moist and does not leak. highly recommend it.                                                                                                                                                                                                                                                                                                                                                   |  5 |\n",
       "| 3 | Annas Dream Full Quilt with 2 Shams                                                                 | Very soft and comfortable and warmer than it looks...fit the full size bed perfectly...would recommend to anyone looking for this type of quilt                                                                                                                                                                                                                                                                                                                                                                  | NA |\n",
       "| 4 | Stop Pacifier Sucking without tears with Thumbuddy To Love\\'s Binky Fairy Puppet and Adorable Book | This is a product well worth the purchase.  I have not found anything else like this, and it is a positive, ingenious approach to losing the binky.  What I love most about this product is how much ownership my daughter has in getting rid of the binky.  She is so proud of herself, and loves her little fairy.  I love the artwork, the chart in the back, and the clever approach of this tool.                                                                                                           |  5 |\n",
       "| 5 | Stop Pacifier Sucking without tears with Thumbuddy To Love\\'s Binky Fairy Puppet and Adorable Book | All of my kids have cried non-stop when I tried to ween them off their pacifier, until I found Thumbuddy To Love\\'s Binky Fairy Puppet.  It is an easy way to work with your kids to allow them to understand where their pacifier is going and help them part from it.This is a must buy book, and a great gift for expecting parents!!  You will save them soo many headaches.Thanks for this book!  You all rock!!                                                                                           | NA |\n",
       "| 6 | Stop Pacifier Sucking without tears with Thumbuddy To Love\\'s Binky Fairy Puppet and Adorable Book | When the Binky Fairy came to our house, we didn\\'t have any special gift and book to help explain to her about how important it is to stop using a pacifier. This book does a great job to help prepare your child for the loss of their favorite item. The doll is adorable and we made lots of cute movies with the Binky Fairy telling our daughter about what happens when the Binky Fairy comes. I would highly recommend this product for any parent trying to break the pacifier or thumb sucking habit. |  5 |\n",
       "\n"
      ],
      "text/plain": [
       "  id\n",
       "1 1 \n",
       "2 2 \n",
       "3 3 \n",
       "4 4 \n",
       "5 5 \n",
       "6 6 \n",
       "  name                                                                                               \n",
       "1 Planetwise Flannel Wipes                                                                           \n",
       "2 Planetwise Wipe Pouch                                                                              \n",
       "3 Annas Dream Full Quilt with 2 Shams                                                                \n",
       "4 Stop Pacifier Sucking without tears with Thumbuddy To Love\\\\'s Binky Fairy Puppet and Adorable Book\n",
       "5 Stop Pacifier Sucking without tears with Thumbuddy To Love\\\\'s Binky Fairy Puppet and Adorable Book\n",
       "6 Stop Pacifier Sucking without tears with Thumbuddy To Love\\\\'s Binky Fairy Puppet and Adorable Book\n",
       "  review                                                                                                                                                                                                                                                                                                                                                                                                                                                                                                          \n",
       "1 These flannel wipes are OK, but in my opinion not worth keeping.  I also ordered someImse Vimse Cloth Wipes-Ocean Blue-12 countwhich are larger, had a nicer, softer texture and just seemed higher quality.  I use cloth wipes for hands and faces and have been usingThirsties 6 Pack Fab Wipes, Boyfor about 8 months now and need to replace them because they are starting to get rough and have had stink issues for a while that stripping no longer handles.                                            \n",
       "2 it came early and was not disappointed. i love planet wise bags and now my wipe holder. it keps my osocozy wipes moist and does not leak. highly recommend it.                                                                                                                                                                                                                                                                                                                                                  \n",
       "3 Very soft and comfortable and warmer than it looks...fit the full size bed perfectly...would recommend to anyone looking for this type of quilt                                                                                                                                                                                                                                                                                                                                                                 \n",
       "4 This is a product well worth the purchase.  I have not found anything else like this, and it is a positive, ingenious approach to losing the binky.  What I love most about this product is how much ownership my daughter has in getting rid of the binky.  She is so proud of herself, and loves her little fairy.  I love the artwork, the chart in the back, and the clever approach of this tool.                                                                                                          \n",
       "5 All of my kids have cried non-stop when I tried to ween them off their pacifier, until I found Thumbuddy To Love\\\\'s Binky Fairy Puppet.  It is an easy way to work with your kids to allow them to understand where their pacifier is going and help them part from it.This is a must buy book, and a great gift for expecting parents!!  You will save them soo many headaches.Thanks for this book!  You all rock!!                                                                                          \n",
       "6 When the Binky Fairy came to our house, we didn\\\\'t have any special gift and book to help explain to her about how important it is to stop using a pacifier. This book does a great job to help prepare your child for the loss of their favorite item. The doll is adorable and we made lots of cute movies with the Binky Fairy telling our daughter about what happens when the Binky Fairy comes. I would highly recommend this product for any parent trying to break the pacifier or thumb sucking habit.\n",
       "  rating\n",
       "1  3    \n",
       "2  5    \n",
       "3 NA    \n",
       "4  5    \n",
       "5 NA    \n",
       "6  5    "
      ]
     },
     "metadata": {},
     "output_type": "display_data"
    }
   ],
   "source": [
    "# Find the right file path\n",
    "csv_filepath = dir(\"..\", pattern=\"amazon_baby.csv\", recursive=TRUE, full.names = TRUE)\n",
    "\n",
    "# Read in the csv file\n",
    "amazon = read_csv(csv_filepath, show_col_types = FALSE) %>%\n",
    "    rownames_to_column('id') \n",
    "\n",
    "head(amazon)"
   ]
  },
  {
   "cell_type": "markdown",
   "id": "5dd6cedb",
   "metadata": {
    "_uuid": "44b5752518ddc0aca9331ed5831d5edf2564f2fd",
    "papermill": {
     "duration": 0.057089,
     "end_time": "2023-10-09T10:40:08.050135",
     "exception": false,
     "start_time": "2023-10-09T10:40:07.993046",
     "status": "completed"
    },
    "tags": []
   },
   "source": [
    "The data frame contains both the train and test data. The test data are the reviews for which the rating is missing and you need to provide a prediction. \n",
    "\n",
    "The following logical index variable will be of help selecting the desired rows without the need to split the data frame into seperate sets. This makes it easier to extract features."
   ]
  },
  {
   "cell_type": "code",
   "execution_count": 5,
   "id": "ff7a4e66",
   "metadata": {
    "execution": {
     "iopub.execute_input": "2023-10-09T10:40:08.088110Z",
     "iopub.status.busy": "2023-10-09T10:40:08.086634Z",
     "iopub.status.idle": "2023-10-09T10:40:08.188479Z",
     "shell.execute_reply": "2023-10-09T10:40:08.186192Z"
    },
    "papermill": {
     "duration": 0.123896,
     "end_time": "2023-10-09T10:40:08.191310",
     "exception": false,
     "start_time": "2023-10-09T10:40:08.067414",
     "status": "completed"
    },
    "tags": []
   },
   "outputs": [
    {
     "data": {
      "text/html": [
       "<table class=\"dataframe\">\n",
       "<caption>A spec_tbl_df: 6 × 2</caption>\n",
       "<thead>\n",
       "\t<tr><th scope=col>rating</th><th scope=col>n</th></tr>\n",
       "\t<tr><th scope=col>&lt;dbl&gt;</th><th scope=col>&lt;int&gt;</th></tr>\n",
       "</thead>\n",
       "<tbody>\n",
       "\t<tr><td> 1</td><td>12735</td></tr>\n",
       "\t<tr><td> 2</td><td> 9448</td></tr>\n",
       "\t<tr><td> 3</td><td>14010</td></tr>\n",
       "\t<tr><td> 4</td><td>27695</td></tr>\n",
       "\t<tr><td> 5</td><td>89643</td></tr>\n",
       "\t<tr><td>NA</td><td>30000</td></tr>\n",
       "</tbody>\n",
       "</table>\n"
      ],
      "text/latex": [
       "A spec\\_tbl\\_df: 6 × 2\n",
       "\\begin{tabular}{ll}\n",
       " rating & n\\\\\n",
       " <dbl> & <int>\\\\\n",
       "\\hline\n",
       "\t  1 & 12735\\\\\n",
       "\t  2 &  9448\\\\\n",
       "\t  3 & 14010\\\\\n",
       "\t  4 & 27695\\\\\n",
       "\t  5 & 89643\\\\\n",
       "\t NA & 30000\\\\\n",
       "\\end{tabular}\n"
      ],
      "text/markdown": [
       "\n",
       "A spec_tbl_df: 6 × 2\n",
       "\n",
       "| rating &lt;dbl&gt; | n &lt;int&gt; |\n",
       "|---|---|\n",
       "|  1 | 12735 |\n",
       "|  2 |  9448 |\n",
       "|  3 | 14010 |\n",
       "|  4 | 27695 |\n",
       "|  5 | 89643 |\n",
       "| NA | 30000 |\n",
       "\n"
      ],
      "text/plain": [
       "  rating n    \n",
       "1  1     12735\n",
       "2  2      9448\n",
       "3  3     14010\n",
       "4  4     27695\n",
       "5  5     89643\n",
       "6 NA     30000"
      ]
     },
     "metadata": {},
     "output_type": "display_data"
    }
   ],
   "source": [
    "# Needed for base Bayes' lower error bound\n",
    "amazon %>%\n",
    "    count(rating)"
   ]
  },
  {
   "cell_type": "markdown",
   "id": "81a23a8e",
   "metadata": {
    "_uuid": "548e07947ca115cc8138c438c8e6487acb62a6c0",
    "papermill": {
     "duration": 0.018015,
     "end_time": "2023-10-09T10:40:08.232173",
     "exception": false,
     "start_time": "2023-10-09T10:40:08.214158",
     "status": "completed"
    },
    "tags": []
   },
   "source": [
    "From the above, there are 153,531 training samples and 30,000 test samples."
   ]
  },
  {
   "cell_type": "markdown",
   "id": "db046c4c",
   "metadata": {
    "papermill": {
     "duration": 0.018568,
     "end_time": "2023-10-09T10:40:08.271830",
     "exception": false,
     "start_time": "2023-10-09T10:40:08.253262",
     "status": "completed"
    },
    "tags": []
   },
   "source": [
    "# 3. Preprocessing\n",
    "\n",
    "The table contains, the product `name`, the textual `review`, and the `rating`."
   ]
  },
  {
   "cell_type": "markdown",
   "id": "13c80c94",
   "metadata": {
    "_uuid": "6098328162f312fdc8dbc3928891e85dbf1e479a",
    "papermill": {
     "duration": 0.021183,
     "end_time": "2023-10-09T10:40:08.318330",
     "exception": false,
     "start_time": "2023-10-09T10:40:08.297147",
     "status": "completed"
    },
    "tags": []
   },
   "source": [
    "## 3.1 Tokenization\n",
    "\n",
    "Tidytext is used to break up the text into separate tokens and count their the number of occurences per review. A token can be a word, special character (like '!', or '-'), or multiple words (i.e. n-grams).\n",
    "\n",
    "First, the name of the product is prepended to each review, since some products will always be received more positively or negatively than others, which is valuable information for the purposes of making predictions about the sentiment of reviews. Another problem solved by this procedure, is that it will allow predictions to be made for empty reviews. By prepending the product name to the review, at least the name will be available from which to predict the ratings."
   ]
  },
  {
   "cell_type": "code",
   "execution_count": 6,
   "id": "ac0f1c3d",
   "metadata": {
    "execution": {
     "iopub.execute_input": "2023-10-09T10:40:08.361856Z",
     "iopub.status.busy": "2023-10-09T10:40:08.360197Z",
     "iopub.status.idle": "2023-10-09T10:40:09.887762Z",
     "shell.execute_reply": "2023-10-09T10:40:09.885390Z"
    },
    "papermill": {
     "duration": 1.550545,
     "end_time": "2023-10-09T10:40:09.890665",
     "exception": false,
     "start_time": "2023-10-09T10:40:08.340120",
     "status": "completed"
    },
    "tags": []
   },
   "outputs": [
    {
     "name": "stdout",
     "output_type": "stream",
     "text": [
      "\u001b[90m# A tibble: 183,531 × 4\u001b[39m\n",
      "   id    review                                                     name  rating\n",
      "   \u001b[3m\u001b[90m<chr>\u001b[39m\u001b[23m \u001b[3m\u001b[90m<chr>\u001b[39m\u001b[23m                                                      \u001b[3m\u001b[90m<chr>\u001b[39m\u001b[23m \u001b[3m\u001b[90m<chr>\u001b[39m\u001b[23m \n",
      "\u001b[90m 1\u001b[39m 1     \u001b[90m\"\u001b[39mPlanetwise Flannel Wipes — These flannel wipes are OK, b… \u001b[90m\"\u001b[39mPla… dissa…\n",
      "\u001b[90m 2\u001b[39m 2     \u001b[90m\"\u001b[39mPlanetwise Wipe Pouch — it came early and was not disapp… \u001b[90m\"\u001b[39mPla… satis…\n",
      "\u001b[90m 3\u001b[39m 3     \u001b[90m\"\u001b[39mAnnas Dream Full Quilt with 2 Shams — Very soft and comf… \u001b[90m\"\u001b[39mAnn… \u001b[31mNA\u001b[39m    \n",
      "\u001b[90m 4\u001b[39m 4     \u001b[90m\"\u001b[39mStop Pacifier Sucking without tears with Thumbuddy To Lo… \u001b[90m\"\u001b[39mSto… satis…\n",
      "\u001b[90m 5\u001b[39m 5     \u001b[90m\"\u001b[39mStop Pacifier Sucking without tears with Thumbuddy To Lo… \u001b[90m\"\u001b[39mSto… \u001b[31mNA\u001b[39m    \n",
      "\u001b[90m 6\u001b[39m 6     \u001b[90m\"\u001b[39mStop Pacifier Sucking without tears with Thumbuddy To Lo… \u001b[90m\"\u001b[39mSto… satis…\n",
      "\u001b[90m 7\u001b[39m 7     \u001b[90m\"\u001b[39mA Tale of Baby\\\\'s Days with Peter Rabbit — Lovely book,… \u001b[90m\"\u001b[39mA T… satis…\n",
      "\u001b[90m 8\u001b[39m 8     \u001b[90m\"\u001b[39mBaby Tracker&reg; - Daily Childcare Journal, Schedule Lo… \u001b[90m\"\u001b[39mBab… \u001b[31mNA\u001b[39m    \n",
      "\u001b[90m 9\u001b[39m 9     \u001b[90m\"\u001b[39mBaby Tracker&reg; - Daily Childcare Journal, Schedule Lo… \u001b[90m\"\u001b[39mBab… satis…\n",
      "\u001b[90m10\u001b[39m 10    \u001b[90m\"\u001b[39mBaby Tracker&reg; - Daily Childcare Journal, Schedule Lo… \u001b[90m\"\u001b[39mBab… satis…\n",
      "\u001b[90m# ℹ 183,521 more rows\u001b[39m\n"
     ]
    }
   ],
   "source": [
    "# Paste name and review into a single string separated by a \"–\".\n",
    "# The new string replaces the original review.\n",
    "amazon = amazon %>%\n",
    "\n",
    "    unite(review, name, review, sep = \" — \", remove = FALSE) %>%\n",
    "\n",
    "   # Recode ratings into > 3 satisfied and </= 3 dissatisfied\n",
    "   mutate(rating = ifelse(rating > 3, \"satisfied\", \"dissatisfied\"))\n",
    "\n",
    "print(amazon)"
   ]
  },
  {
   "cell_type": "markdown",
   "id": "cfbbc172",
   "metadata": {
    "papermill": {
     "duration": 0.018042,
     "end_time": "2023-10-09T10:40:09.926489",
     "exception": false,
     "start_time": "2023-10-09T10:40:09.908447",
     "status": "completed"
    },
    "tags": []
   },
   "source": [
    "Here, each review will have its unique tokens (words and special characters) counted. Each row will hold one token's count for a given review. To keep track of the review to which the row belongs, the rownames are added as `id`, which is simply the row number. So, each review will have multiple rows.\n",
    "\n",
    "#### Stopwords\n",
    "\n",
    "We decided to exclude stopwords from the snowball lexicon. These are words that occur frequently but do not usually carry much meaning. Although some of these words may relate to the sentiment of a review, the number of predictors will already be very large. Stopwords seem like a reasonable group of tokens to exclude."
   ]
  },
  {
   "cell_type": "code",
   "execution_count": 7,
   "id": "6542f635",
   "metadata": {
    "_uuid": "fca425b0d51862febe3d304fe00b95b7d0cd0769",
    "execution": {
     "iopub.execute_input": "2023-10-09T10:40:09.965557Z",
     "iopub.status.busy": "2023-10-09T10:40:09.964109Z",
     "iopub.status.idle": "2023-10-09T10:42:21.213498Z",
     "shell.execute_reply": "2023-10-09T10:42:21.211814Z"
    },
    "papermill": {
     "duration": 131.288716,
     "end_time": "2023-10-09T10:42:21.232976",
     "exception": false,
     "start_time": "2023-10-09T10:40:09.944260",
     "status": "completed"
    },
    "tags": []
   },
   "outputs": [
    {
     "data": {
      "text/html": [
       "<table class=\"dataframe\">\n",
       "<caption>A tibble: 6 × 5</caption>\n",
       "<thead>\n",
       "\t<tr><th scope=col>id</th><th scope=col>name</th><th scope=col>rating</th><th scope=col>token</th><th scope=col>n</th></tr>\n",
       "\t<tr><th scope=col>&lt;chr&gt;</th><th scope=col>&lt;chr&gt;</th><th scope=col>&lt;chr&gt;</th><th scope=col>&lt;chr&gt;</th><th scope=col>&lt;int&gt;</th></tr>\n",
       "</thead>\n",
       "<tbody>\n",
       "\t<tr><td>1</td><td>Planetwise Flannel Wipes</td><td>dissatisfied</td><td>, </td><td>4</td></tr>\n",
       "\t<tr><td>1</td><td>Planetwise Flannel Wipes</td><td>dissatisfied</td><td>- </td><td>2</td></tr>\n",
       "\t<tr><td>1</td><td>Planetwise Flannel Wipes</td><td>dissatisfied</td><td>. </td><td>3</td></tr>\n",
       "\t<tr><td>1</td><td>Planetwise Flannel Wipes</td><td>dissatisfied</td><td>12</td><td>1</td></tr>\n",
       "\t<tr><td>1</td><td>Planetwise Flannel Wipes</td><td>dissatisfied</td><td>6 </td><td>1</td></tr>\n",
       "\t<tr><td>1</td><td>Planetwise Flannel Wipes</td><td>dissatisfied</td><td>8 </td><td>1</td></tr>\n",
       "</tbody>\n",
       "</table>\n"
      ],
      "text/latex": [
       "A tibble: 6 × 5\n",
       "\\begin{tabular}{lllll}\n",
       " id & name & rating & token & n\\\\\n",
       " <chr> & <chr> & <chr> & <chr> & <int>\\\\\n",
       "\\hline\n",
       "\t 1 & Planetwise Flannel Wipes & dissatisfied & ,  & 4\\\\\n",
       "\t 1 & Planetwise Flannel Wipes & dissatisfied & -  & 2\\\\\n",
       "\t 1 & Planetwise Flannel Wipes & dissatisfied & .  & 3\\\\\n",
       "\t 1 & Planetwise Flannel Wipes & dissatisfied & 12 & 1\\\\\n",
       "\t 1 & Planetwise Flannel Wipes & dissatisfied & 6  & 1\\\\\n",
       "\t 1 & Planetwise Flannel Wipes & dissatisfied & 8  & 1\\\\\n",
       "\\end{tabular}\n"
      ],
      "text/markdown": [
       "\n",
       "A tibble: 6 × 5\n",
       "\n",
       "| id &lt;chr&gt; | name &lt;chr&gt; | rating &lt;chr&gt; | token &lt;chr&gt; | n &lt;int&gt; |\n",
       "|---|---|---|---|---|\n",
       "| 1 | Planetwise Flannel Wipes | dissatisfied | ,  | 4 |\n",
       "| 1 | Planetwise Flannel Wipes | dissatisfied | -  | 2 |\n",
       "| 1 | Planetwise Flannel Wipes | dissatisfied | .  | 3 |\n",
       "| 1 | Planetwise Flannel Wipes | dissatisfied | 12 | 1 |\n",
       "| 1 | Planetwise Flannel Wipes | dissatisfied | 6  | 1 |\n",
       "| 1 | Planetwise Flannel Wipes | dissatisfied | 8  | 1 |\n",
       "\n"
      ],
      "text/plain": [
       "  id name                     rating       token n\n",
       "1 1  Planetwise Flannel Wipes dissatisfied ,     4\n",
       "2 1  Planetwise Flannel Wipes dissatisfied -     2\n",
       "3 1  Planetwise Flannel Wipes dissatisfied .     3\n",
       "4 1  Planetwise Flannel Wipes dissatisfied 12    1\n",
       "5 1  Planetwise Flannel Wipes dissatisfied 6     1\n",
       "6 1  Planetwise Flannel Wipes dissatisfied 8     1"
      ]
     },
     "metadata": {},
     "output_type": "display_data"
    },
    {
     "data": {
      "text/html": [
       "<style>\n",
       ".list-inline {list-style: none; margin:0; padding: 0}\n",
       ".list-inline>li {display: inline-block}\n",
       ".list-inline>li:not(:last-child)::after {content: \"\\00b7\"; padding: 0 .5ex}\n",
       "</style>\n",
       "<ol class=list-inline><li>8711891</li><li>5</li></ol>\n"
      ],
      "text/latex": [
       "\\begin{enumerate*}\n",
       "\\item 8711891\n",
       "\\item 5\n",
       "\\end{enumerate*}\n"
      ],
      "text/markdown": [
       "1. 8711891\n",
       "2. 5\n",
       "\n",
       "\n"
      ],
      "text/plain": [
       "[1] 8711891       5"
      ]
     },
     "metadata": {},
     "output_type": "display_data"
    }
   ],
   "source": [
    "stopwords <- get_stopwords() %>% mutate(token = word, .keep = \"unused\")\n",
    "\n",
    "reviews_uni = amazon %>%\n",
    "    \n",
    "   # Tokinize reviews at word level\n",
    "    unnest_tokens(token, review, token = \"words\", strip_punct = FALSE) %>%\n",
    "\n",
    "    anti_join(stopwords, by = \"token\") %>% # remove stopwords\n",
    "\n",
    "   # Count tokens within reviews as 'n'\n",
    "   # Keep id, name, and rating in the result\n",
    "    count(id, name, rating, token)\n",
    "\n",
    "head(reviews_uni)\n",
    "\n",
    "dim(reviews_uni)"
   ]
  },
  {
   "cell_type": "markdown",
   "id": "40022d79",
   "metadata": {
    "papermill": {
     "duration": 0.018448,
     "end_time": "2023-10-09T10:42:21.269976",
     "exception": false,
     "start_time": "2023-10-09T10:42:21.251528",
     "status": "completed"
    },
    "tags": []
   },
   "source": [
    "In addition to single-word tokens, we tokenized each review into bigrams. Bigrams are adjacent words (this case) found in the dataset. Unigrams indicate each word separately, bigrams investigate pair of words occuring next to each other and trigrams investigate a group of three words cooccuring next to each other.\n",
    "However, having features for both unigrams and bigrams proved too computationally demaing during model fitting (exceeding available RAM), so we decided to exclude bigrams from our features. "
   ]
  },
  {
   "cell_type": "code",
   "execution_count": 8,
   "id": "ad513c0b",
   "metadata": {
    "execution": {
     "iopub.execute_input": "2023-10-09T10:42:21.310210Z",
     "iopub.status.busy": "2023-10-09T10:42:21.308537Z",
     "iopub.status.idle": "2023-10-09T10:42:21.323031Z",
     "shell.execute_reply": "2023-10-09T10:42:21.320668Z"
    },
    "papermill": {
     "duration": 0.03696,
     "end_time": "2023-10-09T10:42:21.325355",
     "exception": false,
     "start_time": "2023-10-09T10:42:21.288395",
     "status": "completed"
    },
    "tags": []
   },
   "outputs": [],
   "source": [
    "# Tokenizing based on bigrams\n",
    "# reviews_bi = amazon %>%\n",
    "    \n",
    "   # tokinize reviews at bigram level\n",
    "   # unnest_tokens(token, review, token = \"ngrams\", n = 2) %>%\n",
    "\n",
    "   # count tokens within reviews as 'n'\n",
    "   # (keep id, name, and rating in the result)\n",
    "   # count(id, name, rating, token)\n",
    "\n",
    "# head(reviews_bi)\n",
    "\n",
    "# dim(reviews_bi)"
   ]
  },
  {
   "cell_type": "code",
   "execution_count": 9,
   "id": "ce065a0f",
   "metadata": {
    "execution": {
     "iopub.execute_input": "2023-10-09T10:42:21.365071Z",
     "iopub.status.busy": "2023-10-09T10:42:21.363476Z",
     "iopub.status.idle": "2023-10-09T10:42:21.377222Z",
     "shell.execute_reply": "2023-10-09T10:42:21.375358Z"
    },
    "papermill": {
     "duration": 0.035814,
     "end_time": "2023-10-09T10:42:21.379475",
     "exception": false,
     "start_time": "2023-10-09T10:42:21.343661",
     "status": "completed"
    },
    "tags": []
   },
   "outputs": [],
   "source": [
    "reviews = reviews_uni"
   ]
  },
  {
   "cell_type": "markdown",
   "id": "72d84d96",
   "metadata": {
    "papermill": {
     "duration": 0.018048,
     "end_time": "2023-10-09T10:42:21.416015",
     "exception": false,
     "start_time": "2023-10-09T10:42:21.397967",
     "status": "completed"
    },
    "tags": []
   },
   "source": [
    "## 3.2 Data Exploration\n",
    "Creating a wordcloud for dissatisfied and satisfied customer reviews (inspired from Group 1). The word clouds will show the 100 most frequently observed tokens among their respective review types. The word clouds can quickly show the words that are likely to be key in predicting sentiment.\n",
    "\n",
    "Some things that pop out from the negative word cloud are words like: didn't, doesn't, don't, dissapointed, bad, and hard. It's easy to imagine why these words might be prevalent among negative reviews, and less so to non-existant in positive ones.\n",
    "\n",
    "Likewise, words that pop out for positive reviews are: comfortable, happy, loved, super, recommended, highly, easily, sturdy, love, and clean. It's not hard to imagine why these frequently occur in positive reviews either, and will likely never be found in negative ones.\n",
    "\n",
    "Unsurprisingly, the em-dash character used to paste product names and reviews together is very common among both sentiment types.\n",
    "\n",
    "The word clouds indicate that positive and negative reviews could be quite well discernable from one another."
   ]
  },
  {
   "cell_type": "code",
   "execution_count": 10,
   "id": "29b18dc1",
   "metadata": {
    "execution": {
     "iopub.execute_input": "2023-10-09T10:42:21.455552Z",
     "iopub.status.busy": "2023-10-09T10:42:21.453974Z",
     "iopub.status.idle": "2023-10-09T10:42:29.058862Z",
     "shell.execute_reply": "2023-10-09T10:42:29.057096Z"
    },
    "papermill": {
     "duration": 7.627787,
     "end_time": "2023-10-09T10:42:29.061951",
     "exception": false,
     "start_time": "2023-10-09T10:42:21.434164",
     "status": "completed"
    },
    "tags": []
   },
   "outputs": [
    {
     "name": "stderr",
     "output_type": "stream",
     "text": [
      "\u001b[1m\u001b[22mJoining with `by = join_by(token)`\n",
      "\u001b[1m\u001b[22mJoining with `by = join_by(token)`\n"
     ]
    },
    {
     "data": {
      "image/png": "[encoded data removed]"
     },
     "metadata": {
      "image/png": {
       "height": 420,
       "width": 420
      }
     },
     "output_type": "display_data"
    },
    {
     "data": {
      "image/png": "[encoded data removed]"
     },
     "metadata": {
      "image/png": {
       "height": 420,
       "width": 420
      }
     },
     "output_type": "display_data"
    }
   ],
   "source": [
    "# Getting stop words to remove from the wordclouds\n",
    "data(stop_words)\n",
    "colnames(stop_words)[1] = \"token\"\n",
    "\n",
    "# Wordcloud for satisfied reviews\n",
    "satisfied_reviews = reviews_uni %>%\n",
    "  filter(rating == \"satisfied\") %>%\n",
    "  anti_join(stop_words) %>%\n",
    "  count(token)\n",
    "\n",
    "wordcloud(satisfied_reviews$token, satisfied_reviews$n, max.words = 100)\n",
    "title(\"Satisfied Customer Review Words\")\n",
    "\n",
    "# Wordcloud for dissatisfied reviews\n",
    "dissatisfied_reviews = reviews_uni %>%\n",
    "  filter(rating == \"dissatisfied\") %>%\n",
    "  anti_join(stop_words) %>%\n",
    "  count(token)\n",
    "\n",
    "wordcloud(dissatisfied_reviews$token, dissatisfied_reviews$n, max.words = 100)\n",
    "title(\"Dissatisfied Customer Review Words\")"
   ]
  },
  {
   "cell_type": "markdown",
   "id": "bfbc0686",
   "metadata": {
    "_uuid": "fdf9400f7df6154bc5376ce3c5a213f56dd0560d",
    "papermill": {
     "duration": 0.021572,
     "end_time": "2023-10-09T10:42:29.105398",
     "exception": false,
     "start_time": "2023-10-09T10:42:29.083826",
     "status": "completed"
    },
    "tags": []
   },
   "source": [
    "# 4. Features engineering\n",
    "\n",
    "Features computed for tokens in text are based on the Bag of Words (BoW) model: Each document is considered a bag of words, in wich order plays no particular role.\n",
    "\n",
    "## Used features:\n",
    "\n",
    "- **Term frequency (TF, IDF, TFIDF)**: \n",
    "    > Express the frequency of tokens within and between documents\n",
    "    \n",
    "- **Token counts**:\n",
    "    > Counts the number of tokens\n",
    "    \n",
    "- **Number of words in review**:\n",
    "    > Summarizing number of words in each input per individual\n",
    "    \n",
    "- **Word to punctuation ratio**:\n",
    "    > Calculates punctuation to word ratio for each unique review id\n",
    "    \n",
    "- **Frequency of satisfied reviews**:\n",
    "    > Adds satisfaction ratio (frequency) to each review id\n",
    " "
   ]
  },
  {
   "cell_type": "markdown",
   "id": "59269285",
   "metadata": {
    "papermill": {
     "duration": 0.021566,
     "end_time": "2023-10-09T10:42:29.148045",
     "exception": false,
     "start_time": "2023-10-09T10:42:29.126479",
     "status": "completed"
    },
    "tags": []
   },
   "source": [
    "## 4.1 Token-Based Features"
   ]
  },
  {
   "cell_type": "markdown",
   "id": "16c248e9",
   "metadata": {
    "papermill": {
     "duration": 0.021086,
     "end_time": "2023-10-09T10:42:29.191159",
     "exception": false,
     "start_time": "2023-10-09T10:42:29.170073",
     "status": "completed"
    },
    "tags": []
   },
   "source": [
    "### Feature #1: Token counts"
   ]
  },
  {
   "cell_type": "markdown",
   "id": "d0b8363f",
   "metadata": {
    "papermill": {
     "duration": 0.021735,
     "end_time": "2023-10-09T10:42:29.234174",
     "exception": false,
     "start_time": "2023-10-09T10:42:29.212439",
     "status": "completed"
    },
    "tags": []
   },
   "source": [
    "Our first feature is simply the number of times each token occurs in a review. For example, a review that mentions a negative word several times is likely to be dissatisfied. This features was already calculated during the tokenization of the reviews, so we merely turn it into a format that will allow for mergin with our other features later."
   ]
  },
  {
   "cell_type": "code",
   "execution_count": 11,
   "id": "f73476d2",
   "metadata": {
    "execution": {
     "iopub.execute_input": "2023-10-09T10:42:29.280392Z",
     "iopub.status.busy": "2023-10-09T10:42:29.278707Z",
     "iopub.status.idle": "2023-10-09T10:42:31.913075Z",
     "shell.execute_reply": "2023-10-09T10:42:31.910994Z"
    },
    "papermill": {
     "duration": 2.660618,
     "end_time": "2023-10-09T10:42:31.915930",
     "exception": false,
     "start_time": "2023-10-09T10:42:29.255312",
     "status": "completed"
    },
    "tags": []
   },
   "outputs": [
    {
     "data": {
      "text/html": [
       "<table class=\"dataframe\">\n",
       "<caption>A tibble: 6 × 3</caption>\n",
       "<thead>\n",
       "\t<tr><th scope=col>id</th><th scope=col>feature</th><th scope=col>value</th></tr>\n",
       "\t<tr><th scope=col>&lt;chr&gt;</th><th scope=col>&lt;chr&gt;</th><th scope=col>&lt;int&gt;</th></tr>\n",
       "</thead>\n",
       "<tbody>\n",
       "\t<tr><td>1</td><td>,_n_occ </td><td>4</td></tr>\n",
       "\t<tr><td>1</td><td>-_n_occ </td><td>2</td></tr>\n",
       "\t<tr><td>1</td><td>._n_occ </td><td>3</td></tr>\n",
       "\t<tr><td>1</td><td>12_n_occ</td><td>1</td></tr>\n",
       "\t<tr><td>1</td><td>6_n_occ </td><td>1</td></tr>\n",
       "\t<tr><td>1</td><td>8_n_occ </td><td>1</td></tr>\n",
       "</tbody>\n",
       "</table>\n"
      ],
      "text/latex": [
       "A tibble: 6 × 3\n",
       "\\begin{tabular}{lll}\n",
       " id & feature & value\\\\\n",
       " <chr> & <chr> & <int>\\\\\n",
       "\\hline\n",
       "\t 1 & ,\\_n\\_occ  & 4\\\\\n",
       "\t 1 & -\\_n\\_occ  & 2\\\\\n",
       "\t 1 & .\\_n\\_occ  & 3\\\\\n",
       "\t 1 & 12\\_n\\_occ & 1\\\\\n",
       "\t 1 & 6\\_n\\_occ  & 1\\\\\n",
       "\t 1 & 8\\_n\\_occ  & 1\\\\\n",
       "\\end{tabular}\n"
      ],
      "text/markdown": [
       "\n",
       "A tibble: 6 × 3\n",
       "\n",
       "| id &lt;chr&gt; | feature &lt;chr&gt; | value &lt;int&gt; |\n",
       "|---|---|---|\n",
       "| 1 | ,_n_occ  | 4 |\n",
       "| 1 | -_n_occ  | 2 |\n",
       "| 1 | ._n_occ  | 3 |\n",
       "| 1 | 12_n_occ | 1 |\n",
       "| 1 | 6_n_occ  | 1 |\n",
       "| 1 | 8_n_occ  | 1 |\n",
       "\n"
      ],
      "text/plain": [
       "  id feature  value\n",
       "1 1  ,_n_occ  4    \n",
       "2 1  -_n_occ  2    \n",
       "3 1  ._n_occ  3    \n",
       "4 1  12_n_occ 1    \n",
       "5 1  6_n_occ  1    \n",
       "6 1  8_n_occ  1    "
      ]
     },
     "metadata": {},
     "output_type": "display_data"
    },
    {
     "data": {
      "text/html": [
       "<style>\n",
       ".list-inline {list-style: none; margin:0; padding: 0}\n",
       ".list-inline>li {display: inline-block}\n",
       ".list-inline>li:not(:last-child)::after {content: \"\\00b7\"; padding: 0 .5ex}\n",
       "</style>\n",
       "<ol class=list-inline><li>8711891</li><li>3</li></ol>\n"
      ],
      "text/latex": [
       "\\begin{enumerate*}\n",
       "\\item 8711891\n",
       "\\item 3\n",
       "\\end{enumerate*}\n"
      ],
      "text/markdown": [
       "1. 8711891\n",
       "2. 3\n",
       "\n",
       "\n"
      ],
      "text/plain": [
       "[1] 8711891       3"
      ]
     },
     "metadata": {},
     "output_type": "display_data"
    }
   ],
   "source": [
    "n_occ = reviews %>%\n",
    "    # Maintain only identifiers (id, name), category (rating), feature name (token), and value (n)\n",
    "    select(id, name, rating, token, n) %>%\n",
    "    # Change column and token names\n",
    "    mutate(feature = paste(token, \"n_occ\", sep=\"_\"), value = n, .keep = \"unused\") %>%\n",
    "    # Re-order for merging\n",
    "    select(id, feature, value) \n",
    "\n",
    "head(n_occ)\n",
    "dim(n_occ)"
   ]
  },
  {
   "cell_type": "markdown",
   "id": "c003fecb",
   "metadata": {
    "papermill": {
     "duration": 0.021266,
     "end_time": "2023-10-09T10:42:31.958544",
     "exception": false,
     "start_time": "2023-10-09T10:42:31.937278",
     "status": "completed"
    },
    "tags": []
   },
   "source": [
    "### Feature #2: TF, IDF, TF-IDF for unigrams"
   ]
  },
  {
   "cell_type": "markdown",
   "id": "2490fb24",
   "metadata": {
    "papermill": {
     "duration": 0.022325,
     "end_time": "2023-10-09T10:42:32.002220",
     "exception": false,
     "start_time": "2023-10-09T10:42:31.979895",
     "status": "completed"
    },
    "tags": []
   },
   "source": [
    "Here, we compute three features that express a token's frequency within a review and relative to other reviews. We adopted the explanations of these features from the Quickstart notebook.\n",
    "\n",
    "- **Term frequency ($TF_{d,t}$)**: \n",
    "    > The relative frequency of a term within a document $\\displaystyle {n_{d,t} \\over  \\sum_t n_{d,t}}$\n",
    "    \n",
    "    > The more often a token $t$ occurs in a document, the more likely it is that the topic of the document is closely related to that token\n",
    "    \n",
    "    > It does not take into account that certain words simply occur more frequently because of their role in language (such as 'a', 'but', etc.)\n",
    "\n",
    "- **Inverse document frequency ($IDF_t$)**: \n",
    "    > inverse the relative frequency with which a term occurs among the $N$ documents, expressed on a log scale (a measure of 'surprise') as  $-\\log\\left({DF_t \\over N}\\right)$ Here $DF_t$ is the number of documents that contain the token $t$.\n",
    "    \n",
    "    > The more wide spread the use of a token $t$ is among all documents, the less likely it conveys information about the topic of any particular document\n",
    "    \n",
    "    > The more surprising a word is, the more likely it conveys information about the topic of the document in which it is found\n",
    "\n",
    "- **the $TFIDF_{d,t}$**: \n",
    "    > the product of TF and IDF --> quantifies the important of a term for a given document\n",
    "    \n",
    "    > $IDF_t$ part has much less use over $TF_{d,t}$ in *predictive* models because the $IDF_t$ part simply scales the $TF_{d,t}$ features accross documents (effect on scale sensitive algorithms e.g.: PCA, kNN)\n",
    "    \n",
    "    > $TFIDF_{d,t}$ is very successful in document retrieval systems (i.e., search engines)"
   ]
  },
  {
   "cell_type": "markdown",
   "id": "f3f0d362",
   "metadata": {
    "papermill": {
     "duration": 0.021677,
     "end_time": "2023-10-09T10:42:32.045442",
     "exception": false,
     "start_time": "2023-10-09T10:42:32.023765",
     "status": "completed"
    },
    "tags": []
   },
   "source": [
    "#### Non-zero variance tokens\n",
    "Tokens that only occur in very few reviews (i.e., the binary/count equivalent of variance) will not help us to predict the sentiment of additional reviews. Therefore, we filtered out tokens that occur in less gthan 0.01% (~18) reviews. Based on the calculation of the IDF $$IDF_t = -\\log\\left({\\text{df}_t \\over N}\\right) = -\\log(\\text{proportion of document in which }t\\text{ occurs})$$ these are tokens with an IDF (i.e., surprise factor) of −log(0.01/100)) or higher."
   ]
  },
  {
   "cell_type": "code",
   "execution_count": 12,
   "id": "fd2ae4c3",
   "metadata": {
    "execution": {
     "iopub.execute_input": "2023-10-09T10:42:32.091961Z",
     "iopub.status.busy": "2023-10-09T10:42:32.090337Z",
     "iopub.status.idle": "2023-10-09T10:42:52.929595Z",
     "shell.execute_reply": "2023-10-09T10:42:52.927787Z"
    },
    "papermill": {
     "duration": 20.865488,
     "end_time": "2023-10-09T10:42:52.932178",
     "exception": false,
     "start_time": "2023-10-09T10:42:32.066690",
     "status": "completed"
    },
    "tags": []
   },
   "outputs": [],
   "source": [
    "reviews_tf_idf = reviews %>%\n",
    "\n",
    "    # TF-IDF for each word per sentence\n",
    "    bind_tf_idf(token, id, n) %>%\n",
    "\n",
    "    # Words that are not present should be 0 (not NA)\n",
    "    replace_na(list(tf=0, idf=Inf, tf_idf=0)) %>%\n",
    "\n",
    "    # filter tokens that occur in less than 0.01% of reviews\n",
    "    filter(idf <= -log(0.01/100))\n",
    "\n",
    "# TF\n",
    "reviews_tf = reviews_tf_idf %>%\n",
    "    # maintain only identifiers (id, name), category (rating), feature name (token), and value (tf)\n",
    "    select(id, name, rating, token, tf) %>%\n",
    "    mutate(feature = paste(token, \"tf\", sep=\"_\"), value = tf, .keep = \"unused\") %>%\n",
    "    select(id, feature, value) # re-order for merging\n",
    "\n",
    "# IDF\n",
    "reviews_idf = reviews_tf_idf %>%\n",
    "    # maintain only identifiers (id, name), category (rating), feature name (token), and value (idf)\n",
    "    select(id, name, rating, token, idf) %>%\n",
    "    mutate(feature = paste(token, \"idf\", sep=\"_\"), value = idf, .keep = \"unused\") %>%\n",
    "    select(id, feature, value) # re-order for merging\n",
    "\n",
    "# TF-IDF\n",
    "reviews_tf_idf = reviews_tf_idf %>%\n",
    "    # maintain only identifiers (id, name), category (rating), feature name (token), and value (tf_idf)\n",
    "    select(id, name, rating, token, tf_idf) %>%\n",
    "    mutate(feature = paste(token, \"tf_idf\", sep=\"_\"), value = tf_idf, .keep = \"unused\") %>%\n",
    "    select(id, feature, value) # re-order for merging\n",
    "\n",
    "reviews_tf_idf = rbind(reviews_tf, reviews_idf, reviews_tf_idf)"
   ]
  },
  {
   "cell_type": "code",
   "execution_count": 13,
   "id": "062534f8",
   "metadata": {
    "execution": {
     "iopub.execute_input": "2023-10-09T10:42:52.979803Z",
     "iopub.status.busy": "2023-10-09T10:42:52.978108Z",
     "iopub.status.idle": "2023-10-09T10:42:53.028737Z",
     "shell.execute_reply": "2023-10-09T10:42:53.026904Z"
    },
    "papermill": {
     "duration": 0.077273,
     "end_time": "2023-10-09T10:42:53.031093",
     "exception": false,
     "start_time": "2023-10-09T10:42:52.953820",
     "status": "completed"
    },
    "tags": []
   },
   "outputs": [
    {
     "data": {
      "text/html": [
       "<table class=\"dataframe\">\n",
       "<caption>A tibble: 6 × 3</caption>\n",
       "<thead>\n",
       "\t<tr><th scope=col>id</th><th scope=col>feature</th><th scope=col>value</th></tr>\n",
       "\t<tr><th scope=col>&lt;chr&gt;</th><th scope=col>&lt;chr&gt;</th><th scope=col>&lt;dbl&gt;</th></tr>\n",
       "</thead>\n",
       "<tbody>\n",
       "\t<tr><td>1</td><td>,_tf </td><td>0.06557377</td></tr>\n",
       "\t<tr><td>1</td><td>-_tf </td><td>0.03278689</td></tr>\n",
       "\t<tr><td>1</td><td>._tf </td><td>0.04918033</td></tr>\n",
       "\t<tr><td>1</td><td>12_tf</td><td>0.01639344</td></tr>\n",
       "\t<tr><td>1</td><td>6_tf </td><td>0.01639344</td></tr>\n",
       "\t<tr><td>1</td><td>8_tf </td><td>0.01639344</td></tr>\n",
       "</tbody>\n",
       "</table>\n"
      ],
      "text/latex": [
       "A tibble: 6 × 3\n",
       "\\begin{tabular}{lll}\n",
       " id & feature & value\\\\\n",
       " <chr> & <chr> & <dbl>\\\\\n",
       "\\hline\n",
       "\t 1 & ,\\_tf  & 0.06557377\\\\\n",
       "\t 1 & -\\_tf  & 0.03278689\\\\\n",
       "\t 1 & .\\_tf  & 0.04918033\\\\\n",
       "\t 1 & 12\\_tf & 0.01639344\\\\\n",
       "\t 1 & 6\\_tf  & 0.01639344\\\\\n",
       "\t 1 & 8\\_tf  & 0.01639344\\\\\n",
       "\\end{tabular}\n"
      ],
      "text/markdown": [
       "\n",
       "A tibble: 6 × 3\n",
       "\n",
       "| id &lt;chr&gt; | feature &lt;chr&gt; | value &lt;dbl&gt; |\n",
       "|---|---|---|\n",
       "| 1 | ,_tf  | 0.06557377 |\n",
       "| 1 | -_tf  | 0.03278689 |\n",
       "| 1 | ._tf  | 0.04918033 |\n",
       "| 1 | 12_tf | 0.01639344 |\n",
       "| 1 | 6_tf  | 0.01639344 |\n",
       "| 1 | 8_tf  | 0.01639344 |\n",
       "\n"
      ],
      "text/plain": [
       "  id feature value     \n",
       "1 1  ,_tf    0.06557377\n",
       "2 1  -_tf    0.03278689\n",
       "3 1  ._tf    0.04918033\n",
       "4 1  12_tf   0.01639344\n",
       "5 1  6_tf    0.01639344\n",
       "6 1  8_tf    0.01639344"
      ]
     },
     "metadata": {},
     "output_type": "display_data"
    },
    {
     "data": {
      "text/html": [
       "<table class=\"dataframe\">\n",
       "<caption>A tibble: 6 × 3</caption>\n",
       "<thead>\n",
       "\t<tr><th scope=col>id</th><th scope=col>feature</th><th scope=col>value</th></tr>\n",
       "\t<tr><th scope=col>&lt;chr&gt;</th><th scope=col>&lt;chr&gt;</th><th scope=col>&lt;dbl&gt;</th></tr>\n",
       "</thead>\n",
       "<tbody>\n",
       "\t<tr><td>99999</td><td>research_tf_idf</td><td>0.09566643</td></tr>\n",
       "\t<tr><td>99999</td><td>seat_tf_idf    </td><td>0.08516150</td></tr>\n",
       "\t<tr><td>99999</td><td>seats_tf_idf   </td><td>0.07738138</td></tr>\n",
       "\t<tr><td>99999</td><td>summer_tf_idf  </td><td>0.06828532</td></tr>\n",
       "\t<tr><td>99999</td><td>t_tf_idf       </td><td>0.02098893</td></tr>\n",
       "\t<tr><td>99999</td><td>—_tf_idf       </td><td>0.00000000</td></tr>\n",
       "</tbody>\n",
       "</table>\n"
      ],
      "text/latex": [
       "A tibble: 6 × 3\n",
       "\\begin{tabular}{lll}\n",
       " id & feature & value\\\\\n",
       " <chr> & <chr> & <dbl>\\\\\n",
       "\\hline\n",
       "\t 99999 & research\\_tf\\_idf & 0.09566643\\\\\n",
       "\t 99999 & seat\\_tf\\_idf     & 0.08516150\\\\\n",
       "\t 99999 & seats\\_tf\\_idf    & 0.07738138\\\\\n",
       "\t 99999 & summer\\_tf\\_idf   & 0.06828532\\\\\n",
       "\t 99999 & t\\_tf\\_idf        & 0.02098893\\\\\n",
       "\t 99999 & —\\_tf\\_idf        & 0.00000000\\\\\n",
       "\\end{tabular}\n"
      ],
      "text/markdown": [
       "\n",
       "A tibble: 6 × 3\n",
       "\n",
       "| id &lt;chr&gt; | feature &lt;chr&gt; | value &lt;dbl&gt; |\n",
       "|---|---|---|\n",
       "| 99999 | research_tf_idf | 0.09566643 |\n",
       "| 99999 | seat_tf_idf     | 0.08516150 |\n",
       "| 99999 | seats_tf_idf    | 0.07738138 |\n",
       "| 99999 | summer_tf_idf   | 0.06828532 |\n",
       "| 99999 | t_tf_idf        | 0.02098893 |\n",
       "| 99999 | —_tf_idf        | 0.00000000 |\n",
       "\n"
      ],
      "text/plain": [
       "  id    feature         value     \n",
       "1 99999 research_tf_idf 0.09566643\n",
       "2 99999 seat_tf_idf     0.08516150\n",
       "3 99999 seats_tf_idf    0.07738138\n",
       "4 99999 summer_tf_idf   0.06828532\n",
       "5 99999 t_tf_idf        0.02098893\n",
       "6 99999 —_tf_idf        0.00000000"
      ]
     },
     "metadata": {},
     "output_type": "display_data"
    },
    {
     "data": {
      "text/html": [
       "<style>\n",
       ".list-inline {list-style: none; margin:0; padding: 0}\n",
       ".list-inline>li {display: inline-block}\n",
       ".list-inline>li:not(:last-child)::after {content: \"\\00b7\"; padding: 0 .5ex}\n",
       "</style>\n",
       "<ol class=list-inline><li>25472451</li><li>3</li></ol>\n"
      ],
      "text/latex": [
       "\\begin{enumerate*}\n",
       "\\item 25472451\n",
       "\\item 3\n",
       "\\end{enumerate*}\n"
      ],
      "text/markdown": [
       "1. 25472451\n",
       "2. 3\n",
       "\n",
       "\n"
      ],
      "text/plain": [
       "[1] 25472451        3"
      ]
     },
     "metadata": {},
     "output_type": "display_data"
    }
   ],
   "source": [
    "head(reviews_tf_idf)\n",
    "tail(reviews_tf_idf)\n",
    "dim(reviews_tf_idf)"
   ]
  },
  {
   "cell_type": "markdown",
   "id": "e9b86eb1",
   "metadata": {
    "papermill": {
     "duration": 0.021505,
     "end_time": "2023-10-09T10:42:53.074323",
     "exception": false,
     "start_time": "2023-10-09T10:42:53.052818",
     "status": "completed"
    },
    "tags": []
   },
   "source": [
    "#### Correlated and linear combinations of features \n",
    "\n",
    "Although correlated (linear combinations of) features may exist, with thousands of features it's computationally too cumbersome to try to remove them directly. Instead we'll have to rely on the properties of the Lasso and Ridge regression to deal with them.\n",
    "\n",
    "* The caret function of high correlations and linear combinations have been used at review based features"
   ]
  },
  {
   "cell_type": "markdown",
   "id": "9b9a0641",
   "metadata": {
    "papermill": {
     "duration": 0.022883,
     "end_time": "2023-10-09T10:42:53.119029",
     "exception": false,
     "start_time": "2023-10-09T10:42:53.096146",
     "status": "completed"
    },
    "tags": []
   },
   "source": [
    "### Feature #3: AFINN lexicon"
   ]
  },
  {
   "cell_type": "markdown",
   "id": "76abee26",
   "metadata": {
    "papermill": {
     "duration": 0.022128,
     "end_time": "2023-10-09T10:42:53.163254",
     "exception": false,
     "start_time": "2023-10-09T10:42:53.141126",
     "status": "completed"
    },
    "tags": []
   },
   "source": [
    "This was taken from Competition #1\n",
    "\n",
    "\n",
    "\n",
    "Before we can start using the lexicons, we have to get the lexicon data."
   ]
  },
  {
   "cell_type": "code",
   "execution_count": 14,
   "id": "1ab1600b",
   "metadata": {
    "execution": {
     "iopub.execute_input": "2023-10-09T10:42:53.210414Z",
     "iopub.status.busy": "2023-10-09T10:42:53.208852Z",
     "iopub.status.idle": "2023-10-09T10:42:53.224990Z",
     "shell.execute_reply": "2023-10-09T10:42:53.223027Z"
    },
    "papermill": {
     "duration": 0.042465,
     "end_time": "2023-10-09T10:42:53.227570",
     "exception": false,
     "start_time": "2023-10-09T10:42:53.185105",
     "status": "completed"
    },
    "tags": []
   },
   "outputs": [],
   "source": [
    "# Helper function to retrieve different lexicons from the 'textdata' package\n",
    "get_lexicon = function(lexicon_name = names(textdata:::download_functions)) {\n",
    "    lexicon_name = match.arg(lexicon_name)\n",
    "    textdata:::download_functions[[lexicon_name]]('.')\n",
    "    rds_filename = paste0(lexicon_name,'.rds')\n",
    "    textdata:::process_functions[[lexicon_name]]('.',rds_filename)\n",
    "    readr::read_rds(rds_filename)\n",
    "}"
   ]
  },
  {
   "cell_type": "markdown",
   "id": "af9b40f1",
   "metadata": {
    "papermill": {
     "duration": 0.021548,
     "end_time": "2023-10-09T10:42:53.271230",
     "exception": false,
     "start_time": "2023-10-09T10:42:53.249682",
     "status": "completed"
    },
    "tags": []
   },
   "source": [
    "This has been obtained from Competition #1\n",
    "\n",
    "The AFINN lexicon assigns a numerical score between -5 to 5 to each word on its list. Here we create a feature that calculates the afinn sentiment for each review.\n"
   ]
  },
  {
   "cell_type": "code",
   "execution_count": 15,
   "id": "67eff836",
   "metadata": {
    "execution": {
     "iopub.execute_input": "2023-10-09T10:42:53.318604Z",
     "iopub.status.busy": "2023-10-09T10:42:53.316766Z",
     "iopub.status.idle": "2023-10-09T10:42:57.062809Z",
     "shell.execute_reply": "2023-10-09T10:42:57.060771Z"
    },
    "papermill": {
     "duration": 3.772956,
     "end_time": "2023-10-09T10:42:57.065814",
     "exception": false,
     "start_time": "2023-10-09T10:42:53.292858",
     "status": "completed"
    },
    "tags": []
   },
   "outputs": [
    {
     "data": {
      "text/html": [
       "<table class=\"dataframe\">\n",
       "<caption>A tibble: 6 × 3</caption>\n",
       "<thead>\n",
       "\t<tr><th scope=col>id</th><th scope=col>feature</th><th scope=col>value</th></tr>\n",
       "\t<tr><th scope=col>&lt;chr&gt;</th><th scope=col>&lt;chr&gt;</th><th scope=col>&lt;dbl&gt;</th></tr>\n",
       "</thead>\n",
       "<tbody>\n",
       "\t<tr><td>1     </td><td>afinn score</td><td>2</td></tr>\n",
       "\t<tr><td>10    </td><td>afinn score</td><td>3</td></tr>\n",
       "\t<tr><td>100   </td><td>afinn score</td><td>6</td></tr>\n",
       "\t<tr><td>1000  </td><td>afinn score</td><td>3</td></tr>\n",
       "\t<tr><td>10000 </td><td>afinn score</td><td>5</td></tr>\n",
       "\t<tr><td>100000</td><td>afinn score</td><td>3</td></tr>\n",
       "</tbody>\n",
       "</table>\n"
      ],
      "text/latex": [
       "A tibble: 6 × 3\n",
       "\\begin{tabular}{lll}\n",
       " id & feature & value\\\\\n",
       " <chr> & <chr> & <dbl>\\\\\n",
       "\\hline\n",
       "\t 1      & afinn score & 2\\\\\n",
       "\t 10     & afinn score & 3\\\\\n",
       "\t 100    & afinn score & 6\\\\\n",
       "\t 1000   & afinn score & 3\\\\\n",
       "\t 10000  & afinn score & 5\\\\\n",
       "\t 100000 & afinn score & 3\\\\\n",
       "\\end{tabular}\n"
      ],
      "text/markdown": [
       "\n",
       "A tibble: 6 × 3\n",
       "\n",
       "| id &lt;chr&gt; | feature &lt;chr&gt; | value &lt;dbl&gt; |\n",
       "|---|---|---|\n",
       "| 1      | afinn score | 2 |\n",
       "| 10     | afinn score | 3 |\n",
       "| 100    | afinn score | 6 |\n",
       "| 1000   | afinn score | 3 |\n",
       "| 10000  | afinn score | 5 |\n",
       "| 100000 | afinn score | 3 |\n",
       "\n"
      ],
      "text/plain": [
       "  id     feature     value\n",
       "1 1      afinn score 2    \n",
       "2 10     afinn score 3    \n",
       "3 100    afinn score 6    \n",
       "4 1000   afinn score 3    \n",
       "5 10000  afinn score 5    \n",
       "6 100000 afinn score 3    "
      ]
     },
     "metadata": {},
     "output_type": "display_data"
    },
    {
     "data": {
      "text/html": [
       "<table class=\"dataframe\">\n",
       "<caption>A tibble: 6 × 3</caption>\n",
       "<thead>\n",
       "\t<tr><th scope=col>id</th><th scope=col>feature</th><th scope=col>value</th></tr>\n",
       "\t<tr><th scope=col>&lt;chr&gt;</th><th scope=col>&lt;chr&gt;</th><th scope=col>&lt;dbl&gt;</th></tr>\n",
       "</thead>\n",
       "<tbody>\n",
       "\t<tr><td>99994</td><td>afinn score</td><td> 3</td></tr>\n",
       "\t<tr><td>99995</td><td>afinn score</td><td> 9</td></tr>\n",
       "\t<tr><td>99996</td><td>afinn score</td><td>26</td></tr>\n",
       "\t<tr><td>99997</td><td>afinn score</td><td> 1</td></tr>\n",
       "\t<tr><td>99998</td><td>afinn score</td><td> 2</td></tr>\n",
       "\t<tr><td>99999</td><td>afinn score</td><td> 9</td></tr>\n",
       "</tbody>\n",
       "</table>\n"
      ],
      "text/latex": [
       "A tibble: 6 × 3\n",
       "\\begin{tabular}{lll}\n",
       " id & feature & value\\\\\n",
       " <chr> & <chr> & <dbl>\\\\\n",
       "\\hline\n",
       "\t 99994 & afinn score &  3\\\\\n",
       "\t 99995 & afinn score &  9\\\\\n",
       "\t 99996 & afinn score & 26\\\\\n",
       "\t 99997 & afinn score &  1\\\\\n",
       "\t 99998 & afinn score &  2\\\\\n",
       "\t 99999 & afinn score &  9\\\\\n",
       "\\end{tabular}\n"
      ],
      "text/markdown": [
       "\n",
       "A tibble: 6 × 3\n",
       "\n",
       "| id &lt;chr&gt; | feature &lt;chr&gt; | value &lt;dbl&gt; |\n",
       "|---|---|---|\n",
       "| 99994 | afinn score |  3 |\n",
       "| 99995 | afinn score |  9 |\n",
       "| 99996 | afinn score | 26 |\n",
       "| 99997 | afinn score |  1 |\n",
       "| 99998 | afinn score |  2 |\n",
       "| 99999 | afinn score |  9 |\n",
       "\n"
      ],
      "text/plain": [
       "  id    feature     value\n",
       "1 99994 afinn score  3   \n",
       "2 99995 afinn score  9   \n",
       "3 99996 afinn score 26   \n",
       "4 99997 afinn score  1   \n",
       "5 99998 afinn score  2   \n",
       "6 99999 afinn score  9   "
      ]
     },
     "metadata": {},
     "output_type": "display_data"
    },
    {
     "data": {
      "text/html": [
       "<style>\n",
       ".list-inline {list-style: none; margin:0; padding: 0}\n",
       ".list-inline>li {display: inline-block}\n",
       ".list-inline>li:not(:last-child)::after {content: \"\\00b7\"; padding: 0 .5ex}\n",
       "</style>\n",
       "<ol class=list-inline><li>179010</li><li>3</li></ol>\n"
      ],
      "text/latex": [
       "\\begin{enumerate*}\n",
       "\\item 179010\n",
       "\\item 3\n",
       "\\end{enumerate*}\n"
      ],
      "text/markdown": [
       "1. 179010\n",
       "2. 3\n",
       "\n",
       "\n"
      ],
      "text/plain": [
       "[1] 179010      3"
      ]
     },
     "metadata": {},
     "output_type": "display_data"
    }
   ],
   "source": [
    "afinn = get_lexicon('afinn')\n",
    "colnames(afinn)[1] = \"token\"\n",
    "\n",
    "afinn_scores = reviews %>%\n",
    "  # Overall afinn score\n",
    "  inner_join(afinn, by = \"token\", relationship = \"many-to-many\") %>%\n",
    "  group_by(id) %>%\n",
    "  summarise(value = sum(value)) %>%\n",
    "\n",
    "  # Formatting dataframe\n",
    "  mutate(feature = \"afinn score\", .before = value)\n",
    "\n",
    "head(afinn_scores)\n",
    "tail(afinn_scores)\n",
    "dim(afinn_scores)"
   ]
  },
  {
   "cell_type": "markdown",
   "id": "3a1bdcf8",
   "metadata": {
    "papermill": {
     "duration": 0.022265,
     "end_time": "2023-10-09T10:42:57.110068",
     "exception": false,
     "start_time": "2023-10-09T10:42:57.087803",
     "status": "completed"
    },
    "tags": []
   },
   "source": [
    "## 4.2 Review-Based Features"
   ]
  },
  {
   "cell_type": "markdown",
   "id": "3916f0ed",
   "metadata": {
    "papermill": {
     "duration": 0.023004,
     "end_time": "2023-10-09T10:42:57.156551",
     "exception": false,
     "start_time": "2023-10-09T10:42:57.133547",
     "status": "completed"
    },
    "tags": []
   },
   "source": [
    "### Feature #4: Number of words in review"
   ]
  },
  {
   "cell_type": "markdown",
   "id": "b1e8e2bb",
   "metadata": {
    "papermill": {
     "duration": 0.02224,
     "end_time": "2023-10-09T10:42:57.201193",
     "exception": false,
     "start_time": "2023-10-09T10:42:57.178953",
     "status": "completed"
    },
    "tags": []
   },
   "source": [
    "The length of dissatisfied reviews may differ from that of satisfied reviews, presumably because dissatisfied reviewers elaborate more on their complaints. That is why this feature counts the number of words in each review."
   ]
  },
  {
   "cell_type": "code",
   "execution_count": 16,
   "id": "d8e1fa98",
   "metadata": {
    "execution": {
     "iopub.execute_input": "2023-10-09T10:42:57.250782Z",
     "iopub.status.busy": "2023-10-09T10:42:57.249036Z",
     "iopub.status.idle": "2023-10-09T10:42:59.923016Z",
     "shell.execute_reply": "2023-10-09T10:42:59.921176Z"
    },
    "papermill": {
     "duration": 2.701705,
     "end_time": "2023-10-09T10:42:59.925275",
     "exception": false,
     "start_time": "2023-10-09T10:42:57.223570",
     "status": "completed"
    },
    "tags": []
   },
   "outputs": [
    {
     "data": {
      "text/html": [
       "<table class=\"dataframe\">\n",
       "<caption>A grouped_df: 6 × 3</caption>\n",
       "<thead>\n",
       "\t<tr><th scope=col>id</th><th scope=col>feature</th><th scope=col>value</th></tr>\n",
       "\t<tr><th scope=col>&lt;chr&gt;</th><th scope=col>&lt;chr&gt;</th><th scope=col>&lt;int&gt;</th></tr>\n",
       "</thead>\n",
       "<tbody>\n",
       "\t<tr><td>1     </td><td>rev_length</td><td> 61</td></tr>\n",
       "\t<tr><td>10    </td><td>rev_length</td><td> 57</td></tr>\n",
       "\t<tr><td>100   </td><td>rev_length</td><td> 28</td></tr>\n",
       "\t<tr><td>1000  </td><td>rev_length</td><td>157</td></tr>\n",
       "\t<tr><td>10000 </td><td>rev_length</td><td> 34</td></tr>\n",
       "\t<tr><td>100000</td><td>rev_length</td><td> 19</td></tr>\n",
       "</tbody>\n",
       "</table>\n"
      ],
      "text/latex": [
       "A grouped\\_df: 6 × 3\n",
       "\\begin{tabular}{lll}\n",
       " id & feature & value\\\\\n",
       " <chr> & <chr> & <int>\\\\\n",
       "\\hline\n",
       "\t 1      & rev\\_length &  61\\\\\n",
       "\t 10     & rev\\_length &  57\\\\\n",
       "\t 100    & rev\\_length &  28\\\\\n",
       "\t 1000   & rev\\_length & 157\\\\\n",
       "\t 10000  & rev\\_length &  34\\\\\n",
       "\t 100000 & rev\\_length &  19\\\\\n",
       "\\end{tabular}\n"
      ],
      "text/markdown": [
       "\n",
       "A grouped_df: 6 × 3\n",
       "\n",
       "| id &lt;chr&gt; | feature &lt;chr&gt; | value &lt;int&gt; |\n",
       "|---|---|---|\n",
       "| 1      | rev_length |  61 |\n",
       "| 10     | rev_length |  57 |\n",
       "| 100    | rev_length |  28 |\n",
       "| 1000   | rev_length | 157 |\n",
       "| 10000  | rev_length |  34 |\n",
       "| 100000 | rev_length |  19 |\n",
       "\n"
      ],
      "text/plain": [
       "  id     feature    value\n",
       "1 1      rev_length  61  \n",
       "2 10     rev_length  57  \n",
       "3 100    rev_length  28  \n",
       "4 1000   rev_length 157  \n",
       "5 10000  rev_length  34  \n",
       "6 100000 rev_length  19  "
      ]
     },
     "metadata": {},
     "output_type": "display_data"
    },
    {
     "data": {
      "text/html": [
       "<table class=\"dataframe\">\n",
       "<caption>A grouped_df: 6 × 3</caption>\n",
       "<thead>\n",
       "\t<tr><th scope=col>id</th><th scope=col>feature</th><th scope=col>value</th></tr>\n",
       "\t<tr><th scope=col>&lt;chr&gt;</th><th scope=col>&lt;chr&gt;</th><th scope=col>&lt;int&gt;</th></tr>\n",
       "</thead>\n",
       "<tbody>\n",
       "\t<tr><td>99994</td><td>rev_length</td><td>30</td></tr>\n",
       "\t<tr><td>99995</td><td>rev_length</td><td>47</td></tr>\n",
       "\t<tr><td>99996</td><td>rev_length</td><td>99</td></tr>\n",
       "\t<tr><td>99997</td><td>rev_length</td><td>68</td></tr>\n",
       "\t<tr><td>99998</td><td>rev_length</td><td>26</td></tr>\n",
       "\t<tr><td>99999</td><td>rev_length</td><td>49</td></tr>\n",
       "</tbody>\n",
       "</table>\n"
      ],
      "text/latex": [
       "A grouped\\_df: 6 × 3\n",
       "\\begin{tabular}{lll}\n",
       " id & feature & value\\\\\n",
       " <chr> & <chr> & <int>\\\\\n",
       "\\hline\n",
       "\t 99994 & rev\\_length & 30\\\\\n",
       "\t 99995 & rev\\_length & 47\\\\\n",
       "\t 99996 & rev\\_length & 99\\\\\n",
       "\t 99997 & rev\\_length & 68\\\\\n",
       "\t 99998 & rev\\_length & 26\\\\\n",
       "\t 99999 & rev\\_length & 49\\\\\n",
       "\\end{tabular}\n"
      ],
      "text/markdown": [
       "\n",
       "A grouped_df: 6 × 3\n",
       "\n",
       "| id &lt;chr&gt; | feature &lt;chr&gt; | value &lt;int&gt; |\n",
       "|---|---|---|\n",
       "| 99994 | rev_length | 30 |\n",
       "| 99995 | rev_length | 47 |\n",
       "| 99996 | rev_length | 99 |\n",
       "| 99997 | rev_length | 68 |\n",
       "| 99998 | rev_length | 26 |\n",
       "| 99999 | rev_length | 49 |\n",
       "\n"
      ],
      "text/plain": [
       "  id    feature    value\n",
       "1 99994 rev_length 30   \n",
       "2 99995 rev_length 47   \n",
       "3 99996 rev_length 99   \n",
       "4 99997 rev_length 68   \n",
       "5 99998 rev_length 26   \n",
       "6 99999 rev_length 49   "
      ]
     },
     "metadata": {},
     "output_type": "display_data"
    },
    {
     "data": {
      "text/html": [
       "<style>\n",
       ".list-inline {list-style: none; margin:0; padding: 0}\n",
       ".list-inline>li {display: inline-block}\n",
       ".list-inline>li:not(:last-child)::after {content: \"\\00b7\"; padding: 0 .5ex}\n",
       "</style>\n",
       "<ol class=list-inline><li>183531</li><li>3</li></ol>\n"
      ],
      "text/latex": [
       "\\begin{enumerate*}\n",
       "\\item 183531\n",
       "\\item 3\n",
       "\\end{enumerate*}\n"
      ],
      "text/markdown": [
       "1. 183531\n",
       "2. 3\n",
       "\n",
       "\n"
      ],
      "text/plain": [
       "[1] 183531      3"
      ]
     },
     "metadata": {},
     "output_type": "display_data"
    }
   ],
   "source": [
    "n_of_words = reviews %>%\n",
    "    group_by(id) %>%\n",
    "\n",
    "    # Summarizing n's in each input per id (individual)\n",
    "    mutate(value = sum(n)) %>%\n",
    "\n",
    "    # maintain only one row per review\n",
    "    select(id, value, name, rating) %>%\n",
    "    distinct() %>%\n",
    "\n",
    "    # add feature label\n",
    "    mutate(feature = \"rev_length\") %>%\n",
    "\n",
    "    # re-order for merging\n",
    "    select(id, feature, value) \n",
    "\n",
    "head(n_of_words)\n",
    "tail(n_of_words)\n",
    "dim(n_of_words)"
   ]
  },
  {
   "cell_type": "markdown",
   "id": "fb9e3ab0",
   "metadata": {
    "papermill": {
     "duration": 0.024133,
     "end_time": "2023-10-09T10:42:59.973358",
     "exception": false,
     "start_time": "2023-10-09T10:42:59.949225",
     "status": "completed"
    },
    "tags": []
   },
   "source": [
    "### Feature #5: Word to punctuation ratio"
   ]
  },
  {
   "cell_type": "markdown",
   "id": "eecb3280",
   "metadata": {
    "papermill": {
     "duration": 0.022703,
     "end_time": "2023-10-09T10:43:00.018860",
     "exception": false,
     "start_time": "2023-10-09T10:42:59.996157",
     "status": "completed"
    },
    "tags": []
   },
   "source": [
    "Here, we compute a feature that counts the amount of punctuation in each review relative to the number of words. The rationale is that negative reviews tend to be more emotionally charged, which is often expressed in more punctuation than is grammatically necessary (think elipses ..., question marks ???, or exclamation marks !!!). This feature is different from simply using amount of punctuation as a predictor because it takes into account how much punctuation would usually be used in a review of a certain length."
   ]
  },
  {
   "cell_type": "code",
   "execution_count": 17,
   "id": "0cea36c2",
   "metadata": {
    "execution": {
     "iopub.execute_input": "2023-10-09T10:43:00.068152Z",
     "iopub.status.busy": "2023-10-09T10:43:00.066150Z",
     "iopub.status.idle": "2023-10-09T10:43:18.790523Z",
     "shell.execute_reply": "2023-10-09T10:43:18.788918Z"
    },
    "papermill": {
     "duration": 18.751443,
     "end_time": "2023-10-09T10:43:18.792951",
     "exception": false,
     "start_time": "2023-10-09T10:43:00.041508",
     "status": "completed"
    },
    "tags": []
   },
   "outputs": [
    {
     "data": {
      "text/html": [
       "<table class=\"dataframe\">\n",
       "<caption>A grouped_df: 6 × 3</caption>\n",
       "<thead>\n",
       "\t<tr><th scope=col>id</th><th scope=col>feature</th><th scope=col>value</th></tr>\n",
       "\t<tr><th scope=col>&lt;chr&gt;</th><th scope=col>&lt;chr&gt;</th><th scope=col>&lt;dbl&gt;</th></tr>\n",
       "</thead>\n",
       "<tbody>\n",
       "\t<tr><td>1     </td><td>punct_word_ratio</td><td>0.08163265</td></tr>\n",
       "\t<tr><td>10    </td><td>punct_word_ratio</td><td>0.20833333</td></tr>\n",
       "\t<tr><td>100   </td><td>punct_word_ratio</td><td>0.21739130</td></tr>\n",
       "\t<tr><td>1000  </td><td>punct_word_ratio</td><td>0.14285714</td></tr>\n",
       "\t<tr><td>10000 </td><td>punct_word_ratio</td><td>0.19354839</td></tr>\n",
       "\t<tr><td>100000</td><td>punct_word_ratio</td><td>0.17647059</td></tr>\n",
       "</tbody>\n",
       "</table>\n"
      ],
      "text/latex": [
       "A grouped\\_df: 6 × 3\n",
       "\\begin{tabular}{lll}\n",
       " id & feature & value\\\\\n",
       " <chr> & <chr> & <dbl>\\\\\n",
       "\\hline\n",
       "\t 1      & punct\\_word\\_ratio & 0.08163265\\\\\n",
       "\t 10     & punct\\_word\\_ratio & 0.20833333\\\\\n",
       "\t 100    & punct\\_word\\_ratio & 0.21739130\\\\\n",
       "\t 1000   & punct\\_word\\_ratio & 0.14285714\\\\\n",
       "\t 10000  & punct\\_word\\_ratio & 0.19354839\\\\\n",
       "\t 100000 & punct\\_word\\_ratio & 0.17647059\\\\\n",
       "\\end{tabular}\n"
      ],
      "text/markdown": [
       "\n",
       "A grouped_df: 6 × 3\n",
       "\n",
       "| id &lt;chr&gt; | feature &lt;chr&gt; | value &lt;dbl&gt; |\n",
       "|---|---|---|\n",
       "| 1      | punct_word_ratio | 0.08163265 |\n",
       "| 10     | punct_word_ratio | 0.20833333 |\n",
       "| 100    | punct_word_ratio | 0.21739130 |\n",
       "| 1000   | punct_word_ratio | 0.14285714 |\n",
       "| 10000  | punct_word_ratio | 0.19354839 |\n",
       "| 100000 | punct_word_ratio | 0.17647059 |\n",
       "\n"
      ],
      "text/plain": [
       "  id     feature          value     \n",
       "1 1      punct_word_ratio 0.08163265\n",
       "2 10     punct_word_ratio 0.20833333\n",
       "3 100    punct_word_ratio 0.21739130\n",
       "4 1000   punct_word_ratio 0.14285714\n",
       "5 10000  punct_word_ratio 0.19354839\n",
       "6 100000 punct_word_ratio 0.17647059"
      ]
     },
     "metadata": {},
     "output_type": "display_data"
    },
    {
     "data": {
      "text/html": [
       "<table class=\"dataframe\">\n",
       "<caption>A grouped_df: 6 × 3</caption>\n",
       "<thead>\n",
       "\t<tr><th scope=col>id</th><th scope=col>feature</th><th scope=col>value</th></tr>\n",
       "\t<tr><th scope=col>&lt;chr&gt;</th><th scope=col>&lt;chr&gt;</th><th scope=col>&lt;dbl&gt;</th></tr>\n",
       "</thead>\n",
       "<tbody>\n",
       "\t<tr><td>99994</td><td>punct_word_ratio</td><td>0.16666667</td></tr>\n",
       "\t<tr><td>99995</td><td>punct_word_ratio</td><td>0.07692308</td></tr>\n",
       "\t<tr><td>99996</td><td>punct_word_ratio</td><td>0.11392405</td></tr>\n",
       "\t<tr><td>99997</td><td>punct_word_ratio</td><td>0.13461538</td></tr>\n",
       "\t<tr><td>99998</td><td>punct_word_ratio</td><td>0.13636364</td></tr>\n",
       "\t<tr><td>99999</td><td>punct_word_ratio</td><td>0.15909091</td></tr>\n",
       "</tbody>\n",
       "</table>\n"
      ],
      "text/latex": [
       "A grouped\\_df: 6 × 3\n",
       "\\begin{tabular}{lll}\n",
       " id & feature & value\\\\\n",
       " <chr> & <chr> & <dbl>\\\\\n",
       "\\hline\n",
       "\t 99994 & punct\\_word\\_ratio & 0.16666667\\\\\n",
       "\t 99995 & punct\\_word\\_ratio & 0.07692308\\\\\n",
       "\t 99996 & punct\\_word\\_ratio & 0.11392405\\\\\n",
       "\t 99997 & punct\\_word\\_ratio & 0.13461538\\\\\n",
       "\t 99998 & punct\\_word\\_ratio & 0.13636364\\\\\n",
       "\t 99999 & punct\\_word\\_ratio & 0.15909091\\\\\n",
       "\\end{tabular}\n"
      ],
      "text/markdown": [
       "\n",
       "A grouped_df: 6 × 3\n",
       "\n",
       "| id &lt;chr&gt; | feature &lt;chr&gt; | value &lt;dbl&gt; |\n",
       "|---|---|---|\n",
       "| 99994 | punct_word_ratio | 0.16666667 |\n",
       "| 99995 | punct_word_ratio | 0.07692308 |\n",
       "| 99996 | punct_word_ratio | 0.11392405 |\n",
       "| 99997 | punct_word_ratio | 0.13461538 |\n",
       "| 99998 | punct_word_ratio | 0.13636364 |\n",
       "| 99999 | punct_word_ratio | 0.15909091 |\n",
       "\n"
      ],
      "text/plain": [
       "  id    feature          value     \n",
       "1 99994 punct_word_ratio 0.16666667\n",
       "2 99995 punct_word_ratio 0.07692308\n",
       "3 99996 punct_word_ratio 0.11392405\n",
       "4 99997 punct_word_ratio 0.13461538\n",
       "5 99998 punct_word_ratio 0.13636364\n",
       "6 99999 punct_word_ratio 0.15909091"
      ]
     },
     "metadata": {},
     "output_type": "display_data"
    },
    {
     "data": {
      "text/html": [
       "<style>\n",
       ".list-inline {list-style: none; margin:0; padding: 0}\n",
       ".list-inline>li {display: inline-block}\n",
       ".list-inline>li:not(:last-child)::after {content: \"\\00b7\"; padding: 0 .5ex}\n",
       "</style>\n",
       "<ol class=list-inline><li>183531</li><li>3</li></ol>\n"
      ],
      "text/latex": [
       "\\begin{enumerate*}\n",
       "\\item 183531\n",
       "\\item 3\n",
       "\\end{enumerate*}\n"
      ],
      "text/markdown": [
       "1. 183531\n",
       "2. 3\n",
       "\n",
       "\n"
      ],
      "text/plain": [
       "[1] 183531      3"
      ]
     },
     "metadata": {},
     "output_type": "display_data"
    }
   ],
   "source": [
    "# Calculate punctuation to word ratio for each unique review id\n",
    "punct_word_ratio = reviews %>%\n",
    "    group_by(id) %>%\n",
    "    mutate(value = sum(grepl(\"[[:punct:]]+\", token)) / n()) %>%\n",
    "\n",
    "    # maintain only one row per review\n",
    "    select(id, value, name, rating) %>%\n",
    "    distinct() %>%\n",
    "\n",
    "    # add feature label\n",
    "    mutate(feature = \"punct_word_ratio\") %>%\n",
    "\n",
    "    # re-order for merging\n",
    "    select(id, feature, value) \n",
    "\n",
    "head(punct_word_ratio)\n",
    "tail(punct_word_ratio)\n",
    "dim(punct_word_ratio)"
   ]
  },
  {
   "cell_type": "markdown",
   "id": "0c27ca4f",
   "metadata": {
    "papermill": {
     "duration": 0.025161,
     "end_time": "2023-10-09T10:43:18.844430",
     "exception": false,
     "start_time": "2023-10-09T10:43:18.819269",
     "status": "completed"
    },
    "tags": []
   },
   "source": [
    "#### Non-zero variance tokens\n",
    "The number of review-wide features is more manageable, so we can use the caret package to detect and remove predictors with near-zero variance, high correlations, and linear redundancies. In the same step, we also combine all review-based features into one long data frame that is ready for merging with the other features."
   ]
  },
  {
   "cell_type": "code",
   "execution_count": 18,
   "id": "7b42b604",
   "metadata": {
    "execution": {
     "iopub.execute_input": "2023-10-09T10:43:18.894055Z",
     "iopub.status.busy": "2023-10-09T10:43:18.892523Z",
     "iopub.status.idle": "2023-10-09T10:43:20.038871Z",
     "shell.execute_reply": "2023-10-09T10:43:20.037191Z"
    },
    "papermill": {
     "duration": 1.173879,
     "end_time": "2023-10-09T10:43:20.041295",
     "exception": false,
     "start_time": "2023-10-09T10:43:18.867416",
     "status": "completed"
    },
    "tags": []
   },
   "outputs": [
    {
     "name": "stderr",
     "output_type": "stream",
     "text": [
      "Warning message:\n",
      "“\u001b[1m\u001b[22mUsing an external vector in selections was deprecated in tidyselect 1.1.0.\n",
      "\u001b[36mℹ\u001b[39m Please use `all_of()` or `any_of()` instead.\n",
      "  # Was:\n",
      "  data %>% select(high_cor)\n",
      "\n",
      "  # Now:\n",
      "  data %>% select(all_of(high_cor))\n",
      "\n",
      "See <https://tidyselect.r-lib.org/reference/faq-external-vector.html>.”\n"
     ]
    },
    {
     "data": {
      "text/html": [
       "<table class=\"dataframe\">\n",
       "<caption>A grouped_df: 6 × 3</caption>\n",
       "<thead>\n",
       "\t<tr><th scope=col>id</th><th scope=col>feature</th><th scope=col>value</th></tr>\n",
       "\t<tr><th scope=col>&lt;chr&gt;</th><th scope=col>&lt;chr&gt;</th><th scope=col>&lt;dbl&gt;</th></tr>\n",
       "</thead>\n",
       "<tbody>\n",
       "\t<tr><td>1  </td><td>rev_length      </td><td>61.00000000</td></tr>\n",
       "\t<tr><td>1  </td><td>punct_word_ratio</td><td> 0.08163265</td></tr>\n",
       "\t<tr><td>10 </td><td>rev_length      </td><td>57.00000000</td></tr>\n",
       "\t<tr><td>10 </td><td>punct_word_ratio</td><td> 0.20833333</td></tr>\n",
       "\t<tr><td>100</td><td>rev_length      </td><td>28.00000000</td></tr>\n",
       "\t<tr><td>100</td><td>punct_word_ratio</td><td> 0.21739130</td></tr>\n",
       "</tbody>\n",
       "</table>\n"
      ],
      "text/latex": [
       "A grouped\\_df: 6 × 3\n",
       "\\begin{tabular}{lll}\n",
       " id & feature & value\\\\\n",
       " <chr> & <chr> & <dbl>\\\\\n",
       "\\hline\n",
       "\t 1   & rev\\_length       & 61.00000000\\\\\n",
       "\t 1   & punct\\_word\\_ratio &  0.08163265\\\\\n",
       "\t 10  & rev\\_length       & 57.00000000\\\\\n",
       "\t 10  & punct\\_word\\_ratio &  0.20833333\\\\\n",
       "\t 100 & rev\\_length       & 28.00000000\\\\\n",
       "\t 100 & punct\\_word\\_ratio &  0.21739130\\\\\n",
       "\\end{tabular}\n"
      ],
      "text/markdown": [
       "\n",
       "A grouped_df: 6 × 3\n",
       "\n",
       "| id &lt;chr&gt; | feature &lt;chr&gt; | value &lt;dbl&gt; |\n",
       "|---|---|---|\n",
       "| 1   | rev_length       | 61.00000000 |\n",
       "| 1   | punct_word_ratio |  0.08163265 |\n",
       "| 10  | rev_length       | 57.00000000 |\n",
       "| 10  | punct_word_ratio |  0.20833333 |\n",
       "| 100 | rev_length       | 28.00000000 |\n",
       "| 100 | punct_word_ratio |  0.21739130 |\n",
       "\n"
      ],
      "text/plain": [
       "  id  feature          value      \n",
       "1 1   rev_length       61.00000000\n",
       "2 1   punct_word_ratio  0.08163265\n",
       "3 10  rev_length       57.00000000\n",
       "4 10  punct_word_ratio  0.20833333\n",
       "5 100 rev_length       28.00000000\n",
       "6 100 punct_word_ratio  0.21739130"
      ]
     },
     "metadata": {},
     "output_type": "display_data"
    },
    {
     "data": {
      "text/html": [
       "<table class=\"dataframe\">\n",
       "<caption>A grouped_df: 6 × 3</caption>\n",
       "<thead>\n",
       "\t<tr><th scope=col>id</th><th scope=col>feature</th><th scope=col>value</th></tr>\n",
       "\t<tr><th scope=col>&lt;chr&gt;</th><th scope=col>&lt;chr&gt;</th><th scope=col>&lt;dbl&gt;</th></tr>\n",
       "</thead>\n",
       "<tbody>\n",
       "\t<tr><td>99997</td><td>rev_length      </td><td>68.0000000</td></tr>\n",
       "\t<tr><td>99997</td><td>punct_word_ratio</td><td> 0.1346154</td></tr>\n",
       "\t<tr><td>99998</td><td>rev_length      </td><td>26.0000000</td></tr>\n",
       "\t<tr><td>99998</td><td>punct_word_ratio</td><td> 0.1363636</td></tr>\n",
       "\t<tr><td>99999</td><td>rev_length      </td><td>49.0000000</td></tr>\n",
       "\t<tr><td>99999</td><td>punct_word_ratio</td><td> 0.1590909</td></tr>\n",
       "</tbody>\n",
       "</table>\n"
      ],
      "text/latex": [
       "A grouped\\_df: 6 × 3\n",
       "\\begin{tabular}{lll}\n",
       " id & feature & value\\\\\n",
       " <chr> & <chr> & <dbl>\\\\\n",
       "\\hline\n",
       "\t 99997 & rev\\_length       & 68.0000000\\\\\n",
       "\t 99997 & punct\\_word\\_ratio &  0.1346154\\\\\n",
       "\t 99998 & rev\\_length       & 26.0000000\\\\\n",
       "\t 99998 & punct\\_word\\_ratio &  0.1363636\\\\\n",
       "\t 99999 & rev\\_length       & 49.0000000\\\\\n",
       "\t 99999 & punct\\_word\\_ratio &  0.1590909\\\\\n",
       "\\end{tabular}\n"
      ],
      "text/markdown": [
       "\n",
       "A grouped_df: 6 × 3\n",
       "\n",
       "| id &lt;chr&gt; | feature &lt;chr&gt; | value &lt;dbl&gt; |\n",
       "|---|---|---|\n",
       "| 99997 | rev_length       | 68.0000000 |\n",
       "| 99997 | punct_word_ratio |  0.1346154 |\n",
       "| 99998 | rev_length       | 26.0000000 |\n",
       "| 99998 | punct_word_ratio |  0.1363636 |\n",
       "| 99999 | rev_length       | 49.0000000 |\n",
       "| 99999 | punct_word_ratio |  0.1590909 |\n",
       "\n"
      ],
      "text/plain": [
       "  id    feature          value     \n",
       "1 99997 rev_length       68.0000000\n",
       "2 99997 punct_word_ratio  0.1346154\n",
       "3 99998 rev_length       26.0000000\n",
       "4 99998 punct_word_ratio  0.1363636\n",
       "5 99999 rev_length       49.0000000\n",
       "6 99999 punct_word_ratio  0.1590909"
      ]
     },
     "metadata": {},
     "output_type": "display_data"
    },
    {
     "data": {
      "text/html": [
       "<style>\n",
       ".list-inline {list-style: none; margin:0; padding: 0}\n",
       ".list-inline>li {display: inline-block}\n",
       ".list-inline>li:not(:last-child)::after {content: \"\\00b7\"; padding: 0 .5ex}\n",
       "</style>\n",
       "<ol class=list-inline><li>367062</li><li>3</li></ol>\n"
      ],
      "text/latex": [
       "\\begin{enumerate*}\n",
       "\\item 367062\n",
       "\\item 3\n",
       "\\end{enumerate*}\n"
      ],
      "text/markdown": [
       "1. 367062\n",
       "2. 3\n",
       "\n",
       "\n"
      ],
      "text/plain": [
       "[1] 367062      3"
      ]
     },
     "metadata": {},
     "output_type": "display_data"
    }
   ],
   "source": [
    "# Check review-based features for near-zero variance, multicolliniearity, and redundant linear combintations\n",
    "\n",
    "# Join review-based features and bring into wide format\n",
    "rev_based = rbind(n_of_words, punct_word_ratio) %>% pivot_wider(names_from=feature, values_from=value)\n",
    "\n",
    "# Look for near-zero variance predictors\n",
    "near_zero_var = caret::nearZeroVar(rev_based[,2:3])\n",
    "\n",
    "# Look for correlated predictors\n",
    "high_cor = caret::findCorrelation(cor(rev_based[,2:3]))\n",
    "\n",
    "# Look for linear combinations that predict other predictors\n",
    "linear_combo = caret::findLinearCombos(rev_based[,2:3])\n",
    "\n",
    "# Remove recommended predictors\n",
    "clean_rev_based = rev_based %>%\n",
    "    select(,-c(high_cor, linear_combo$remove)) %>%\n",
    "\n",
    "    # Turn back into long format for merging with other features\n",
    "    pivot_longer(c(rev_length, punct_word_ratio), names_to = \"feature\", values_to = \"value\")\n",
    "\n",
    "# Take a look\n",
    "head(clean_rev_based)\n",
    "tail(clean_rev_based)\n",
    "dim(clean_rev_based)"
   ]
  },
  {
   "cell_type": "markdown",
   "id": "0a06fe3d",
   "metadata": {
    "papermill": {
     "duration": 0.023764,
     "end_time": "2023-10-09T10:43:20.089721",
     "exception": false,
     "start_time": "2023-10-09T10:43:20.065957",
     "status": "completed"
    },
    "tags": []
   },
   "source": [
    "## 4.3 Global Features"
   ]
  },
  {
   "cell_type": "markdown",
   "id": "d5e26fd4",
   "metadata": {
    "papermill": {
     "duration": 0.023943,
     "end_time": "2023-10-09T10:43:20.137531",
     "exception": false,
     "start_time": "2023-10-09T10:43:20.113588",
     "status": "completed"
    },
    "tags": []
   },
   "source": [
    "### Feature #6 Frequency of satisfied reviews"
   ]
  },
  {
   "cell_type": "markdown",
   "id": "7ce5e9e9",
   "metadata": {
    "papermill": {
     "duration": 0.024495,
     "end_time": "2023-10-09T10:43:20.187485",
     "exception": false,
     "start_time": "2023-10-09T10:43:20.162990",
     "status": "completed"
    },
    "tags": []
   },
   "source": [
    "Independent of all other features, any new review is more likely to be satisfied than dissatisfied simply because satisfied reviews are much more common in general. Therefore, we decided to compute a feature that expresses the relative frequency of satisfied reviews."
   ]
  },
  {
   "cell_type": "code",
   "execution_count": 19,
   "id": "f620709a",
   "metadata": {
    "execution": {
     "iopub.execute_input": "2023-10-09T10:43:20.239647Z",
     "iopub.status.busy": "2023-10-09T10:43:20.238055Z",
     "iopub.status.idle": "2023-10-09T10:43:24.021113Z",
     "shell.execute_reply": "2023-10-09T10:43:24.019415Z"
    },
    "papermill": {
     "duration": 3.811464,
     "end_time": "2023-10-09T10:43:24.023472",
     "exception": false,
     "start_time": "2023-10-09T10:43:20.212008",
     "status": "completed"
    },
    "tags": []
   },
   "outputs": [
    {
     "data": {
      "text/html": [
       "<table class=\"dataframe\">\n",
       "<caption>A grouped_df: 6 × 3</caption>\n",
       "<thead>\n",
       "\t<tr><th scope=col>id</th><th scope=col>feature</th><th scope=col>value</th></tr>\n",
       "\t<tr><th scope=col>&lt;chr&gt;</th><th scope=col>&lt;chr&gt;</th><th scope=col>&lt;dbl&gt;</th></tr>\n",
       "</thead>\n",
       "<tbody>\n",
       "\t<tr><td>1     </td><td>satis_ratio</td><td>0.6232475</td></tr>\n",
       "\t<tr><td>10    </td><td>satis_ratio</td><td>0.6232475</td></tr>\n",
       "\t<tr><td>100   </td><td>satis_ratio</td><td>0.6232475</td></tr>\n",
       "\t<tr><td>1000  </td><td>satis_ratio</td><td>0.6232475</td></tr>\n",
       "\t<tr><td>10000 </td><td>satis_ratio</td><td>0.6232475</td></tr>\n",
       "\t<tr><td>100000</td><td>satis_ratio</td><td>0.6232475</td></tr>\n",
       "</tbody>\n",
       "</table>\n"
      ],
      "text/latex": [
       "A grouped\\_df: 6 × 3\n",
       "\\begin{tabular}{lll}\n",
       " id & feature & value\\\\\n",
       " <chr> & <chr> & <dbl>\\\\\n",
       "\\hline\n",
       "\t 1      & satis\\_ratio & 0.6232475\\\\\n",
       "\t 10     & satis\\_ratio & 0.6232475\\\\\n",
       "\t 100    & satis\\_ratio & 0.6232475\\\\\n",
       "\t 1000   & satis\\_ratio & 0.6232475\\\\\n",
       "\t 10000  & satis\\_ratio & 0.6232475\\\\\n",
       "\t 100000 & satis\\_ratio & 0.6232475\\\\\n",
       "\\end{tabular}\n"
      ],
      "text/markdown": [
       "\n",
       "A grouped_df: 6 × 3\n",
       "\n",
       "| id &lt;chr&gt; | feature &lt;chr&gt; | value &lt;dbl&gt; |\n",
       "|---|---|---|\n",
       "| 1      | satis_ratio | 0.6232475 |\n",
       "| 10     | satis_ratio | 0.6232475 |\n",
       "| 100    | satis_ratio | 0.6232475 |\n",
       "| 1000   | satis_ratio | 0.6232475 |\n",
       "| 10000  | satis_ratio | 0.6232475 |\n",
       "| 100000 | satis_ratio | 0.6232475 |\n",
       "\n"
      ],
      "text/plain": [
       "  id     feature     value    \n",
       "1 1      satis_ratio 0.6232475\n",
       "2 10     satis_ratio 0.6232475\n",
       "3 100    satis_ratio 0.6232475\n",
       "4 1000   satis_ratio 0.6232475\n",
       "5 10000  satis_ratio 0.6232475\n",
       "6 100000 satis_ratio 0.6232475"
      ]
     },
     "metadata": {},
     "output_type": "display_data"
    },
    {
     "data": {
      "text/html": [
       "<table class=\"dataframe\">\n",
       "<caption>A grouped_df: 6 × 3</caption>\n",
       "<thead>\n",
       "\t<tr><th scope=col>id</th><th scope=col>feature</th><th scope=col>value</th></tr>\n",
       "\t<tr><th scope=col>&lt;chr&gt;</th><th scope=col>&lt;chr&gt;</th><th scope=col>&lt;dbl&gt;</th></tr>\n",
       "</thead>\n",
       "<tbody>\n",
       "\t<tr><td>99994</td><td>satis_ratio</td><td>0.6232475</td></tr>\n",
       "\t<tr><td>99995</td><td>satis_ratio</td><td>0.6232475</td></tr>\n",
       "\t<tr><td>99996</td><td>satis_ratio</td><td>0.6232475</td></tr>\n",
       "\t<tr><td>99997</td><td>satis_ratio</td><td>0.6232475</td></tr>\n",
       "\t<tr><td>99998</td><td>satis_ratio</td><td>0.6232475</td></tr>\n",
       "\t<tr><td>99999</td><td>satis_ratio</td><td>0.6232475</td></tr>\n",
       "</tbody>\n",
       "</table>\n"
      ],
      "text/latex": [
       "A grouped\\_df: 6 × 3\n",
       "\\begin{tabular}{lll}\n",
       " id & feature & value\\\\\n",
       " <chr> & <chr> & <dbl>\\\\\n",
       "\\hline\n",
       "\t 99994 & satis\\_ratio & 0.6232475\\\\\n",
       "\t 99995 & satis\\_ratio & 0.6232475\\\\\n",
       "\t 99996 & satis\\_ratio & 0.6232475\\\\\n",
       "\t 99997 & satis\\_ratio & 0.6232475\\\\\n",
       "\t 99998 & satis\\_ratio & 0.6232475\\\\\n",
       "\t 99999 & satis\\_ratio & 0.6232475\\\\\n",
       "\\end{tabular}\n"
      ],
      "text/markdown": [
       "\n",
       "A grouped_df: 6 × 3\n",
       "\n",
       "| id &lt;chr&gt; | feature &lt;chr&gt; | value &lt;dbl&gt; |\n",
       "|---|---|---|\n",
       "| 99994 | satis_ratio | 0.6232475 |\n",
       "| 99995 | satis_ratio | 0.6232475 |\n",
       "| 99996 | satis_ratio | 0.6232475 |\n",
       "| 99997 | satis_ratio | 0.6232475 |\n",
       "| 99998 | satis_ratio | 0.6232475 |\n",
       "| 99999 | satis_ratio | 0.6232475 |\n",
       "\n"
      ],
      "text/plain": [
       "  id    feature     value    \n",
       "1 99994 satis_ratio 0.6232475\n",
       "2 99995 satis_ratio 0.6232475\n",
       "3 99996 satis_ratio 0.6232475\n",
       "4 99997 satis_ratio 0.6232475\n",
       "5 99998 satis_ratio 0.6232475\n",
       "6 99999 satis_ratio 0.6232475"
      ]
     },
     "metadata": {},
     "output_type": "display_data"
    },
    {
     "data": {
      "text/html": [
       "<style>\n",
       ".list-inline {list-style: none; margin:0; padding: 0}\n",
       ".list-inline>li {display: inline-block}\n",
       ".list-inline>li:not(:last-child)::after {content: \"\\00b7\"; padding: 0 .5ex}\n",
       "</style>\n",
       "<ol class=list-inline><li>183531</li><li>3</li></ol>\n"
      ],
      "text/latex": [
       "\\begin{enumerate*}\n",
       "\\item 183531\n",
       "\\item 3\n",
       "\\end{enumerate*}\n"
      ],
      "text/markdown": [
       "1. 183531\n",
       "2. 3\n",
       "\n",
       "\n"
      ],
      "text/plain": [
       "[1] 183531      3"
      ]
     },
     "metadata": {},
     "output_type": "display_data"
    }
   ],
   "source": [
    "# Number of satisfied reviews\n",
    "n_satisfied = reviews %>%\n",
    "  filter(rating == \"satisfied\") %>%\n",
    "  nrow()\n",
    "\n",
    "# Add satisfaction ratio to each review id\n",
    "satis_ratio = reviews %>%\n",
    "  group_by(id) %>%\n",
    "  mutate(value = n_satisfied / nrow(reviews)) %>%\n",
    "\n",
    "  # Maintain only one row per review\n",
    "  select(id, value, name, rating) %>%\n",
    "  distinct() %>%\n",
    "  \n",
    "  # Add feature label\n",
    "  mutate(feature = \"satis_ratio\") %>%\n",
    "  \n",
    "  # Re-order for merging\n",
    "  select(id, feature, value)\n",
    "\n",
    "head(satis_ratio)\n",
    "tail(satis_ratio)\n",
    "dim(satis_ratio)"
   ]
  },
  {
   "cell_type": "markdown",
   "id": "353d1fed",
   "metadata": {
    "papermill": {
     "duration": 0.025998,
     "end_time": "2023-10-09T10:43:24.074683",
     "exception": false,
     "start_time": "2023-10-09T10:43:24.048685",
     "status": "completed"
    },
    "tags": []
   },
   "source": [
    "## 4.3 Features into Sparse Matrix"
   ]
  },
  {
   "cell_type": "markdown",
   "id": "1190f5bf",
   "metadata": {
    "papermill": {
     "duration": 0.024449,
     "end_time": "2023-10-09T10:43:24.124001",
     "exception": false,
     "start_time": "2023-10-09T10:43:24.099552",
     "status": "completed"
    },
    "tags": []
   },
   "source": [
    "In this step, we bring it all together, mergin all features into one long data frame with review IDs in one column, the feature name in another, and the corresponding value in another."
   ]
  },
  {
   "cell_type": "code",
   "execution_count": 20,
   "id": "571adc9a",
   "metadata": {
    "execution": {
     "iopub.execute_input": "2023-10-09T10:43:24.177158Z",
     "iopub.status.busy": "2023-10-09T10:43:24.175498Z",
     "iopub.status.idle": "2023-10-09T10:43:27.868777Z",
     "shell.execute_reply": "2023-10-09T10:43:27.866651Z"
    },
    "papermill": {
     "duration": 3.722483,
     "end_time": "2023-10-09T10:43:27.871268",
     "exception": false,
     "start_time": "2023-10-09T10:43:24.148785",
     "status": "completed"
    },
    "tags": []
   },
   "outputs": [
    {
     "data": {
      "text/html": [
       "<table class=\"dataframe\">\n",
       "<caption>A tibble: 6 × 3</caption>\n",
       "<thead>\n",
       "\t<tr><th scope=col>id</th><th scope=col>feature</th><th scope=col>value</th></tr>\n",
       "\t<tr><th scope=col>&lt;chr&gt;</th><th scope=col>&lt;chr&gt;</th><th scope=col>&lt;dbl&gt;</th></tr>\n",
       "</thead>\n",
       "<tbody>\n",
       "\t<tr><td>1</td><td>,_n_occ </td><td>4</td></tr>\n",
       "\t<tr><td>1</td><td>-_n_occ </td><td>2</td></tr>\n",
       "\t<tr><td>1</td><td>._n_occ </td><td>3</td></tr>\n",
       "\t<tr><td>1</td><td>12_n_occ</td><td>1</td></tr>\n",
       "\t<tr><td>1</td><td>6_n_occ </td><td>1</td></tr>\n",
       "\t<tr><td>1</td><td>8_n_occ </td><td>1</td></tr>\n",
       "</tbody>\n",
       "</table>\n"
      ],
      "text/latex": [
       "A tibble: 6 × 3\n",
       "\\begin{tabular}{lll}\n",
       " id & feature & value\\\\\n",
       " <chr> & <chr> & <dbl>\\\\\n",
       "\\hline\n",
       "\t 1 & ,\\_n\\_occ  & 4\\\\\n",
       "\t 1 & -\\_n\\_occ  & 2\\\\\n",
       "\t 1 & .\\_n\\_occ  & 3\\\\\n",
       "\t 1 & 12\\_n\\_occ & 1\\\\\n",
       "\t 1 & 6\\_n\\_occ  & 1\\\\\n",
       "\t 1 & 8\\_n\\_occ  & 1\\\\\n",
       "\\end{tabular}\n"
      ],
      "text/markdown": [
       "\n",
       "A tibble: 6 × 3\n",
       "\n",
       "| id &lt;chr&gt; | feature &lt;chr&gt; | value &lt;dbl&gt; |\n",
       "|---|---|---|\n",
       "| 1 | ,_n_occ  | 4 |\n",
       "| 1 | -_n_occ  | 2 |\n",
       "| 1 | ._n_occ  | 3 |\n",
       "| 1 | 12_n_occ | 1 |\n",
       "| 1 | 6_n_occ  | 1 |\n",
       "| 1 | 8_n_occ  | 1 |\n",
       "\n"
      ],
      "text/plain": [
       "  id feature  value\n",
       "1 1  ,_n_occ  4    \n",
       "2 1  -_n_occ  2    \n",
       "3 1  ._n_occ  3    \n",
       "4 1  12_n_occ 1    \n",
       "5 1  6_n_occ  1    \n",
       "6 1  8_n_occ  1    "
      ]
     },
     "metadata": {},
     "output_type": "display_data"
    },
    {
     "data": {
      "text/html": [
       "<table class=\"dataframe\">\n",
       "<caption>A tibble: 6 × 3</caption>\n",
       "<thead>\n",
       "\t<tr><th scope=col>id</th><th scope=col>feature</th><th scope=col>value</th></tr>\n",
       "\t<tr><th scope=col>&lt;chr&gt;</th><th scope=col>&lt;chr&gt;</th><th scope=col>&lt;dbl&gt;</th></tr>\n",
       "</thead>\n",
       "<tbody>\n",
       "\t<tr><td>99994</td><td>afinn score</td><td> 3</td></tr>\n",
       "\t<tr><td>99995</td><td>afinn score</td><td> 9</td></tr>\n",
       "\t<tr><td>99996</td><td>afinn score</td><td>26</td></tr>\n",
       "\t<tr><td>99997</td><td>afinn score</td><td> 1</td></tr>\n",
       "\t<tr><td>99998</td><td>afinn score</td><td> 2</td></tr>\n",
       "\t<tr><td>99999</td><td>afinn score</td><td> 9</td></tr>\n",
       "</tbody>\n",
       "</table>\n"
      ],
      "text/latex": [
       "A tibble: 6 × 3\n",
       "\\begin{tabular}{lll}\n",
       " id & feature & value\\\\\n",
       " <chr> & <chr> & <dbl>\\\\\n",
       "\\hline\n",
       "\t 99994 & afinn score &  3\\\\\n",
       "\t 99995 & afinn score &  9\\\\\n",
       "\t 99996 & afinn score & 26\\\\\n",
       "\t 99997 & afinn score &  1\\\\\n",
       "\t 99998 & afinn score &  2\\\\\n",
       "\t 99999 & afinn score &  9\\\\\n",
       "\\end{tabular}\n"
      ],
      "text/markdown": [
       "\n",
       "A tibble: 6 × 3\n",
       "\n",
       "| id &lt;chr&gt; | feature &lt;chr&gt; | value &lt;dbl&gt; |\n",
       "|---|---|---|\n",
       "| 99994 | afinn score |  3 |\n",
       "| 99995 | afinn score |  9 |\n",
       "| 99996 | afinn score | 26 |\n",
       "| 99997 | afinn score |  1 |\n",
       "| 99998 | afinn score |  2 |\n",
       "| 99999 | afinn score |  9 |\n",
       "\n"
      ],
      "text/plain": [
       "  id    feature     value\n",
       "1 99994 afinn score  3   \n",
       "2 99995 afinn score  9   \n",
       "3 99996 afinn score 26   \n",
       "4 99997 afinn score  1   \n",
       "5 99998 afinn score  2   \n",
       "6 99999 afinn score  9   "
      ]
     },
     "metadata": {},
     "output_type": "display_data"
    },
    {
     "data": {
      "text/html": [
       "<style>\n",
       ".list-inline {list-style: none; margin:0; padding: 0}\n",
       ".list-inline>li {display: inline-block}\n",
       ".list-inline>li:not(:last-child)::after {content: \"\\00b7\"; padding: 0 .5ex}\n",
       "</style>\n",
       "<ol class=list-inline><li>34913945</li><li>3</li></ol>\n"
      ],
      "text/latex": [
       "\\begin{enumerate*}\n",
       "\\item 34913945\n",
       "\\item 3\n",
       "\\end{enumerate*}\n"
      ],
      "text/markdown": [
       "1. 34913945\n",
       "2. 3\n",
       "\n",
       "\n"
      ],
      "text/plain": [
       "[1] 34913945        3"
      ]
     },
     "metadata": {},
     "output_type": "display_data"
    }
   ],
   "source": [
    "all_pred = rbind(n_occ, reviews_tf_idf, clean_rev_based, satis_ratio, afinn_scores)\n",
    "\n",
    "head(all_pred)\n",
    "tail(all_pred)\n",
    "dim(all_pred)"
   ]
  },
  {
   "cell_type": "markdown",
   "id": "4179c91f",
   "metadata": {
    "papermill": {
     "duration": 0.02499,
     "end_time": "2023-10-09T10:43:27.921048",
     "exception": false,
     "start_time": "2023-10-09T10:43:27.896058",
     "status": "completed"
    },
    "tags": []
   },
   "source": [
    "Given the large number of features we have computed, fitting models on a regular data frame or dense matrix would take up too much RAM. Therefore, we cast our features into a sparse matrix. The new sparse matrix has a row for each review and a column for each feature. It saves RAM by disregarding cells with missing input."
   ]
  },
  {
   "cell_type": "code",
   "execution_count": 21,
   "id": "7457620f",
   "metadata": {
    "execution": {
     "iopub.execute_input": "2023-10-09T10:43:27.975996Z",
     "iopub.status.busy": "2023-10-09T10:43:27.974406Z",
     "iopub.status.idle": "2023-10-09T10:43:48.330298Z",
     "shell.execute_reply": "2023-10-09T10:43:48.328255Z"
    },
    "papermill": {
     "duration": 20.386705,
     "end_time": "2023-10-09T10:43:48.333260",
     "exception": false,
     "start_time": "2023-10-09T10:43:27.946555",
     "status": "completed"
    },
    "tags": []
   },
   "outputs": [
    {
     "data": {
      "text/plain": [
       "10 x 5 sparse Matrix of class \"dgCMatrix\"\n",
       "       ,_n_occ -_n_occ ._n_occ 12_n_occ 6_n_occ\n",
       "1            4       2       3        1       1\n",
       "10           1       2       2        .       .\n",
       "100          1       .       .        .       .\n",
       "1000         9       2       8        .       .\n",
       "10000        2       .       3        .       .\n",
       "100000       1       .       1        .       .\n",
       "100001       1       .       3        .       .\n",
       "100002       3       .       3        .       .\n",
       "100003       1       .       4        .       .\n",
       "100004       1       .       3        .       ."
      ]
     },
     "metadata": {},
     "output_type": "display_data"
    },
    {
     "name": "stdout",
     "output_type": "stream",
     "text": [
      "rows, columns:  183531 146915"
     ]
    }
   ],
   "source": [
    "# Turn features into a sparse design matrix \n",
    "features_sparse = all_pred %>% \n",
    "    cast_sparse(id, feature, value) \n",
    "\n",
    "# Check result\n",
    "features_sparse[1:10,1:5]\n",
    "cat(\"rows, columns: \", dim(features_sparse))"
   ]
  },
  {
   "cell_type": "markdown",
   "id": "36e55e4f",
   "metadata": {
    "_uuid": "5b5c79f14ac762022e5755d91264cbae0730b58b",
    "papermill": {
     "duration": 0.025411,
     "end_time": "2023-10-09T10:43:48.391203",
     "exception": false,
     "start_time": "2023-10-09T10:43:48.365792",
     "status": "completed"
    },
    "tags": []
   },
   "source": [
    "\n",
    "# 5. Models\n",
    "\n",
    "Due the large number of feature, it would be difficult to select suitable features by hand. However, state-of-the-art methods can deal with large numbers of features and automatically surpress useless predictors. We looked at the following models:\n",
    "\n",
    "1. **Principal Components Regression**\n",
    "2. **Partial Least Squares Regression**\n",
    "3. **Lasso Regression**\n",
    "4. **Ridge Regression**\n",
    "5. **Smoothing**\n",
    "\n",
    "Methods (1), (2), (3), (4) on this list involve methods are able to take many features while automatically reducing redundant flexibility to any desired level. Multicollinearity (highly correlated linear combinations of features) is also automatically taken care of by these methods.\n",
    "\n",
    "Number (5) on the list, smoothing, grants more flexibility by allowing for some non-linearity in the relations between features and the target variable, without the need to manually specify a specific mathematical form (as is necessary in polynomial regression).\n",
    "\n",
    "Hence, all of these methods remove the necessity of finding the best features by hand. \n",
    "\n",
    "All of these methods are associated with a small set of 1 to 3 (or 4 in some cases) parameters that control the flexibility of the model in a more or less continuous way&mdash;much like the $k$ parameter in k-nearest neighbers. Like the $k$ parameter in k-NN, these parameters can and need to be adjusted (*'tuned'*) for optimal predictive performance. Tuning is best done on a validation set (a subset from the training data), or using cross-validation, depending on the size of the data set."
   ]
  },
  {
   "cell_type": "markdown",
   "id": "f32e8364",
   "metadata": {
    "_uuid": "31b0ac2cecf396ee96aaab8cf8af9e022ebe2ef2",
    "papermill": {
     "duration": 0.024984,
     "end_time": "2023-10-09T10:43:48.441448",
     "exception": false,
     "start_time": "2023-10-09T10:43:48.416464",
     "status": "completed"
    },
    "tags": []
   },
   "source": [
    "## 5.1 Model fitting\n",
    "\n",
    "Not all algorithms can deal with sparse matrices. For instance `lm()` can't. The `glmnet` package, that is extensively discussed in chapter 6 of ISLR, can handle sparse matrices and use lasso and ridge regression. Also refer back to the [Spooky authors](https://www.kaggle.com/datasniffer/huge-design-matrices-spooky-author) lab exercise for an example in the context of text analytics.\n",
    "\n",
    "The aim of this competition is the predict the probability that a customer is ***satisfied***. This is deemed to be the case if `rating > 3`.  Hence, you will need as a dependent variable `y` a factor that specifies whether this is the case. \n",
    "\n",
    "The performance of your submission will be evaluated using the ***area under the curve*** (**AUC**) of the *receiver operating curve* (*ROC*). (See chapter 4 in the ISLR book.) The function `cv.glmnet` can work with this measure — carefully read the help file of this function.\n",
    "\n",
    "The type of regularization (i.e., the lasso or ridge) that is used by `glmnet` is controled by the `alpha` parameter. Refer to the book for an explanation. The amount of regularization is specified by means of the `lambda` parameter. Read the warning in the `help(glmnet)` documentation about changing this parameter. To tune this parameter look at the `cv.glmnet()` function.\n"
   ]
  },
  {
   "cell_type": "code",
   "execution_count": 22,
   "id": "5c519d22",
   "metadata": {
    "execution": {
     "iopub.execute_input": "2023-10-09T10:43:48.495316Z",
     "iopub.status.busy": "2023-10-09T10:43:48.493811Z",
     "iopub.status.idle": "2023-10-09T10:43:49.387479Z",
     "shell.execute_reply": "2023-10-09T10:43:49.385578Z"
    },
    "papermill": {
     "duration": 0.923274,
     "end_time": "2023-10-09T10:43:49.389807",
     "exception": false,
     "start_time": "2023-10-09T10:43:48.466533",
     "status": "completed"
    },
    "tags": []
   },
   "outputs": [
    {
     "data": {
      "text/html": [
       "<table class=\"dataframe\">\n",
       "<caption>A matrix: 2 × 6 of type dbl</caption>\n",
       "<thead>\n",
       "\t<tr><th></th><th scope=col>used</th><th scope=col>(Mb)</th><th scope=col>gc trigger</th><th scope=col>(Mb)</th><th scope=col>max used</th><th scope=col>(Mb)</th></tr>\n",
       "</thead>\n",
       "<tbody>\n",
       "\t<tr><th scope=row>Ncells</th><td>  4393348</td><td> 234.7</td><td> 13572439</td><td> 724.9</td><td> 41419791</td><td>2212.1</td></tr>\n",
       "\t<tr><th scope=row>Vcells</th><td>356057104</td><td>2716.6</td><td>580693266</td><td>4430.4</td><td>580607856</td><td>4429.7</td></tr>\n",
       "</tbody>\n",
       "</table>\n"
      ],
      "text/latex": [
       "A matrix: 2 × 6 of type dbl\n",
       "\\begin{tabular}{r|llllll}\n",
       "  & used & (Mb) & gc trigger & (Mb) & max used & (Mb)\\\\\n",
       "\\hline\n",
       "\tNcells &   4393348 &  234.7 &  13572439 &  724.9 &  41419791 & 2212.1\\\\\n",
       "\tVcells & 356057104 & 2716.6 & 580693266 & 4430.4 & 580607856 & 4429.7\\\\\n",
       "\\end{tabular}\n"
      ],
      "text/markdown": [
       "\n",
       "A matrix: 2 × 6 of type dbl\n",
       "\n",
       "| <!--/--> | used | (Mb) | gc trigger | (Mb) | max used | (Mb) |\n",
       "|---|---|---|---|---|---|---|\n",
       "| Ncells |   4393348 |  234.7 |  13572439 |  724.9 |  41419791 | 2212.1 |\n",
       "| Vcells | 356057104 | 2716.6 | 580693266 | 4430.4 | 580607856 | 4429.7 |\n",
       "\n"
      ],
      "text/plain": [
       "       used      (Mb)   gc trigger (Mb)   max used  (Mb)  \n",
       "Ncells   4393348  234.7  13572439   724.9  41419791 2212.1\n",
       "Vcells 356057104 2716.6 580693266  4430.4 580607856 4429.7"
      ]
     },
     "metadata": {},
     "output_type": "display_data"
    }
   ],
   "source": [
    "# Call garbage collector to clear up memory\n",
    "gc(verbose=TRUE, full=TRUE)"
   ]
  },
  {
   "cell_type": "markdown",
   "id": "b8b00f69",
   "metadata": {
    "papermill": {
     "duration": 0.025786,
     "end_time": "2023-10-09T10:43:49.441341",
     "exception": false,
     "start_time": "2023-10-09T10:43:49.415555",
     "status": "completed"
    },
    "tags": []
   },
   "source": [
    "Before we can run fit our models, we need to separate the test data into features and outcome variable and separate the test from the training data. Our design matrix only contains one row per review and there is only one rating per review, so we ensure that our outcome vector and design matrix will have the same number of elements/rows by only maintaing one row per review. The new ratings data frame only contains the ID, name, and rating for each review.\n",
    "\n",
    "Similarly, the order of reviews should also be the same in the design matrix and the vector with the ratings. We achieve this by inner-joining the ratings data frame with the IDs from the design matrix and subsequently extracting the ratings as a vector.\n",
    "\n",
    "The test data consists of all observations without a rating, so we look for rows in our tokenized reviews for whom the rating is NA. We then remove the corresponding rows from our training design matrix and training ratings vector.\n",
    "\n",
    "To be able to run our model-fitting functions in a reasonable time, we use only a sub-sample of observations for the following steps."
   ]
  },
  {
   "cell_type": "code",
   "execution_count": 23,
   "id": "aef39b74",
   "metadata": {
    "execution": {
     "iopub.execute_input": "2023-10-09T10:43:49.495605Z",
     "iopub.status.busy": "2023-10-09T10:43:49.494038Z",
     "iopub.status.idle": "2023-10-09T10:43:51.120843Z",
     "shell.execute_reply": "2023-10-09T10:43:51.118574Z"
    },
    "papermill": {
     "duration": 1.657389,
     "end_time": "2023-10-09T10:43:51.123908",
     "exception": false,
     "start_time": "2023-10-09T10:43:49.466519",
     "status": "completed"
    },
    "tags": []
   },
   "outputs": [
    {
     "data": {
      "text/plain": [
       "11 x 5 sparse Matrix of class \"dgCMatrix\"\n",
       "       &_n_occ '_n_occ 5_n_occ ;_n_occ \\\\_n_occ\n",
       "39354        .       4       1       .        4\n",
       "49672        .       .       .       .        .\n",
       "61664        .       3       .       .        3\n",
       "114370       .       1       .       .        1\n",
       "134455       .       1       1       .        1\n",
       "34212        .       3       .       .        3\n",
       "75676        .       2       .       .        2\n",
       "71242        .       4       .       .        4\n",
       "112552       .       .       .       .        .\n",
       "143915       .       2       .       .        2\n",
       "77374        .       3       .       .        3"
      ]
     },
     "metadata": {},
     "output_type": "display_data"
    },
    {
     "data": {
      "text/html": [
       "<style>\n",
       ".list-inline {list-style: none; margin:0; padding: 0}\n",
       ".list-inline>li {display: inline-block}\n",
       ".list-inline>li:not(:last-child)::after {content: \"\\00b7\"; padding: 0 .5ex}\n",
       "</style>\n",
       "<ol class=list-inline><li>dissatisfied</li><li>satisfied</li><li>satisfied</li><li>dissatisfied</li><li>satisfied</li><li>satisfied</li></ol>\n",
       "\n",
       "<details>\n",
       "\t<summary style=display:list-item;cursor:pointer>\n",
       "\t\t<strong>Levels</strong>:\n",
       "\t</summary>\n",
       "\t<style>\n",
       "\t.list-inline {list-style: none; margin:0; padding: 0}\n",
       "\t.list-inline>li {display: inline-block}\n",
       "\t.list-inline>li:not(:last-child)::after {content: \"\\00b7\"; padding: 0 .5ex}\n",
       "\t</style>\n",
       "\t<ol class=list-inline><li>'dissatisfied'</li><li>'satisfied'</li></ol>\n",
       "</details>"
      ],
      "text/latex": [
       "\\begin{enumerate*}\n",
       "\\item dissatisfied\n",
       "\\item satisfied\n",
       "\\item satisfied\n",
       "\\item dissatisfied\n",
       "\\item satisfied\n",
       "\\item satisfied\n",
       "\\end{enumerate*}\n",
       "\n",
       "\\emph{Levels}: \\begin{enumerate*}\n",
       "\\item 'dissatisfied'\n",
       "\\item 'satisfied'\n",
       "\\end{enumerate*}\n"
      ],
      "text/markdown": [
       "1. dissatisfied\n",
       "2. satisfied\n",
       "3. satisfied\n",
       "4. dissatisfied\n",
       "5. satisfied\n",
       "6. satisfied\n",
       "\n",
       "\n",
       "\n",
       "**Levels**: 1. 'dissatisfied'\n",
       "2. 'satisfied'\n",
       "\n",
       "\n"
      ],
      "text/plain": [
       "[1] dissatisfied satisfied    satisfied    dissatisfied satisfied   \n",
       "[6] satisfied   \n",
       "Levels: dissatisfied satisfied"
      ]
     },
     "metadata": {},
     "output_type": "display_data"
    }
   ],
   "source": [
    "# Creating a data frame with one row and rating per review\n",
    "train_ratings = reviews %>% select(id, name, rating) %>% distinct()\n",
    "\n",
    "# Alligning the order of IDs in the design matrix and the ratings data frame\n",
    "y = data.frame(id=rownames(features_sparse)) %>% \n",
    "    inner_join(train_ratings, by = \"id\") %>% \n",
    "    # Extract the ratings as a factor\n",
    "    pull(rating) %>%\n",
    "    as.factor()\n",
    "\n",
    "# Removing test rows from training data\n",
    "na_ind = which(is.na(train_ratings$rating))\n",
    "train_sparse = features_sparse[-na_ind,]\n",
    "y = y[-na_ind]\n",
    "\n",
    "train_ind = sample(1:length(y), 20000) # Random subset of observations\n",
    "train_sparse = train_sparse[train_ind,]\n",
    "y = y[train_ind]\n",
    "\n",
    "# Gauge results\n",
    "train_sparse[200:210, 50:54]\n",
    "head(y)"
   ]
  },
  {
   "cell_type": "markdown",
   "id": "3c993263",
   "metadata": {
    "papermill": {
     "duration": 0.026377,
     "end_time": "2023-10-09T10:43:51.176116",
     "exception": false,
     "start_time": "2023-10-09T10:43:51.149739",
     "status": "completed"
    },
    "tags": []
   },
   "source": [
    "### 5.1.1. Principal Component Regression (PCR)\n",
    "\n",
    "In principal component regression (PCR), regression is done on principal component scores obtained from a principal component analysis (PCA). PCA is an unsupervised dimenionality reduction technique, which transforms data into a new set of components, such that most variance is held by the first component, and the remainder is distributed among the others in descending order. Selecting a subset of these components reduces the number of variables, while retaining as much information as possible. Therefore, PCR is useful in this case because it provides a way to combat the excessive number of predictors. Here, logistic regression is used for the type of model.\n",
    "\n",
    "In blocks 1 to 6, the data frame meant for the PCR is created, which involves obtaining the principal components of the data, among other minor preprocessing steps. The logistic regression is done in Block 7, and evaluated in Block 8."
   ]
  },
  {
   "cell_type": "code",
   "execution_count": 24,
   "id": "f6240c63",
   "metadata": {
    "execution": {
     "iopub.execute_input": "2023-10-09T10:43:51.231842Z",
     "iopub.status.busy": "2023-10-09T10:43:51.230076Z",
     "iopub.status.idle": "2023-10-09T10:43:51.294707Z",
     "shell.execute_reply": "2023-10-09T10:43:51.292803Z"
    },
    "papermill": {
     "duration": 0.094832,
     "end_time": "2023-10-09T10:43:51.297265",
     "exception": false,
     "start_time": "2023-10-09T10:43:51.202433",
     "status": "completed"
    },
    "tags": []
   },
   "outputs": [
    {
     "name": "stdout",
     "output_type": "stream",
     "text": [
      "Limited number of training cases to 1000\n",
      "Created X and y2"
     ]
    },
    {
     "data": {
      "text/html": [
       "<style>\n",
       ".list-inline {list-style: none; margin:0; padding: 0}\n",
       ".list-inline>li {display: inline-block}\n",
       ".list-inline>li:not(:last-child)::after {content: \"\\00b7\"; padding: 0 .5ex}\n",
       "</style>\n",
       "<ol class=list-inline><li>1000</li><li>146915</li></ol>\n"
      ],
      "text/latex": [
       "\\begin{enumerate*}\n",
       "\\item 1000\n",
       "\\item 146915\n",
       "\\end{enumerate*}\n"
      ],
      "text/markdown": [
       "1. 1000\n",
       "2. 146915\n",
       "\n",
       "\n"
      ],
      "text/plain": [
       "[1]   1000 146915"
      ]
     },
     "metadata": {},
     "output_type": "display_data"
    },
    {
     "data": {
      "text/html": [
       "1000"
      ],
      "text/latex": [
       "1000"
      ],
      "text/markdown": [
       "1000"
      ],
      "text/plain": [
       "[1] 1000"
      ]
     },
     "metadata": {},
     "output_type": "display_data"
    }
   ],
   "source": [
    "## Block\n",
    "# Create X and y2\n",
    "\n",
    "# y2 is used instead of y, so any changes won't interfere with\n",
    "# other model fitting code elsewhere. The same reasoning applies\n",
    "# to creation of the X variable, which is essentially the same as\n",
    "# the train_sparse variable.\n",
    "\n",
    "max_len_y = 1000\n",
    "\n",
    "if (length(y) > max_len_y) {\n",
    "    # If the number of cases is greater than some number, then\n",
    "    # limit the number of cases to train on. This precaution makes\n",
    "    # sure that the code won't take too long.\n",
    "    train_indx = sample(1:length(y), max_len_y)\n",
    "    X = train_sparse[train_indx, ]#  %>% as(\"matrix\") %>% as.data.frame()\n",
    "    y2 = y[train_indx]    \n",
    "    \n",
    "    # Clear R workspace\n",
    "    rm(train_indx)\n",
    "    \n",
    "    cat(sprintf(\"Limited number of training cases to %s\\n\", max_len_y))\n",
    "    \n",
    "} else {\n",
    "    # Create X and y2\n",
    "    X = train_sparse# %>% as(\"matrix\") %>% as.data.frame()\n",
    "    y2 = y\n",
    "}\n",
    "\n",
    "cat(\"Created X and y2\")\n",
    "dim(X)\n",
    "length(y2)"
   ]
  },
  {
   "cell_type": "code",
   "execution_count": 25,
   "id": "135b5da5",
   "metadata": {
    "execution": {
     "iopub.execute_input": "2023-10-09T10:43:51.353400Z",
     "iopub.status.busy": "2023-10-09T10:43:51.351445Z",
     "iopub.status.idle": "2023-10-09T10:43:51.379080Z",
     "shell.execute_reply": "2023-10-09T10:43:51.377145Z"
    },
    "papermill": {
     "duration": 0.05809,
     "end_time": "2023-10-09T10:43:51.381400",
     "exception": false,
     "start_time": "2023-10-09T10:43:51.323310",
     "status": "completed"
    },
    "tags": []
   },
   "outputs": [
    {
     "data": {
      "text/html": [
       "<style>\n",
       ".list-inline {list-style: none; margin:0; padding: 0}\n",
       ".list-inline>li {display: inline-block}\n",
       ".list-inline>li:not(:last-child)::after {content: \"\\00b7\"; padding: 0 .5ex}\n",
       "</style>\n",
       "<ol class=list-inline><li>TRUE</li><li>TRUE</li><li>TRUE</li><li>TRUE</li><li>TRUE</li><li>TRUE</li></ol>\n"
      ],
      "text/latex": [
       "\\begin{enumerate*}\n",
       "\\item TRUE\n",
       "\\item TRUE\n",
       "\\item TRUE\n",
       "\\item TRUE\n",
       "\\item TRUE\n",
       "\\item TRUE\n",
       "\\end{enumerate*}\n"
      ],
      "text/markdown": [
       "1. TRUE\n",
       "2. TRUE\n",
       "3. TRUE\n",
       "4. TRUE\n",
       "5. TRUE\n",
       "6. TRUE\n",
       "\n",
       "\n"
      ],
      "text/plain": [
       "[1] TRUE TRUE TRUE TRUE TRUE TRUE"
      ]
     },
     "metadata": {},
     "output_type": "display_data"
    },
    {
     "name": "stdout",
     "output_type": "stream",
     "text": [
      "Dropped 0 cases where y was NA"
     ]
    }
   ],
   "source": [
    "## Block 2\n",
    "\n",
    "# Drop cases where y is NA. This step should be done earlier in the\n",
    "# preprocessing, but it's done here in order not interfere with the \n",
    "# earlier code. Eventually the NA cases will be excluded at an earlier \n",
    "# stage, and this step won't find any NA cases to drop anyway.\n",
    "na_mask = ! is.na(y2)\n",
    "head(na_mask)\n",
    "if (sum(! na_mask) > 0) {\n",
    "  y2 = y2[na_mask]\n",
    "  X = train_sparse[na_mask, ]\n",
    "  cat(\"Debug 1\\n\")\n",
    "}\n",
    "\n",
    "cat(str_c(\"Dropped \", sum(! na_mask), \" cases where y was NA\"))"
   ]
  },
  {
   "cell_type": "code",
   "execution_count": 26,
   "id": "ac1d46d1",
   "metadata": {
    "execution": {
     "iopub.execute_input": "2023-10-09T10:43:51.437562Z",
     "iopub.status.busy": "2023-10-09T10:43:51.435909Z",
     "iopub.status.idle": "2023-10-09T10:46:21.122378Z",
     "shell.execute_reply": "2023-10-09T10:46:21.120587Z"
    },
    "papermill": {
     "duration": 149.717754,
     "end_time": "2023-10-09T10:46:21.125202",
     "exception": false,
     "start_time": "2023-10-09T10:43:51.407448",
     "status": "completed"
    },
    "tags": []
   },
   "outputs": [
    {
     "name": "stderr",
     "output_type": "stream",
     "text": [
      "Warning message in asMethod(object):\n",
      "“sparse->dense coercion: allocating vector of size 1.1 GiB”\n",
      "Warning message in asMethod(object):\n",
      "“sparse->dense coercion: allocating vector of size 1.1 GiB”\n",
      "Warning message in asMethod(object):\n",
      "“sparse->dense coercion: allocating vector of size 1.1 GiB”\n",
      "Warning message in asMethod(object):\n",
      "“sparse->dense coercion: allocating vector of size 1.1 GiB”\n"
     ]
    },
    {
     "name": "stdout",
     "output_type": "stream",
     "text": [
      "Dropped 146570 columns with near zero variance\n",
      "Remaining number of columns: 345\n"
     ]
    },
    {
     "data": {
      "text/html": [
       "<style>\n",
       ".list-inline {list-style: none; margin:0; padding: 0}\n",
       ".list-inline>li {display: inline-block}\n",
       ".list-inline>li:not(:last-child)::after {content: \"\\00b7\"; padding: 0 .5ex}\n",
       "</style>\n",
       "<ol class=list-inline><li>1000</li><li>345</li></ol>\n"
      ],
      "text/latex": [
       "\\begin{enumerate*}\n",
       "\\item 1000\n",
       "\\item 345\n",
       "\\end{enumerate*}\n"
      ],
      "text/markdown": [
       "1. 1000\n",
       "2. 345\n",
       "\n",
       "\n"
      ],
      "text/plain": [
       "[1] 1000  345"
      ]
     },
     "metadata": {},
     "output_type": "display_data"
    },
    {
     "data": {
      "text/html": [
       "1000"
      ],
      "text/latex": [
       "1000"
      ],
      "text/markdown": [
       "1000"
      ],
      "text/plain": [
       "[1] 1000"
      ]
     },
     "metadata": {},
     "output_type": "display_data"
    }
   ],
   "source": [
    "## Block 3\n",
    "# Drop near zero variance columns, since prcomp() will complain about this.\n",
    "# Note. This step will take some time.\n",
    "to_drop = nearZeroVar(X)\n",
    "if (length(to_drop) > 0) {\n",
    "  X = X[, -to_drop]\n",
    "}\n",
    "\n",
    "cat(str_c(\"Dropped \", length(to_drop), \" columns with near zero variance\\n\"))\n",
    "cat(sprintf(\"Remaining number of columns: %s\\n\", ncol(X)))\n",
    "dim(X)\n",
    "length(y2)"
   ]
  },
  {
   "cell_type": "markdown",
   "id": "22ea81cd",
   "metadata": {
    "papermill": {
     "duration": 0.02652,
     "end_time": "2023-10-09T10:46:21.178806",
     "exception": false,
     "start_time": "2023-10-09T10:46:21.152286",
     "status": "completed"
    },
    "tags": []
   },
   "source": [
    "The principal component analysis is done on the standardized data. Standardizing the data guarantees that each variable's contribution to the analysis is the same, thereby preventing dominant variables from biasing the outcomes."
   ]
  },
  {
   "cell_type": "code",
   "execution_count": 27,
   "id": "d01a29af",
   "metadata": {
    "execution": {
     "iopub.execute_input": "2023-10-09T10:46:21.235354Z",
     "iopub.status.busy": "2023-10-09T10:46:21.233777Z",
     "iopub.status.idle": "2023-10-09T10:46:21.419777Z",
     "shell.execute_reply": "2023-10-09T10:46:21.416503Z"
    },
    "papermill": {
     "duration": 0.21832,
     "end_time": "2023-10-09T10:46:21.423532",
     "exception": false,
     "start_time": "2023-10-09T10:46:21.205212",
     "status": "completed"
    },
    "tags": []
   },
   "outputs": [
    {
     "data": {
      "text/html": [
       "<table class=\"dataframe\">\n",
       "<caption>A matrix: 6 × 345 of type dbl</caption>\n",
       "<thead>\n",
       "\t<tr><th></th><th scope=col>PC1</th><th scope=col>PC2</th><th scope=col>PC3</th><th scope=col>PC4</th><th scope=col>PC5</th><th scope=col>PC6</th><th scope=col>PC7</th><th scope=col>PC8</th><th scope=col>PC9</th><th scope=col>PC10</th><th scope=col>⋯</th><th scope=col>PC336</th><th scope=col>PC337</th><th scope=col>PC338</th><th scope=col>PC339</th><th scope=col>PC340</th><th scope=col>PC341</th><th scope=col>PC342</th><th scope=col>PC343</th><th scope=col>PC344</th><th scope=col>PC345</th></tr>\n",
       "</thead>\n",
       "<tbody>\n",
       "\t<tr><th scope=row>131483</th><td>-3.341033</td><td> 5.7474444</td><td>-1.0298142</td><td> 2.0242182</td><td>-0.07375417</td><td>-2.4569934</td><td> 4.9137387</td><td> 1.3374474</td><td>-3.3623104</td><td>-5.1308368</td><td>⋯</td><td> 9.992007e-16</td><td> 1.026956e-15</td><td>-4.996004e-16</td><td> 6.106227e-16</td><td> 2.220446e-16</td><td>-1.276756e-15</td><td>-1.789476e-16</td><td> 2.914335e-15</td><td>-3.330669e-16</td><td> 1.332268e-15</td></tr>\n",
       "\t<tr><th scope=row>76391</th><td> 1.075405</td><td> 1.2658373</td><td>-0.9899356</td><td>-1.6865263</td><td> 1.27912848</td><td>-1.9123182</td><td>-2.0761713</td><td>-0.2706172</td><td> 4.7322972</td><td>-3.2044627</td><td>⋯</td><td> 6.661338e-16</td><td>-1.554312e-15</td><td>-5.551115e-16</td><td>-7.771561e-16</td><td>-5.551115e-16</td><td> 4.440892e-16</td><td> 5.551115e-17</td><td> 3.330669e-16</td><td> 1.221245e-15</td><td>-9.436896e-16</td></tr>\n",
       "\t<tr><th scope=row>113569</th><td> 1.150882</td><td> 5.9839196</td><td>-0.2594250</td><td>-0.3966988</td><td>-0.91597695</td><td> 1.9088039</td><td> 1.1130562</td><td>-0.5978263</td><td> 0.6550967</td><td>-0.4525701</td><td>⋯</td><td> 1.998401e-15</td><td> 5.689893e-16</td><td>-1.332268e-15</td><td> 7.077672e-16</td><td> 4.440892e-16</td><td>-7.771561e-16</td><td> 1.249001e-16</td><td> 7.771561e-16</td><td>-3.164136e-15</td><td>-8.881784e-16</td></tr>\n",
       "\t<tr><th scope=row>170884</th><td> 1.560144</td><td> 2.8227312</td><td>-0.7440955</td><td>-0.8073667</td><td>-1.88090252</td><td>-1.1136621</td><td> 2.0919573</td><td> 0.8649255</td><td> 0.2793557</td><td> 0.3304284</td><td>⋯</td><td>-5.551115e-16</td><td> 3.330669e-16</td><td> 1.110223e-15</td><td>-1.110223e-16</td><td> 2.220446e-16</td><td>-6.661338e-16</td><td> 3.885781e-16</td><td>-7.494005e-16</td><td>-1.887379e-15</td><td> 6.661338e-16</td></tr>\n",
       "\t<tr><th scope=row>156625</th><td>-3.253618</td><td>-0.8283183</td><td> 0.7149912</td><td>-0.7921980</td><td> 5.46562094</td><td>-0.2108213</td><td> 1.4884820</td><td> 2.0917525</td><td>-1.7397473</td><td> 3.3546382</td><td>⋯</td><td> 1.221245e-15</td><td>-1.110223e-15</td><td> 3.330669e-16</td><td>-1.387779e-15</td><td> 1.110223e-16</td><td>-2.470246e-15</td><td>-4.440892e-16</td><td> 4.996004e-16</td><td>-5.689893e-16</td><td>-9.159340e-16</td></tr>\n",
       "\t<tr><th scope=row>159291</th><td> 1.382668</td><td> 1.3966534</td><td>-0.7506876</td><td>-0.2413482</td><td> 0.33666043</td><td> 1.5825425</td><td>-0.9074955</td><td>-2.0662351</td><td> 0.8455495</td><td>-0.7278062</td><td>⋯</td><td>-2.220446e-16</td><td>-4.440892e-16</td><td>-1.443290e-15</td><td>-1.276756e-15</td><td> 4.093947e-16</td><td> 1.110223e-16</td><td> 1.110223e-15</td><td> 2.220446e-16</td><td>-5.551115e-17</td><td>-7.216450e-16</td></tr>\n",
       "</tbody>\n",
       "</table>\n"
      ],
      "text/latex": [
       "A matrix: 6 × 345 of type dbl\n",
       "\\begin{tabular}{r|lllllllllllllllllllll}\n",
       "  & PC1 & PC2 & PC3 & PC4 & PC5 & PC6 & PC7 & PC8 & PC9 & PC10 & ⋯ & PC336 & PC337 & PC338 & PC339 & PC340 & PC341 & PC342 & PC343 & PC344 & PC345\\\\\n",
       "\\hline\n",
       "\t131483 & -3.341033 &  5.7474444 & -1.0298142 &  2.0242182 & -0.07375417 & -2.4569934 &  4.9137387 &  1.3374474 & -3.3623104 & -5.1308368 & ⋯ &  9.992007e-16 &  1.026956e-15 & -4.996004e-16 &  6.106227e-16 &  2.220446e-16 & -1.276756e-15 & -1.789476e-16 &  2.914335e-15 & -3.330669e-16 &  1.332268e-15\\\\\n",
       "\t76391 &  1.075405 &  1.2658373 & -0.9899356 & -1.6865263 &  1.27912848 & -1.9123182 & -2.0761713 & -0.2706172 &  4.7322972 & -3.2044627 & ⋯ &  6.661338e-16 & -1.554312e-15 & -5.551115e-16 & -7.771561e-16 & -5.551115e-16 &  4.440892e-16 &  5.551115e-17 &  3.330669e-16 &  1.221245e-15 & -9.436896e-16\\\\\n",
       "\t113569 &  1.150882 &  5.9839196 & -0.2594250 & -0.3966988 & -0.91597695 &  1.9088039 &  1.1130562 & -0.5978263 &  0.6550967 & -0.4525701 & ⋯ &  1.998401e-15 &  5.689893e-16 & -1.332268e-15 &  7.077672e-16 &  4.440892e-16 & -7.771561e-16 &  1.249001e-16 &  7.771561e-16 & -3.164136e-15 & -8.881784e-16\\\\\n",
       "\t170884 &  1.560144 &  2.8227312 & -0.7440955 & -0.8073667 & -1.88090252 & -1.1136621 &  2.0919573 &  0.8649255 &  0.2793557 &  0.3304284 & ⋯ & -5.551115e-16 &  3.330669e-16 &  1.110223e-15 & -1.110223e-16 &  2.220446e-16 & -6.661338e-16 &  3.885781e-16 & -7.494005e-16 & -1.887379e-15 &  6.661338e-16\\\\\n",
       "\t156625 & -3.253618 & -0.8283183 &  0.7149912 & -0.7921980 &  5.46562094 & -0.2108213 &  1.4884820 &  2.0917525 & -1.7397473 &  3.3546382 & ⋯ &  1.221245e-15 & -1.110223e-15 &  3.330669e-16 & -1.387779e-15 &  1.110223e-16 & -2.470246e-15 & -4.440892e-16 &  4.996004e-16 & -5.689893e-16 & -9.159340e-16\\\\\n",
       "\t159291 &  1.382668 &  1.3966534 & -0.7506876 & -0.2413482 &  0.33666043 &  1.5825425 & -0.9074955 & -2.0662351 &  0.8455495 & -0.7278062 & ⋯ & -2.220446e-16 & -4.440892e-16 & -1.443290e-15 & -1.276756e-15 &  4.093947e-16 &  1.110223e-16 &  1.110223e-15 &  2.220446e-16 & -5.551115e-17 & -7.216450e-16\\\\\n",
       "\\end{tabular}\n"
      ],
      "text/markdown": [
       "\n",
       "A matrix: 6 × 345 of type dbl\n",
       "\n",
       "| <!--/--> | PC1 | PC2 | PC3 | PC4 | PC5 | PC6 | PC7 | PC8 | PC9 | PC10 | ⋯ | PC336 | PC337 | PC338 | PC339 | PC340 | PC341 | PC342 | PC343 | PC344 | PC345 |\n",
       "|---|---|---|---|---|---|---|---|---|---|---|---|---|---|---|---|---|---|---|---|---|---|\n",
       "| 131483 | -3.341033 |  5.7474444 | -1.0298142 |  2.0242182 | -0.07375417 | -2.4569934 |  4.9137387 |  1.3374474 | -3.3623104 | -5.1308368 | ⋯ |  9.992007e-16 |  1.026956e-15 | -4.996004e-16 |  6.106227e-16 |  2.220446e-16 | -1.276756e-15 | -1.789476e-16 |  2.914335e-15 | -3.330669e-16 |  1.332268e-15 |\n",
       "| 76391 |  1.075405 |  1.2658373 | -0.9899356 | -1.6865263 |  1.27912848 | -1.9123182 | -2.0761713 | -0.2706172 |  4.7322972 | -3.2044627 | ⋯ |  6.661338e-16 | -1.554312e-15 | -5.551115e-16 | -7.771561e-16 | -5.551115e-16 |  4.440892e-16 |  5.551115e-17 |  3.330669e-16 |  1.221245e-15 | -9.436896e-16 |\n",
       "| 113569 |  1.150882 |  5.9839196 | -0.2594250 | -0.3966988 | -0.91597695 |  1.9088039 |  1.1130562 | -0.5978263 |  0.6550967 | -0.4525701 | ⋯ |  1.998401e-15 |  5.689893e-16 | -1.332268e-15 |  7.077672e-16 |  4.440892e-16 | -7.771561e-16 |  1.249001e-16 |  7.771561e-16 | -3.164136e-15 | -8.881784e-16 |\n",
       "| 170884 |  1.560144 |  2.8227312 | -0.7440955 | -0.8073667 | -1.88090252 | -1.1136621 |  2.0919573 |  0.8649255 |  0.2793557 |  0.3304284 | ⋯ | -5.551115e-16 |  3.330669e-16 |  1.110223e-15 | -1.110223e-16 |  2.220446e-16 | -6.661338e-16 |  3.885781e-16 | -7.494005e-16 | -1.887379e-15 |  6.661338e-16 |\n",
       "| 156625 | -3.253618 | -0.8283183 |  0.7149912 | -0.7921980 |  5.46562094 | -0.2108213 |  1.4884820 |  2.0917525 | -1.7397473 |  3.3546382 | ⋯ |  1.221245e-15 | -1.110223e-15 |  3.330669e-16 | -1.387779e-15 |  1.110223e-16 | -2.470246e-15 | -4.440892e-16 |  4.996004e-16 | -5.689893e-16 | -9.159340e-16 |\n",
       "| 159291 |  1.382668 |  1.3966534 | -0.7506876 | -0.2413482 |  0.33666043 |  1.5825425 | -0.9074955 | -2.0662351 |  0.8455495 | -0.7278062 | ⋯ | -2.220446e-16 | -4.440892e-16 | -1.443290e-15 | -1.276756e-15 |  4.093947e-16 |  1.110223e-16 |  1.110223e-15 |  2.220446e-16 | -5.551115e-17 | -7.216450e-16 |\n",
       "\n"
      ],
      "text/plain": [
       "       PC1       PC2        PC3        PC4        PC5         PC6       \n",
       "131483 -3.341033  5.7474444 -1.0298142  2.0242182 -0.07375417 -2.4569934\n",
       "76391   1.075405  1.2658373 -0.9899356 -1.6865263  1.27912848 -1.9123182\n",
       "113569  1.150882  5.9839196 -0.2594250 -0.3966988 -0.91597695  1.9088039\n",
       "170884  1.560144  2.8227312 -0.7440955 -0.8073667 -1.88090252 -1.1136621\n",
       "156625 -3.253618 -0.8283183  0.7149912 -0.7921980  5.46562094 -0.2108213\n",
       "159291  1.382668  1.3966534 -0.7506876 -0.2413482  0.33666043  1.5825425\n",
       "       PC7        PC8        PC9        PC10       ⋯ PC336        \n",
       "131483  4.9137387  1.3374474 -3.3623104 -5.1308368 ⋯  9.992007e-16\n",
       "76391  -2.0761713 -0.2706172  4.7322972 -3.2044627 ⋯  6.661338e-16\n",
       "113569  1.1130562 -0.5978263  0.6550967 -0.4525701 ⋯  1.998401e-15\n",
       "170884  2.0919573  0.8649255  0.2793557  0.3304284 ⋯ -5.551115e-16\n",
       "156625  1.4884820  2.0917525 -1.7397473  3.3546382 ⋯  1.221245e-15\n",
       "159291 -0.9074955 -2.0662351  0.8455495 -0.7278062 ⋯ -2.220446e-16\n",
       "       PC337         PC338         PC339         PC340         PC341        \n",
       "131483  1.026956e-15 -4.996004e-16  6.106227e-16  2.220446e-16 -1.276756e-15\n",
       "76391  -1.554312e-15 -5.551115e-16 -7.771561e-16 -5.551115e-16  4.440892e-16\n",
       "113569  5.689893e-16 -1.332268e-15  7.077672e-16  4.440892e-16 -7.771561e-16\n",
       "170884  3.330669e-16  1.110223e-15 -1.110223e-16  2.220446e-16 -6.661338e-16\n",
       "156625 -1.110223e-15  3.330669e-16 -1.387779e-15  1.110223e-16 -2.470246e-15\n",
       "159291 -4.440892e-16 -1.443290e-15 -1.276756e-15  4.093947e-16  1.110223e-16\n",
       "       PC342         PC343         PC344         PC345        \n",
       "131483 -1.789476e-16  2.914335e-15 -3.330669e-16  1.332268e-15\n",
       "76391   5.551115e-17  3.330669e-16  1.221245e-15 -9.436896e-16\n",
       "113569  1.249001e-16  7.771561e-16 -3.164136e-15 -8.881784e-16\n",
       "170884  3.885781e-16 -7.494005e-16 -1.887379e-15  6.661338e-16\n",
       "156625 -4.440892e-16  4.996004e-16 -5.689893e-16 -9.159340e-16\n",
       "159291  1.110223e-15  2.220446e-16 -5.551115e-17 -7.216450e-16"
      ]
     },
     "metadata": {},
     "output_type": "display_data"
    }
   ],
   "source": [
    "## Block 4\n",
    "# Do a principal component analysis\n",
    "pca_result = prcomp(X, center = TRUE, scale = TRUE)\n",
    "\n",
    "# Check the results\n",
    "pca_result$x %>% head()"
   ]
  },
  {
   "cell_type": "markdown",
   "id": "2da7149f",
   "metadata": {
    "papermill": {
     "duration": 0.042244,
     "end_time": "2023-10-09T10:46:21.517335",
     "exception": false,
     "start_time": "2023-10-09T10:46:21.475091",
     "status": "completed"
    },
    "tags": []
   },
   "source": [
    "The scree-plot below (or elbow-plot) shows the eigenvalues associated with each principal component, which represent the amount of variance embedded in that component. As a rule of thumb, the inflection point (or elbow) in the graph can be used to select the optimal number of components. Here, the inflection point sits roughly around 150 components, so 150 will be the choice number of components for the analysis."
   ]
  },
  {
   "cell_type": "code",
   "execution_count": 28,
   "id": "d646207c",
   "metadata": {
    "execution": {
     "iopub.execute_input": "2023-10-09T10:46:21.576311Z",
     "iopub.status.busy": "2023-10-09T10:46:21.574491Z",
     "iopub.status.idle": "2023-10-09T10:46:21.925274Z",
     "shell.execute_reply": "2023-10-09T10:46:21.923381Z"
    },
    "papermill": {
     "duration": 0.382935,
     "end_time": "2023-10-09T10:46:21.927764",
     "exception": false,
     "start_time": "2023-10-09T10:46:21.544829",
     "status": "completed"
    },
    "tags": []
   },
   "outputs": [
    {
     "data": {
      "text/html": [
       "<table class=\"dataframe\">\n",
       "<caption>A data.frame: 6 × 2</caption>\n",
       "<thead>\n",
       "\t<tr><th></th><th scope=col>eigenvalue</th><th scope=col>n_comps</th></tr>\n",
       "\t<tr><th></th><th scope=col>&lt;dbl&gt;</th><th scope=col>&lt;int&gt;</th></tr>\n",
       "</thead>\n",
       "<tbody>\n",
       "\t<tr><th scope=row>1</th><td>5.361776</td><td>1</td></tr>\n",
       "\t<tr><th scope=row>2</th><td>3.114860</td><td>2</td></tr>\n",
       "\t<tr><th scope=row>3</th><td>2.706164</td><td>3</td></tr>\n",
       "\t<tr><th scope=row>4</th><td>2.556280</td><td>4</td></tr>\n",
       "\t<tr><th scope=row>5</th><td>2.409427</td><td>5</td></tr>\n",
       "\t<tr><th scope=row>6</th><td>2.319498</td><td>6</td></tr>\n",
       "</tbody>\n",
       "</table>\n"
      ],
      "text/latex": [
       "A data.frame: 6 × 2\n",
       "\\begin{tabular}{r|ll}\n",
       "  & eigenvalue & n\\_comps\\\\\n",
       "  & <dbl> & <int>\\\\\n",
       "\\hline\n",
       "\t1 & 5.361776 & 1\\\\\n",
       "\t2 & 3.114860 & 2\\\\\n",
       "\t3 & 2.706164 & 3\\\\\n",
       "\t4 & 2.556280 & 4\\\\\n",
       "\t5 & 2.409427 & 5\\\\\n",
       "\t6 & 2.319498 & 6\\\\\n",
       "\\end{tabular}\n"
      ],
      "text/markdown": [
       "\n",
       "A data.frame: 6 × 2\n",
       "\n",
       "| <!--/--> | eigenvalue &lt;dbl&gt; | n_comps &lt;int&gt; |\n",
       "|---|---|---|\n",
       "| 1 | 5.361776 | 1 |\n",
       "| 2 | 3.114860 | 2 |\n",
       "| 3 | 2.706164 | 3 |\n",
       "| 4 | 2.556280 | 4 |\n",
       "| 5 | 2.409427 | 5 |\n",
       "| 6 | 2.319498 | 6 |\n",
       "\n"
      ],
      "text/plain": [
       "  eigenvalue n_comps\n",
       "1 5.361776   1      \n",
       "2 3.114860   2      \n",
       "3 2.706164   3      \n",
       "4 2.556280   4      \n",
       "5 2.409427   5      \n",
       "6 2.319498   6      "
      ]
     },
     "metadata": {},
     "output_type": "display_data"
    },
    {
     "data": {
      "image/png": "[encoded data removed]"
     },
     "metadata": {
      "image/png": {
       "height": 420,
       "width": 420
      }
     },
     "output_type": "display_data"
    }
   ],
   "source": [
    "## Block 5\n",
    "# Inspect the importance of the components, \n",
    "# and select the optimal number of components\n",
    "comp_importance = pca_result$sdev %>% \n",
    "    as.data.frame() %>% \n",
    "    mutate(n_comps = row_number())\n",
    "\n",
    "colnames(comp_importance)[1] = \"eigenvalue\"\n",
    "\n",
    "comp_importance %>% head()\n",
    "    \n",
    "# Make scree-plot\n",
    "ggplot(comp_importance, aes(x = n_comps, y = eigenvalue)) +\n",
    "    geom_line(stat=\"identity\") +\n",
    "    labs(x = \"Number of Components\", y = \"Eigenvalue\", title = \"PCA Scree-plot\")\n",
    "\n",
    "# Eye-balling the scree-plot, 150 components seems about optimal\n",
    "best_n_comps = 150"
   ]
  },
  {
   "cell_type": "code",
   "execution_count": 29,
   "id": "cfe7f559",
   "metadata": {
    "execution": {
     "iopub.execute_input": "2023-10-09T10:46:21.989592Z",
     "iopub.status.busy": "2023-10-09T10:46:21.988019Z",
     "iopub.status.idle": "2023-10-09T10:46:22.023422Z",
     "shell.execute_reply": "2023-10-09T10:46:22.021660Z"
    },
    "papermill": {
     "duration": 0.06795,
     "end_time": "2023-10-09T10:46:22.025780",
     "exception": false,
     "start_time": "2023-10-09T10:46:21.957830",
     "status": "completed"
    },
    "tags": []
   },
   "outputs": [
    {
     "name": "stdout",
     "output_type": "stream",
     "text": [
      "Created 'dat_pca'"
     ]
    },
    {
     "data": {
      "text/html": [
       "<style>\n",
       ".list-inline {list-style: none; margin:0; padding: 0}\n",
       ".list-inline>li {display: inline-block}\n",
       ".list-inline>li:not(:last-child)::after {content: \"\\00b7\"; padding: 0 .5ex}\n",
       "</style>\n",
       "<ol class=list-inline><li>1000</li><li>151</li></ol>\n"
      ],
      "text/latex": [
       "\\begin{enumerate*}\n",
       "\\item 1000\n",
       "\\item 151\n",
       "\\end{enumerate*}\n"
      ],
      "text/markdown": [
       "1. 1000\n",
       "2. 151\n",
       "\n",
       "\n"
      ],
      "text/plain": [
       "[1] 1000  151"
      ]
     },
     "metadata": {},
     "output_type": "display_data"
    }
   ],
   "source": [
    "## Block 6\n",
    "# Create the final data frame used for doing the PCR\n",
    "dat_pca = pca_result$x[, 1:best_n_comps] %>%\n",
    "    as.data.frame() %>%\n",
    "    mutate(y = y2) %>%\n",
    "    select(y, everything())\n",
    "\n",
    "cat(\"Created 'dat_pca'\")\n",
    "dim(dat_pca)"
   ]
  },
  {
   "cell_type": "markdown",
   "id": "2d3fb501",
   "metadata": {
    "papermill": {
     "duration": 0.028262,
     "end_time": "2023-10-09T10:46:22.082519",
     "exception": false,
     "start_time": "2023-10-09T10:46:22.054257",
     "status": "completed"
    },
    "tags": []
   },
   "source": [
    "Now that the data frame has been prepared, the PCR analysis can be done. 5-folds cross-validation is employed to estimate test performance."
   ]
  },
  {
   "cell_type": "code",
   "execution_count": 30,
   "id": "0f1666f4",
   "metadata": {
    "execution": {
     "iopub.execute_input": "2023-10-09T10:46:22.142291Z",
     "iopub.status.busy": "2023-10-09T10:46:22.140751Z",
     "iopub.status.idle": "2023-10-09T10:46:23.389069Z",
     "shell.execute_reply": "2023-10-09T10:46:23.384335Z"
    },
    "papermill": {
     "duration": 1.28266,
     "end_time": "2023-10-09T10:46:23.393200",
     "exception": false,
     "start_time": "2023-10-09T10:46:22.110540",
     "status": "completed"
    },
    "tags": []
   },
   "outputs": [
    {
     "name": "stderr",
     "output_type": "stream",
     "text": [
      "Warning message:\n",
      "“glm.fit: fitted probabilities numerically 0 or 1 occurred”\n",
      "Warning message:\n",
      "“glm.fit: fitted probabilities numerically 0 or 1 occurred”\n",
      "Warning message:\n",
      "“glm.fit: fitted probabilities numerically 0 or 1 occurred”\n"
     ]
    },
    {
     "name": "stdout",
     "output_type": "stream",
     "text": [
      "Succesfully performed PCR"
     ]
    }
   ],
   "source": [
    "## Block 7\n",
    "# Do a principal component regression (PRC) on the  previously extracted principal \n",
    "# component scores. In this case, a logistic regression is performed.\n",
    "\n",
    "# Create the cross-validation controller\n",
    "ctrl = trainControl(\n",
    "  method = \"cv\", \n",
    "  number = 5,\n",
    "  summaryFunction = twoClassSummary,  # Required twoClassSummary for AUC\n",
    "  classProbs = TRUE  # Required for ROC calculation\n",
    "  )\n",
    "\n",
    "# Do the PCR\n",
    "pcr_result = train(y ~ ., \n",
    "                    data = dat_pca, \n",
    "                    method = \"glm\", \n",
    "                    trControl = ctrl,\n",
    "                    metric = \"ROC\")\n",
    "\n",
    "cat(\"Succesfully performed PCR\")"
   ]
  },
  {
   "cell_type": "markdown",
   "id": "a1a8317e",
   "metadata": {
    "papermill": {
     "duration": 0.041809,
     "end_time": "2023-10-09T10:46:23.492373",
     "exception": false,
     "start_time": "2023-10-09T10:46:23.450564",
     "status": "completed"
    },
    "tags": []
   },
   "source": [
    "### 5.1.2. Partial Least Squares (PLS)"
   ]
  },
  {
   "cell_type": "markdown",
   "id": "57572aa0",
   "metadata": {
    "papermill": {
     "duration": 0.02823,
     "end_time": "2023-10-09T10:46:23.549230",
     "exception": false,
     "start_time": "2023-10-09T10:46:23.521000",
     "status": "completed"
    },
    "tags": []
   },
   "source": [
    "Partial least squares (PLS) is similar to principal component regression, as it performs regression on a set of principal components, which are a linear transformation of the original data. However unlike PCR, PLS is supervised, and attempts to obtain principal components in such a way that the relation to the outcome variable of interest is preserved.\n",
    "\n",
    "Block 1 constructs the data frame used in the analysis."
   ]
  },
  {
   "cell_type": "code",
   "execution_count": 31,
   "id": "d8b3f9eb",
   "metadata": {
    "execution": {
     "iopub.execute_input": "2023-10-09T10:46:23.609308Z",
     "iopub.status.busy": "2023-10-09T10:46:23.607757Z",
     "iopub.status.idle": "2023-10-09T10:46:23.680603Z",
     "shell.execute_reply": "2023-10-09T10:46:23.678427Z"
    },
    "papermill": {
     "duration": 0.10607,
     "end_time": "2023-10-09T10:46:23.683578",
     "exception": false,
     "start_time": "2023-10-09T10:46:23.577508",
     "status": "completed"
    },
    "tags": []
   },
   "outputs": [
    {
     "name": "stdout",
     "output_type": "stream",
     "text": [
      "Created 'dat'"
     ]
    },
    {
     "data": {
      "text/html": [
       "<style>\n",
       ".list-inline {list-style: none; margin:0; padding: 0}\n",
       ".list-inline>li {display: inline-block}\n",
       ".list-inline>li:not(:last-child)::after {content: \"\\00b7\"; padding: 0 .5ex}\n",
       "</style>\n",
       "<ol class=list-inline><li>1000</li><li>346</li></ol>\n"
      ],
      "text/latex": [
       "\\begin{enumerate*}\n",
       "\\item 1000\n",
       "\\item 346\n",
       "\\end{enumerate*}\n"
      ],
      "text/markdown": [
       "1. 1000\n",
       "2. 346\n",
       "\n",
       "\n"
      ],
      "text/plain": [
       "[1] 1000  346"
      ]
     },
     "metadata": {},
     "output_type": "display_data"
    }
   ],
   "source": [
    "### Block 1\n",
    "## Having previously created X and y2\n",
    "\n",
    "# plsr() requires the response variable to be numeric\n",
    "y_to_binary = Vectorize(function(x) {\n",
    "    if (is.na(x))\n",
    "        return(NA)\n",
    "    if (x == \"satisfied\")\n",
    "        return(1)\n",
    "    if (x == \"dissatisfied\")\n",
    "        return(0)\n",
    "})\n",
    "\n",
    "y2 = y_to_binary(y2)\n",
    "\n",
    "# Create the final data frame used for PLS\n",
    "dat <- X %>%\n",
    "    as(\"matrix\") %>%\n",
    "    as.data.frame() %>%\n",
    "    mutate(y = y2) %>%\n",
    "    select(y, everything())\n",
    "\n",
    "cat(\"Created 'dat'\")\n",
    "dim(dat)"
   ]
  },
  {
   "cell_type": "markdown",
   "id": "c7ae257d",
   "metadata": {
    "papermill": {
     "duration": 0.029209,
     "end_time": "2023-10-09T10:46:23.741534",
     "exception": false,
     "start_time": "2023-10-09T10:46:23.712325",
     "status": "completed"
    },
    "tags": []
   },
   "source": [
    "With the data frame prepared, the PLS can be done. Again, data is standardized when doing the analysis. Cross-validation is employed to estimate the model's test performance."
   ]
  },
  {
   "cell_type": "code",
   "execution_count": 32,
   "id": "195f8a22",
   "metadata": {
    "execution": {
     "iopub.execute_input": "2023-10-09T10:46:23.802481Z",
     "iopub.status.busy": "2023-10-09T10:46:23.800932Z",
     "iopub.status.idle": "2023-10-09T10:46:39.433600Z",
     "shell.execute_reply": "2023-10-09T10:46:39.430221Z"
    },
    "papermill": {
     "duration": 15.666685,
     "end_time": "2023-10-09T10:46:39.437265",
     "exception": false,
     "start_time": "2023-10-09T10:46:23.770580",
     "status": "completed"
    },
    "tags": []
   },
   "outputs": [
    {
     "name": "stdout",
     "output_type": "stream",
     "text": [
      "Succesfully performed PLS"
     ]
    }
   ],
   "source": [
    "## Block 2\n",
    "# Perform a partial least squares (PLS) regression\n",
    "pls_fit = plsr(y ~ ., data = dat, scale = TRUE , validation = \"CV\")\n",
    "\n",
    "cat(\"Succesfully performed PLS\")\n",
    "\n",
    "# Report the result. Will show training and testing performance \n",
    "# for a range of components that were considered.\n",
    "#summary(pls_fit) # Commented out because the output is too lengthy\n",
    "\n",
    "# Report the result. Plot the mean squared error of prediction (MSEP)\n",
    "# as a function of the number of components\n",
    "#validationplot(pls_fit , val.type = \"MSEP\")"
   ]
  },
  {
   "cell_type": "markdown",
   "id": "8c4144e8",
   "metadata": {
    "papermill": {
     "duration": 0.049967,
     "end_time": "2023-10-09T10:46:39.542976",
     "exception": false,
     "start_time": "2023-10-09T10:46:39.493009",
     "status": "completed"
    },
    "tags": []
   },
   "source": [
    "The optimal number of components was chosen based on the prediction residual sum of squares (PRESS). Lower PRESS values indicate better performance. Up to 300 components, the PRESS metric was virtually a flat line on the graph, after which it increased sharply. Not wanting to be overly conservative by selecting fewer than ten components, the largest span of components at negligible cost in PRESS was chosen. Hence, 300 components was deemed optimal."
   ]
  },
  {
   "cell_type": "code",
   "execution_count": 33,
   "id": "46f8793d",
   "metadata": {
    "execution": {
     "iopub.execute_input": "2023-10-09T10:46:39.604460Z",
     "iopub.status.busy": "2023-10-09T10:46:39.603015Z",
     "iopub.status.idle": "2023-10-09T10:46:39.902036Z",
     "shell.execute_reply": "2023-10-09T10:46:39.900129Z"
    },
    "papermill": {
     "duration": 0.331776,
     "end_time": "2023-10-09T10:46:39.904287",
     "exception": false,
     "start_time": "2023-10-09T10:46:39.572511",
     "status": "completed"
    },
    "tags": []
   },
   "outputs": [
    {
     "data": {
      "text/html": [
       "<table class=\"dataframe\">\n",
       "<caption>A tibble: 6 × 2</caption>\n",
       "<thead>\n",
       "\t<tr><th scope=col>n_components</th><th scope=col>pred_sum_sq</th></tr>\n",
       "\t<tr><th scope=col>&lt;dbl&gt;</th><th scope=col>&lt;dbl&gt;</th></tr>\n",
       "</thead>\n",
       "<tbody>\n",
       "\t<tr><td>2</td><td>149.6003</td></tr>\n",
       "\t<tr><td>3</td><td>150.9630</td></tr>\n",
       "\t<tr><td>1</td><td>153.7683</td></tr>\n",
       "\t<tr><td>4</td><td>161.0406</td></tr>\n",
       "\t<tr><td>5</td><td>171.3584</td></tr>\n",
       "\t<tr><td>6</td><td>178.5002</td></tr>\n",
       "</tbody>\n",
       "</table>\n"
      ],
      "text/latex": [
       "A tibble: 6 × 2\n",
       "\\begin{tabular}{ll}\n",
       " n\\_components & pred\\_sum\\_sq\\\\\n",
       " <dbl> & <dbl>\\\\\n",
       "\\hline\n",
       "\t 2 & 149.6003\\\\\n",
       "\t 3 & 150.9630\\\\\n",
       "\t 1 & 153.7683\\\\\n",
       "\t 4 & 161.0406\\\\\n",
       "\t 5 & 171.3584\\\\\n",
       "\t 6 & 178.5002\\\\\n",
       "\\end{tabular}\n"
      ],
      "text/markdown": [
       "\n",
       "A tibble: 6 × 2\n",
       "\n",
       "| n_components &lt;dbl&gt; | pred_sum_sq &lt;dbl&gt; |\n",
       "|---|---|\n",
       "| 2 | 149.6003 |\n",
       "| 3 | 150.9630 |\n",
       "| 1 | 153.7683 |\n",
       "| 4 | 161.0406 |\n",
       "| 5 | 171.3584 |\n",
       "| 6 | 178.5002 |\n",
       "\n"
      ],
      "text/plain": [
       "  n_components pred_sum_sq\n",
       "1 2            149.6003   \n",
       "2 3            150.9630   \n",
       "3 1            153.7683   \n",
       "4 4            161.0406   \n",
       "5 5            171.3584   \n",
       "6 6            178.5002   "
      ]
     },
     "metadata": {},
     "output_type": "display_data"
    },
    {
     "name": "stdout",
     "output_type": "stream",
     "text": [
      "Best number of components = 300\n",
      "\n"
     ]
    },
    {
     "data": {
      "image/png": "[encoded data removed]"
     },
     "metadata": {
      "image/png": {
       "height": 420,
       "width": 420
      }
     },
     "output_type": "display_data"
    }
   ],
   "source": [
    "## Block 3\n",
    "# Create a data frame which can be used to\n",
    "# programmatically select the optimal number of components,\n",
    "# then select the optimal number of components.\n",
    "# Note. PRESS stands for 'prediction residual sum of squares'\n",
    "\n",
    "pls_cv_result <- pls_fit$validation$PRESS %>% \n",
    "  t() %>% \n",
    "  as.data.frame()\n",
    "\n",
    "pls_cv_result <- pls_cv_result %>%\n",
    "  mutate(\n",
    "    n_components = row.names(pls_cv_result),\n",
    "    n_components = str_replace(n_components, \" comps\", \"\"),\n",
    "    n_components = as.numeric(n_components)\n",
    "  ) %>%\n",
    "  select(n_components, y) %>% # Rearrange column order\n",
    "  rename(pred_sum_sq = y) %>%\n",
    "  as_tibble() %>% \n",
    "  arrange(pred_sum_sq)\n",
    "\n",
    "# Report the result (it mirrors the output from the previous summary, \n",
    "# but arranged by best components)\n",
    "pls_cv_result %>% head()\n",
    "\n",
    "best_n_comp <- 300\n",
    "\n",
    "# Report result\n",
    "cat(sprintf(\"Best number of components = %s\\n\\n\", best_n_comp))\n",
    "\n",
    "# Visualize result\n",
    "ggplot(pls_cv_result, aes(x = n_components, y = pred_sum_sq)) +\n",
    "    geom_line() +\n",
    "    labs(\n",
    "        x = \"Number of Components\", \n",
    "        y = \"PRESS\", \n",
    "        title = \"PLS' PRESS per Number of Components\"\n",
    "    )"
   ]
  },
  {
   "cell_type": "markdown",
   "id": "dd0e4b85",
   "metadata": {
    "papermill": {
     "duration": 0.029277,
     "end_time": "2023-10-09T10:46:39.963782",
     "exception": false,
     "start_time": "2023-10-09T10:46:39.934505",
     "status": "completed"
    },
    "tags": []
   },
   "source": [
    "### 5.1.3. Lasso Regression"
   ]
  },
  {
   "cell_type": "markdown",
   "id": "a3499a39",
   "metadata": {
    "papermill": {
     "duration": 0.030232,
     "end_time": "2023-10-09T10:46:40.023277",
     "exception": false,
     "start_time": "2023-10-09T10:46:39.993045",
     "status": "completed"
    },
    "tags": []
   },
   "source": [
    "In the next step, we fit a cross-validated Lasso Regression. The Lasso Regression prevents overfitting to the training data by surpressing large coefficients. To estimate the optimal value of the surpressor lambda, we perform cross-validated feature tuning using 'cv.glmnet'. In line with the evaluation criteria, we specify the AUC as our tuning criterion. To keep the runtime low, we use five folds for cross validation, test only 40 different lambdas, and use all four available CPU cores. We standardise our predictor variables to avoid a disproportional surpression depending on the scale of each feature.\n",
    "\n",
    "* **family = binomial** --> binary target variable (i.e., satisfied/dissatisfied)\n",
    "\n",
    "* **standardise = TRUE** --> x variable standardization prior to fitting the model sequence\n",
    "\n",
    "* **alpha = 1** --> usage of lasso regression\n",
    "\n",
    "* **parallel = TRUE** --> multiple CPU cores to speed up the cross-validation process\n",
    "\n",
    "* **type.measure = 'auc'** --> AUC as a performance measure for CV\n",
    "\n",
    "* **nfold = 5** --> 5 folds for CV"
   ]
  },
  {
   "cell_type": "code",
   "execution_count": 34,
   "id": "0a9e8d37",
   "metadata": {
    "execution": {
     "iopub.execute_input": "2023-10-09T10:46:40.086000Z",
     "iopub.status.busy": "2023-10-09T10:46:40.084286Z",
     "iopub.status.idle": "2023-10-09T10:46:59.070276Z",
     "shell.execute_reply": "2023-10-09T10:46:59.067962Z"
    },
    "papermill": {
     "duration": 19.020908,
     "end_time": "2023-10-09T10:46:59.073695",
     "exception": false,
     "start_time": "2023-10-09T10:46:40.052787",
     "status": "completed"
    },
    "tags": []
   },
   "outputs": [
    {
     "name": "stderr",
     "output_type": "stream",
     "text": [
      "Loading required package: Matrix\n",
      "\n",
      "\n",
      "Attaching package: ‘Matrix’\n",
      "\n",
      "\n",
      "The following objects are masked from ‘package:tidyr’:\n",
      "\n",
      "    expand, pack, unpack\n",
      "\n",
      "\n",
      "Loaded glmnet 4.1-7\n",
      "\n"
     ]
    }
   ],
   "source": [
    "# Use four cores\n",
    "doMC::registerDoMC(cores = 4) \n",
    "\n",
    "# Find optimal lambda using cross validation\n",
    "cv_fitlasso = glmnet::cv.glmnet(train_sparse,\n",
    "                                y,\n",
    "                                alpha=1,\n",
    "                                nlambda=40,\n",
    "                                family=\"binomial\",\n",
    "                                type.measure=\"auc\",\n",
    "                                nfolds=5,\n",
    "                                parallel=TRUE)"
   ]
  },
  {
   "cell_type": "markdown",
   "id": "6d032d31",
   "metadata": {
    "papermill": {
     "duration": 0.029215,
     "end_time": "2023-10-09T10:46:59.132984",
     "exception": false,
     "start_time": "2023-10-09T10:46:59.103769",
     "status": "completed"
    },
    "tags": []
   },
   "source": [
    "Below, we visualise how the AUC of the model changes depending on lambda. A lambda of around 0.011 seems optimal resulting in an auc of 0.88."
   ]
  },
  {
   "cell_type": "code",
   "execution_count": 35,
   "id": "b4ca1b25",
   "metadata": {
    "execution": {
     "iopub.execute_input": "2023-10-09T10:46:59.197367Z",
     "iopub.status.busy": "2023-10-09T10:46:59.195558Z",
     "iopub.status.idle": "2023-10-09T10:46:59.322518Z",
     "shell.execute_reply": "2023-10-09T10:46:59.319643Z"
    },
    "papermill": {
     "duration": 0.162433,
     "end_time": "2023-10-09T10:46:59.325696",
     "exception": false,
     "start_time": "2023-10-09T10:46:59.163263",
     "status": "completed"
    },
    "tags": []
   },
   "outputs": [
    {
     "data": {
      "text/html": [
       "0.00431410963901474"
      ],
      "text/latex": [
       "0.00431410963901474"
      ],
      "text/markdown": [
       "0.00431410963901474"
      ],
      "text/plain": [
       "[1] 0.00431411"
      ]
     },
     "metadata": {},
     "output_type": "display_data"
    },
    {
     "data": {
      "text/html": [
       "0.900718270760191"
      ],
      "text/latex": [
       "0.900718270760191"
      ],
      "text/markdown": [
       "0.900718270760191"
      ],
      "text/plain": [
       "[1] 0.9007183"
      ]
     },
     "metadata": {},
     "output_type": "display_data"
    },
    {
     "data": {
      "image/png": "[encoded data removed]"
     },
     "metadata": {
      "image/png": {
       "height": 420,
       "width": 420
      }
     },
     "output_type": "display_data"
    }
   ],
   "source": [
    "# Lambda with largest auc\n",
    "cv_fitlasso$lambda.min\n",
    "# AUC with optimal lambda\n",
    "max(cv_fitlasso$cvm)\n",
    "\n",
    "# Plot AUC against lambda\n",
    "plot(cv_fitlasso)"
   ]
  },
  {
   "cell_type": "markdown",
   "id": "2f2d4c99",
   "metadata": {
    "papermill": {
     "duration": 0.030808,
     "end_time": "2023-10-09T10:46:59.390087",
     "exception": false,
     "start_time": "2023-10-09T10:46:59.359279",
     "status": "completed"
    },
    "tags": []
   },
   "source": [
    "### 5.1.4. Ridge Regression"
   ]
  },
  {
   "cell_type": "markdown",
   "id": "6ff81f9e",
   "metadata": {
    "papermill": {
     "duration": 0.067421,
     "end_time": "2023-10-09T10:46:59.488391",
     "exception": false,
     "start_time": "2023-10-09T10:46:59.420970",
     "status": "completed"
    },
    "tags": []
   },
   "source": [
    "To run a Ridge Regression, we can use our ratings data frame from the lasso regression. The function and the rationale for the different paramters is mostly the same. We force cv.glmnet to use a pure Ridge by specifying alpha=0. \n",
    "\n",
    "* **family = binomial** --> binary target variable\n",
    "\n",
    "* **standardise = TRUE** --> x variable standardization prior to fitting the model sequence\n",
    "\n",
    "* **alpha = 0** --> usage of ridge regression\n",
    "\n",
    "* **parallel = TRUE** --> multiple CPU cores to speed up the cross-validation process\n",
    "\n",
    "* **type.measure = 'auc'** --> AUC as a performance measure for CV\n",
    "\n",
    "* **nfold = 5** --> 5 folds for CV"
   ]
  },
  {
   "cell_type": "code",
   "execution_count": 36,
   "id": "8efe29e2",
   "metadata": {
    "execution": {
     "iopub.execute_input": "2023-10-09T10:46:59.553104Z",
     "iopub.status.busy": "2023-10-09T10:46:59.551354Z",
     "iopub.status.idle": "2023-10-09T10:47:33.029887Z",
     "shell.execute_reply": "2023-10-09T10:47:33.027259Z"
    },
    "papermill": {
     "duration": 33.514966,
     "end_time": "2023-10-09T10:47:33.033900",
     "exception": false,
     "start_time": "2023-10-09T10:46:59.518934",
     "status": "completed"
    },
    "tags": []
   },
   "outputs": [],
   "source": [
    "# Find optimal lambda using cross validation\n",
    "cv_fitridge = glmnet::cv.glmnet(train_sparse,\n",
    "                                y,\n",
    "                                alpha=0,\n",
    "                                nlambda=40,\n",
    "                                family=\"binomial\",\n",
    "                                type.measure=\"auc\",\n",
    "                                nfolds=5,\n",
    "                                parallel=TRUE)"
   ]
  },
  {
   "cell_type": "markdown",
   "id": "e37b9814",
   "metadata": {
    "papermill": {
     "duration": 0.030503,
     "end_time": "2023-10-09T10:47:33.097110",
     "exception": false,
     "start_time": "2023-10-09T10:47:33.066607",
     "status": "completed"
    },
    "tags": []
   },
   "source": [
    "Below, we visualise how the AUC of the model changes depending on lambda. A lambda of around 1.44 seems optimal resulting in an auc of 0.836."
   ]
  },
  {
   "cell_type": "code",
   "execution_count": 37,
   "id": "aeb27184",
   "metadata": {
    "execution": {
     "iopub.execute_input": "2023-10-09T10:47:33.162772Z",
     "iopub.status.busy": "2023-10-09T10:47:33.160856Z",
     "iopub.status.idle": "2023-10-09T10:47:33.269784Z",
     "shell.execute_reply": "2023-10-09T10:47:33.266537Z"
    },
    "papermill": {
     "duration": 0.145321,
     "end_time": "2023-10-09T10:47:33.273005",
     "exception": false,
     "start_time": "2023-10-09T10:47:33.127684",
     "status": "completed"
    },
    "tags": []
   },
   "outputs": [
    {
     "data": {
      "text/html": [
       "1.88762977473268"
      ],
      "text/latex": [
       "1.88762977473268"
      ],
      "text/markdown": [
       "1.88762977473268"
      ],
      "text/plain": [
       "[1] 1.88763"
      ]
     },
     "metadata": {},
     "output_type": "display_data"
    },
    {
     "data": {
      "text/html": [
       "0.877840976502612"
      ],
      "text/latex": [
       "0.877840976502612"
      ],
      "text/markdown": [
       "0.877840976502612"
      ],
      "text/plain": [
       "[1] 0.877841"
      ]
     },
     "metadata": {},
     "output_type": "display_data"
    },
    {
     "data": {
      "image/png": "[encoded data removed]"
     },
     "metadata": {
      "image/png": {
       "height": 420,
       "width": 420
      }
     },
     "output_type": "display_data"
    }
   ],
   "source": [
    "# Lambda with largest auc\n",
    "cv_fitridge$lambda.min\n",
    "\n",
    "# AUC with optimal lambda\n",
    "max(cv_fitridge$cvm)\n",
    "\n",
    "# Plot AUC against lambda\n",
    "plot(cv_fitridge)"
   ]
  },
  {
   "cell_type": "markdown",
   "id": "0dfa4202",
   "metadata": {
    "papermill": {
     "duration": 0.031555,
     "end_time": "2023-10-09T10:47:33.336716",
     "exception": false,
     "start_time": "2023-10-09T10:47:33.305161",
     "status": "completed"
    },
    "tags": []
   },
   "source": [
    "### 5.1.5. Smoothing"
   ]
  },
  {
   "cell_type": "markdown",
   "id": "86fc68fa",
   "metadata": {
    "papermill": {
     "duration": 0.032154,
     "end_time": "2023-10-09T10:47:33.400028",
     "exception": false,
     "start_time": "2023-10-09T10:47:33.367874",
     "status": "completed"
    },
    "tags": []
   },
   "source": [
    "When dealing with high-dimensional text data, the use of splines can pose certain challenges. Splines are a regression technique that involves placing breakpoints (knots) to capture nonlinear relationships in data. However, when applied to text data with a large vocabulary of terms, the feature space becomes high-dimensional, which can lead to several issues.\n",
    "\n",
    "In high-dimensional spaces, splines would require a substantial number of knots to effectively capture the nonlinearity in the data. This can result in a model that is prone to overfitting, where it fits the noise in the data rather than the underlying patterns. Moreover, the computational demands of fitting splines with numerous knots in such high-dimensional spaces can be quite substantial.\n",
    "\n",
    "Text data is often represented as a Document-Term Matrix (DTM) or Term-Document Matrix (TDM), which are typically sparse. These matrices have many zero values because most terms do not appear in every document. Splines are not well-suited to handle the sparsity and discrete nature of such data effectively.\n",
    "\n",
    "In contrast, techniques like Lasso and Ridge regression use regularization parameters (lambda) to select and shrink coefficients, effectively performing feature selection and reducing the dimensionality of the problem before fitting the model. Similarly, Principal Component Regression (PCR) and Partial Least Squares (PLS) also perform feature selection or dimensionality reduction before fitting the regression model.\n",
    "\n",
    "Splines, on the other hand, do not perform such feature selection or dimensionality reduction. Instead, they attempt to fit a regression function at all data points, which can be computationally intensive and impractical in the case of sparse text data matrices."
   ]
  },
  {
   "cell_type": "markdown",
   "id": "106a6ee7",
   "metadata": {
    "papermill": {
     "duration": 0.031434,
     "end_time": "2023-10-09T10:47:33.462755",
     "exception": false,
     "start_time": "2023-10-09T10:47:33.431321",
     "status": "completed"
    },
    "tags": []
   },
   "source": [
    "## 5.2 Model evaluation\n",
    "\n",
    "The following metrics are used to evaluate the performance of the models:\n",
    "* Accuracy\n",
    "* AUC value\n",
    "* Sensitivity\n",
    "* Specificity"
   ]
  },
  {
   "cell_type": "markdown",
   "id": "a9fe0fc1",
   "metadata": {
    "papermill": {
     "duration": 0.03135,
     "end_time": "2023-10-09T10:47:33.525404",
     "exception": false,
     "start_time": "2023-10-09T10:47:33.494054",
     "status": "completed"
    },
    "tags": []
   },
   "source": [
    "### 5.2.1 Principal Component Regression evaluation"
   ]
  },
  {
   "cell_type": "markdown",
   "id": "39d24ef7",
   "metadata": {
    "papermill": {
     "duration": 0.031524,
     "end_time": "2023-10-09T10:47:33.588919",
     "exception": false,
     "start_time": "2023-10-09T10:47:33.557395",
     "status": "completed"
    },
    "tags": []
   },
   "source": [
    "Evaluating the model, its performance is quite decent with an AUC above 0.8."
   ]
  },
  {
   "cell_type": "code",
   "execution_count": 38,
   "id": "1b1ef163",
   "metadata": {
    "execution": {
     "iopub.execute_input": "2023-10-09T10:47:33.655996Z",
     "iopub.status.busy": "2023-10-09T10:47:33.654023Z",
     "iopub.status.idle": "2023-10-09T10:47:34.040824Z",
     "shell.execute_reply": "2023-10-09T10:47:34.037173Z"
    },
    "papermill": {
     "duration": 0.423942,
     "end_time": "2023-10-09T10:47:34.044261",
     "exception": false,
     "start_time": "2023-10-09T10:47:33.620319",
     "status": "completed"
    },
    "tags": []
   },
   "outputs": [
    {
     "name": "stderr",
     "output_type": "stream",
     "text": [
      "Setting levels: control = 0, case = 1\n",
      "\n",
      "Setting direction: controls < cases\n",
      "\n"
     ]
    },
    {
     "name": "stdout",
     "output_type": "stream",
     "text": [
      "PCR's AUC: 0.914\n",
      "\n"
     ]
    },
    {
     "data": {
      "image/png": "[encoded data removed]"
     },
     "metadata": {
      "image/png": {
       "height": 420,
       "width": 420
      }
     },
     "output_type": "display_data"
    }
   ],
   "source": [
    "# Model evaluation\n",
    "\n",
    "best_model = pcr_result$finalModel\n",
    "predictions = predict(best_model, newdata = dat_pca, type = \"response\")\n",
    "pcr_roc = pROC::roc(response = y2, predictor = predictions)\n",
    "pcr_auc = round(pROC::auc(pcr_roc), 3)\n",
    "\n",
    "# Report the performance\n",
    "cat(sprintf(\"PCR's AUC: %s\\n\\n\", pcr_auc))\n",
    "\n",
    "# Visualize the performance\n",
    "ggplot(tibble(x = factor(\"PCR\"), y = pcr_auc), aes(x = x, y = y, label = y)) +\n",
    "    geom_col(fill = \"steelblue\", width = .25) +\n",
    "    geom_text(hjust = 1.5, size = 6, color = \"white\") +\n",
    "    ylim(0, 1) +\n",
    "    labs(x = \"Model\", y = \"AUC\", title = \"PCR Performance\") +\n",
    "    coord_flip()"
   ]
  },
  {
   "cell_type": "markdown",
   "id": "47eedad2",
   "metadata": {
    "papermill": {
     "duration": 0.034024,
     "end_time": "2023-10-09T10:47:34.111113",
     "exception": false,
     "start_time": "2023-10-09T10:47:34.077089",
     "status": "completed"
    },
    "tags": []
   },
   "source": [
    "### 5.2.2 Least Partial Squares evaluation"
   ]
  },
  {
   "cell_type": "markdown",
   "id": "7bc04e45",
   "metadata": {
    "papermill": {
     "duration": 0.032013,
     "end_time": "2023-10-09T10:47:34.176014",
     "exception": false,
     "start_time": "2023-10-09T10:47:34.144001",
     "status": "completed"
    },
    "tags": []
   },
   "source": [
    "Assessing the model's performance, PLS did worse than PCR in terms of AUC."
   ]
  },
  {
   "cell_type": "code",
   "execution_count": 39,
   "id": "d64d7f96",
   "metadata": {
    "execution": {
     "iopub.execute_input": "2023-10-09T10:47:34.244323Z",
     "iopub.status.busy": "2023-10-09T10:47:34.242216Z",
     "iopub.status.idle": "2023-10-09T10:47:34.707018Z",
     "shell.execute_reply": "2023-10-09T10:47:34.704248Z"
    },
    "papermill": {
     "duration": 0.502406,
     "end_time": "2023-10-09T10:47:34.710248",
     "exception": false,
     "start_time": "2023-10-09T10:47:34.207842",
     "status": "completed"
    },
    "tags": []
   },
   "outputs": [
    {
     "name": "stderr",
     "output_type": "stream",
     "text": [
      "Setting levels: control = 0, case = 1\n",
      "\n",
      "Setting direction: controls < cases\n",
      "\n"
     ]
    },
    {
     "name": "stdout",
     "output_type": "stream",
     "text": [
      "PLS' AUC with 300 component(s) = 0.801062829671412"
     ]
    },
    {
     "data": {
      "image/png": "[encoded data removed]"
     },
     "metadata": {
      "image/png": {
       "height": 420,
       "width": 420
      }
     },
     "output_type": "display_data"
    }
   ],
   "source": [
    "## BLOCK 4\n",
    "# Assess model performance via AUC\n",
    "pls_predictions = predict(pls_fit, dat, ncomp = best_n_comp)\n",
    "# 1 codes for \"satisfied\", 0 for \"dissatisfied\"\n",
    "pls_predictions = ifelse(pls_predictions > .5, 1, 0) \n",
    "\n",
    "\n",
    "pls_roc = pROC::roc(y2, pls_predictions)\n",
    "pls_auc = pROC::auc(pls_roc)\n",
    "\n",
    "# Report the performance\n",
    "cat(sprintf(\"PLS' AUC with %s component(s) = %s\", best_n_comp, pls_auc))\n",
    "\n",
    "# Visualize the performance\n",
    "aucs = c(pls_auc, pcr_auc) %>% round(3)\n",
    "model_names = factor(c(\"PLS\", \"PCR\"))\n",
    "                      \n",
    "ggplot(tibble(x = model_names, y = aucs), \n",
    "        aes(x = x, y = y, label = y)\n",
    "    ) +\n",
    "    geom_col(fill = \"steelblue\", width = .5) +\n",
    "    geom_text(hjust = 1.5, size = 6, color = \"white\") +\n",
    "    ylim(0, 1) +\n",
    "    labs(x = \"Model\", y = \"AUC\", title = \"Model Performance\") +\n",
    "    coord_flip()"
   ]
  },
  {
   "cell_type": "markdown",
   "id": "521d55d8",
   "metadata": {
    "papermill": {
     "duration": 0.032524,
     "end_time": "2023-10-09T10:47:34.776303",
     "exception": false,
     "start_time": "2023-10-09T10:47:34.743779",
     "status": "completed"
    },
    "tags": []
   },
   "source": [
    "### 5.2.3 Lasso evaluation"
   ]
  },
  {
   "cell_type": "markdown",
   "id": "d1331601",
   "metadata": {
    "papermill": {
     "duration": 0.032667,
     "end_time": "2023-10-09T10:47:34.841344",
     "exception": false,
     "start_time": "2023-10-09T10:47:34.808677",
     "status": "completed"
    },
    "tags": []
   },
   "source": [
    "To evaluate the performance of our Lasso model, we calculate the accuracy, AUC, sensitivity, and specificity of the model on our training data."
   ]
  },
  {
   "cell_type": "code",
   "execution_count": 40,
   "id": "d603c780",
   "metadata": {
    "execution": {
     "iopub.execute_input": "2023-10-09T10:47:34.910085Z",
     "iopub.status.busy": "2023-10-09T10:47:34.908259Z",
     "iopub.status.idle": "2023-10-09T10:47:35.053316Z",
     "shell.execute_reply": "2023-10-09T10:47:35.050836Z"
    },
    "papermill": {
     "duration": 0.181901,
     "end_time": "2023-10-09T10:47:35.055818",
     "exception": false,
     "start_time": "2023-10-09T10:47:34.873917",
     "status": "completed"
    },
    "tags": []
   },
   "outputs": [
    {
     "data": {
      "text/plain": [
       "Confusion Matrix and Statistics\n",
       "\n",
       "              Reference\n",
       "Prediction     dissatisfied satisfied\n",
       "  dissatisfied         3027       360\n",
       "  satisfied            1661     14952\n",
       "                                          \n",
       "               Accuracy : 0.899           \n",
       "                 95% CI : (0.8947, 0.9031)\n",
       "    No Information Rate : 0.7656          \n",
       "    P-Value [Acc > NIR] : < 2.2e-16       \n",
       "                                          \n",
       "                  Kappa : 0.6885          \n",
       "                                          \n",
       " Mcnemar's Test P-Value : < 2.2e-16       \n",
       "                                          \n",
       "            Sensitivity : 0.6457          \n",
       "            Specificity : 0.9765          \n",
       "         Pos Pred Value : 0.8937          \n",
       "         Neg Pred Value : 0.9000          \n",
       "             Prevalence : 0.2344          \n",
       "         Detection Rate : 0.1514          \n",
       "   Detection Prevalence : 0.1694          \n",
       "      Balanced Accuracy : 0.8111          \n",
       "                                          \n",
       "       'Positive' Class : dissatisfied    \n",
       "                                          "
      ]
     },
     "metadata": {},
     "output_type": "display_data"
    },
    {
     "name": "stdout",
     "output_type": "stream",
     "text": [
      "\u001b[1mLasso Performances\u001b[22m \n",
      " Accuracy:    0.89895 \n",
      "      AUC:    0.9007183 \n",
      " Sensitivity: 0.6456911 \n",
      " Specificity: 0.976489 \n",
      " Best Lambda: 0.00431411 \n",
      "\n",
      " \u001b[1mRidge Performances\u001b[22m \n"
     ]
    }
   ],
   "source": [
    "# Performance of the CV lasso model on the training set\n",
    "predict_lasso = predict(cv_fitlasso, train_sparse, s = 'lambda.min', type = 'class') %>% \n",
    "    as.factor()\n",
    "\n",
    "# Confusion Matrix\n",
    "Lasso_CM = caret::confusionMatrix(predict_lasso, y)\n",
    "Lasso_CM\n",
    "\n",
    "# Performance evaluations\n",
    "Accuracy_fit_lasso_cv  = mean(predict_lasso == y)\n",
    "AUC_fit_lasso_cv  = max(cv_fitlasso$cvm)\n",
    "Sen_fit_lasso_cv = Lasso_CM$byClass[[\"Sensitivity\"]]\n",
    "Spec_fit_lasso_cv = Lasso_CM$byClass[[\"Specificity\"]]\n",
    "\n",
    "# Print performance criteria\n",
    "cat(crayon::bold(\"Lasso Performances\"), \"\\n\", \n",
    "    \"Accuracy:   \", Accuracy_fit_lasso_cv, \"\\n\", \n",
    "    \"     AUC:   \", AUC_fit_lasso_cv, \"\\n\",\n",
    "    \"Sensitivity:\", Sen_fit_lasso_cv, \"\\n\", \n",
    "    \"Specificity:\", Spec_fit_lasso_cv, \"\\n\",\n",
    "    \"Best Lambda:\", cv_fitlasso$lambda.min, \"\\n\\n\",\n",
    "    crayon::bold(\"Ridge Performances\"), \"\\n\")"
   ]
  },
  {
   "cell_type": "markdown",
   "id": "6182a98a",
   "metadata": {
    "papermill": {
     "duration": 0.033401,
     "end_time": "2023-10-09T10:47:35.122633",
     "exception": false,
     "start_time": "2023-10-09T10:47:35.089232",
     "status": "completed"
    },
    "tags": []
   },
   "source": [
    "### 5.2.4 Ridge evaluation"
   ]
  },
  {
   "cell_type": "markdown",
   "id": "079a9e79",
   "metadata": {
    "papermill": {
     "duration": 0.033295,
     "end_time": "2023-10-09T10:47:35.189097",
     "exception": false,
     "start_time": "2023-10-09T10:47:35.155802",
     "status": "completed"
    },
    "tags": []
   },
   "source": [
    "To evaluate the performance of our Ridge model, we calculate the accuracy, AUC, sensitivity, and specificity of the model on our training data."
   ]
  },
  {
   "cell_type": "code",
   "execution_count": 41,
   "id": "31258809",
   "metadata": {
    "execution": {
     "iopub.execute_input": "2023-10-09T10:47:35.258934Z",
     "iopub.status.busy": "2023-10-09T10:47:35.257290Z",
     "iopub.status.idle": "2023-10-09T10:47:35.397769Z",
     "shell.execute_reply": "2023-10-09T10:47:35.395593Z"
    },
    "papermill": {
     "duration": 0.178265,
     "end_time": "2023-10-09T10:47:35.400235",
     "exception": false,
     "start_time": "2023-10-09T10:47:35.221970",
     "status": "completed"
    },
    "tags": []
   },
   "outputs": [
    {
     "data": {
      "text/plain": [
       "Confusion Matrix and Statistics\n",
       "\n",
       "              Reference\n",
       "Prediction     dissatisfied satisfied\n",
       "  dissatisfied         2800         7\n",
       "  satisfied            1888     15305\n",
       "                                          \n",
       "               Accuracy : 0.9052          \n",
       "                 95% CI : (0.9011, 0.9093)\n",
       "    No Information Rate : 0.7656          \n",
       "    P-Value [Acc > NIR] : < 2.2e-16       \n",
       "                                          \n",
       "                  Kappa : 0.6933          \n",
       "                                          \n",
       " Mcnemar's Test P-Value : < 2.2e-16       \n",
       "                                          \n",
       "            Sensitivity : 0.5973          \n",
       "            Specificity : 0.9995          \n",
       "         Pos Pred Value : 0.9975          \n",
       "         Neg Pred Value : 0.8902          \n",
       "             Prevalence : 0.2344          \n",
       "         Detection Rate : 0.1400          \n",
       "   Detection Prevalence : 0.1404          \n",
       "      Balanced Accuracy : 0.7984          \n",
       "                                          \n",
       "       'Positive' Class : dissatisfied    \n",
       "                                          "
      ]
     },
     "metadata": {},
     "output_type": "display_data"
    },
    {
     "name": "stdout",
     "output_type": "stream",
     "text": [
      "\u001b[1mLasso Performances\u001b[22m \n",
      " \u001b[1mRidge Performances\u001b[22m \n",
      " Accuracy:    0.90525 \n",
      "      AUC:    0.877841 \n",
      " Sensitivity: 0.5972696 \n",
      " Specificity: 0.9995428 \n",
      " Best Lambda: 1.88763 \n"
     ]
    }
   ],
   "source": [
    "# Performance of the cross-validated lasso model on the training set\n",
    "predict_ridge = predict(cv_fitridge, train_sparse, s = 'lambda.min', type = 'class') %>% \n",
    "    as.factor()\n",
    "\n",
    "# Confusion Matrix\n",
    "Ridge_CM = caret::confusionMatrix(predict_ridge, y)\n",
    "Ridge_CM\n",
    "\n",
    "# Performance evaluations that can be plotted for visual inspection\n",
    "Accuracy_fit_ridge_cv  = mean(predict_ridge == y)\n",
    "AUC_fit_ridge_cv  = max(cv_fitridge$cvm)\n",
    "Sen_fit_ridge_cv = Ridge_CM$byClass[[\"Sensitivity\"]]\n",
    "Spec_fit_ridge_cv = Ridge_CM$byClass[[\"Specificity\"]]\n",
    "\n",
    "# Print performance criteria\n",
    "cat(crayon::bold(\"Lasso Performances\"), \"\\n\",\n",
    "    crayon::bold(\"Ridge Performances\"), \"\\n\", \n",
    "    \"Accuracy:   \", Accuracy_fit_ridge_cv, \"\\n\", \n",
    "    \"     AUC:   \", AUC_fit_ridge_cv, \"\\n\",\n",
    "    \"Sensitivity:\", Sen_fit_ridge_cv, \"\\n\", \n",
    "    \"Specificity:\", Spec_fit_ridge_cv, \"\\n\",\n",
    "    \"Best Lambda:\", cv_fitridge$lambda.min, \"\\n\")"
   ]
  },
  {
   "cell_type": "markdown",
   "id": "5b9ae4ec",
   "metadata": {
    "papermill": {
     "duration": 0.034134,
     "end_time": "2023-10-09T10:47:35.468592",
     "exception": false,
     "start_time": "2023-10-09T10:47:35.434458",
     "status": "completed"
    },
    "tags": []
   },
   "source": [
    "### 5.2.5 Model selection\n",
    "\n",
    "Given that the AUC will be the evaluation criterion for our predictions, we used the estimated AUC to select our model."
   ]
  },
  {
   "cell_type": "code",
   "execution_count": 42,
   "id": "3aaee780",
   "metadata": {
    "execution": {
     "iopub.execute_input": "2023-10-09T10:47:35.538099Z",
     "iopub.status.busy": "2023-10-09T10:47:35.536492Z",
     "iopub.status.idle": "2023-10-09T10:47:35.782800Z",
     "shell.execute_reply": "2023-10-09T10:47:35.781126Z"
    },
    "papermill": {
     "duration": 0.283561,
     "end_time": "2023-10-09T10:47:35.784965",
     "exception": false,
     "start_time": "2023-10-09T10:47:35.501404",
     "status": "completed"
    },
    "tags": []
   },
   "outputs": [
    {
     "data": {
      "text/html": [
       "<table class=\"dataframe\">\n",
       "<caption>A data.frame: 4 × 2</caption>\n",
       "<thead>\n",
       "\t<tr><th scope=col>model</th><th scope=col>AUC</th></tr>\n",
       "\t<tr><th scope=col>&lt;chr&gt;</th><th scope=col>&lt;chr&gt;</th></tr>\n",
       "</thead>\n",
       "<tbody>\n",
       "\t<tr><td>PCR  </td><td>0.914            </td></tr>\n",
       "\t<tr><td>PLS  </td><td>0.801062829671412</td></tr>\n",
       "\t<tr><td>Lasso</td><td>0.900718270760191</td></tr>\n",
       "\t<tr><td>Ridge</td><td>0.877840976502612</td></tr>\n",
       "</tbody>\n",
       "</table>\n"
      ],
      "text/latex": [
       "A data.frame: 4 × 2\n",
       "\\begin{tabular}{ll}\n",
       " model & AUC\\\\\n",
       " <chr> & <chr>\\\\\n",
       "\\hline\n",
       "\t PCR   & 0.914            \\\\\n",
       "\t PLS   & 0.801062829671412\\\\\n",
       "\t Lasso & 0.900718270760191\\\\\n",
       "\t Ridge & 0.877840976502612\\\\\n",
       "\\end{tabular}\n"
      ],
      "text/markdown": [
       "\n",
       "A data.frame: 4 × 2\n",
       "\n",
       "| model &lt;chr&gt; | AUC &lt;chr&gt; |\n",
       "|---|---|\n",
       "| PCR   | 0.914             |\n",
       "| PLS   | 0.801062829671412 |\n",
       "| Lasso | 0.900718270760191 |\n",
       "| Ridge | 0.877840976502612 |\n",
       "\n"
      ],
      "text/plain": [
       "  model AUC              \n",
       "1 PCR   0.914            \n",
       "2 PLS   0.801062829671412\n",
       "3 Lasso 0.900718270760191\n",
       "4 Ridge 0.877840976502612"
      ]
     },
     "metadata": {},
     "output_type": "display_data"
    },
    {
     "data": {
      "image/png": "[encoded data removed]"
     },
     "metadata": {
      "image/png": {
       "height": 420,
       "width": 420
      }
     },
     "output_type": "display_data"
    }
   ],
   "source": [
    "model_perf  = cbind(c(\"PCR\", \"PLS\", \"Lasso\", \"Ridge\"), c(pcr_auc, pls_auc, AUC_fit_lasso_cv, AUC_fit_ridge_cv)) %>% as.data.frame()\n",
    "colnames(model_perf) <- c(\"model\", \"AUC\")\n",
    "\n",
    "model_perf\n",
    "\n",
    "# Create a bar plot\n",
    "ggplot(model_perf, aes(x = model, y = AUC)) +\n",
    "  geom_bar(stat = \"identity\", fill = \"blue\") +\n",
    "  labs(x = \"Model\", y = \"AUC\", title = \"AUC for different Models\")"
   ]
  },
  {
   "cell_type": "markdown",
   "id": "b1235d0e",
   "metadata": {
    "papermill": {
     "duration": 0.033607,
     "end_time": "2023-10-09T10:47:35.852586",
     "exception": false,
     "start_time": "2023-10-09T10:47:35.818979",
     "status": "completed"
    },
    "tags": []
   },
   "source": [
    "PCR had the largest AUC. However, the model was based on a relatively small subset of the total observations due to the long computing times. This means that the PCR may be more biased than other models. Therefore, we decided to make our predictions based on the Lasso model, which used more observations while still producing a good AUC."
   ]
  },
  {
   "cell_type": "code",
   "execution_count": 43,
   "id": "332fbc32",
   "metadata": {
    "execution": {
     "iopub.execute_input": "2023-10-09T10:47:35.924658Z",
     "iopub.status.busy": "2023-10-09T10:47:35.922943Z",
     "iopub.status.idle": "2023-10-09T10:47:35.937432Z",
     "shell.execute_reply": "2023-10-09T10:47:35.935552Z"
    },
    "papermill": {
     "duration": 0.053505,
     "end_time": "2023-10-09T10:47:35.939723",
     "exception": false,
     "start_time": "2023-10-09T10:47:35.886218",
     "status": "completed"
    },
    "tags": []
   },
   "outputs": [],
   "source": [
    "winner_model = cv_fitlasso"
   ]
  },
  {
   "cell_type": "markdown",
   "id": "86c66285",
   "metadata": {
    "_uuid": "db4164fa915f86b512ba3a4a576683dcf4b48320",
    "papermill": {
     "duration": 0.03462,
     "end_time": "2023-10-09T10:47:36.008013",
     "exception": false,
     "start_time": "2023-10-09T10:47:35.973393",
     "status": "completed"
    },
    "tags": []
   },
   "source": [
    "\n",
    "# 6. Submitting your predictions\n",
    "\n",
    "We use the sample predictions to make sure that our predictions match the expected format. For this purpose, we first load the sample predictions from the inpur data."
   ]
  },
  {
   "cell_type": "code",
   "execution_count": 44,
   "id": "15766b18",
   "metadata": {
    "_uuid": "df586ac1a39965a4426b6a51d4e3c35de25d2255",
    "execution": {
     "iopub.execute_input": "2023-10-09T10:47:36.079855Z",
     "iopub.status.busy": "2023-10-09T10:47:36.078033Z",
     "iopub.status.idle": "2023-10-09T10:47:36.161548Z",
     "shell.execute_reply": "2023-10-09T10:47:36.159341Z"
    },
    "papermill": {
     "duration": 0.122579,
     "end_time": "2023-10-09T10:47:36.164414",
     "exception": false,
     "start_time": "2023-10-09T10:47:36.041835",
     "status": "completed"
    },
    "tags": []
   },
   "outputs": [
    {
     "data": {
      "text/html": [
       "<table class=\"dataframe\">\n",
       "<caption>A tibble: 6 × 2</caption>\n",
       "<thead>\n",
       "\t<tr><th scope=col>Id</th><th scope=col>Prediction</th></tr>\n",
       "\t<tr><th scope=col>&lt;chr&gt;</th><th scope=col>&lt;dbl&gt;</th></tr>\n",
       "</thead>\n",
       "<tbody>\n",
       "\t<tr><td>3 </td><td>0.5715225</td></tr>\n",
       "\t<tr><td>5 </td><td>0.9033234</td></tr>\n",
       "\t<tr><td>8 </td><td>0.7865691</td></tr>\n",
       "\t<tr><td>14</td><td>0.6911136</td></tr>\n",
       "\t<tr><td>20</td><td>0.7673936</td></tr>\n",
       "\t<tr><td>22</td><td>0.1852140</td></tr>\n",
       "</tbody>\n",
       "</table>\n"
      ],
      "text/latex": [
       "A tibble: 6 × 2\n",
       "\\begin{tabular}{ll}\n",
       " Id & Prediction\\\\\n",
       " <chr> & <dbl>\\\\\n",
       "\\hline\n",
       "\t 3  & 0.5715225\\\\\n",
       "\t 5  & 0.9033234\\\\\n",
       "\t 8  & 0.7865691\\\\\n",
       "\t 14 & 0.6911136\\\\\n",
       "\t 20 & 0.7673936\\\\\n",
       "\t 22 & 0.1852140\\\\\n",
       "\\end{tabular}\n"
      ],
      "text/markdown": [
       "\n",
       "A tibble: 6 × 2\n",
       "\n",
       "| Id &lt;chr&gt; | Prediction &lt;dbl&gt; |\n",
       "|---|---|\n",
       "| 3  | 0.5715225 |\n",
       "| 5  | 0.9033234 |\n",
       "| 8  | 0.7865691 |\n",
       "| 14 | 0.6911136 |\n",
       "| 20 | 0.7673936 |\n",
       "| 22 | 0.1852140 |\n",
       "\n"
      ],
      "text/plain": [
       "  Id Prediction\n",
       "1 3  0.5715225 \n",
       "2 5  0.9033234 \n",
       "3 8  0.7865691 \n",
       "4 14 0.6911136 \n",
       "5 20 0.7673936 \n",
       "6 22 0.1852140 "
      ]
     },
     "metadata": {},
     "output_type": "display_data"
    }
   ],
   "source": [
    "# Find file path of sample predictions\n",
    "sample_filepath = dir(\"..\", pattern=\"sample.csv\", recursive=TRUE, full.names = TRUE)\n",
    "\n",
    "# Load sample predictions into data frame\n",
    "sample_submission = read_csv(sample_filepath, col_types = cols(col_character(), col_double()))\n",
    "\n",
    "head(sample_submission)"
   ]
  },
  {
   "cell_type": "markdown",
   "id": "bae2164b",
   "metadata": {
    "papermill": {
     "duration": 0.034127,
     "end_time": "2023-10-09T10:47:36.233837",
     "exception": false,
     "start_time": "2023-10-09T10:47:36.199710",
     "status": "completed"
    },
    "tags": []
   },
   "source": [
    "Now, we can make our own predictions based on our best-performing model and the features of the test reviews, which were already part of our initial design matrix. In step 5, we identified the rows of our design matrix that contained the test reviews, so we can use these indexes again now to select the right rows. Subsequently, we left-join our predictions with the sample predictions to make sure that there is one predictions for each review in the test data."
   ]
  },
  {
   "cell_type": "code",
   "execution_count": 45,
   "id": "c7904339",
   "metadata": {
    "execution": {
     "iopub.execute_input": "2023-10-09T10:47:36.306087Z",
     "iopub.status.busy": "2023-10-09T10:47:36.304505Z",
     "iopub.status.idle": "2023-10-09T10:47:36.801656Z",
     "shell.execute_reply": "2023-10-09T10:47:36.799530Z"
    },
    "papermill": {
     "duration": 0.536902,
     "end_time": "2023-10-09T10:47:36.804687",
     "exception": false,
     "start_time": "2023-10-09T10:47:36.267785",
     "status": "completed"
    },
    "tags": []
   },
   "outputs": [
    {
     "data": {
      "text/html": [
       "<table class=\"dataframe\">\n",
       "<caption>A tibble: 6 × 2</caption>\n",
       "<thead>\n",
       "\t<tr><th scope=col>Id</th><th scope=col>Prediction</th></tr>\n",
       "\t<tr><th scope=col>&lt;chr&gt;</th><th scope=col>&lt;dbl&gt;</th></tr>\n",
       "</thead>\n",
       "<tbody>\n",
       "\t<tr><td>3 </td><td>0.8927449</td></tr>\n",
       "\t<tr><td>5 </td><td>0.9570996</td></tr>\n",
       "\t<tr><td>8 </td><td>0.9368798</td></tr>\n",
       "\t<tr><td>14</td><td>0.7284520</td></tr>\n",
       "\t<tr><td>20</td><td>0.6686638</td></tr>\n",
       "\t<tr><td>22</td><td>0.2581856</td></tr>\n",
       "</tbody>\n",
       "</table>\n"
      ],
      "text/latex": [
       "A tibble: 6 × 2\n",
       "\\begin{tabular}{ll}\n",
       " Id & Prediction\\\\\n",
       " <chr> & <dbl>\\\\\n",
       "\\hline\n",
       "\t 3  & 0.8927449\\\\\n",
       "\t 5  & 0.9570996\\\\\n",
       "\t 8  & 0.9368798\\\\\n",
       "\t 14 & 0.7284520\\\\\n",
       "\t 20 & 0.6686638\\\\\n",
       "\t 22 & 0.2581856\\\\\n",
       "\\end{tabular}\n"
      ],
      "text/markdown": [
       "\n",
       "A tibble: 6 × 2\n",
       "\n",
       "| Id &lt;chr&gt; | Prediction &lt;dbl&gt; |\n",
       "|---|---|\n",
       "| 3  | 0.8927449 |\n",
       "| 5  | 0.9570996 |\n",
       "| 8  | 0.9368798 |\n",
       "| 14 | 0.7284520 |\n",
       "| 20 | 0.6686638 |\n",
       "| 22 | 0.2581856 |\n",
       "\n"
      ],
      "text/plain": [
       "  Id Prediction\n",
       "1 3  0.8927449 \n",
       "2 5  0.9570996 \n",
       "3 8  0.9368798 \n",
       "4 14 0.7284520 \n",
       "5 20 0.6686638 \n",
       "6 22 0.2581856 "
      ]
     },
     "metadata": {},
     "output_type": "display_data"
    },
    {
     "data": {
      "text/html": [
       "<table class=\"dataframe\">\n",
       "<caption>A tibble: 6 × 2</caption>\n",
       "<thead>\n",
       "\t<tr><th scope=col>Id</th><th scope=col>Prediction</th></tr>\n",
       "\t<tr><th scope=col>&lt;chr&gt;</th><th scope=col>&lt;dbl&gt;</th></tr>\n",
       "</thead>\n",
       "<tbody>\n",
       "\t<tr><td>183476</td><td>0.8832559</td></tr>\n",
       "\t<tr><td>183478</td><td>0.8037694</td></tr>\n",
       "\t<tr><td>183507</td><td>0.7629844</td></tr>\n",
       "\t<tr><td>183518</td><td>0.9584655</td></tr>\n",
       "\t<tr><td>183525</td><td>0.9428211</td></tr>\n",
       "\t<tr><td>183528</td><td>0.7377078</td></tr>\n",
       "</tbody>\n",
       "</table>\n"
      ],
      "text/latex": [
       "A tibble: 6 × 2\n",
       "\\begin{tabular}{ll}\n",
       " Id & Prediction\\\\\n",
       " <chr> & <dbl>\\\\\n",
       "\\hline\n",
       "\t 183476 & 0.8832559\\\\\n",
       "\t 183478 & 0.8037694\\\\\n",
       "\t 183507 & 0.7629844\\\\\n",
       "\t 183518 & 0.9584655\\\\\n",
       "\t 183525 & 0.9428211\\\\\n",
       "\t 183528 & 0.7377078\\\\\n",
       "\\end{tabular}\n"
      ],
      "text/markdown": [
       "\n",
       "A tibble: 6 × 2\n",
       "\n",
       "| Id &lt;chr&gt; | Prediction &lt;dbl&gt; |\n",
       "|---|---|\n",
       "| 183476 | 0.8832559 |\n",
       "| 183478 | 0.8037694 |\n",
       "| 183507 | 0.7629844 |\n",
       "| 183518 | 0.9584655 |\n",
       "| 183525 | 0.9428211 |\n",
       "| 183528 | 0.7377078 |\n",
       "\n"
      ],
      "text/plain": [
       "  Id     Prediction\n",
       "1 183476 0.8832559 \n",
       "2 183478 0.8037694 \n",
       "3 183507 0.7629844 \n",
       "4 183518 0.9584655 \n",
       "5 183525 0.9428211 \n",
       "6 183528 0.7377078 "
      ]
     },
     "metadata": {},
     "output_type": "display_data"
    },
    {
     "data": {
      "text/html": [
       "<style>\n",
       ".list-inline {list-style: none; margin:0; padding: 0}\n",
       ".list-inline>li {display: inline-block}\n",
       ".list-inline>li:not(:last-child)::after {content: \"\\00b7\"; padding: 0 .5ex}\n",
       "</style>\n",
       "<ol class=list-inline><li>30000</li><li>2</li></ol>\n"
      ],
      "text/latex": [
       "\\begin{enumerate*}\n",
       "\\item 30000\n",
       "\\item 2\n",
       "\\end{enumerate*}\n"
      ],
      "text/markdown": [
       "1. 30000\n",
       "2. 2\n",
       "\n",
       "\n"
      ],
      "text/plain": [
       "[1] 30000     2"
      ]
     },
     "metadata": {},
     "output_type": "display_data"
    }
   ],
   "source": [
    "# Extract test rows from design matrix\n",
    "test_sparse = features_sparse[na_ind,]\n",
    "\n",
    "# Save predictions in data frame\n",
    "predictions = predict(winner_model, newx=test_sparse, type=\"response\") %>% as.data.frame()\n",
    "colnames(predictions) = \"Prediction\" # Change column name for merging\n",
    "predictions$Id = rownames(predictions) # Save IDs in column\n",
    "\n",
    "# Join predictions with IDs from sample submission\n",
    "id_test = sample_submission %>% select(Id)\n",
    "predictions = left_join(id_test, predictions, by=\"Id\")\n",
    "\n",
    "head(predictions)\n",
    "tail(predictions)\n",
    "dim(predictions)"
   ]
  },
  {
   "cell_type": "markdown",
   "id": "1be22678",
   "metadata": {
    "papermill": {
     "duration": 0.035041,
     "end_time": "2023-10-09T10:47:36.875842",
     "exception": false,
     "start_time": "2023-10-09T10:47:36.840801",
     "status": "completed"
    },
    "tags": []
   },
   "source": [
    "We save our predictions in a CSV file."
   ]
  },
  {
   "cell_type": "code",
   "execution_count": 46,
   "id": "09e2ae30",
   "metadata": {
    "execution": {
     "iopub.execute_input": "2023-10-09T10:47:36.949182Z",
     "iopub.status.busy": "2023-10-09T10:47:36.947651Z",
     "iopub.status.idle": "2023-10-09T10:47:36.982654Z",
     "shell.execute_reply": "2023-10-09T10:47:36.980494Z"
    },
    "papermill": {
     "duration": 0.075697,
     "end_time": "2023-10-09T10:47:36.985919",
     "exception": false,
     "start_time": "2023-10-09T10:47:36.910222",
     "status": "completed"
    },
    "tags": []
   },
   "outputs": [],
   "source": [
    "# Write your predictions data frame to file\n",
    "write_csv(predictions, file=\"predictions.csv\")"
   ]
  },
  {
   "cell_type": "markdown",
   "id": "fca4d313",
   "metadata": {
    "papermill": {
     "duration": 0.035284,
     "end_time": "2023-10-09T10:47:37.057078",
     "exception": false,
     "start_time": "2023-10-09T10:47:37.021794",
     "status": "completed"
    },
    "tags": []
   },
   "source": [
    "# 7. References"
   ]
  },
  {
   "cell_type": "markdown",
   "id": "d0a0e198",
   "metadata": {
    "papermill": {
     "duration": 0.035468,
     "end_time": "2023-10-09T10:47:37.127446",
     "exception": false,
     "start_time": "2023-10-09T10:47:37.091978",
     "status": "completed"
    },
    "tags": []
   },
   "source": [
    "* dan_vdmeer, Dave Leitritz, Joost van Kordelaar, Raoul. (2023). BDA 2023 Customer sentiment from reviews. Kaggle. https://kaggle.com/competitions/customer-sentiment-from-reviews-bda-2023\n",
    "\n",
    "* dan_vdmeer, Dave Leitritz, Raoul. (2023). BDA 2023 Profiling Personality. Kaggle. https://kaggle.com/competitions/bda-2023-profiling-personality"
   ]
  },
  {
   "cell_type": "markdown",
   "id": "3b616622",
   "metadata": {
    "papermill": {
     "duration": 0.03467,
     "end_time": "2023-10-09T10:47:37.197401",
     "exception": false,
     "start_time": "2023-10-09T10:47:37.162731",
     "status": "completed"
    },
    "tags": []
   },
   "source": [
    "# 8. Contributions"
   ]
  },
  {
   "cell_type": "markdown",
   "id": "d805a9c0",
   "metadata": {
    "papermill": {
     "duration": 0.034651,
     "end_time": "2023-10-09T10:47:37.266718",
     "exception": false,
     "start_time": "2023-10-09T10:47:37.232067",
     "status": "completed"
    },
    "tags": []
   },
   "source": [
    "* Julius Thomas: most of pre-processing and feature creation, Ridge and Lasso fitting, features into a dataframe\n",
    "\n",
    "* Sam Semegne: Descriptions, Partial Least Squares, Principal Components Regression, some features\n",
    "\n",
    "* Bence Marosi: Most of the descriptions, merging, model evaluations, word cloud, data pre-processing partly, document shaping, TD-IDF integration"
   ]
  }
 ],
 "metadata": {
  "kernelspec": {
   "display_name": "R",
   "language": "R",
   "name": "ir"
  },
  "language_info": {
   "codemirror_mode": "r",
   "file_extension": ".r",
   "mimetype": "text/x-r-source",
   "name": "R",
   "pygments_lexer": "r",
   "version": "4.0.5"
  },
  "papermill": {
   "default_parameters": {},
   "duration": 459.915795,
   "end_time": "2023-10-09T10:47:38.026428",
   "environment_variables": {},
   "exception": null,
   "input_path": "__notebook__.ipynb",
   "output_path": "__notebook__.ipynb",
   "parameters": {},
   "start_time": "2023-10-09T10:39:58.110633",
   "version": "2.4.0"
  }
 },
 "nbformat": 4,
 "nbformat_minor": 5
}
