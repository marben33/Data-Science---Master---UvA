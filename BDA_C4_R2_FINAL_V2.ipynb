{
 "cells": [
  {
   "cell_type": "markdown",
   "id": "2df844e6",
   "metadata": {
    "papermill": {
     "duration": 0.015775,
     "end_time": "2023-10-19T09:50:33.923670",
     "exception": false,
     "start_time": "2023-10-19T09:50:33.907895",
     "status": "completed"
    },
    "tags": []
   },
   "source": [
    "# Facial Expression Recognition\n",
    "\n",
    "# BDA 2023 | Competition 4 - Round 2 | Group 10\n",
    "\n",
    "* [Section 1: Data Considerations](#section1)\n",
    "* [Section 2: Data Import](#section2)\n",
    "* [Section 3: Feature Extraction for Images](#section3)\n",
    "    - [Section 3.1: Raw Pixel Analysis](#section3.1)\n",
    "    - [Section 3.2: Statistical (Histogram) Features](#section3.2)\n",
    "    - [Section 3.3: Statistical Spectral Features](#section3.3)\n",
    "    - [Section 3.4: Histogram of Oriented Gradients (HOG) Features](#section3.4)\n",
    "    - [Section 3.5: Creating a Full Feature Data Frame](#section3.5)\n",
    "    - [Section 3.6: Cleaning Feature Data Frame](#section3.6)\n",
    "    - [Section 3.7: Resulting Final Feature Data Frame](#section3.7)\n",
    "    - [Section 3.8: New Train-Test Split](#section3.8)\n",
    "* [4. Model Fitting](#section4)\n",
    "    - [Section 4.1: Classification Tree](#section4.1)\n",
    "    - [Section 4.2: Linear Discriminant Analysis with PCA (LDApca)](#section4.2)\n",
    "    - [Section 4.3: Lasso-Fitted Multinomial Regression (LR)](#section4.3)\n",
    "    - [Section 4.4: Ridge-Fitted Multinomial Regression (RR)](#section4.4)\n",
    "    - [Section 4.5: Random Forests (RF)](#section4.5)\n",
    "    - [Section 4.6: Support Vector Machines (SVMs)](#section4.6)\n",
    "    - [Section 4.7: k-Nearest Neighbors (kNN)](#section4.7)\n",
    "* [Section 5: Model Evaluations](#section5)\n",
    "    - [Section 5.1: Classification and Regression Tree (CART)](#section5.1)\n",
    "    - [Section 5.2: Linear Discriminant Analysis with PCA (LDApca](#section5.2)\n",
    "    - [Section 5.3: Lasso-Fitted Multinomial Regression (LR)](#section5.3)\n",
    "    - [Section 5.4: Ridge-Fitted Multinomial Regression (RR)](#section5.4)\n",
    "    - [Section 5.5: Support Vector Machines (SVMs)](#section5.5)\n",
    "    - [Section 5.6: k-Nearest Neighbors (kNN)](#section5.6)\n",
    "* [Section 6: Final Model Selection](#section6)\n",
    "    - [Section 6.1: Formatting Your Submission File](#section6.1)\n",
    "* [Section 7: Contributions](#section7)"
   ]
  },
  {
   "cell_type": "markdown",
   "id": "76c0f3c7",
   "metadata": {
    "papermill": {
     "duration": 0.012841,
     "end_time": "2023-10-19T09:50:33.949542",
     "exception": false,
     "start_time": "2023-10-19T09:50:33.936701",
     "status": "completed"
    },
    "tags": []
   },
   "source": [
    "# 1. Data Considerations <a class=\"anchor\"  id=\"section1\"></a>\n",
    "\n",
    "**Data Description and Goals**\n",
    "\n",
    "Our goal is to train a model that accurately recognizes one of four emotions - anger, disgust, hapiness or sadness - from photos of people's faces. The data we have available to train this model on consists of gray scale photos cropped to snuggly fit only the face of one of the 101 participants expressing one of the four previously mentioned emotions. There are 2538 such images in the training set that have associated emotion labels validated by emotion researchers to compare the accuracy of our model against.\n",
    "\n",
    "**1. Data Origin and Generalizability**\n",
    "\n",
    "The dataset is sourced from the Cohn-Kanade (CK) AU-Coded Facial Expression Database and includes individuals aged 18 to 50 years who are actors. The majority of subjects (69%) are female, 81% Euro-American, 13% Afro-American, and 6% other groups.\n",
    "\n",
    "The dataset is expected to provide reliable generalization for facial expressions in photos of individuals from a similar demographic. However, its performance may be somewhat less accurate when applied to Asian, Latino and Afro-American individuals compared to individuals of Caucasian descent. Additionally, all the participants are actors, whose facial expressions can be significanlty different than general population sampling.\n",
    "\n",
    "Furthemore, the classes of prediction are four emotions: anger, disgust, happy, sadness. This implies that only these four empotions are examined and any more nuanced combinations have to be classified into one of these four categories."
   ]
  },
  {
   "cell_type": "markdown",
   "id": "33c6dc23",
   "metadata": {
    "papermill": {
     "duration": 0.013254,
     "end_time": "2023-10-19T09:50:33.975455",
     "exception": false,
     "start_time": "2023-10-19T09:50:33.962201",
     "status": "completed"
    },
    "tags": []
   },
   "source": [
    "**2. Candidate Machine Learning Methods (Models, Features)**\n",
    "\n",
    "We are looking for models capable of classifying objects into one of four categories. These models must also handle a substantial number of predictors, as the input data consists of 48x48 pixel images, equating to 2304 data points per picture, besides additional predictors that will be used here.\n",
    "\n",
    "This demand arises because facial expressions exhibit non-linear patterns. Nevertheless, linear models remain viable, contingent on the nature of computed features. If these features exhibit a linear relationship with the categorization of facial expressions, linear models can recognize this pattern. Therefore, we should consider both linear and non-linear models. It's worth noting that when assessing the performance of these models, we must do so within the context of the computed features.\n",
    "\n",
    "Some models based on these criteria:\n",
    "\n",
    "* Linear Discriminant Analysis (LDA)\n",
    "* Lasso-fitted multinomial regression (LR)\n",
    "* Ridge-fitted multinomial regression (RR)\n",
    "* Random Forests (RF)\n",
    "* Boosting (BS)\n",
    "* Support Vector Machines (SVM)\n",
    "* k-Nearest Neighbours (kNN)"
   ]
  },
  {
   "cell_type": "markdown",
   "id": "17619b76",
   "metadata": {
    "papermill": {
     "duration": 0.01282,
     "end_time": "2023-10-19T09:50:34.001318",
     "exception": false,
     "start_time": "2023-10-19T09:50:33.988498",
     "status": "completed"
    },
    "tags": []
   },
   "source": [
    "**3. Bayes' Error Bound**\n",
    "\n",
    "In the context of determining a lower bound on the Bayes bound, which represents the minimum achievable accuracy, it is valuable to consider the performance of the human brain as a benchmark for emotion recognition from facial expressions. The argument for using the human brain as a reference point stems from the unique attributes of human perception and understanding of emotions, which algorithms lack.\n",
    "\n",
    "Humans possess a deep understanding of emotions and can analyze facial expressions holistically, taking into account various visual cues such as motion, orientation, and color. In contrast, machine learning models typically focus on isolated features without an inherent grasp of the subjective meaning behind these features. Furthermore, humans have personal experiences and emotions, which allow them to establish strong connections between expressions and feelings, a perspective that algorithms do not possess.\n",
    "\n",
    "To estimate the Bayes bound for a given dataset, one can inquire about the accuracy of human judges in recognizing emotions. A study by Mollahosseini et al. (2018) provides insight into the inter-rater agreement among human judges for 11 different emotions, with specific accuracies for four of them:\n",
    "\n",
    "* Disgust: 67.6%\n",
    "* Anger: 62.3%\n",
    "* Happy: 79.6%\n",
    "* Sad: 69.7%\n",
    "\n",
    "Considering this, the likely overall Bayes bound for this particular dataset is bound to be at least around 70%. This percentage represents a baseline against which machine learning models can be compared, with the expectation that they may perform even somewhat better given their ability to focus on features of human faces such as edges that human judgers cannot readily incorporate into their assessment of others' emotions.\n",
    "\n",
    "There are several reasons we expect that machines will perform better in emotion recognition of human faces than humans do:\n",
    "\n",
    "* **Lower non-relevant influencability**: Machines are not influenced by human factors like fatigue, mood, or distractions that can affect human accuracy (this can bias humans in emotion recognition as well as just generally decrease accuracy).\n",
    "\n",
    "* **Scalability**: Machines can be easily scaled to process a large amount of data in a short time, this can help improve performance in real-time applications.\n",
    "\n",
    "* **Objectivity**: Human judgments can be subjective and influenced by cultural, social, and personal biases.\n",
    "\n",
    "* **Data-driven learning**: ML algorithms can benefit from massive datasets to learn and adapt continuously. This allows machines to improve their accuracy over time through exposure to a diverse range of facial expressions and emotions.\n",
    "\n",
    "* **Feedback Loops (\"Reinforcements\")**: ML models can incorporate feedback from their mistakes, allowing them to refine their algorithms and improve accuracy over time.\n",
    "\n",
    "* **Quantitative Evaluation**: ML can provide precise quantitative metrics for emotion recognition, making it easier to track and evaluate performance objectively.\n",
    "\n",
    "As always, it's handy to evaluate how the algorithm does on the training set: If the training set is not classified accurately, how can you expect the test set to do any better. This obvious fact is often overlooked surprisingly."
   ]
  },
  {
   "cell_type": "markdown",
   "id": "0a7f5873",
   "metadata": {
    "papermill": {
     "duration": 0.014588,
     "end_time": "2023-10-19T09:50:34.028987",
     "exception": false,
     "start_time": "2023-10-19T09:50:34.014399",
     "status": "completed"
    },
    "tags": []
   },
   "source": [
    "# 2. Data Import <a class=\"anchor\"  id=\"section2\"></a>\n",
    "\n",
    "First, we import the image data from the working directory in order to be able to compute features and train models on it."
   ]
  },
  {
   "cell_type": "code",
   "execution_count": 1,
   "id": "6b97c3ba",
   "metadata": {
    "_execution_state": "idle",
    "_uuid": "051d70d956493feee0c6d64651c6a088724dca2a",
    "execution": {
     "iopub.execute_input": "2023-10-19T09:50:34.060006Z",
     "iopub.status.busy": "2023-10-19T09:50:34.057512Z",
     "iopub.status.idle": "2023-10-19T09:50:38.099095Z",
     "shell.execute_reply": "2023-10-19T09:50:38.096912Z"
    },
    "papermill": {
     "duration": 4.060003,
     "end_time": "2023-10-19T09:50:38.102192",
     "exception": false,
     "start_time": "2023-10-19T09:50:34.042189",
     "status": "completed"
    },
    "tags": []
   },
   "outputs": [
    {
     "name": "stderr",
     "output_type": "stream",
     "text": [
      "── \u001b[1mAttaching core tidyverse packages\u001b[22m ──────────────────────── tidyverse 2.0.0 ──\n",
      "\u001b[32m✔\u001b[39m \u001b[34mdplyr    \u001b[39m 1.1.2     \u001b[32m✔\u001b[39m \u001b[34mreadr    \u001b[39m 2.1.4\n",
      "\u001b[32m✔\u001b[39m \u001b[34mforcats  \u001b[39m 1.0.0     \u001b[32m✔\u001b[39m \u001b[34mstringr  \u001b[39m 1.5.0\n",
      "\u001b[32m✔\u001b[39m \u001b[34mggplot2  \u001b[39m 3.4.2     \u001b[32m✔\u001b[39m \u001b[34mtibble   \u001b[39m 3.2.1\n",
      "\u001b[32m✔\u001b[39m \u001b[34mlubridate\u001b[39m 1.9.2     \u001b[32m✔\u001b[39m \u001b[34mtidyr    \u001b[39m 1.3.0\n",
      "\u001b[32m✔\u001b[39m \u001b[34mpurrr    \u001b[39m 1.0.1     \n",
      "── \u001b[1mConflicts\u001b[22m ────────────────────────────────────────── tidyverse_conflicts() ──\n",
      "\u001b[31m✖\u001b[39m \u001b[34mdplyr\u001b[39m::\u001b[32mfilter()\u001b[39m masks \u001b[34mstats\u001b[39m::filter()\n",
      "\u001b[31m✖\u001b[39m \u001b[34mdplyr\u001b[39m::\u001b[32mlag()\u001b[39m    masks \u001b[34mstats\u001b[39m::lag()\n",
      "\u001b[36mℹ\u001b[39m Use the conflicted package (\u001b[3m\u001b[34m<http://conflicted.r-lib.org/>\u001b[39m\u001b[23m) to force all conflicts to become errors\n",
      "Loading required package: lattice\n",
      "\n",
      "\n",
      "Attaching package: ‘caret’\n",
      "\n",
      "\n",
      "The following object is masked from ‘package:purrr’:\n",
      "\n",
      "    lift\n",
      "\n",
      "\n",
      "The following object is masked from ‘package:httr’:\n",
      "\n",
      "    progress\n",
      "\n",
      "\n"
     ]
    },
    {
     "data": {
      "text/html": [
       "'facial-expressions-bda-2023-round-2'"
      ],
      "text/latex": [
       "'facial-expressions-bda-2023-round-2'"
      ],
      "text/markdown": [
       "'facial-expressions-bda-2023-round-2'"
      ],
      "text/plain": [
       "[1] \"facial-expressions-bda-2023-round-2\""
      ]
     },
     "metadata": {},
     "output_type": "display_data"
    }
   ],
   "source": [
    "# Importing packages\n",
    "library(tidyverse) # metapackage with lots of helpful functions\n",
    "library(png) # package that can be used to read png image files in a simple format\n",
    "library(caret)\n",
    "\n",
    "# Reading in files\n",
    "list.files(path = \"../input/\")"
   ]
  },
  {
   "cell_type": "code",
   "execution_count": 2,
   "id": "ede0e565",
   "metadata": {
    "execution": {
     "iopub.execute_input": "2023-10-19T09:50:38.166741Z",
     "iopub.status.busy": "2023-10-19T09:50:38.132606Z",
     "iopub.status.idle": "2023-10-19T09:50:38.558071Z",
     "shell.execute_reply": "2023-10-19T09:50:38.555503Z"
    },
    "papermill": {
     "duration": 0.445034,
     "end_time": "2023-10-19T09:50:38.561197",
     "exception": false,
     "start_time": "2023-10-19T09:50:38.116163",
     "status": "completed"
    },
    "tags": []
   },
   "outputs": [
    {
     "data": {
      "text/html": [
       "<style>\n",
       ".list-inline {list-style: none; margin:0; padding: 0}\n",
       ".list-inline>li {display: inline-block}\n",
       ".list-inline>li:not(:last-child)::after {content: \"\\00b7\"; padding: 0 .5ex}\n",
       "</style>\n",
       "<ol class=list-inline><li>'../input/facial-expressions-bda-2023-round-2'</li><li>'../input/facial-expressions-bda-2023-round-2/ckplus'</li><li>'../input/facial-expressions-bda-2023-round-2/ckplus/test'</li><li>'../input/facial-expressions-bda-2023-round-2/ckplus/train'</li><li>'../input/facial-expressions-bda-2023-round-2/ckplus/train/anger'</li><li>'../input/facial-expressions-bda-2023-round-2/ckplus/train/disgust'</li><li>'../input/facial-expressions-bda-2023-round-2/ckplus/train/happy'</li><li>'../input/facial-expressions-bda-2023-round-2/ckplus/train/sadness'</li></ol>\n"
      ],
      "text/latex": [
       "\\begin{enumerate*}\n",
       "\\item '../input/facial-expressions-bda-2023-round-2'\n",
       "\\item '../input/facial-expressions-bda-2023-round-2/ckplus'\n",
       "\\item '../input/facial-expressions-bda-2023-round-2/ckplus/test'\n",
       "\\item '../input/facial-expressions-bda-2023-round-2/ckplus/train'\n",
       "\\item '../input/facial-expressions-bda-2023-round-2/ckplus/train/anger'\n",
       "\\item '../input/facial-expressions-bda-2023-round-2/ckplus/train/disgust'\n",
       "\\item '../input/facial-expressions-bda-2023-round-2/ckplus/train/happy'\n",
       "\\item '../input/facial-expressions-bda-2023-round-2/ckplus/train/sadness'\n",
       "\\end{enumerate*}\n"
      ],
      "text/markdown": [
       "1. '../input/facial-expressions-bda-2023-round-2'\n",
       "2. '../input/facial-expressions-bda-2023-round-2/ckplus'\n",
       "3. '../input/facial-expressions-bda-2023-round-2/ckplus/test'\n",
       "4. '../input/facial-expressions-bda-2023-round-2/ckplus/train'\n",
       "5. '../input/facial-expressions-bda-2023-round-2/ckplus/train/anger'\n",
       "6. '../input/facial-expressions-bda-2023-round-2/ckplus/train/disgust'\n",
       "7. '../input/facial-expressions-bda-2023-round-2/ckplus/train/happy'\n",
       "8. '../input/facial-expressions-bda-2023-round-2/ckplus/train/sadness'\n",
       "\n",
       "\n"
      ],
      "text/plain": [
       "[1] \"../input/facial-expressions-bda-2023-round-2\"                     \n",
       "[2] \"../input/facial-expressions-bda-2023-round-2/ckplus\"              \n",
       "[3] \"../input/facial-expressions-bda-2023-round-2/ckplus/test\"         \n",
       "[4] \"../input/facial-expressions-bda-2023-round-2/ckplus/train\"        \n",
       "[5] \"../input/facial-expressions-bda-2023-round-2/ckplus/train/anger\"  \n",
       "[6] \"../input/facial-expressions-bda-2023-round-2/ckplus/train/disgust\"\n",
       "[7] \"../input/facial-expressions-bda-2023-round-2/ckplus/train/happy\"  \n",
       "[8] \"../input/facial-expressions-bda-2023-round-2/ckplus/train/sadness\""
      ]
     },
     "metadata": {},
     "output_type": "display_data"
    }
   ],
   "source": [
    "# Showing the available directories\n",
    "dirs = dir(\"../input\", pattern=\"[^g]$\", recursive=TRUE, include.dirs = TRUE, full.names = TRUE)\n",
    "dirs"
   ]
  },
  {
   "cell_type": "code",
   "execution_count": 3,
   "id": "7e4f0b3e",
   "metadata": {
    "execution": {
     "iopub.execute_input": "2023-10-19T09:50:38.591545Z",
     "iopub.status.busy": "2023-10-19T09:50:38.589748Z",
     "iopub.status.idle": "2023-10-19T09:50:38.739699Z",
     "shell.execute_reply": "2023-10-19T09:50:38.737067Z"
    },
    "papermill": {
     "duration": 0.168408,
     "end_time": "2023-10-19T09:50:38.742694",
     "exception": false,
     "start_time": "2023-10-19T09:50:38.574286",
     "status": "completed"
    },
    "tags": []
   },
   "outputs": [
    {
     "name": "stdout",
     "output_type": "stream",
     "text": [
      " chr [1:570] \"../input/facial-expressions-bda-2023-round-2/ckplus/train/anger/S010_004_00000018a.png\" ...\n",
      " chr [1:744] \"../input/facial-expressions-bda-2023-round-2/ckplus/train/disgust/S005_001_00000009a.png\" ...\n",
      " chr [1:870] \"../input/facial-expressions-bda-2023-round-2/ckplus/train/happy/S010_006_00000013a.png\" ...\n",
      " chr [1:354] \"../input/facial-expressions-bda-2023-round-2/ckplus/train/sadness/S011_002_00000020a.png\" ...\n",
      " chr [1:1080] \"../input/facial-expressions-bda-2023-round-2/ckplus/test/S010_004_00000017a.png\" ...\n"
     ]
    }
   ],
   "source": [
    "# Getting all image files: file names ending \".png\" \n",
    "anger   = dir(grep(\"anger\",   dirs, value = TRUE), pattern = \"png$\", full.names = TRUE)\n",
    "disgust = dir(grep(\"disgust\", dirs, value = TRUE), pattern = \"png$\", full.names = TRUE)\n",
    "happy   = dir(grep(\"happy\",   dirs, value = TRUE), pattern = \"png$\", full.names = TRUE)\n",
    "sad     = dir(grep(\"sad\",     dirs, value = TRUE), pattern = \"png$\", full.names = TRUE)\n",
    "test_im = dir(grep(\"test\",    dirs, value = TRUE), pattern = \"png$\", full.names = TRUE)\n",
    "\n",
    "str(anger)\n",
    "str(disgust)\n",
    "str(happy)\n",
    "str(sad)\n",
    "str(test_im)"
   ]
  },
  {
   "cell_type": "markdown",
   "id": "e91b20a6",
   "metadata": {
    "papermill": {
     "duration": 0.015206,
     "end_time": "2023-10-19T09:50:38.771886",
     "exception": false,
     "start_time": "2023-10-19T09:50:38.756680",
     "status": "completed"
    },
    "tags": []
   },
   "source": [
    "# 3. Feature Extraction for Images <a class=\"anchor\"  id=\"section3\"></a>\n",
    "\n",
    "\n",
    "Three are three approaches to feature extraction from images: \n",
    "\n",
    "\n",
    "1. **Raw pixel analysis**\n",
    "    - Pixel intensities are used as features\n",
    "    \n",
    "    - Resizing images to reduce number of potential features (i.e., accounting for pixel correlations)\n",
    "\n",
    "2. **Statistical approach (histograms)**\n",
    "\n",
    "    - Descriptive statistics of the histograms:\n",
    "        - Raw bin counts\n",
    "        \n",
    "        - Mean (per color channel)\n",
    "        \n",
    "        - Standard deviation\n",
    "        \n",
    "        - Shifted correlations (or inner product)\n",
    "        \n",
    "        - HoG features (\"gradients): Histograms of Gradients, popular for detecting humans\n",
    "        \n",
    "        - Spectral measures\n",
    "        \n",
    "    - Key issues: scale, shift and *rotation* invariance, and intensity invariance\n",
    "    - Especially useful for edge coordinates\n",
    "    - Breaking up picture into patches\n",
    "    - Akin the Frey-Slate features"
   ]
  },
  {
   "cell_type": "markdown",
   "id": "3a79084e",
   "metadata": {
    "papermill": {
     "duration": 0.016622,
     "end_time": "2023-10-19T09:50:38.806990",
     "exception": false,
     "start_time": "2023-10-19T09:50:38.790368",
     "status": "completed"
    },
    "tags": []
   },
   "source": [
    "## 3.1 Raw Pixel Analysis <a class=\"anchor\"  id=\"section3.1\"></a>\n",
    "\n",
    "When working with image data, you often have many more Gigabytes of raw data than you have RAM memory available. Therefore, it is often not possible to work with all data \"in memory\". Resizing images often helps, but may cause loss of information.\n",
    "\n",
    "The images for this competition are\n",
    "\n",
    "- gray scale, so we need only one *color channel* \n",
    "- are only 48 by 48 pixels\n",
    "\n",
    "Furthermore there are only 2538 pictures in the training set. Therefore, we are lucky enough to be able to retain all images in RAM, and don't have to do \"special stuff\" to handle reading in image files while fitting a model.\n",
    "\n",
    "Reading in images pixelwise is easiest: We simply store each image as a long vector of pixel intensities, row by row. Also we will need a vector that contains the emotion label for each of the images."
   ]
  },
  {
   "cell_type": "code",
   "execution_count": 4,
   "id": "cf68c8eb",
   "metadata": {
    "execution": {
     "iopub.execute_input": "2023-10-19T09:50:38.841576Z",
     "iopub.status.busy": "2023-10-19T09:50:38.839534Z",
     "iopub.status.idle": "2023-10-19T09:50:50.635434Z",
     "shell.execute_reply": "2023-10-19T09:50:50.633206Z"
    },
    "papermill": {
     "duration": 11.816145,
     "end_time": "2023-10-19T09:50:50.637943",
     "exception": false,
     "start_time": "2023-10-19T09:50:38.821798",
     "status": "completed"
    },
    "tags": []
   },
   "outputs": [
    {
     "name": "stdout",
     "output_type": "stream",
     "text": [
      "                                    p20        p21        p22        p23\n",
      "anger/S010_004_00000018a.png 0.58039216 0.60784314 0.70196078 0.85882353\n",
      "anger/S010_004_00000018b.png 0.02745098 0.02745098 0.04313725 0.07450980\n",
      "anger/S010_004_00000018c.png 0.03529412 0.03137255 0.02745098 0.01960784\n",
      "anger/S010_004_00000018d.png 0.03921569 0.03137255 0.03137255 0.02745098\n",
      "anger/S010_004_00000018e.png 1.00000000 1.00000000 1.00000000 1.00000000\n",
      "anger/S010_004_00000018f.png 1.00000000 1.00000000 1.00000000 1.00000000\n"
     ]
    },
    {
     "data": {
      "text/plain": [
       "y\n",
       "  anger disgust   happy     sad \n",
       "    570     744     870     354 "
      ]
     },
     "metadata": {},
     "output_type": "display_data"
    },
    {
     "name": "stdout",
     "output_type": "stream",
     "text": [
      "                              p20        p21        p22        p23\n",
      "S010_004_00000017a.png 0.77647059 0.81960784 0.89803922 0.98039216\n",
      "S010_004_00000017b.png 0.46666667 0.52549020 0.63529412 0.74901961\n",
      "S010_004_00000017c.png 0.25490196 0.34509804 0.49803922 0.67450980\n",
      "S010_004_00000017d.png 0.04313725 0.03529412 0.03529412 0.02745098\n",
      "S010_004_00000017e.png 0.03921569 0.03137255 0.03137255 0.02745098\n",
      "S010_004_00000017f.png 0.07058824 0.10588235 0.14509804 0.24705882\n"
     ]
    }
   ],
   "source": [
    "# Combine all filenames into a single vector\n",
    "train_image_files <- c(anger, happy, sad, disgust)\n",
    "\n",
    "# Read in the images as pixel values (discarding color channels)\n",
    "X <- sapply(train_image_files, function(nm) c(readPNG(nm)[, , 1])) %>% t()\n",
    "y <- c(\n",
    "  rep(\"anger\", length(anger)),\n",
    "  rep(\"happy\", length(happy)),\n",
    "  rep(\"sad\", length(sad)),\n",
    "  rep(\"disgust\", length(disgust))\n",
    ")\n",
    "\n",
    "X_test <- sapply(test_im, function(nm) c(readPNG(nm)[, , 1])) %>% t()\n",
    "\n",
    "\n",
    "# Change row and column names of X to something more managable (caret::train requires column names)\n",
    "rownames(X) <- gsub(\".+train/\", \"\", rownames(X))\n",
    "rownames(X_test) <- gsub(\".+test/\", \"\", rownames(X_test))\n",
    "\n",
    "colnames(X) <- colnames(X_test) <- paste(\"p\", 1:ncol(X), sep = \"\")\n",
    "\n",
    "# Check result (are X, X_test, and y what we expect)\n",
    "X[1:6, 20:23] %>% print()\n",
    "table(y)\n",
    "                 \n",
    "# Call X X_train (handy for later)\n",
    "X_train <- X\n",
    "                 \n",
    "X_test[1:6, 20:23] %>% print()"
   ]
  },
  {
   "cell_type": "code",
   "execution_count": 5,
   "id": "feaaf1da",
   "metadata": {
    "execution": {
     "iopub.execute_input": "2023-10-19T09:50:50.671230Z",
     "iopub.status.busy": "2023-10-19T09:50:50.669265Z",
     "iopub.status.idle": "2023-10-19T09:50:51.421398Z",
     "shell.execute_reply": "2023-10-19T09:50:51.419415Z"
    },
    "papermill": {
     "duration": 0.771639,
     "end_time": "2023-10-19T09:50:51.423886",
     "exception": false,
     "start_time": "2023-10-19T09:50:50.652247",
     "status": "completed"
    },
    "tags": []
   },
   "outputs": [
    {
     "data": {
      "text/html": [
       "<table class=\"dataframe\">\n",
       "<caption>A matrix: 6 × 2304 of type dbl</caption>\n",
       "<thead>\n",
       "\t<tr><th></th><th scope=col>p1</th><th scope=col>p2</th><th scope=col>p3</th><th scope=col>p4</th><th scope=col>p5</th><th scope=col>p6</th><th scope=col>p7</th><th scope=col>p8</th><th scope=col>p9</th><th scope=col>p10</th><th scope=col>⋯</th><th scope=col>p2295</th><th scope=col>p2296</th><th scope=col>p2297</th><th scope=col>p2298</th><th scope=col>p2299</th><th scope=col>p2300</th><th scope=col>p2301</th><th scope=col>p2302</th><th scope=col>p2303</th><th scope=col>p2304</th></tr>\n",
       "</thead>\n",
       "<tbody>\n",
       "\t<tr><th scope=row>anger/S010_004_00000018a.png</th><td>0.06666667</td><td>0.04705882</td><td>0.03529412</td><td>0.01960784</td><td>0.03137255</td><td>0.05490196</td><td>0.05882353</td><td>0.07450980</td><td>0.06666667</td><td>0.04705882</td><td>⋯</td><td>0.007843137</td><td>0.00000000</td><td>0.09019608</td><td>0.6</td><td>0.63921569</td><td>0.6392157</td><td>0.62745098</td><td>0.6156863</td><td>0.6156863</td><td>0.6117647</td></tr>\n",
       "\t<tr><th scope=row>anger/S010_004_00000018b.png</th><td>0.06274510</td><td>0.07058824</td><td>0.07058824</td><td>0.05490196</td><td>0.03921569</td><td>0.03921569</td><td>0.03921569</td><td>0.04313725</td><td>0.04313725</td><td>0.04313725</td><td>⋯</td><td>1.000000000</td><td>1.00000000</td><td>1.00000000</td><td>1.0</td><td>1.00000000</td><td>1.0000000</td><td>1.00000000</td><td>1.0000000</td><td>1.0000000</td><td>1.0000000</td></tr>\n",
       "\t<tr><th scope=row>anger/S010_004_00000018c.png</th><td>0.00000000</td><td>0.04705882</td><td>0.04705882</td><td>0.05882353</td><td>0.07058824</td><td>0.08235294</td><td>0.08627451</td><td>0.08627451</td><td>0.07450980</td><td>0.06666667</td><td>⋯</td><td>1.000000000</td><td>1.00000000</td><td>1.00000000</td><td>1.0</td><td>1.00000000</td><td>0.9960784</td><td>1.00000000</td><td>1.0000000</td><td>1.0000000</td><td>1.0000000</td></tr>\n",
       "\t<tr><th scope=row>anger/S010_004_00000018d.png</th><td>1.00000000</td><td>0.94901961</td><td>0.02352941</td><td>0.04313725</td><td>0.02745098</td><td>0.02745098</td><td>0.03529412</td><td>0.02745098</td><td>0.03137255</td><td>0.04313725</td><td>⋯</td><td>1.000000000</td><td>1.00000000</td><td>1.00000000</td><td>1.0</td><td>1.00000000</td><td>1.0000000</td><td>1.00000000</td><td>1.0000000</td><td>1.0000000</td><td>0.9882353</td></tr>\n",
       "\t<tr><th scope=row>anger/S010_004_00000018e.png</th><td>1.00000000</td><td>1.00000000</td><td>1.00000000</td><td>1.00000000</td><td>1.00000000</td><td>1.00000000</td><td>1.00000000</td><td>1.00000000</td><td>1.00000000</td><td>1.00000000</td><td>⋯</td><td>0.074509804</td><td>0.02352941</td><td>0.00000000</td><td>0.0</td><td>0.02352941</td><td>0.4509804</td><td>0.62745098</td><td>0.6274510</td><td>0.6235294</td><td>0.6117647</td></tr>\n",
       "\t<tr><th scope=row>anger/S010_004_00000018f.png</th><td>1.00000000</td><td>1.00000000</td><td>1.00000000</td><td>1.00000000</td><td>1.00000000</td><td>1.00000000</td><td>1.00000000</td><td>1.00000000</td><td>1.00000000</td><td>1.00000000</td><td>⋯</td><td>0.094117647</td><td>0.07843137</td><td>0.03921569</td><td>0.0</td><td>0.00000000</td><td>0.0000000</td><td>0.02745098</td><td>0.5333333</td><td>0.6196078</td><td>0.6196078</td></tr>\n",
       "</tbody>\n",
       "</table>\n"
      ],
      "text/latex": [
       "A matrix: 6 × 2304 of type dbl\n",
       "\\begin{tabular}{r|lllllllllllllllllllll}\n",
       "  & p1 & p2 & p3 & p4 & p5 & p6 & p7 & p8 & p9 & p10 & ⋯ & p2295 & p2296 & p2297 & p2298 & p2299 & p2300 & p2301 & p2302 & p2303 & p2304\\\\\n",
       "\\hline\n",
       "\tanger/S010\\_004\\_00000018a.png & 0.06666667 & 0.04705882 & 0.03529412 & 0.01960784 & 0.03137255 & 0.05490196 & 0.05882353 & 0.07450980 & 0.06666667 & 0.04705882 & ⋯ & 0.007843137 & 0.00000000 & 0.09019608 & 0.6 & 0.63921569 & 0.6392157 & 0.62745098 & 0.6156863 & 0.6156863 & 0.6117647\\\\\n",
       "\tanger/S010\\_004\\_00000018b.png & 0.06274510 & 0.07058824 & 0.07058824 & 0.05490196 & 0.03921569 & 0.03921569 & 0.03921569 & 0.04313725 & 0.04313725 & 0.04313725 & ⋯ & 1.000000000 & 1.00000000 & 1.00000000 & 1.0 & 1.00000000 & 1.0000000 & 1.00000000 & 1.0000000 & 1.0000000 & 1.0000000\\\\\n",
       "\tanger/S010\\_004\\_00000018c.png & 0.00000000 & 0.04705882 & 0.04705882 & 0.05882353 & 0.07058824 & 0.08235294 & 0.08627451 & 0.08627451 & 0.07450980 & 0.06666667 & ⋯ & 1.000000000 & 1.00000000 & 1.00000000 & 1.0 & 1.00000000 & 0.9960784 & 1.00000000 & 1.0000000 & 1.0000000 & 1.0000000\\\\\n",
       "\tanger/S010\\_004\\_00000018d.png & 1.00000000 & 0.94901961 & 0.02352941 & 0.04313725 & 0.02745098 & 0.02745098 & 0.03529412 & 0.02745098 & 0.03137255 & 0.04313725 & ⋯ & 1.000000000 & 1.00000000 & 1.00000000 & 1.0 & 1.00000000 & 1.0000000 & 1.00000000 & 1.0000000 & 1.0000000 & 0.9882353\\\\\n",
       "\tanger/S010\\_004\\_00000018e.png & 1.00000000 & 1.00000000 & 1.00000000 & 1.00000000 & 1.00000000 & 1.00000000 & 1.00000000 & 1.00000000 & 1.00000000 & 1.00000000 & ⋯ & 0.074509804 & 0.02352941 & 0.00000000 & 0.0 & 0.02352941 & 0.4509804 & 0.62745098 & 0.6274510 & 0.6235294 & 0.6117647\\\\\n",
       "\tanger/S010\\_004\\_00000018f.png & 1.00000000 & 1.00000000 & 1.00000000 & 1.00000000 & 1.00000000 & 1.00000000 & 1.00000000 & 1.00000000 & 1.00000000 & 1.00000000 & ⋯ & 0.094117647 & 0.07843137 & 0.03921569 & 0.0 & 0.00000000 & 0.0000000 & 0.02745098 & 0.5333333 & 0.6196078 & 0.6196078\\\\\n",
       "\\end{tabular}\n"
      ],
      "text/markdown": [
       "\n",
       "A matrix: 6 × 2304 of type dbl\n",
       "\n",
       "| <!--/--> | p1 | p2 | p3 | p4 | p5 | p6 | p7 | p8 | p9 | p10 | ⋯ | p2295 | p2296 | p2297 | p2298 | p2299 | p2300 | p2301 | p2302 | p2303 | p2304 |\n",
       "|---|---|---|---|---|---|---|---|---|---|---|---|---|---|---|---|---|---|---|---|---|---|\n",
       "| anger/S010_004_00000018a.png | 0.06666667 | 0.04705882 | 0.03529412 | 0.01960784 | 0.03137255 | 0.05490196 | 0.05882353 | 0.07450980 | 0.06666667 | 0.04705882 | ⋯ | 0.007843137 | 0.00000000 | 0.09019608 | 0.6 | 0.63921569 | 0.6392157 | 0.62745098 | 0.6156863 | 0.6156863 | 0.6117647 |\n",
       "| anger/S010_004_00000018b.png | 0.06274510 | 0.07058824 | 0.07058824 | 0.05490196 | 0.03921569 | 0.03921569 | 0.03921569 | 0.04313725 | 0.04313725 | 0.04313725 | ⋯ | 1.000000000 | 1.00000000 | 1.00000000 | 1.0 | 1.00000000 | 1.0000000 | 1.00000000 | 1.0000000 | 1.0000000 | 1.0000000 |\n",
       "| anger/S010_004_00000018c.png | 0.00000000 | 0.04705882 | 0.04705882 | 0.05882353 | 0.07058824 | 0.08235294 | 0.08627451 | 0.08627451 | 0.07450980 | 0.06666667 | ⋯ | 1.000000000 | 1.00000000 | 1.00000000 | 1.0 | 1.00000000 | 0.9960784 | 1.00000000 | 1.0000000 | 1.0000000 | 1.0000000 |\n",
       "| anger/S010_004_00000018d.png | 1.00000000 | 0.94901961 | 0.02352941 | 0.04313725 | 0.02745098 | 0.02745098 | 0.03529412 | 0.02745098 | 0.03137255 | 0.04313725 | ⋯ | 1.000000000 | 1.00000000 | 1.00000000 | 1.0 | 1.00000000 | 1.0000000 | 1.00000000 | 1.0000000 | 1.0000000 | 0.9882353 |\n",
       "| anger/S010_004_00000018e.png | 1.00000000 | 1.00000000 | 1.00000000 | 1.00000000 | 1.00000000 | 1.00000000 | 1.00000000 | 1.00000000 | 1.00000000 | 1.00000000 | ⋯ | 0.074509804 | 0.02352941 | 0.00000000 | 0.0 | 0.02352941 | 0.4509804 | 0.62745098 | 0.6274510 | 0.6235294 | 0.6117647 |\n",
       "| anger/S010_004_00000018f.png | 1.00000000 | 1.00000000 | 1.00000000 | 1.00000000 | 1.00000000 | 1.00000000 | 1.00000000 | 1.00000000 | 1.00000000 | 1.00000000 | ⋯ | 0.094117647 | 0.07843137 | 0.03921569 | 0.0 | 0.00000000 | 0.0000000 | 0.02745098 | 0.5333333 | 0.6196078 | 0.6196078 |\n",
       "\n"
      ],
      "text/plain": [
       "                             p1         p2         p3         p4        \n",
       "anger/S010_004_00000018a.png 0.06666667 0.04705882 0.03529412 0.01960784\n",
       "anger/S010_004_00000018b.png 0.06274510 0.07058824 0.07058824 0.05490196\n",
       "anger/S010_004_00000018c.png 0.00000000 0.04705882 0.04705882 0.05882353\n",
       "anger/S010_004_00000018d.png 1.00000000 0.94901961 0.02352941 0.04313725\n",
       "anger/S010_004_00000018e.png 1.00000000 1.00000000 1.00000000 1.00000000\n",
       "anger/S010_004_00000018f.png 1.00000000 1.00000000 1.00000000 1.00000000\n",
       "                             p5         p6         p7         p8        \n",
       "anger/S010_004_00000018a.png 0.03137255 0.05490196 0.05882353 0.07450980\n",
       "anger/S010_004_00000018b.png 0.03921569 0.03921569 0.03921569 0.04313725\n",
       "anger/S010_004_00000018c.png 0.07058824 0.08235294 0.08627451 0.08627451\n",
       "anger/S010_004_00000018d.png 0.02745098 0.02745098 0.03529412 0.02745098\n",
       "anger/S010_004_00000018e.png 1.00000000 1.00000000 1.00000000 1.00000000\n",
       "anger/S010_004_00000018f.png 1.00000000 1.00000000 1.00000000 1.00000000\n",
       "                             p9         p10        ⋯ p2295       p2296     \n",
       "anger/S010_004_00000018a.png 0.06666667 0.04705882 ⋯ 0.007843137 0.00000000\n",
       "anger/S010_004_00000018b.png 0.04313725 0.04313725 ⋯ 1.000000000 1.00000000\n",
       "anger/S010_004_00000018c.png 0.07450980 0.06666667 ⋯ 1.000000000 1.00000000\n",
       "anger/S010_004_00000018d.png 0.03137255 0.04313725 ⋯ 1.000000000 1.00000000\n",
       "anger/S010_004_00000018e.png 1.00000000 1.00000000 ⋯ 0.074509804 0.02352941\n",
       "anger/S010_004_00000018f.png 1.00000000 1.00000000 ⋯ 0.094117647 0.07843137\n",
       "                             p2297      p2298 p2299      p2300     p2301     \n",
       "anger/S010_004_00000018a.png 0.09019608 0.6   0.63921569 0.6392157 0.62745098\n",
       "anger/S010_004_00000018b.png 1.00000000 1.0   1.00000000 1.0000000 1.00000000\n",
       "anger/S010_004_00000018c.png 1.00000000 1.0   1.00000000 0.9960784 1.00000000\n",
       "anger/S010_004_00000018d.png 1.00000000 1.0   1.00000000 1.0000000 1.00000000\n",
       "anger/S010_004_00000018e.png 0.00000000 0.0   0.02352941 0.4509804 0.62745098\n",
       "anger/S010_004_00000018f.png 0.03921569 0.0   0.00000000 0.0000000 0.02745098\n",
       "                             p2302     p2303     p2304    \n",
       "anger/S010_004_00000018a.png 0.6156863 0.6156863 0.6117647\n",
       "anger/S010_004_00000018b.png 1.0000000 1.0000000 1.0000000\n",
       "anger/S010_004_00000018c.png 1.0000000 1.0000000 1.0000000\n",
       "anger/S010_004_00000018d.png 1.0000000 1.0000000 0.9882353\n",
       "anger/S010_004_00000018e.png 0.6274510 0.6235294 0.6117647\n",
       "anger/S010_004_00000018f.png 0.5333333 0.6196078 0.6196078"
      ]
     },
     "metadata": {},
     "output_type": "display_data"
    },
    {
     "data": {
      "text/html": [
       "2304"
      ],
      "text/latex": [
       "2304"
      ],
      "text/markdown": [
       "2304"
      ],
      "text/plain": [
       "[1] 2304"
      ]
     },
     "metadata": {},
     "output_type": "display_data"
    },
    {
     "data": {
      "text/html": [
       "3618"
      ],
      "text/latex": [
       "3618"
      ],
      "text/markdown": [
       "3618"
      ],
      "text/plain": [
       "[1] 3618"
      ]
     },
     "metadata": {},
     "output_type": "display_data"
    }
   ],
   "source": [
    "# Merge X_train and X_test for the moment to compute features\n",
    "X <- rbind(X_train, X_test)\n",
    "\n",
    "# Save index of training data\n",
    "train_index <- 1:nrow(X_train)\n",
    "\n",
    "head(X)\n",
    "ncol(X)\n",
    "nrow(X)"
   ]
  },
  {
   "cell_type": "markdown",
   "id": "7be42808",
   "metadata": {
    "papermill": {
     "duration": 0.014415,
     "end_time": "2023-10-19T09:50:51.452540",
     "exception": false,
     "start_time": "2023-10-19T09:50:51.438125",
     "status": "completed"
    },
    "tags": []
   },
   "source": [
    "## 3.2 Statistical (Histogram) Features <a class=\"anchor\"  id=\"section3.2\"></a>\n",
    "\n",
    "### Statistical (histogram) features from edges\n",
    "Images depicting a certain face are rarely identical; they often exhibit variations due to potential transformations like flipping, mirroring, or color alterations. To create features that remain robust in the face of such changes, we turn to \"histogram features,\" which serve as statistical abstractions of various image attributes commonly shared among similar pictures. While it's possible to compute these histogram features using pixel data, they often yield superior results when applied to edges. Hence, our feature extraction approach centers on the edges, as the critical information lies in capturing abrupt light changes, also referred to as contrast. This indicates that features using edges can be quite useful for machine learning algorithms.\n",
    "\n",
    "Frey and Slate type features: Histogram descriptives of the x and y locations of the 'on' pixels in the edge pixel maps. Descriptions were attained from here: https://link.springer.com/content/pdf/10.1007/BF00114162.pdf)\n",
    "* **x.box**: The horizontal position.\n",
    "* **y.box**: The verctical position.\n",
    "* **width**: The width of the box.\n",
    "* **height**: The height of the box.\n",
    "* **onpix**: Number of pixels that are 'on' pixel.\n",
    "* **x.bar**: The mean horizontal position of the pixels inside the box.\n",
    "* **y.bar**: The mean vertical position of the pixels inside the box.\n",
    "* **x2.bar**: The mean squared value of the horizontal pixel distances (spread of the box).\n",
    "* **y2.bar**: The mean squared value of the vertical pixel distances.\n",
    "* **xybar**: The mean product of the horizontal and vertical distances for each \"on\" pixel (positive value for diagonal lines that run from bottom left to top right and a negative value for diagonal lines from top left to bottom right).\n",
    "* **x2y.bar**: Correlation of the horizontal variance with the vertical position of the box.\n",
    "* **xy2.bar**: This measures the correlation of the vertical variance with the horizontal position.\n",
    "* **x.ege**: The amount of edges in the box.\n",
    "* **xegvy**: The sum of the vertical positions of edges encountered as measured in 13 above (higher value if there are more edges at the top of the box).\n",
    "* **y.ege**: The mean number of edges encountered when making systematic scans of the image from bottom to top over all horizontal positions within the box.\n",
    "* **yegvx**: The sum of horizontal positions of edges encountered as measured in 15 above.\n",
    "\n",
    "All features computed this way have non-zero variance, and it is generally dificult to predict which features are highly correlated or multi-collinear.\n",
    "\n",
    "Furthermore, **Mean, Standard Deviation, Skewness, Kurtosis and Entropy** will be used to evaluate edges (edge features).\n",
    "\n",
    "**Entropy** is a measure of disorder, uncertainty, or randomness within a system."
   ]
  },
  {
   "cell_type": "code",
   "execution_count": 6,
   "id": "32f7761b",
   "metadata": {
    "execution": {
     "iopub.execute_input": "2023-10-19T09:50:51.486168Z",
     "iopub.status.busy": "2023-10-19T09:50:51.484336Z",
     "iopub.status.idle": "2023-10-19T09:50:51.502384Z",
     "shell.execute_reply": "2023-10-19T09:50:51.500291Z"
    },
    "papermill": {
     "duration": 0.037504,
     "end_time": "2023-10-19T09:50:51.505159",
     "exception": false,
     "start_time": "2023-10-19T09:50:51.467655",
     "status": "completed"
    },
    "tags": []
   },
   "outputs": [],
   "source": [
    "# Entropy function to be used in \"compute_edge_features\"\n",
    "entropy = function(x, nbreaks = nclass.Sturges(x)) {\n",
    "    r = range(x)\n",
    "    x_binned = findInterval(x, seq(r[1], r[2], len= nbreaks))\n",
    "    h = tabulate(x_binned, nbins = nbreaks)\n",
    "    p = h/sum(h)\n",
    "    -sum(p[p>0] * log(p[p>0]))\n",
    "}"
   ]
  },
  {
   "cell_type": "code",
   "execution_count": 7,
   "id": "059a1ef2",
   "metadata": {
    "execution": {
     "iopub.execute_input": "2023-10-19T09:50:51.538233Z",
     "iopub.status.busy": "2023-10-19T09:50:51.536509Z",
     "iopub.status.idle": "2023-10-19T09:51:12.724050Z",
     "shell.execute_reply": "2023-10-19T09:51:12.720918Z"
    },
    "papermill": {
     "duration": 21.209876,
     "end_time": "2023-10-19T09:51:12.729593",
     "exception": false,
     "start_time": "2023-10-19T09:50:51.519717",
     "status": "completed"
    },
    "tags": []
   },
   "outputs": [
    {
     "data": {
      "text/html": [
       "<table class=\"dataframe\">\n",
       "<caption>A matrix: 6 × 2388 of type dbl</caption>\n",
       "<thead>\n",
       "\t<tr><th></th><th scope=col>p1</th><th scope=col>p2</th><th scope=col>p3</th><th scope=col>p4</th><th scope=col>p5</th><th scope=col>p6</th><th scope=col>p7</th><th scope=col>p8</th><th scope=col>p9</th><th scope=col>p10</th><th scope=col>⋯</th><th scope=col>fsf_d2.xy2bar</th><th scope=col>fsf_d2.x.ege</th><th scope=col>fsf_d2.xegvy</th><th scope=col>fsf_d2.y.ege</th><th scope=col>fsf_d2.yegvx</th><th scope=col>m_d2</th><th scope=col>sd_d2</th><th scope=col>ske_d2</th><th scope=col>kur_d2</th><th scope=col>entropy_d2</th></tr>\n",
       "</thead>\n",
       "<tbody>\n",
       "\t<tr><th scope=row>anger/S010_004_00000018a.png</th><td>0.06666667</td><td>0.04705882</td><td>0.03529412</td><td>0.01960784</td><td>0.03137255</td><td>0.05490196</td><td>0.05882353</td><td>0.07450980</td><td>0.06666667</td><td>0.04705882</td><td>⋯</td><td>1.757724</td><td>14.86111</td><td>16.71797</td><td>12.66667</td><td>21.17248</td><td>0.9293798</td><td>0.2562473</td><td>-3.349775</td><td> 9.225167</td><td>0.2552402</td></tr>\n",
       "\t<tr><th scope=row>anger/S010_004_00000018b.png</th><td>0.06274510</td><td>0.07058824</td><td>0.07058824</td><td>0.05490196</td><td>0.03921569</td><td>0.03921569</td><td>0.03921569</td><td>0.04313725</td><td>0.04313725</td><td>0.04313725</td><td>⋯</td><td>1.757750</td><td>12.50000</td><td>21.38298</td><td>11.51163</td><td>18.96560</td><td>0.9298325</td><td>0.2554869</td><td>-3.363287</td><td> 9.315917</td><td>0.2540720</td></tr>\n",
       "\t<tr><th scope=row>anger/S010_004_00000018c.png</th><td>0.00000000</td><td>0.04705882</td><td>0.04705882</td><td>0.05882353</td><td>0.07058824</td><td>0.08235294</td><td>0.08627451</td><td>0.08627451</td><td>0.07450980</td><td>0.06666667</td><td>⋯</td><td>1.757751</td><td>11.55556</td><td>19.14894</td><td>11.93182</td><td>19.84835</td><td>0.9320960</td><td>0.2516381</td><td>-3.432710</td><td> 9.787932</td><td>0.2481833</td></tr>\n",
       "\t<tr><th scope=row>anger/S010_004_00000018d.png</th><td>1.00000000</td><td>0.94901961</td><td>0.02352941</td><td>0.04313725</td><td>0.02745098</td><td>0.02745098</td><td>0.03529412</td><td>0.02745098</td><td>0.03137255</td><td>0.04313725</td><td>⋯</td><td>1.757746</td><td>11.66667</td><td>15.36668</td><td>11.00000</td><td>17.86555</td><td>0.9388864</td><td>0.2395929</td><td>-3.661943</td><td>11.414995</td><td>0.2300208</td></tr>\n",
       "\t<tr><th scope=row>anger/S010_004_00000018e.png</th><td>1.00000000</td><td>1.00000000</td><td>1.00000000</td><td>1.00000000</td><td>1.00000000</td><td>1.00000000</td><td>1.00000000</td><td>1.00000000</td><td>1.00000000</td><td>1.00000000</td><td>⋯</td><td>1.757717</td><td>15.28571</td><td>15.99819</td><td>13.06818</td><td>21.53237</td><td>0.9284744</td><td>0.2577591</td><td>-3.323107</td><td> 9.047134</td><td>0.2575674</td></tr>\n",
       "\t<tr><th scope=row>anger/S010_004_00000018f.png</th><td>1.00000000</td><td>1.00000000</td><td>1.00000000</td><td>1.00000000</td><td>1.00000000</td><td>1.00000000</td><td>1.00000000</td><td>1.00000000</td><td>1.00000000</td><td>1.00000000</td><td>⋯</td><td>1.757722</td><td>11.96970</td><td>11.50294</td><td>11.25000</td><td>17.54640</td><td>0.9443187</td><td>0.2293572</td><td>-3.872716</td><td>13.003815</td><td>0.2149153</td></tr>\n",
       "</tbody>\n",
       "</table>\n"
      ],
      "text/latex": [
       "A matrix: 6 × 2388 of type dbl\n",
       "\\begin{tabular}{r|lllllllllllllllllllll}\n",
       "  & p1 & p2 & p3 & p4 & p5 & p6 & p7 & p8 & p9 & p10 & ⋯ & fsf\\_d2.xy2bar & fsf\\_d2.x.ege & fsf\\_d2.xegvy & fsf\\_d2.y.ege & fsf\\_d2.yegvx & m\\_d2 & sd\\_d2 & ske\\_d2 & kur\\_d2 & entropy\\_d2\\\\\n",
       "\\hline\n",
       "\tanger/S010\\_004\\_00000018a.png & 0.06666667 & 0.04705882 & 0.03529412 & 0.01960784 & 0.03137255 & 0.05490196 & 0.05882353 & 0.07450980 & 0.06666667 & 0.04705882 & ⋯ & 1.757724 & 14.86111 & 16.71797 & 12.66667 & 21.17248 & 0.9293798 & 0.2562473 & -3.349775 &  9.225167 & 0.2552402\\\\\n",
       "\tanger/S010\\_004\\_00000018b.png & 0.06274510 & 0.07058824 & 0.07058824 & 0.05490196 & 0.03921569 & 0.03921569 & 0.03921569 & 0.04313725 & 0.04313725 & 0.04313725 & ⋯ & 1.757750 & 12.50000 & 21.38298 & 11.51163 & 18.96560 & 0.9298325 & 0.2554869 & -3.363287 &  9.315917 & 0.2540720\\\\\n",
       "\tanger/S010\\_004\\_00000018c.png & 0.00000000 & 0.04705882 & 0.04705882 & 0.05882353 & 0.07058824 & 0.08235294 & 0.08627451 & 0.08627451 & 0.07450980 & 0.06666667 & ⋯ & 1.757751 & 11.55556 & 19.14894 & 11.93182 & 19.84835 & 0.9320960 & 0.2516381 & -3.432710 &  9.787932 & 0.2481833\\\\\n",
       "\tanger/S010\\_004\\_00000018d.png & 1.00000000 & 0.94901961 & 0.02352941 & 0.04313725 & 0.02745098 & 0.02745098 & 0.03529412 & 0.02745098 & 0.03137255 & 0.04313725 & ⋯ & 1.757746 & 11.66667 & 15.36668 & 11.00000 & 17.86555 & 0.9388864 & 0.2395929 & -3.661943 & 11.414995 & 0.2300208\\\\\n",
       "\tanger/S010\\_004\\_00000018e.png & 1.00000000 & 1.00000000 & 1.00000000 & 1.00000000 & 1.00000000 & 1.00000000 & 1.00000000 & 1.00000000 & 1.00000000 & 1.00000000 & ⋯ & 1.757717 & 15.28571 & 15.99819 & 13.06818 & 21.53237 & 0.9284744 & 0.2577591 & -3.323107 &  9.047134 & 0.2575674\\\\\n",
       "\tanger/S010\\_004\\_00000018f.png & 1.00000000 & 1.00000000 & 1.00000000 & 1.00000000 & 1.00000000 & 1.00000000 & 1.00000000 & 1.00000000 & 1.00000000 & 1.00000000 & ⋯ & 1.757722 & 11.96970 & 11.50294 & 11.25000 & 17.54640 & 0.9443187 & 0.2293572 & -3.872716 & 13.003815 & 0.2149153\\\\\n",
       "\\end{tabular}\n"
      ],
      "text/markdown": [
       "\n",
       "A matrix: 6 × 2388 of type dbl\n",
       "\n",
       "| <!--/--> | p1 | p2 | p3 | p4 | p5 | p6 | p7 | p8 | p9 | p10 | ⋯ | fsf_d2.xy2bar | fsf_d2.x.ege | fsf_d2.xegvy | fsf_d2.y.ege | fsf_d2.yegvx | m_d2 | sd_d2 | ske_d2 | kur_d2 | entropy_d2 |\n",
       "|---|---|---|---|---|---|---|---|---|---|---|---|---|---|---|---|---|---|---|---|---|---|\n",
       "| anger/S010_004_00000018a.png | 0.06666667 | 0.04705882 | 0.03529412 | 0.01960784 | 0.03137255 | 0.05490196 | 0.05882353 | 0.07450980 | 0.06666667 | 0.04705882 | ⋯ | 1.757724 | 14.86111 | 16.71797 | 12.66667 | 21.17248 | 0.9293798 | 0.2562473 | -3.349775 |  9.225167 | 0.2552402 |\n",
       "| anger/S010_004_00000018b.png | 0.06274510 | 0.07058824 | 0.07058824 | 0.05490196 | 0.03921569 | 0.03921569 | 0.03921569 | 0.04313725 | 0.04313725 | 0.04313725 | ⋯ | 1.757750 | 12.50000 | 21.38298 | 11.51163 | 18.96560 | 0.9298325 | 0.2554869 | -3.363287 |  9.315917 | 0.2540720 |\n",
       "| anger/S010_004_00000018c.png | 0.00000000 | 0.04705882 | 0.04705882 | 0.05882353 | 0.07058824 | 0.08235294 | 0.08627451 | 0.08627451 | 0.07450980 | 0.06666667 | ⋯ | 1.757751 | 11.55556 | 19.14894 | 11.93182 | 19.84835 | 0.9320960 | 0.2516381 | -3.432710 |  9.787932 | 0.2481833 |\n",
       "| anger/S010_004_00000018d.png | 1.00000000 | 0.94901961 | 0.02352941 | 0.04313725 | 0.02745098 | 0.02745098 | 0.03529412 | 0.02745098 | 0.03137255 | 0.04313725 | ⋯ | 1.757746 | 11.66667 | 15.36668 | 11.00000 | 17.86555 | 0.9388864 | 0.2395929 | -3.661943 | 11.414995 | 0.2300208 |\n",
       "| anger/S010_004_00000018e.png | 1.00000000 | 1.00000000 | 1.00000000 | 1.00000000 | 1.00000000 | 1.00000000 | 1.00000000 | 1.00000000 | 1.00000000 | 1.00000000 | ⋯ | 1.757717 | 15.28571 | 15.99819 | 13.06818 | 21.53237 | 0.9284744 | 0.2577591 | -3.323107 |  9.047134 | 0.2575674 |\n",
       "| anger/S010_004_00000018f.png | 1.00000000 | 1.00000000 | 1.00000000 | 1.00000000 | 1.00000000 | 1.00000000 | 1.00000000 | 1.00000000 | 1.00000000 | 1.00000000 | ⋯ | 1.757722 | 11.96970 | 11.50294 | 11.25000 | 17.54640 | 0.9443187 | 0.2293572 | -3.872716 | 13.003815 | 0.2149153 |\n",
       "\n"
      ],
      "text/plain": [
       "                             p1         p2         p3         p4        \n",
       "anger/S010_004_00000018a.png 0.06666667 0.04705882 0.03529412 0.01960784\n",
       "anger/S010_004_00000018b.png 0.06274510 0.07058824 0.07058824 0.05490196\n",
       "anger/S010_004_00000018c.png 0.00000000 0.04705882 0.04705882 0.05882353\n",
       "anger/S010_004_00000018d.png 1.00000000 0.94901961 0.02352941 0.04313725\n",
       "anger/S010_004_00000018e.png 1.00000000 1.00000000 1.00000000 1.00000000\n",
       "anger/S010_004_00000018f.png 1.00000000 1.00000000 1.00000000 1.00000000\n",
       "                             p5         p6         p7         p8        \n",
       "anger/S010_004_00000018a.png 0.03137255 0.05490196 0.05882353 0.07450980\n",
       "anger/S010_004_00000018b.png 0.03921569 0.03921569 0.03921569 0.04313725\n",
       "anger/S010_004_00000018c.png 0.07058824 0.08235294 0.08627451 0.08627451\n",
       "anger/S010_004_00000018d.png 0.02745098 0.02745098 0.03529412 0.02745098\n",
       "anger/S010_004_00000018e.png 1.00000000 1.00000000 1.00000000 1.00000000\n",
       "anger/S010_004_00000018f.png 1.00000000 1.00000000 1.00000000 1.00000000\n",
       "                             p9         p10        ⋯ fsf_d2.xy2bar fsf_d2.x.ege\n",
       "anger/S010_004_00000018a.png 0.06666667 0.04705882 ⋯ 1.757724      14.86111    \n",
       "anger/S010_004_00000018b.png 0.04313725 0.04313725 ⋯ 1.757750      12.50000    \n",
       "anger/S010_004_00000018c.png 0.07450980 0.06666667 ⋯ 1.757751      11.55556    \n",
       "anger/S010_004_00000018d.png 0.03137255 0.04313725 ⋯ 1.757746      11.66667    \n",
       "anger/S010_004_00000018e.png 1.00000000 1.00000000 ⋯ 1.757717      15.28571    \n",
       "anger/S010_004_00000018f.png 1.00000000 1.00000000 ⋯ 1.757722      11.96970    \n",
       "                             fsf_d2.xegvy fsf_d2.y.ege fsf_d2.yegvx m_d2     \n",
       "anger/S010_004_00000018a.png 16.71797     12.66667     21.17248     0.9293798\n",
       "anger/S010_004_00000018b.png 21.38298     11.51163     18.96560     0.9298325\n",
       "anger/S010_004_00000018c.png 19.14894     11.93182     19.84835     0.9320960\n",
       "anger/S010_004_00000018d.png 15.36668     11.00000     17.86555     0.9388864\n",
       "anger/S010_004_00000018e.png 15.99819     13.06818     21.53237     0.9284744\n",
       "anger/S010_004_00000018f.png 11.50294     11.25000     17.54640     0.9443187\n",
       "                             sd_d2     ske_d2    kur_d2    entropy_d2\n",
       "anger/S010_004_00000018a.png 0.2562473 -3.349775  9.225167 0.2552402 \n",
       "anger/S010_004_00000018b.png 0.2554869 -3.363287  9.315917 0.2540720 \n",
       "anger/S010_004_00000018c.png 0.2516381 -3.432710  9.787932 0.2481833 \n",
       "anger/S010_004_00000018d.png 0.2395929 -3.661943 11.414995 0.2300208 \n",
       "anger/S010_004_00000018e.png 0.2577591 -3.323107  9.047134 0.2575674 \n",
       "anger/S010_004_00000018f.png 0.2293572 -3.872716 13.003815 0.2149153 "
      ]
     },
     "metadata": {},
     "output_type": "display_data"
    },
    {
     "data": {
      "text/html": [
       "<style>\n",
       ".list-inline {list-style: none; margin:0; padding: 0}\n",
       ".list-inline>li {display: inline-block}\n",
       ".list-inline>li:not(:last-child)::after {content: \"\\00b7\"; padding: 0 .5ex}\n",
       "</style>\n",
       "<ol class=list-inline><li>'p1'</li><li>'p2'</li><li>'p3'</li><li>'p4'</li><li>'p5'</li><li>'p6'</li><li>'p7'</li><li>'p8'</li><li>'p9'</li><li>'p10'</li><li>'p11'</li><li>'p12'</li><li>'p13'</li><li>'p14'</li><li>'p15'</li><li>'p16'</li><li>'p17'</li><li>'p18'</li><li>'p19'</li><li>'p20'</li><li>'p21'</li><li>'p22'</li><li>'p23'</li><li>'p24'</li><li>'p25'</li><li>'p26'</li><li>'p27'</li><li>'p28'</li><li>'p29'</li><li>'p30'</li><li>'p31'</li><li>'p32'</li><li>'p33'</li><li>'p34'</li><li>'p35'</li><li>'p36'</li><li>'p37'</li><li>'p38'</li><li>'p39'</li><li>'p40'</li><li>'p41'</li><li>'p42'</li><li>'p43'</li><li>'p44'</li><li>'p45'</li><li>'p46'</li><li>'p47'</li><li>'p48'</li><li>'p49'</li><li>'p50'</li><li>'p51'</li><li>'p52'</li><li>'p53'</li><li>'p54'</li><li>'p55'</li><li>'p56'</li><li>'p57'</li><li>'p58'</li><li>'p59'</li><li>'p60'</li><li>'p61'</li><li>'p62'</li><li>'p63'</li><li>'p64'</li><li>'p65'</li><li>'p66'</li><li>'p67'</li><li>'p68'</li><li>'p69'</li><li>'p70'</li><li>'p71'</li><li>'p72'</li><li>'p73'</li><li>'p74'</li><li>'p75'</li><li>'p76'</li><li>'p77'</li><li>'p78'</li><li>'p79'</li><li>'p80'</li><li>'p81'</li><li>'p82'</li><li>'p83'</li><li>'p84'</li><li>'p85'</li><li>'p86'</li><li>'p87'</li><li>'p88'</li><li>'p89'</li><li>'p90'</li><li>'p91'</li><li>'p92'</li><li>'p93'</li><li>'p94'</li><li>'p95'</li><li>'p96'</li><li>'p97'</li><li>'p98'</li><li>'p99'</li><li>'p100'</li><li>'p101'</li><li>'p102'</li><li>'p103'</li><li>'p104'</li><li>'p105'</li><li>'p106'</li><li>'p107'</li><li>'p108'</li><li>'p109'</li><li>'p110'</li><li>'p111'</li><li>'p112'</li><li>'p113'</li><li>'p114'</li><li>'p115'</li><li>'p116'</li><li>'p117'</li><li>'p118'</li><li>'p119'</li><li>'p120'</li><li>'p121'</li><li>'p122'</li><li>'p123'</li><li>'p124'</li><li>'p125'</li><li>'p126'</li><li>'p127'</li><li>'p128'</li><li>'p129'</li><li>'p130'</li><li>'p131'</li><li>'p132'</li><li>'p133'</li><li>'p134'</li><li>'p135'</li><li>'p136'</li><li>'p137'</li><li>'p138'</li><li>'p139'</li><li>'p140'</li><li>'p141'</li><li>'p142'</li><li>'p143'</li><li>'p144'</li><li>'p145'</li><li>'p146'</li><li>'p147'</li><li>'p148'</li><li>'p149'</li><li>'p150'</li><li>'p151'</li><li>'p152'</li><li>'p153'</li><li>'p154'</li><li>'p155'</li><li>'p156'</li><li>'p157'</li><li>'p158'</li><li>'p159'</li><li>'p160'</li><li>'p161'</li><li>'p162'</li><li>'p163'</li><li>'p164'</li><li>'p165'</li><li>'p166'</li><li>'p167'</li><li>'p168'</li><li>'p169'</li><li>'p170'</li><li>'p171'</li><li>'p172'</li><li>'p173'</li><li>'p174'</li><li>'p175'</li><li>'p176'</li><li>'p177'</li><li>'p178'</li><li>'p179'</li><li>'p180'</li><li>'p181'</li><li>'p182'</li><li>'p183'</li><li>'p184'</li><li>'p185'</li><li>'p186'</li><li>'p187'</li><li>'p188'</li><li>'p189'</li><li>'p190'</li><li>'p191'</li><li>'p192'</li><li>'p193'</li><li>'p194'</li><li>'p195'</li><li>'p196'</li><li>'p197'</li><li>'p198'</li><li>'p199'</li><li>'p200'</li><li>⋯</li><li>'p2189'</li><li>'p2190'</li><li>'p2191'</li><li>'p2192'</li><li>'p2193'</li><li>'p2194'</li><li>'p2195'</li><li>'p2196'</li><li>'p2197'</li><li>'p2198'</li><li>'p2199'</li><li>'p2200'</li><li>'p2201'</li><li>'p2202'</li><li>'p2203'</li><li>'p2204'</li><li>'p2205'</li><li>'p2206'</li><li>'p2207'</li><li>'p2208'</li><li>'p2209'</li><li>'p2210'</li><li>'p2211'</li><li>'p2212'</li><li>'p2213'</li><li>'p2214'</li><li>'p2215'</li><li>'p2216'</li><li>'p2217'</li><li>'p2218'</li><li>'p2219'</li><li>'p2220'</li><li>'p2221'</li><li>'p2222'</li><li>'p2223'</li><li>'p2224'</li><li>'p2225'</li><li>'p2226'</li><li>'p2227'</li><li>'p2228'</li><li>'p2229'</li><li>'p2230'</li><li>'p2231'</li><li>'p2232'</li><li>'p2233'</li><li>'p2234'</li><li>'p2235'</li><li>'p2236'</li><li>'p2237'</li><li>'p2238'</li><li>'p2239'</li><li>'p2240'</li><li>'p2241'</li><li>'p2242'</li><li>'p2243'</li><li>'p2244'</li><li>'p2245'</li><li>'p2246'</li><li>'p2247'</li><li>'p2248'</li><li>'p2249'</li><li>'p2250'</li><li>'p2251'</li><li>'p2252'</li><li>'p2253'</li><li>'p2254'</li><li>'p2255'</li><li>'p2256'</li><li>'p2257'</li><li>'p2258'</li><li>'p2259'</li><li>'p2260'</li><li>'p2261'</li><li>'p2262'</li><li>'p2263'</li><li>'p2264'</li><li>'p2265'</li><li>'p2266'</li><li>'p2267'</li><li>'p2268'</li><li>'p2269'</li><li>'p2270'</li><li>'p2271'</li><li>'p2272'</li><li>'p2273'</li><li>'p2274'</li><li>'p2275'</li><li>'p2276'</li><li>'p2277'</li><li>'p2278'</li><li>'p2279'</li><li>'p2280'</li><li>'p2281'</li><li>'p2282'</li><li>'p2283'</li><li>'p2284'</li><li>'p2285'</li><li>'p2286'</li><li>'p2287'</li><li>'p2288'</li><li>'p2289'</li><li>'p2290'</li><li>'p2291'</li><li>'p2292'</li><li>'p2293'</li><li>'p2294'</li><li>'p2295'</li><li>'p2296'</li><li>'p2297'</li><li>'p2298'</li><li>'p2299'</li><li>'p2300'</li><li>'p2301'</li><li>'p2302'</li><li>'p2303'</li><li>'p2304'</li><li>'fsf_h.x.box'</li><li>'fsf_h.y.box'</li><li>'fsf_h.width'</li><li>'fsf_h.high'</li><li>'fsf_h.onpix'</li><li>'fsf_h.x.bar'</li><li>'fsf_h.y.bar'</li><li>'fsf_h.x2bar'</li><li>'fsf_h.y2bar'</li><li>'fsf_h.xybar'</li><li>'fsf_h.x2ybar'</li><li>'fsf_h.xy2bar'</li><li>'fsf_h.x.ege'</li><li>'fsf_h.xegvy'</li><li>'fsf_h.y.ege'</li><li>'fsf_h.yegvx'</li><li>'m_h'</li><li>'sd_h'</li><li>'ske_h'</li><li>'kur_h'</li><li>'entropy_h'</li><li>'fsf_v.x.box'</li><li>'fsf_v.y.box'</li><li>'fsf_v.width'</li><li>'fsf_v.high'</li><li>'fsf_v.onpix'</li><li>'fsf_v.x.bar'</li><li>'fsf_v.y.bar'</li><li>'fsf_v.x2bar'</li><li>'fsf_v.y2bar'</li><li>'fsf_v.xybar'</li><li>'fsf_v.x2ybar'</li><li>'fsf_v.xy2bar'</li><li>'fsf_v.x.ege'</li><li>'fsf_v.xegvy'</li><li>'fsf_v.y.ege'</li><li>'fsf_v.yegvx'</li><li>'m_v'</li><li>'sd_v'</li><li>'ske_v'</li><li>'kur_v'</li><li>'entropy_v'</li><li>'fsf_d1.x.box'</li><li>'fsf_d1.y.box'</li><li>'fsf_d1.width'</li><li>'fsf_d1.high'</li><li>'fsf_d1.onpix'</li><li>'fsf_d1.x.bar'</li><li>'fsf_d1.y.bar'</li><li>'fsf_d1.x2bar'</li><li>'fsf_d1.y2bar'</li><li>'fsf_d1.xybar'</li><li>'fsf_d1.x2ybar'</li><li>'fsf_d1.xy2bar'</li><li>'fsf_d1.x.ege'</li><li>'fsf_d1.xegvy'</li><li>'fsf_d1.y.ege'</li><li>'fsf_d1.yegvx'</li><li>'m_d1'</li><li>'sd_d1'</li><li>'ske_d1'</li><li>'kur_d1'</li><li>'entropy_d1'</li><li>'fsf_d2.x.box'</li><li>'fsf_d2.y.box'</li><li>'fsf_d2.width'</li><li>'fsf_d2.high'</li><li>'fsf_d2.onpix'</li><li>'fsf_d2.x.bar'</li><li>'fsf_d2.y.bar'</li><li>'fsf_d2.x2bar'</li><li>'fsf_d2.y2bar'</li><li>'fsf_d2.xybar'</li><li>'fsf_d2.x2ybar'</li><li>'fsf_d2.xy2bar'</li><li>'fsf_d2.x.ege'</li><li>'fsf_d2.xegvy'</li><li>'fsf_d2.y.ege'</li><li>'fsf_d2.yegvx'</li><li>'m_d2'</li><li>'sd_d2'</li><li>'ske_d2'</li><li>'kur_d2'</li><li>'entropy_d2'</li></ol>\n"
      ],
      "text/latex": [
       "\\begin{enumerate*}\n",
       "\\item 'p1'\n",
       "\\item 'p2'\n",
       "\\item 'p3'\n",
       "\\item 'p4'\n",
       "\\item 'p5'\n",
       "\\item 'p6'\n",
       "\\item 'p7'\n",
       "\\item 'p8'\n",
       "\\item 'p9'\n",
       "\\item 'p10'\n",
       "\\item 'p11'\n",
       "\\item 'p12'\n",
       "\\item 'p13'\n",
       "\\item 'p14'\n",
       "\\item 'p15'\n",
       "\\item 'p16'\n",
       "\\item 'p17'\n",
       "\\item 'p18'\n",
       "\\item 'p19'\n",
       "\\item 'p20'\n",
       "\\item 'p21'\n",
       "\\item 'p22'\n",
       "\\item 'p23'\n",
       "\\item 'p24'\n",
       "\\item 'p25'\n",
       "\\item 'p26'\n",
       "\\item 'p27'\n",
       "\\item 'p28'\n",
       "\\item 'p29'\n",
       "\\item 'p30'\n",
       "\\item 'p31'\n",
       "\\item 'p32'\n",
       "\\item 'p33'\n",
       "\\item 'p34'\n",
       "\\item 'p35'\n",
       "\\item 'p36'\n",
       "\\item 'p37'\n",
       "\\item 'p38'\n",
       "\\item 'p39'\n",
       "\\item 'p40'\n",
       "\\item 'p41'\n",
       "\\item 'p42'\n",
       "\\item 'p43'\n",
       "\\item 'p44'\n",
       "\\item 'p45'\n",
       "\\item 'p46'\n",
       "\\item 'p47'\n",
       "\\item 'p48'\n",
       "\\item 'p49'\n",
       "\\item 'p50'\n",
       "\\item 'p51'\n",
       "\\item 'p52'\n",
       "\\item 'p53'\n",
       "\\item 'p54'\n",
       "\\item 'p55'\n",
       "\\item 'p56'\n",
       "\\item 'p57'\n",
       "\\item 'p58'\n",
       "\\item 'p59'\n",
       "\\item 'p60'\n",
       "\\item 'p61'\n",
       "\\item 'p62'\n",
       "\\item 'p63'\n",
       "\\item 'p64'\n",
       "\\item 'p65'\n",
       "\\item 'p66'\n",
       "\\item 'p67'\n",
       "\\item 'p68'\n",
       "\\item 'p69'\n",
       "\\item 'p70'\n",
       "\\item 'p71'\n",
       "\\item 'p72'\n",
       "\\item 'p73'\n",
       "\\item 'p74'\n",
       "\\item 'p75'\n",
       "\\item 'p76'\n",
       "\\item 'p77'\n",
       "\\item 'p78'\n",
       "\\item 'p79'\n",
       "\\item 'p80'\n",
       "\\item 'p81'\n",
       "\\item 'p82'\n",
       "\\item 'p83'\n",
       "\\item 'p84'\n",
       "\\item 'p85'\n",
       "\\item 'p86'\n",
       "\\item 'p87'\n",
       "\\item 'p88'\n",
       "\\item 'p89'\n",
       "\\item 'p90'\n",
       "\\item 'p91'\n",
       "\\item 'p92'\n",
       "\\item 'p93'\n",
       "\\item 'p94'\n",
       "\\item 'p95'\n",
       "\\item 'p96'\n",
       "\\item 'p97'\n",
       "\\item 'p98'\n",
       "\\item 'p99'\n",
       "\\item 'p100'\n",
       "\\item 'p101'\n",
       "\\item 'p102'\n",
       "\\item 'p103'\n",
       "\\item 'p104'\n",
       "\\item 'p105'\n",
       "\\item 'p106'\n",
       "\\item 'p107'\n",
       "\\item 'p108'\n",
       "\\item 'p109'\n",
       "\\item 'p110'\n",
       "\\item 'p111'\n",
       "\\item 'p112'\n",
       "\\item 'p113'\n",
       "\\item 'p114'\n",
       "\\item 'p115'\n",
       "\\item 'p116'\n",
       "\\item 'p117'\n",
       "\\item 'p118'\n",
       "\\item 'p119'\n",
       "\\item 'p120'\n",
       "\\item 'p121'\n",
       "\\item 'p122'\n",
       "\\item 'p123'\n",
       "\\item 'p124'\n",
       "\\item 'p125'\n",
       "\\item 'p126'\n",
       "\\item 'p127'\n",
       "\\item 'p128'\n",
       "\\item 'p129'\n",
       "\\item 'p130'\n",
       "\\item 'p131'\n",
       "\\item 'p132'\n",
       "\\item 'p133'\n",
       "\\item 'p134'\n",
       "\\item 'p135'\n",
       "\\item 'p136'\n",
       "\\item 'p137'\n",
       "\\item 'p138'\n",
       "\\item 'p139'\n",
       "\\item 'p140'\n",
       "\\item 'p141'\n",
       "\\item 'p142'\n",
       "\\item 'p143'\n",
       "\\item 'p144'\n",
       "\\item 'p145'\n",
       "\\item 'p146'\n",
       "\\item 'p147'\n",
       "\\item 'p148'\n",
       "\\item 'p149'\n",
       "\\item 'p150'\n",
       "\\item 'p151'\n",
       "\\item 'p152'\n",
       "\\item 'p153'\n",
       "\\item 'p154'\n",
       "\\item 'p155'\n",
       "\\item 'p156'\n",
       "\\item 'p157'\n",
       "\\item 'p158'\n",
       "\\item 'p159'\n",
       "\\item 'p160'\n",
       "\\item 'p161'\n",
       "\\item 'p162'\n",
       "\\item 'p163'\n",
       "\\item 'p164'\n",
       "\\item 'p165'\n",
       "\\item 'p166'\n",
       "\\item 'p167'\n",
       "\\item 'p168'\n",
       "\\item 'p169'\n",
       "\\item 'p170'\n",
       "\\item 'p171'\n",
       "\\item 'p172'\n",
       "\\item 'p173'\n",
       "\\item 'p174'\n",
       "\\item 'p175'\n",
       "\\item 'p176'\n",
       "\\item 'p177'\n",
       "\\item 'p178'\n",
       "\\item 'p179'\n",
       "\\item 'p180'\n",
       "\\item 'p181'\n",
       "\\item 'p182'\n",
       "\\item 'p183'\n",
       "\\item 'p184'\n",
       "\\item 'p185'\n",
       "\\item 'p186'\n",
       "\\item 'p187'\n",
       "\\item 'p188'\n",
       "\\item 'p189'\n",
       "\\item 'p190'\n",
       "\\item 'p191'\n",
       "\\item 'p192'\n",
       "\\item 'p193'\n",
       "\\item 'p194'\n",
       "\\item 'p195'\n",
       "\\item 'p196'\n",
       "\\item 'p197'\n",
       "\\item 'p198'\n",
       "\\item 'p199'\n",
       "\\item 'p200'\n",
       "\\item ⋯\n",
       "\\item 'p2189'\n",
       "\\item 'p2190'\n",
       "\\item 'p2191'\n",
       "\\item 'p2192'\n",
       "\\item 'p2193'\n",
       "\\item 'p2194'\n",
       "\\item 'p2195'\n",
       "\\item 'p2196'\n",
       "\\item 'p2197'\n",
       "\\item 'p2198'\n",
       "\\item 'p2199'\n",
       "\\item 'p2200'\n",
       "\\item 'p2201'\n",
       "\\item 'p2202'\n",
       "\\item 'p2203'\n",
       "\\item 'p2204'\n",
       "\\item 'p2205'\n",
       "\\item 'p2206'\n",
       "\\item 'p2207'\n",
       "\\item 'p2208'\n",
       "\\item 'p2209'\n",
       "\\item 'p2210'\n",
       "\\item 'p2211'\n",
       "\\item 'p2212'\n",
       "\\item 'p2213'\n",
       "\\item 'p2214'\n",
       "\\item 'p2215'\n",
       "\\item 'p2216'\n",
       "\\item 'p2217'\n",
       "\\item 'p2218'\n",
       "\\item 'p2219'\n",
       "\\item 'p2220'\n",
       "\\item 'p2221'\n",
       "\\item 'p2222'\n",
       "\\item 'p2223'\n",
       "\\item 'p2224'\n",
       "\\item 'p2225'\n",
       "\\item 'p2226'\n",
       "\\item 'p2227'\n",
       "\\item 'p2228'\n",
       "\\item 'p2229'\n",
       "\\item 'p2230'\n",
       "\\item 'p2231'\n",
       "\\item 'p2232'\n",
       "\\item 'p2233'\n",
       "\\item 'p2234'\n",
       "\\item 'p2235'\n",
       "\\item 'p2236'\n",
       "\\item 'p2237'\n",
       "\\item 'p2238'\n",
       "\\item 'p2239'\n",
       "\\item 'p2240'\n",
       "\\item 'p2241'\n",
       "\\item 'p2242'\n",
       "\\item 'p2243'\n",
       "\\item 'p2244'\n",
       "\\item 'p2245'\n",
       "\\item 'p2246'\n",
       "\\item 'p2247'\n",
       "\\item 'p2248'\n",
       "\\item 'p2249'\n",
       "\\item 'p2250'\n",
       "\\item 'p2251'\n",
       "\\item 'p2252'\n",
       "\\item 'p2253'\n",
       "\\item 'p2254'\n",
       "\\item 'p2255'\n",
       "\\item 'p2256'\n",
       "\\item 'p2257'\n",
       "\\item 'p2258'\n",
       "\\item 'p2259'\n",
       "\\item 'p2260'\n",
       "\\item 'p2261'\n",
       "\\item 'p2262'\n",
       "\\item 'p2263'\n",
       "\\item 'p2264'\n",
       "\\item 'p2265'\n",
       "\\item 'p2266'\n",
       "\\item 'p2267'\n",
       "\\item 'p2268'\n",
       "\\item 'p2269'\n",
       "\\item 'p2270'\n",
       "\\item 'p2271'\n",
       "\\item 'p2272'\n",
       "\\item 'p2273'\n",
       "\\item 'p2274'\n",
       "\\item 'p2275'\n",
       "\\item 'p2276'\n",
       "\\item 'p2277'\n",
       "\\item 'p2278'\n",
       "\\item 'p2279'\n",
       "\\item 'p2280'\n",
       "\\item 'p2281'\n",
       "\\item 'p2282'\n",
       "\\item 'p2283'\n",
       "\\item 'p2284'\n",
       "\\item 'p2285'\n",
       "\\item 'p2286'\n",
       "\\item 'p2287'\n",
       "\\item 'p2288'\n",
       "\\item 'p2289'\n",
       "\\item 'p2290'\n",
       "\\item 'p2291'\n",
       "\\item 'p2292'\n",
       "\\item 'p2293'\n",
       "\\item 'p2294'\n",
       "\\item 'p2295'\n",
       "\\item 'p2296'\n",
       "\\item 'p2297'\n",
       "\\item 'p2298'\n",
       "\\item 'p2299'\n",
       "\\item 'p2300'\n",
       "\\item 'p2301'\n",
       "\\item 'p2302'\n",
       "\\item 'p2303'\n",
       "\\item 'p2304'\n",
       "\\item 'fsf\\_h.x.box'\n",
       "\\item 'fsf\\_h.y.box'\n",
       "\\item 'fsf\\_h.width'\n",
       "\\item 'fsf\\_h.high'\n",
       "\\item 'fsf\\_h.onpix'\n",
       "\\item 'fsf\\_h.x.bar'\n",
       "\\item 'fsf\\_h.y.bar'\n",
       "\\item 'fsf\\_h.x2bar'\n",
       "\\item 'fsf\\_h.y2bar'\n",
       "\\item 'fsf\\_h.xybar'\n",
       "\\item 'fsf\\_h.x2ybar'\n",
       "\\item 'fsf\\_h.xy2bar'\n",
       "\\item 'fsf\\_h.x.ege'\n",
       "\\item 'fsf\\_h.xegvy'\n",
       "\\item 'fsf\\_h.y.ege'\n",
       "\\item 'fsf\\_h.yegvx'\n",
       "\\item 'm\\_h'\n",
       "\\item 'sd\\_h'\n",
       "\\item 'ske\\_h'\n",
       "\\item 'kur\\_h'\n",
       "\\item 'entropy\\_h'\n",
       "\\item 'fsf\\_v.x.box'\n",
       "\\item 'fsf\\_v.y.box'\n",
       "\\item 'fsf\\_v.width'\n",
       "\\item 'fsf\\_v.high'\n",
       "\\item 'fsf\\_v.onpix'\n",
       "\\item 'fsf\\_v.x.bar'\n",
       "\\item 'fsf\\_v.y.bar'\n",
       "\\item 'fsf\\_v.x2bar'\n",
       "\\item 'fsf\\_v.y2bar'\n",
       "\\item 'fsf\\_v.xybar'\n",
       "\\item 'fsf\\_v.x2ybar'\n",
       "\\item 'fsf\\_v.xy2bar'\n",
       "\\item 'fsf\\_v.x.ege'\n",
       "\\item 'fsf\\_v.xegvy'\n",
       "\\item 'fsf\\_v.y.ege'\n",
       "\\item 'fsf\\_v.yegvx'\n",
       "\\item 'm\\_v'\n",
       "\\item 'sd\\_v'\n",
       "\\item 'ske\\_v'\n",
       "\\item 'kur\\_v'\n",
       "\\item 'entropy\\_v'\n",
       "\\item 'fsf\\_d1.x.box'\n",
       "\\item 'fsf\\_d1.y.box'\n",
       "\\item 'fsf\\_d1.width'\n",
       "\\item 'fsf\\_d1.high'\n",
       "\\item 'fsf\\_d1.onpix'\n",
       "\\item 'fsf\\_d1.x.bar'\n",
       "\\item 'fsf\\_d1.y.bar'\n",
       "\\item 'fsf\\_d1.x2bar'\n",
       "\\item 'fsf\\_d1.y2bar'\n",
       "\\item 'fsf\\_d1.xybar'\n",
       "\\item 'fsf\\_d1.x2ybar'\n",
       "\\item 'fsf\\_d1.xy2bar'\n",
       "\\item 'fsf\\_d1.x.ege'\n",
       "\\item 'fsf\\_d1.xegvy'\n",
       "\\item 'fsf\\_d1.y.ege'\n",
       "\\item 'fsf\\_d1.yegvx'\n",
       "\\item 'm\\_d1'\n",
       "\\item 'sd\\_d1'\n",
       "\\item 'ske\\_d1'\n",
       "\\item 'kur\\_d1'\n",
       "\\item 'entropy\\_d1'\n",
       "\\item 'fsf\\_d2.x.box'\n",
       "\\item 'fsf\\_d2.y.box'\n",
       "\\item 'fsf\\_d2.width'\n",
       "\\item 'fsf\\_d2.high'\n",
       "\\item 'fsf\\_d2.onpix'\n",
       "\\item 'fsf\\_d2.x.bar'\n",
       "\\item 'fsf\\_d2.y.bar'\n",
       "\\item 'fsf\\_d2.x2bar'\n",
       "\\item 'fsf\\_d2.y2bar'\n",
       "\\item 'fsf\\_d2.xybar'\n",
       "\\item 'fsf\\_d2.x2ybar'\n",
       "\\item 'fsf\\_d2.xy2bar'\n",
       "\\item 'fsf\\_d2.x.ege'\n",
       "\\item 'fsf\\_d2.xegvy'\n",
       "\\item 'fsf\\_d2.y.ege'\n",
       "\\item 'fsf\\_d2.yegvx'\n",
       "\\item 'm\\_d2'\n",
       "\\item 'sd\\_d2'\n",
       "\\item 'ske\\_d2'\n",
       "\\item 'kur\\_d2'\n",
       "\\item 'entropy\\_d2'\n",
       "\\end{enumerate*}\n"
      ],
      "text/markdown": [
       "1. 'p1'\n",
       "2. 'p2'\n",
       "3. 'p3'\n",
       "4. 'p4'\n",
       "5. 'p5'\n",
       "6. 'p6'\n",
       "7. 'p7'\n",
       "8. 'p8'\n",
       "9. 'p9'\n",
       "10. 'p10'\n",
       "11. 'p11'\n",
       "12. 'p12'\n",
       "13. 'p13'\n",
       "14. 'p14'\n",
       "15. 'p15'\n",
       "16. 'p16'\n",
       "17. 'p17'\n",
       "18. 'p18'\n",
       "19. 'p19'\n",
       "20. 'p20'\n",
       "21. 'p21'\n",
       "22. 'p22'\n",
       "23. 'p23'\n",
       "24. 'p24'\n",
       "25. 'p25'\n",
       "26. 'p26'\n",
       "27. 'p27'\n",
       "28. 'p28'\n",
       "29. 'p29'\n",
       "30. 'p30'\n",
       "31. 'p31'\n",
       "32. 'p32'\n",
       "33. 'p33'\n",
       "34. 'p34'\n",
       "35. 'p35'\n",
       "36. 'p36'\n",
       "37. 'p37'\n",
       "38. 'p38'\n",
       "39. 'p39'\n",
       "40. 'p40'\n",
       "41. 'p41'\n",
       "42. 'p42'\n",
       "43. 'p43'\n",
       "44. 'p44'\n",
       "45. 'p45'\n",
       "46. 'p46'\n",
       "47. 'p47'\n",
       "48. 'p48'\n",
       "49. 'p49'\n",
       "50. 'p50'\n",
       "51. 'p51'\n",
       "52. 'p52'\n",
       "53. 'p53'\n",
       "54. 'p54'\n",
       "55. 'p55'\n",
       "56. 'p56'\n",
       "57. 'p57'\n",
       "58. 'p58'\n",
       "59. 'p59'\n",
       "60. 'p60'\n",
       "61. 'p61'\n",
       "62. 'p62'\n",
       "63. 'p63'\n",
       "64. 'p64'\n",
       "65. 'p65'\n",
       "66. 'p66'\n",
       "67. 'p67'\n",
       "68. 'p68'\n",
       "69. 'p69'\n",
       "70. 'p70'\n",
       "71. 'p71'\n",
       "72. 'p72'\n",
       "73. 'p73'\n",
       "74. 'p74'\n",
       "75. 'p75'\n",
       "76. 'p76'\n",
       "77. 'p77'\n",
       "78. 'p78'\n",
       "79. 'p79'\n",
       "80. 'p80'\n",
       "81. 'p81'\n",
       "82. 'p82'\n",
       "83. 'p83'\n",
       "84. 'p84'\n",
       "85. 'p85'\n",
       "86. 'p86'\n",
       "87. 'p87'\n",
       "88. 'p88'\n",
       "89. 'p89'\n",
       "90. 'p90'\n",
       "91. 'p91'\n",
       "92. 'p92'\n",
       "93. 'p93'\n",
       "94. 'p94'\n",
       "95. 'p95'\n",
       "96. 'p96'\n",
       "97. 'p97'\n",
       "98. 'p98'\n",
       "99. 'p99'\n",
       "100. 'p100'\n",
       "101. 'p101'\n",
       "102. 'p102'\n",
       "103. 'p103'\n",
       "104. 'p104'\n",
       "105. 'p105'\n",
       "106. 'p106'\n",
       "107. 'p107'\n",
       "108. 'p108'\n",
       "109. 'p109'\n",
       "110. 'p110'\n",
       "111. 'p111'\n",
       "112. 'p112'\n",
       "113. 'p113'\n",
       "114. 'p114'\n",
       "115. 'p115'\n",
       "116. 'p116'\n",
       "117. 'p117'\n",
       "118. 'p118'\n",
       "119. 'p119'\n",
       "120. 'p120'\n",
       "121. 'p121'\n",
       "122. 'p122'\n",
       "123. 'p123'\n",
       "124. 'p124'\n",
       "125. 'p125'\n",
       "126. 'p126'\n",
       "127. 'p127'\n",
       "128. 'p128'\n",
       "129. 'p129'\n",
       "130. 'p130'\n",
       "131. 'p131'\n",
       "132. 'p132'\n",
       "133. 'p133'\n",
       "134. 'p134'\n",
       "135. 'p135'\n",
       "136. 'p136'\n",
       "137. 'p137'\n",
       "138. 'p138'\n",
       "139. 'p139'\n",
       "140. 'p140'\n",
       "141. 'p141'\n",
       "142. 'p142'\n",
       "143. 'p143'\n",
       "144. 'p144'\n",
       "145. 'p145'\n",
       "146. 'p146'\n",
       "147. 'p147'\n",
       "148. 'p148'\n",
       "149. 'p149'\n",
       "150. 'p150'\n",
       "151. 'p151'\n",
       "152. 'p152'\n",
       "153. 'p153'\n",
       "154. 'p154'\n",
       "155. 'p155'\n",
       "156. 'p156'\n",
       "157. 'p157'\n",
       "158. 'p158'\n",
       "159. 'p159'\n",
       "160. 'p160'\n",
       "161. 'p161'\n",
       "162. 'p162'\n",
       "163. 'p163'\n",
       "164. 'p164'\n",
       "165. 'p165'\n",
       "166. 'p166'\n",
       "167. 'p167'\n",
       "168. 'p168'\n",
       "169. 'p169'\n",
       "170. 'p170'\n",
       "171. 'p171'\n",
       "172. 'p172'\n",
       "173. 'p173'\n",
       "174. 'p174'\n",
       "175. 'p175'\n",
       "176. 'p176'\n",
       "177. 'p177'\n",
       "178. 'p178'\n",
       "179. 'p179'\n",
       "180. 'p180'\n",
       "181. 'p181'\n",
       "182. 'p182'\n",
       "183. 'p183'\n",
       "184. 'p184'\n",
       "185. 'p185'\n",
       "186. 'p186'\n",
       "187. 'p187'\n",
       "188. 'p188'\n",
       "189. 'p189'\n",
       "190. 'p190'\n",
       "191. 'p191'\n",
       "192. 'p192'\n",
       "193. 'p193'\n",
       "194. 'p194'\n",
       "195. 'p195'\n",
       "196. 'p196'\n",
       "197. 'p197'\n",
       "198. 'p198'\n",
       "199. 'p199'\n",
       "200. 'p200'\n",
       "201. ⋯\n",
       "202. 'p2189'\n",
       "203. 'p2190'\n",
       "204. 'p2191'\n",
       "205. 'p2192'\n",
       "206. 'p2193'\n",
       "207. 'p2194'\n",
       "208. 'p2195'\n",
       "209. 'p2196'\n",
       "210. 'p2197'\n",
       "211. 'p2198'\n",
       "212. 'p2199'\n",
       "213. 'p2200'\n",
       "214. 'p2201'\n",
       "215. 'p2202'\n",
       "216. 'p2203'\n",
       "217. 'p2204'\n",
       "218. 'p2205'\n",
       "219. 'p2206'\n",
       "220. 'p2207'\n",
       "221. 'p2208'\n",
       "222. 'p2209'\n",
       "223. 'p2210'\n",
       "224. 'p2211'\n",
       "225. 'p2212'\n",
       "226. 'p2213'\n",
       "227. 'p2214'\n",
       "228. 'p2215'\n",
       "229. 'p2216'\n",
       "230. 'p2217'\n",
       "231. 'p2218'\n",
       "232. 'p2219'\n",
       "233. 'p2220'\n",
       "234. 'p2221'\n",
       "235. 'p2222'\n",
       "236. 'p2223'\n",
       "237. 'p2224'\n",
       "238. 'p2225'\n",
       "239. 'p2226'\n",
       "240. 'p2227'\n",
       "241. 'p2228'\n",
       "242. 'p2229'\n",
       "243. 'p2230'\n",
       "244. 'p2231'\n",
       "245. 'p2232'\n",
       "246. 'p2233'\n",
       "247. 'p2234'\n",
       "248. 'p2235'\n",
       "249. 'p2236'\n",
       "250. 'p2237'\n",
       "251. 'p2238'\n",
       "252. 'p2239'\n",
       "253. 'p2240'\n",
       "254. 'p2241'\n",
       "255. 'p2242'\n",
       "256. 'p2243'\n",
       "257. 'p2244'\n",
       "258. 'p2245'\n",
       "259. 'p2246'\n",
       "260. 'p2247'\n",
       "261. 'p2248'\n",
       "262. 'p2249'\n",
       "263. 'p2250'\n",
       "264. 'p2251'\n",
       "265. 'p2252'\n",
       "266. 'p2253'\n",
       "267. 'p2254'\n",
       "268. 'p2255'\n",
       "269. 'p2256'\n",
       "270. 'p2257'\n",
       "271. 'p2258'\n",
       "272. 'p2259'\n",
       "273. 'p2260'\n",
       "274. 'p2261'\n",
       "275. 'p2262'\n",
       "276. 'p2263'\n",
       "277. 'p2264'\n",
       "278. 'p2265'\n",
       "279. 'p2266'\n",
       "280. 'p2267'\n",
       "281. 'p2268'\n",
       "282. 'p2269'\n",
       "283. 'p2270'\n",
       "284. 'p2271'\n",
       "285. 'p2272'\n",
       "286. 'p2273'\n",
       "287. 'p2274'\n",
       "288. 'p2275'\n",
       "289. 'p2276'\n",
       "290. 'p2277'\n",
       "291. 'p2278'\n",
       "292. 'p2279'\n",
       "293. 'p2280'\n",
       "294. 'p2281'\n",
       "295. 'p2282'\n",
       "296. 'p2283'\n",
       "297. 'p2284'\n",
       "298. 'p2285'\n",
       "299. 'p2286'\n",
       "300. 'p2287'\n",
       "301. 'p2288'\n",
       "302. 'p2289'\n",
       "303. 'p2290'\n",
       "304. 'p2291'\n",
       "305. 'p2292'\n",
       "306. 'p2293'\n",
       "307. 'p2294'\n",
       "308. 'p2295'\n",
       "309. 'p2296'\n",
       "310. 'p2297'\n",
       "311. 'p2298'\n",
       "312. 'p2299'\n",
       "313. 'p2300'\n",
       "314. 'p2301'\n",
       "315. 'p2302'\n",
       "316. 'p2303'\n",
       "317. 'p2304'\n",
       "318. 'fsf_h.x.box'\n",
       "319. 'fsf_h.y.box'\n",
       "320. 'fsf_h.width'\n",
       "321. 'fsf_h.high'\n",
       "322. 'fsf_h.onpix'\n",
       "323. 'fsf_h.x.bar'\n",
       "324. 'fsf_h.y.bar'\n",
       "325. 'fsf_h.x2bar'\n",
       "326. 'fsf_h.y2bar'\n",
       "327. 'fsf_h.xybar'\n",
       "328. 'fsf_h.x2ybar'\n",
       "329. 'fsf_h.xy2bar'\n",
       "330. 'fsf_h.x.ege'\n",
       "331. 'fsf_h.xegvy'\n",
       "332. 'fsf_h.y.ege'\n",
       "333. 'fsf_h.yegvx'\n",
       "334. 'm_h'\n",
       "335. 'sd_h'\n",
       "336. 'ske_h'\n",
       "337. 'kur_h'\n",
       "338. 'entropy_h'\n",
       "339. 'fsf_v.x.box'\n",
       "340. 'fsf_v.y.box'\n",
       "341. 'fsf_v.width'\n",
       "342. 'fsf_v.high'\n",
       "343. 'fsf_v.onpix'\n",
       "344. 'fsf_v.x.bar'\n",
       "345. 'fsf_v.y.bar'\n",
       "346. 'fsf_v.x2bar'\n",
       "347. 'fsf_v.y2bar'\n",
       "348. 'fsf_v.xybar'\n",
       "349. 'fsf_v.x2ybar'\n",
       "350. 'fsf_v.xy2bar'\n",
       "351. 'fsf_v.x.ege'\n",
       "352. 'fsf_v.xegvy'\n",
       "353. 'fsf_v.y.ege'\n",
       "354. 'fsf_v.yegvx'\n",
       "355. 'm_v'\n",
       "356. 'sd_v'\n",
       "357. 'ske_v'\n",
       "358. 'kur_v'\n",
       "359. 'entropy_v'\n",
       "360. 'fsf_d1.x.box'\n",
       "361. 'fsf_d1.y.box'\n",
       "362. 'fsf_d1.width'\n",
       "363. 'fsf_d1.high'\n",
       "364. 'fsf_d1.onpix'\n",
       "365. 'fsf_d1.x.bar'\n",
       "366. 'fsf_d1.y.bar'\n",
       "367. 'fsf_d1.x2bar'\n",
       "368. 'fsf_d1.y2bar'\n",
       "369. 'fsf_d1.xybar'\n",
       "370. 'fsf_d1.x2ybar'\n",
       "371. 'fsf_d1.xy2bar'\n",
       "372. 'fsf_d1.x.ege'\n",
       "373. 'fsf_d1.xegvy'\n",
       "374. 'fsf_d1.y.ege'\n",
       "375. 'fsf_d1.yegvx'\n",
       "376. 'm_d1'\n",
       "377. 'sd_d1'\n",
       "378. 'ske_d1'\n",
       "379. 'kur_d1'\n",
       "380. 'entropy_d1'\n",
       "381. 'fsf_d2.x.box'\n",
       "382. 'fsf_d2.y.box'\n",
       "383. 'fsf_d2.width'\n",
       "384. 'fsf_d2.high'\n",
       "385. 'fsf_d2.onpix'\n",
       "386. 'fsf_d2.x.bar'\n",
       "387. 'fsf_d2.y.bar'\n",
       "388. 'fsf_d2.x2bar'\n",
       "389. 'fsf_d2.y2bar'\n",
       "390. 'fsf_d2.xybar'\n",
       "391. 'fsf_d2.x2ybar'\n",
       "392. 'fsf_d2.xy2bar'\n",
       "393. 'fsf_d2.x.ege'\n",
       "394. 'fsf_d2.xegvy'\n",
       "395. 'fsf_d2.y.ege'\n",
       "396. 'fsf_d2.yegvx'\n",
       "397. 'm_d2'\n",
       "398. 'sd_d2'\n",
       "399. 'ske_d2'\n",
       "400. 'kur_d2'\n",
       "401. 'entropy_d2'\n",
       "\n",
       "\n"
      ],
      "text/plain": [
       "   [1] \"p1\"            \"p2\"            \"p3\"            \"p4\"           \n",
       "   [5] \"p5\"            \"p6\"            \"p7\"            \"p8\"           \n",
       "   [9] \"p9\"            \"p10\"           \"p11\"           \"p12\"          \n",
       "  [13] \"p13\"           \"p14\"           \"p15\"           \"p16\"          \n",
       "  [17] \"p17\"           \"p18\"           \"p19\"           \"p20\"          \n",
       "  [21] \"p21\"           \"p22\"           \"p23\"           \"p24\"          \n",
       "  [25] \"p25\"           \"p26\"           \"p27\"           \"p28\"          \n",
       "  [29] \"p29\"           \"p30\"           \"p31\"           \"p32\"          \n",
       "  [33] \"p33\"           \"p34\"           \"p35\"           \"p36\"          \n",
       "  [37] \"p37\"           \"p38\"           \"p39\"           \"p40\"          \n",
       "  [41] \"p41\"           \"p42\"           \"p43\"           \"p44\"          \n",
       "  [45] \"p45\"           \"p46\"           \"p47\"           \"p48\"          \n",
       "  [49] \"p49\"           \"p50\"           \"p51\"           \"p52\"          \n",
       "  [53] \"p53\"           \"p54\"           \"p55\"           \"p56\"          \n",
       "  [57] \"p57\"           \"p58\"           \"p59\"           \"p60\"          \n",
       "  [61] \"p61\"           \"p62\"           \"p63\"           \"p64\"          \n",
       "  [65] \"p65\"           \"p66\"           \"p67\"           \"p68\"          \n",
       "  [69] \"p69\"           \"p70\"           \"p71\"           \"p72\"          \n",
       "  [73] \"p73\"           \"p74\"           \"p75\"           \"p76\"          \n",
       "  [77] \"p77\"           \"p78\"           \"p79\"           \"p80\"          \n",
       "  [81] \"p81\"           \"p82\"           \"p83\"           \"p84\"          \n",
       "  [85] \"p85\"           \"p86\"           \"p87\"           \"p88\"          \n",
       "  [89] \"p89\"           \"p90\"           \"p91\"           \"p92\"          \n",
       "  [93] \"p93\"           \"p94\"           \"p95\"           \"p96\"          \n",
       "  [97] \"p97\"           \"p98\"           \"p99\"           \"p100\"         \n",
       " [101] \"p101\"          \"p102\"          \"p103\"          \"p104\"         \n",
       " [105] \"p105\"          \"p106\"          \"p107\"          \"p108\"         \n",
       " [109] \"p109\"          \"p110\"          \"p111\"          \"p112\"         \n",
       " [113] \"p113\"          \"p114\"          \"p115\"          \"p116\"         \n",
       " [117] \"p117\"          \"p118\"          \"p119\"          \"p120\"         \n",
       " [121] \"p121\"          \"p122\"          \"p123\"          \"p124\"         \n",
       " [125] \"p125\"          \"p126\"          \"p127\"          \"p128\"         \n",
       " [129] \"p129\"          \"p130\"          \"p131\"          \"p132\"         \n",
       " [133] \"p133\"          \"p134\"          \"p135\"          \"p136\"         \n",
       " [137] \"p137\"          \"p138\"          \"p139\"          \"p140\"         \n",
       " [141] \"p141\"          \"p142\"          \"p143\"          \"p144\"         \n",
       " [145] \"p145\"          \"p146\"          \"p147\"          \"p148\"         \n",
       " [149] \"p149\"          \"p150\"          \"p151\"          \"p152\"         \n",
       " [153] \"p153\"          \"p154\"          \"p155\"          \"p156\"         \n",
       " [157] \"p157\"          \"p158\"          \"p159\"          \"p160\"         \n",
       " [161] \"p161\"          \"p162\"          \"p163\"          \"p164\"         \n",
       " [165] \"p165\"          \"p166\"          \"p167\"          \"p168\"         \n",
       " [169] \"p169\"          \"p170\"          \"p171\"          \"p172\"         \n",
       " [173] \"p173\"          \"p174\"          \"p175\"          \"p176\"         \n",
       " [177] \"p177\"          \"p178\"          \"p179\"          \"p180\"         \n",
       " [181] \"p181\"          \"p182\"          \"p183\"          \"p184\"         \n",
       " [185] \"p185\"          \"p186\"          \"p187\"          \"p188\"         \n",
       " [189] \"p189\"          \"p190\"          \"p191\"          \"p192\"         \n",
       " [193] \"p193\"          \"p194\"          \"p195\"          \"p196\"         \n",
       " [197] \"p197\"          \"p198\"          \"p199\"          \"p200\"         \n",
       " [201] \"p201\"          \"p202\"          \"p203\"          \"p204\"         \n",
       " [205] \"p205\"          \"p206\"          \"p207\"          \"p208\"         \n",
       " [209] \"p209\"          \"p210\"          \"p211\"          \"p212\"         \n",
       " [213] \"p213\"          \"p214\"          \"p215\"          \"p216\"         \n",
       " [217] \"p217\"          \"p218\"          \"p219\"          \"p220\"         \n",
       " [221] \"p221\"          \"p222\"          \"p223\"          \"p224\"         \n",
       " [225] \"p225\"          \"p226\"          \"p227\"          \"p228\"         \n",
       " [229] \"p229\"          \"p230\"          \"p231\"          \"p232\"         \n",
       " [233] \"p233\"          \"p234\"          \"p235\"          \"p236\"         \n",
       " [237] \"p237\"          \"p238\"          \"p239\"          \"p240\"         \n",
       " [241] \"p241\"          \"p242\"          \"p243\"          \"p244\"         \n",
       " [245] \"p245\"          \"p246\"          \"p247\"          \"p248\"         \n",
       " [249] \"p249\"          \"p250\"          \"p251\"          \"p252\"         \n",
       " [253] \"p253\"          \"p254\"          \"p255\"          \"p256\"         \n",
       " [257] \"p257\"          \"p258\"          \"p259\"          \"p260\"         \n",
       " [261] \"p261\"          \"p262\"          \"p263\"          \"p264\"         \n",
       " [265] \"p265\"          \"p266\"          \"p267\"          \"p268\"         \n",
       " [269] \"p269\"          \"p270\"          \"p271\"          \"p272\"         \n",
       " [273] \"p273\"          \"p274\"          \"p275\"          \"p276\"         \n",
       " [277] \"p277\"          \"p278\"          \"p279\"          \"p280\"         \n",
       " [281] \"p281\"          \"p282\"          \"p283\"          \"p284\"         \n",
       " [285] \"p285\"          \"p286\"          \"p287\"          \"p288\"         \n",
       " [289] \"p289\"          \"p290\"          \"p291\"          \"p292\"         \n",
       " [293] \"p293\"          \"p294\"          \"p295\"          \"p296\"         \n",
       " [297] \"p297\"          \"p298\"          \"p299\"          \"p300\"         \n",
       " [301] \"p301\"          \"p302\"          \"p303\"          \"p304\"         \n",
       " [305] \"p305\"          \"p306\"          \"p307\"          \"p308\"         \n",
       " [309] \"p309\"          \"p310\"          \"p311\"          \"p312\"         \n",
       " [313] \"p313\"          \"p314\"          \"p315\"          \"p316\"         \n",
       " [317] \"p317\"          \"p318\"          \"p319\"          \"p320\"         \n",
       " [321] \"p321\"          \"p322\"          \"p323\"          \"p324\"         \n",
       " [325] \"p325\"          \"p326\"          \"p327\"          \"p328\"         \n",
       " [329] \"p329\"          \"p330\"          \"p331\"          \"p332\"         \n",
       " [333] \"p333\"          \"p334\"          \"p335\"          \"p336\"         \n",
       " [337] \"p337\"          \"p338\"          \"p339\"          \"p340\"         \n",
       " [341] \"p341\"          \"p342\"          \"p343\"          \"p344\"         \n",
       " [345] \"p345\"          \"p346\"          \"p347\"          \"p348\"         \n",
       " [349] \"p349\"          \"p350\"          \"p351\"          \"p352\"         \n",
       " [353] \"p353\"          \"p354\"          \"p355\"          \"p356\"         \n",
       " [357] \"p357\"          \"p358\"          \"p359\"          \"p360\"         \n",
       " [361] \"p361\"          \"p362\"          \"p363\"          \"p364\"         \n",
       " [365] \"p365\"          \"p366\"          \"p367\"          \"p368\"         \n",
       " [369] \"p369\"          \"p370\"          \"p371\"          \"p372\"         \n",
       " [373] \"p373\"          \"p374\"          \"p375\"          \"p376\"         \n",
       " [377] \"p377\"          \"p378\"          \"p379\"          \"p380\"         \n",
       " [381] \"p381\"          \"p382\"          \"p383\"          \"p384\"         \n",
       " [385] \"p385\"          \"p386\"          \"p387\"          \"p388\"         \n",
       " [389] \"p389\"          \"p390\"          \"p391\"          \"p392\"         \n",
       " [393] \"p393\"          \"p394\"          \"p395\"          \"p396\"         \n",
       " [397] \"p397\"          \"p398\"          \"p399\"          \"p400\"         \n",
       " [401] \"p401\"          \"p402\"          \"p403\"          \"p404\"         \n",
       " [405] \"p405\"          \"p406\"          \"p407\"          \"p408\"         \n",
       " [409] \"p409\"          \"p410\"          \"p411\"          \"p412\"         \n",
       " [413] \"p413\"          \"p414\"          \"p415\"          \"p416\"         \n",
       " [417] \"p417\"          \"p418\"          \"p419\"          \"p420\"         \n",
       " [421] \"p421\"          \"p422\"          \"p423\"          \"p424\"         \n",
       " [425] \"p425\"          \"p426\"          \"p427\"          \"p428\"         \n",
       " [429] \"p429\"          \"p430\"          \"p431\"          \"p432\"         \n",
       " [433] \"p433\"          \"p434\"          \"p435\"          \"p436\"         \n",
       " [437] \"p437\"          \"p438\"          \"p439\"          \"p440\"         \n",
       " [441] \"p441\"          \"p442\"          \"p443\"          \"p444\"         \n",
       " [445] \"p445\"          \"p446\"          \"p447\"          \"p448\"         \n",
       " [449] \"p449\"          \"p450\"          \"p451\"          \"p452\"         \n",
       " [453] \"p453\"          \"p454\"          \"p455\"          \"p456\"         \n",
       " [457] \"p457\"          \"p458\"          \"p459\"          \"p460\"         \n",
       " [461] \"p461\"          \"p462\"          \"p463\"          \"p464\"         \n",
       " [465] \"p465\"          \"p466\"          \"p467\"          \"p468\"         \n",
       " [469] \"p469\"          \"p470\"          \"p471\"          \"p472\"         \n",
       " [473] \"p473\"          \"p474\"          \"p475\"          \"p476\"         \n",
       " [477] \"p477\"          \"p478\"          \"p479\"          \"p480\"         \n",
       " [481] \"p481\"          \"p482\"          \"p483\"          \"p484\"         \n",
       " [485] \"p485\"          \"p486\"          \"p487\"          \"p488\"         \n",
       " [489] \"p489\"          \"p490\"          \"p491\"          \"p492\"         \n",
       " [493] \"p493\"          \"p494\"          \"p495\"          \"p496\"         \n",
       " [497] \"p497\"          \"p498\"          \"p499\"          \"p500\"         \n",
       " [501] \"p501\"          \"p502\"          \"p503\"          \"p504\"         \n",
       " [505] \"p505\"          \"p506\"          \"p507\"          \"p508\"         \n",
       " [509] \"p509\"          \"p510\"          \"p511\"          \"p512\"         \n",
       " [513] \"p513\"          \"p514\"          \"p515\"          \"p516\"         \n",
       " [517] \"p517\"          \"p518\"          \"p519\"          \"p520\"         \n",
       " [521] \"p521\"          \"p522\"          \"p523\"          \"p524\"         \n",
       " [525] \"p525\"          \"p526\"          \"p527\"          \"p528\"         \n",
       " [529] \"p529\"          \"p530\"          \"p531\"          \"p532\"         \n",
       " [533] \"p533\"          \"p534\"          \"p535\"          \"p536\"         \n",
       " [537] \"p537\"          \"p538\"          \"p539\"          \"p540\"         \n",
       " [541] \"p541\"          \"p542\"          \"p543\"          \"p544\"         \n",
       " [545] \"p545\"          \"p546\"          \"p547\"          \"p548\"         \n",
       " [549] \"p549\"          \"p550\"          \"p551\"          \"p552\"         \n",
       " [553] \"p553\"          \"p554\"          \"p555\"          \"p556\"         \n",
       " [557] \"p557\"          \"p558\"          \"p559\"          \"p560\"         \n",
       " [561] \"p561\"          \"p562\"          \"p563\"          \"p564\"         \n",
       " [565] \"p565\"          \"p566\"          \"p567\"          \"p568\"         \n",
       " [569] \"p569\"          \"p570\"          \"p571\"          \"p572\"         \n",
       " [573] \"p573\"          \"p574\"          \"p575\"          \"p576\"         \n",
       " [577] \"p577\"          \"p578\"          \"p579\"          \"p580\"         \n",
       " [581] \"p581\"          \"p582\"          \"p583\"          \"p584\"         \n",
       " [585] \"p585\"          \"p586\"          \"p587\"          \"p588\"         \n",
       " [589] \"p589\"          \"p590\"          \"p591\"          \"p592\"         \n",
       " [593] \"p593\"          \"p594\"          \"p595\"          \"p596\"         \n",
       " [597] \"p597\"          \"p598\"          \"p599\"          \"p600\"         \n",
       " [601] \"p601\"          \"p602\"          \"p603\"          \"p604\"         \n",
       " [605] \"p605\"          \"p606\"          \"p607\"          \"p608\"         \n",
       " [609] \"p609\"          \"p610\"          \"p611\"          \"p612\"         \n",
       " [613] \"p613\"          \"p614\"          \"p615\"          \"p616\"         \n",
       " [617] \"p617\"          \"p618\"          \"p619\"          \"p620\"         \n",
       " [621] \"p621\"          \"p622\"          \"p623\"          \"p624\"         \n",
       " [625] \"p625\"          \"p626\"          \"p627\"          \"p628\"         \n",
       " [629] \"p629\"          \"p630\"          \"p631\"          \"p632\"         \n",
       " [633] \"p633\"          \"p634\"          \"p635\"          \"p636\"         \n",
       " [637] \"p637\"          \"p638\"          \"p639\"          \"p640\"         \n",
       " [641] \"p641\"          \"p642\"          \"p643\"          \"p644\"         \n",
       " [645] \"p645\"          \"p646\"          \"p647\"          \"p648\"         \n",
       " [649] \"p649\"          \"p650\"          \"p651\"          \"p652\"         \n",
       " [653] \"p653\"          \"p654\"          \"p655\"          \"p656\"         \n",
       " [657] \"p657\"          \"p658\"          \"p659\"          \"p660\"         \n",
       " [661] \"p661\"          \"p662\"          \"p663\"          \"p664\"         \n",
       " [665] \"p665\"          \"p666\"          \"p667\"          \"p668\"         \n",
       " [669] \"p669\"          \"p670\"          \"p671\"          \"p672\"         \n",
       " [673] \"p673\"          \"p674\"          \"p675\"          \"p676\"         \n",
       " [677] \"p677\"          \"p678\"          \"p679\"          \"p680\"         \n",
       " [681] \"p681\"          \"p682\"          \"p683\"          \"p684\"         \n",
       " [685] \"p685\"          \"p686\"          \"p687\"          \"p688\"         \n",
       " [689] \"p689\"          \"p690\"          \"p691\"          \"p692\"         \n",
       " [693] \"p693\"          \"p694\"          \"p695\"          \"p696\"         \n",
       " [697] \"p697\"          \"p698\"          \"p699\"          \"p700\"         \n",
       " [701] \"p701\"          \"p702\"          \"p703\"          \"p704\"         \n",
       " [705] \"p705\"          \"p706\"          \"p707\"          \"p708\"         \n",
       " [709] \"p709\"          \"p710\"          \"p711\"          \"p712\"         \n",
       " [713] \"p713\"          \"p714\"          \"p715\"          \"p716\"         \n",
       " [717] \"p717\"          \"p718\"          \"p719\"          \"p720\"         \n",
       " [721] \"p721\"          \"p722\"          \"p723\"          \"p724\"         \n",
       " [725] \"p725\"          \"p726\"          \"p727\"          \"p728\"         \n",
       " [729] \"p729\"          \"p730\"          \"p731\"          \"p732\"         \n",
       " [733] \"p733\"          \"p734\"          \"p735\"          \"p736\"         \n",
       " [737] \"p737\"          \"p738\"          \"p739\"          \"p740\"         \n",
       " [741] \"p741\"          \"p742\"          \"p743\"          \"p744\"         \n",
       " [745] \"p745\"          \"p746\"          \"p747\"          \"p748\"         \n",
       " [749] \"p749\"          \"p750\"          \"p751\"          \"p752\"         \n",
       " [753] \"p753\"          \"p754\"          \"p755\"          \"p756\"         \n",
       " [757] \"p757\"          \"p758\"          \"p759\"          \"p760\"         \n",
       " [761] \"p761\"          \"p762\"          \"p763\"          \"p764\"         \n",
       " [765] \"p765\"          \"p766\"          \"p767\"          \"p768\"         \n",
       " [769] \"p769\"          \"p770\"          \"p771\"          \"p772\"         \n",
       " [773] \"p773\"          \"p774\"          \"p775\"          \"p776\"         \n",
       " [777] \"p777\"          \"p778\"          \"p779\"          \"p780\"         \n",
       " [781] \"p781\"          \"p782\"          \"p783\"          \"p784\"         \n",
       " [785] \"p785\"          \"p786\"          \"p787\"          \"p788\"         \n",
       " [789] \"p789\"          \"p790\"          \"p791\"          \"p792\"         \n",
       " [793] \"p793\"          \"p794\"          \"p795\"          \"p796\"         \n",
       " [797] \"p797\"          \"p798\"          \"p799\"          \"p800\"         \n",
       " [801] \"p801\"          \"p802\"          \"p803\"          \"p804\"         \n",
       " [805] \"p805\"          \"p806\"          \"p807\"          \"p808\"         \n",
       " [809] \"p809\"          \"p810\"          \"p811\"          \"p812\"         \n",
       " [813] \"p813\"          \"p814\"          \"p815\"          \"p816\"         \n",
       " [817] \"p817\"          \"p818\"          \"p819\"          \"p820\"         \n",
       " [821] \"p821\"          \"p822\"          \"p823\"          \"p824\"         \n",
       " [825] \"p825\"          \"p826\"          \"p827\"          \"p828\"         \n",
       " [829] \"p829\"          \"p830\"          \"p831\"          \"p832\"         \n",
       " [833] \"p833\"          \"p834\"          \"p835\"          \"p836\"         \n",
       " [837] \"p837\"          \"p838\"          \"p839\"          \"p840\"         \n",
       " [841] \"p841\"          \"p842\"          \"p843\"          \"p844\"         \n",
       " [845] \"p845\"          \"p846\"          \"p847\"          \"p848\"         \n",
       " [849] \"p849\"          \"p850\"          \"p851\"          \"p852\"         \n",
       " [853] \"p853\"          \"p854\"          \"p855\"          \"p856\"         \n",
       " [857] \"p857\"          \"p858\"          \"p859\"          \"p860\"         \n",
       " [861] \"p861\"          \"p862\"          \"p863\"          \"p864\"         \n",
       " [865] \"p865\"          \"p866\"          \"p867\"          \"p868\"         \n",
       " [869] \"p869\"          \"p870\"          \"p871\"          \"p872\"         \n",
       " [873] \"p873\"          \"p874\"          \"p875\"          \"p876\"         \n",
       " [877] \"p877\"          \"p878\"          \"p879\"          \"p880\"         \n",
       " [881] \"p881\"          \"p882\"          \"p883\"          \"p884\"         \n",
       " [885] \"p885\"          \"p886\"          \"p887\"          \"p888\"         \n",
       " [889] \"p889\"          \"p890\"          \"p891\"          \"p892\"         \n",
       " [893] \"p893\"          \"p894\"          \"p895\"          \"p896\"         \n",
       " [897] \"p897\"          \"p898\"          \"p899\"          \"p900\"         \n",
       " [901] \"p901\"          \"p902\"          \"p903\"          \"p904\"         \n",
       " [905] \"p905\"          \"p906\"          \"p907\"          \"p908\"         \n",
       " [909] \"p909\"          \"p910\"          \"p911\"          \"p912\"         \n",
       " [913] \"p913\"          \"p914\"          \"p915\"          \"p916\"         \n",
       " [917] \"p917\"          \"p918\"          \"p919\"          \"p920\"         \n",
       " [921] \"p921\"          \"p922\"          \"p923\"          \"p924\"         \n",
       " [925] \"p925\"          \"p926\"          \"p927\"          \"p928\"         \n",
       " [929] \"p929\"          \"p930\"          \"p931\"          \"p932\"         \n",
       " [933] \"p933\"          \"p934\"          \"p935\"          \"p936\"         \n",
       " [937] \"p937\"          \"p938\"          \"p939\"          \"p940\"         \n",
       " [941] \"p941\"          \"p942\"          \"p943\"          \"p944\"         \n",
       " [945] \"p945\"          \"p946\"          \"p947\"          \"p948\"         \n",
       " [949] \"p949\"          \"p950\"          \"p951\"          \"p952\"         \n",
       " [953] \"p953\"          \"p954\"          \"p955\"          \"p956\"         \n",
       " [957] \"p957\"          \"p958\"          \"p959\"          \"p960\"         \n",
       " [961] \"p961\"          \"p962\"          \"p963\"          \"p964\"         \n",
       " [965] \"p965\"          \"p966\"          \"p967\"          \"p968\"         \n",
       " [969] \"p969\"          \"p970\"          \"p971\"          \"p972\"         \n",
       " [973] \"p973\"          \"p974\"          \"p975\"          \"p976\"         \n",
       " [977] \"p977\"          \"p978\"          \"p979\"          \"p980\"         \n",
       " [981] \"p981\"          \"p982\"          \"p983\"          \"p984\"         \n",
       " [985] \"p985\"          \"p986\"          \"p987\"          \"p988\"         \n",
       " [989] \"p989\"          \"p990\"          \"p991\"          \"p992\"         \n",
       " [993] \"p993\"          \"p994\"          \"p995\"          \"p996\"         \n",
       " [997] \"p997\"          \"p998\"          \"p999\"          \"p1000\"        \n",
       "[1001] \"p1001\"         \"p1002\"         \"p1003\"         \"p1004\"        \n",
       "[1005] \"p1005\"         \"p1006\"         \"p1007\"         \"p1008\"        \n",
       "[1009] \"p1009\"         \"p1010\"         \"p1011\"         \"p1012\"        \n",
       "[1013] \"p1013\"         \"p1014\"         \"p1015\"         \"p1016\"        \n",
       "[1017] \"p1017\"         \"p1018\"         \"p1019\"         \"p1020\"        \n",
       "[1021] \"p1021\"         \"p1022\"         \"p1023\"         \"p1024\"        \n",
       "[1025] \"p1025\"         \"p1026\"         \"p1027\"         \"p1028\"        \n",
       "[1029] \"p1029\"         \"p1030\"         \"p1031\"         \"p1032\"        \n",
       "[1033] \"p1033\"         \"p1034\"         \"p1035\"         \"p1036\"        \n",
       "[1037] \"p1037\"         \"p1038\"         \"p1039\"         \"p1040\"        \n",
       "[1041] \"p1041\"         \"p1042\"         \"p1043\"         \"p1044\"        \n",
       "[1045] \"p1045\"         \"p1046\"         \"p1047\"         \"p1048\"        \n",
       "[1049] \"p1049\"         \"p1050\"         \"p1051\"         \"p1052\"        \n",
       "[1053] \"p1053\"         \"p1054\"         \"p1055\"         \"p1056\"        \n",
       "[1057] \"p1057\"         \"p1058\"         \"p1059\"         \"p1060\"        \n",
       "[1061] \"p1061\"         \"p1062\"         \"p1063\"         \"p1064\"        \n",
       "[1065] \"p1065\"         \"p1066\"         \"p1067\"         \"p1068\"        \n",
       "[1069] \"p1069\"         \"p1070\"         \"p1071\"         \"p1072\"        \n",
       "[1073] \"p1073\"         \"p1074\"         \"p1075\"         \"p1076\"        \n",
       "[1077] \"p1077\"         \"p1078\"         \"p1079\"         \"p1080\"        \n",
       "[1081] \"p1081\"         \"p1082\"         \"p1083\"         \"p1084\"        \n",
       "[1085] \"p1085\"         \"p1086\"         \"p1087\"         \"p1088\"        \n",
       "[1089] \"p1089\"         \"p1090\"         \"p1091\"         \"p1092\"        \n",
       "[1093] \"p1093\"         \"p1094\"         \"p1095\"         \"p1096\"        \n",
       "[1097] \"p1097\"         \"p1098\"         \"p1099\"         \"p1100\"        \n",
       "[1101] \"p1101\"         \"p1102\"         \"p1103\"         \"p1104\"        \n",
       "[1105] \"p1105\"         \"p1106\"         \"p1107\"         \"p1108\"        \n",
       "[1109] \"p1109\"         \"p1110\"         \"p1111\"         \"p1112\"        \n",
       "[1113] \"p1113\"         \"p1114\"         \"p1115\"         \"p1116\"        \n",
       "[1117] \"p1117\"         \"p1118\"         \"p1119\"         \"p1120\"        \n",
       "[1121] \"p1121\"         \"p1122\"         \"p1123\"         \"p1124\"        \n",
       "[1125] \"p1125\"         \"p1126\"         \"p1127\"         \"p1128\"        \n",
       "[1129] \"p1129\"         \"p1130\"         \"p1131\"         \"p1132\"        \n",
       "[1133] \"p1133\"         \"p1134\"         \"p1135\"         \"p1136\"        \n",
       "[1137] \"p1137\"         \"p1138\"         \"p1139\"         \"p1140\"        \n",
       "[1141] \"p1141\"         \"p1142\"         \"p1143\"         \"p1144\"        \n",
       "[1145] \"p1145\"         \"p1146\"         \"p1147\"         \"p1148\"        \n",
       "[1149] \"p1149\"         \"p1150\"         \"p1151\"         \"p1152\"        \n",
       "[1153] \"p1153\"         \"p1154\"         \"p1155\"         \"p1156\"        \n",
       "[1157] \"p1157\"         \"p1158\"         \"p1159\"         \"p1160\"        \n",
       "[1161] \"p1161\"         \"p1162\"         \"p1163\"         \"p1164\"        \n",
       "[1165] \"p1165\"         \"p1166\"         \"p1167\"         \"p1168\"        \n",
       "[1169] \"p1169\"         \"p1170\"         \"p1171\"         \"p1172\"        \n",
       "[1173] \"p1173\"         \"p1174\"         \"p1175\"         \"p1176\"        \n",
       "[1177] \"p1177\"         \"p1178\"         \"p1179\"         \"p1180\"        \n",
       "[1181] \"p1181\"         \"p1182\"         \"p1183\"         \"p1184\"        \n",
       "[1185] \"p1185\"         \"p1186\"         \"p1187\"         \"p1188\"        \n",
       "[1189] \"p1189\"         \"p1190\"         \"p1191\"         \"p1192\"        \n",
       "[1193] \"p1193\"         \"p1194\"         \"p1195\"         \"p1196\"        \n",
       "[1197] \"p1197\"         \"p1198\"         \"p1199\"         \"p1200\"        \n",
       "[1201] \"p1201\"         \"p1202\"         \"p1203\"         \"p1204\"        \n",
       "[1205] \"p1205\"         \"p1206\"         \"p1207\"         \"p1208\"        \n",
       "[1209] \"p1209\"         \"p1210\"         \"p1211\"         \"p1212\"        \n",
       "[1213] \"p1213\"         \"p1214\"         \"p1215\"         \"p1216\"        \n",
       "[1217] \"p1217\"         \"p1218\"         \"p1219\"         \"p1220\"        \n",
       "[1221] \"p1221\"         \"p1222\"         \"p1223\"         \"p1224\"        \n",
       "[1225] \"p1225\"         \"p1226\"         \"p1227\"         \"p1228\"        \n",
       "[1229] \"p1229\"         \"p1230\"         \"p1231\"         \"p1232\"        \n",
       "[1233] \"p1233\"         \"p1234\"         \"p1235\"         \"p1236\"        \n",
       "[1237] \"p1237\"         \"p1238\"         \"p1239\"         \"p1240\"        \n",
       "[1241] \"p1241\"         \"p1242\"         \"p1243\"         \"p1244\"        \n",
       "[1245] \"p1245\"         \"p1246\"         \"p1247\"         \"p1248\"        \n",
       "[1249] \"p1249\"         \"p1250\"         \"p1251\"         \"p1252\"        \n",
       "[1253] \"p1253\"         \"p1254\"         \"p1255\"         \"p1256\"        \n",
       "[1257] \"p1257\"         \"p1258\"         \"p1259\"         \"p1260\"        \n",
       "[1261] \"p1261\"         \"p1262\"         \"p1263\"         \"p1264\"        \n",
       "[1265] \"p1265\"         \"p1266\"         \"p1267\"         \"p1268\"        \n",
       "[1269] \"p1269\"         \"p1270\"         \"p1271\"         \"p1272\"        \n",
       "[1273] \"p1273\"         \"p1274\"         \"p1275\"         \"p1276\"        \n",
       "[1277] \"p1277\"         \"p1278\"         \"p1279\"         \"p1280\"        \n",
       "[1281] \"p1281\"         \"p1282\"         \"p1283\"         \"p1284\"        \n",
       "[1285] \"p1285\"         \"p1286\"         \"p1287\"         \"p1288\"        \n",
       "[1289] \"p1289\"         \"p1290\"         \"p1291\"         \"p1292\"        \n",
       "[1293] \"p1293\"         \"p1294\"         \"p1295\"         \"p1296\"        \n",
       "[1297] \"p1297\"         \"p1298\"         \"p1299\"         \"p1300\"        \n",
       "[1301] \"p1301\"         \"p1302\"         \"p1303\"         \"p1304\"        \n",
       "[1305] \"p1305\"         \"p1306\"         \"p1307\"         \"p1308\"        \n",
       "[1309] \"p1309\"         \"p1310\"         \"p1311\"         \"p1312\"        \n",
       "[1313] \"p1313\"         \"p1314\"         \"p1315\"         \"p1316\"        \n",
       "[1317] \"p1317\"         \"p1318\"         \"p1319\"         \"p1320\"        \n",
       "[1321] \"p1321\"         \"p1322\"         \"p1323\"         \"p1324\"        \n",
       "[1325] \"p1325\"         \"p1326\"         \"p1327\"         \"p1328\"        \n",
       "[1329] \"p1329\"         \"p1330\"         \"p1331\"         \"p1332\"        \n",
       "[1333] \"p1333\"         \"p1334\"         \"p1335\"         \"p1336\"        \n",
       "[1337] \"p1337\"         \"p1338\"         \"p1339\"         \"p1340\"        \n",
       "[1341] \"p1341\"         \"p1342\"         \"p1343\"         \"p1344\"        \n",
       "[1345] \"p1345\"         \"p1346\"         \"p1347\"         \"p1348\"        \n",
       "[1349] \"p1349\"         \"p1350\"         \"p1351\"         \"p1352\"        \n",
       "[1353] \"p1353\"         \"p1354\"         \"p1355\"         \"p1356\"        \n",
       "[1357] \"p1357\"         \"p1358\"         \"p1359\"         \"p1360\"        \n",
       "[1361] \"p1361\"         \"p1362\"         \"p1363\"         \"p1364\"        \n",
       "[1365] \"p1365\"         \"p1366\"         \"p1367\"         \"p1368\"        \n",
       "[1369] \"p1369\"         \"p1370\"         \"p1371\"         \"p1372\"        \n",
       "[1373] \"p1373\"         \"p1374\"         \"p1375\"         \"p1376\"        \n",
       "[1377] \"p1377\"         \"p1378\"         \"p1379\"         \"p1380\"        \n",
       "[1381] \"p1381\"         \"p1382\"         \"p1383\"         \"p1384\"        \n",
       "[1385] \"p1385\"         \"p1386\"         \"p1387\"         \"p1388\"        \n",
       "[1389] \"p1389\"         \"p1390\"         \"p1391\"         \"p1392\"        \n",
       "[1393] \"p1393\"         \"p1394\"         \"p1395\"         \"p1396\"        \n",
       "[1397] \"p1397\"         \"p1398\"         \"p1399\"         \"p1400\"        \n",
       "[1401] \"p1401\"         \"p1402\"         \"p1403\"         \"p1404\"        \n",
       "[1405] \"p1405\"         \"p1406\"         \"p1407\"         \"p1408\"        \n",
       "[1409] \"p1409\"         \"p1410\"         \"p1411\"         \"p1412\"        \n",
       "[1413] \"p1413\"         \"p1414\"         \"p1415\"         \"p1416\"        \n",
       "[1417] \"p1417\"         \"p1418\"         \"p1419\"         \"p1420\"        \n",
       "[1421] \"p1421\"         \"p1422\"         \"p1423\"         \"p1424\"        \n",
       "[1425] \"p1425\"         \"p1426\"         \"p1427\"         \"p1428\"        \n",
       "[1429] \"p1429\"         \"p1430\"         \"p1431\"         \"p1432\"        \n",
       "[1433] \"p1433\"         \"p1434\"         \"p1435\"         \"p1436\"        \n",
       "[1437] \"p1437\"         \"p1438\"         \"p1439\"         \"p1440\"        \n",
       "[1441] \"p1441\"         \"p1442\"         \"p1443\"         \"p1444\"        \n",
       "[1445] \"p1445\"         \"p1446\"         \"p1447\"         \"p1448\"        \n",
       "[1449] \"p1449\"         \"p1450\"         \"p1451\"         \"p1452\"        \n",
       "[1453] \"p1453\"         \"p1454\"         \"p1455\"         \"p1456\"        \n",
       "[1457] \"p1457\"         \"p1458\"         \"p1459\"         \"p1460\"        \n",
       "[1461] \"p1461\"         \"p1462\"         \"p1463\"         \"p1464\"        \n",
       "[1465] \"p1465\"         \"p1466\"         \"p1467\"         \"p1468\"        \n",
       "[1469] \"p1469\"         \"p1470\"         \"p1471\"         \"p1472\"        \n",
       "[1473] \"p1473\"         \"p1474\"         \"p1475\"         \"p1476\"        \n",
       "[1477] \"p1477\"         \"p1478\"         \"p1479\"         \"p1480\"        \n",
       "[1481] \"p1481\"         \"p1482\"         \"p1483\"         \"p1484\"        \n",
       "[1485] \"p1485\"         \"p1486\"         \"p1487\"         \"p1488\"        \n",
       "[1489] \"p1489\"         \"p1490\"         \"p1491\"         \"p1492\"        \n",
       "[1493] \"p1493\"         \"p1494\"         \"p1495\"         \"p1496\"        \n",
       "[1497] \"p1497\"         \"p1498\"         \"p1499\"         \"p1500\"        \n",
       "[1501] \"p1501\"         \"p1502\"         \"p1503\"         \"p1504\"        \n",
       "[1505] \"p1505\"         \"p1506\"         \"p1507\"         \"p1508\"        \n",
       "[1509] \"p1509\"         \"p1510\"         \"p1511\"         \"p1512\"        \n",
       "[1513] \"p1513\"         \"p1514\"         \"p1515\"         \"p1516\"        \n",
       "[1517] \"p1517\"         \"p1518\"         \"p1519\"         \"p1520\"        \n",
       "[1521] \"p1521\"         \"p1522\"         \"p1523\"         \"p1524\"        \n",
       "[1525] \"p1525\"         \"p1526\"         \"p1527\"         \"p1528\"        \n",
       "[1529] \"p1529\"         \"p1530\"         \"p1531\"         \"p1532\"        \n",
       "[1533] \"p1533\"         \"p1534\"         \"p1535\"         \"p1536\"        \n",
       "[1537] \"p1537\"         \"p1538\"         \"p1539\"         \"p1540\"        \n",
       "[1541] \"p1541\"         \"p1542\"         \"p1543\"         \"p1544\"        \n",
       "[1545] \"p1545\"         \"p1546\"         \"p1547\"         \"p1548\"        \n",
       "[1549] \"p1549\"         \"p1550\"         \"p1551\"         \"p1552\"        \n",
       "[1553] \"p1553\"         \"p1554\"         \"p1555\"         \"p1556\"        \n",
       "[1557] \"p1557\"         \"p1558\"         \"p1559\"         \"p1560\"        \n",
       "[1561] \"p1561\"         \"p1562\"         \"p1563\"         \"p1564\"        \n",
       "[1565] \"p1565\"         \"p1566\"         \"p1567\"         \"p1568\"        \n",
       "[1569] \"p1569\"         \"p1570\"         \"p1571\"         \"p1572\"        \n",
       "[1573] \"p1573\"         \"p1574\"         \"p1575\"         \"p1576\"        \n",
       "[1577] \"p1577\"         \"p1578\"         \"p1579\"         \"p1580\"        \n",
       "[1581] \"p1581\"         \"p1582\"         \"p1583\"         \"p1584\"        \n",
       "[1585] \"p1585\"         \"p1586\"         \"p1587\"         \"p1588\"        \n",
       "[1589] \"p1589\"         \"p1590\"         \"p1591\"         \"p1592\"        \n",
       "[1593] \"p1593\"         \"p1594\"         \"p1595\"         \"p1596\"        \n",
       "[1597] \"p1597\"         \"p1598\"         \"p1599\"         \"p1600\"        \n",
       "[1601] \"p1601\"         \"p1602\"         \"p1603\"         \"p1604\"        \n",
       "[1605] \"p1605\"         \"p1606\"         \"p1607\"         \"p1608\"        \n",
       "[1609] \"p1609\"         \"p1610\"         \"p1611\"         \"p1612\"        \n",
       "[1613] \"p1613\"         \"p1614\"         \"p1615\"         \"p1616\"        \n",
       "[1617] \"p1617\"         \"p1618\"         \"p1619\"         \"p1620\"        \n",
       "[1621] \"p1621\"         \"p1622\"         \"p1623\"         \"p1624\"        \n",
       "[1625] \"p1625\"         \"p1626\"         \"p1627\"         \"p1628\"        \n",
       "[1629] \"p1629\"         \"p1630\"         \"p1631\"         \"p1632\"        \n",
       "[1633] \"p1633\"         \"p1634\"         \"p1635\"         \"p1636\"        \n",
       "[1637] \"p1637\"         \"p1638\"         \"p1639\"         \"p1640\"        \n",
       "[1641] \"p1641\"         \"p1642\"         \"p1643\"         \"p1644\"        \n",
       "[1645] \"p1645\"         \"p1646\"         \"p1647\"         \"p1648\"        \n",
       "[1649] \"p1649\"         \"p1650\"         \"p1651\"         \"p1652\"        \n",
       "[1653] \"p1653\"         \"p1654\"         \"p1655\"         \"p1656\"        \n",
       "[1657] \"p1657\"         \"p1658\"         \"p1659\"         \"p1660\"        \n",
       "[1661] \"p1661\"         \"p1662\"         \"p1663\"         \"p1664\"        \n",
       "[1665] \"p1665\"         \"p1666\"         \"p1667\"         \"p1668\"        \n",
       "[1669] \"p1669\"         \"p1670\"         \"p1671\"         \"p1672\"        \n",
       "[1673] \"p1673\"         \"p1674\"         \"p1675\"         \"p1676\"        \n",
       "[1677] \"p1677\"         \"p1678\"         \"p1679\"         \"p1680\"        \n",
       "[1681] \"p1681\"         \"p1682\"         \"p1683\"         \"p1684\"        \n",
       "[1685] \"p1685\"         \"p1686\"         \"p1687\"         \"p1688\"        \n",
       "[1689] \"p1689\"         \"p1690\"         \"p1691\"         \"p1692\"        \n",
       "[1693] \"p1693\"         \"p1694\"         \"p1695\"         \"p1696\"        \n",
       "[1697] \"p1697\"         \"p1698\"         \"p1699\"         \"p1700\"        \n",
       "[1701] \"p1701\"         \"p1702\"         \"p1703\"         \"p1704\"        \n",
       "[1705] \"p1705\"         \"p1706\"         \"p1707\"         \"p1708\"        \n",
       "[1709] \"p1709\"         \"p1710\"         \"p1711\"         \"p1712\"        \n",
       "[1713] \"p1713\"         \"p1714\"         \"p1715\"         \"p1716\"        \n",
       "[1717] \"p1717\"         \"p1718\"         \"p1719\"         \"p1720\"        \n",
       "[1721] \"p1721\"         \"p1722\"         \"p1723\"         \"p1724\"        \n",
       "[1725] \"p1725\"         \"p1726\"         \"p1727\"         \"p1728\"        \n",
       "[1729] \"p1729\"         \"p1730\"         \"p1731\"         \"p1732\"        \n",
       "[1733] \"p1733\"         \"p1734\"         \"p1735\"         \"p1736\"        \n",
       "[1737] \"p1737\"         \"p1738\"         \"p1739\"         \"p1740\"        \n",
       "[1741] \"p1741\"         \"p1742\"         \"p1743\"         \"p1744\"        \n",
       "[1745] \"p1745\"         \"p1746\"         \"p1747\"         \"p1748\"        \n",
       "[1749] \"p1749\"         \"p1750\"         \"p1751\"         \"p1752\"        \n",
       "[1753] \"p1753\"         \"p1754\"         \"p1755\"         \"p1756\"        \n",
       "[1757] \"p1757\"         \"p1758\"         \"p1759\"         \"p1760\"        \n",
       "[1761] \"p1761\"         \"p1762\"         \"p1763\"         \"p1764\"        \n",
       "[1765] \"p1765\"         \"p1766\"         \"p1767\"         \"p1768\"        \n",
       "[1769] \"p1769\"         \"p1770\"         \"p1771\"         \"p1772\"        \n",
       "[1773] \"p1773\"         \"p1774\"         \"p1775\"         \"p1776\"        \n",
       "[1777] \"p1777\"         \"p1778\"         \"p1779\"         \"p1780\"        \n",
       "[1781] \"p1781\"         \"p1782\"         \"p1783\"         \"p1784\"        \n",
       "[1785] \"p1785\"         \"p1786\"         \"p1787\"         \"p1788\"        \n",
       "[1789] \"p1789\"         \"p1790\"         \"p1791\"         \"p1792\"        \n",
       "[1793] \"p1793\"         \"p1794\"         \"p1795\"         \"p1796\"        \n",
       "[1797] \"p1797\"         \"p1798\"         \"p1799\"         \"p1800\"        \n",
       "[1801] \"p1801\"         \"p1802\"         \"p1803\"         \"p1804\"        \n",
       "[1805] \"p1805\"         \"p1806\"         \"p1807\"         \"p1808\"        \n",
       "[1809] \"p1809\"         \"p1810\"         \"p1811\"         \"p1812\"        \n",
       "[1813] \"p1813\"         \"p1814\"         \"p1815\"         \"p1816\"        \n",
       "[1817] \"p1817\"         \"p1818\"         \"p1819\"         \"p1820\"        \n",
       "[1821] \"p1821\"         \"p1822\"         \"p1823\"         \"p1824\"        \n",
       "[1825] \"p1825\"         \"p1826\"         \"p1827\"         \"p1828\"        \n",
       "[1829] \"p1829\"         \"p1830\"         \"p1831\"         \"p1832\"        \n",
       "[1833] \"p1833\"         \"p1834\"         \"p1835\"         \"p1836\"        \n",
       "[1837] \"p1837\"         \"p1838\"         \"p1839\"         \"p1840\"        \n",
       "[1841] \"p1841\"         \"p1842\"         \"p1843\"         \"p1844\"        \n",
       "[1845] \"p1845\"         \"p1846\"         \"p1847\"         \"p1848\"        \n",
       "[1849] \"p1849\"         \"p1850\"         \"p1851\"         \"p1852\"        \n",
       "[1853] \"p1853\"         \"p1854\"         \"p1855\"         \"p1856\"        \n",
       "[1857] \"p1857\"         \"p1858\"         \"p1859\"         \"p1860\"        \n",
       "[1861] \"p1861\"         \"p1862\"         \"p1863\"         \"p1864\"        \n",
       "[1865] \"p1865\"         \"p1866\"         \"p1867\"         \"p1868\"        \n",
       "[1869] \"p1869\"         \"p1870\"         \"p1871\"         \"p1872\"        \n",
       "[1873] \"p1873\"         \"p1874\"         \"p1875\"         \"p1876\"        \n",
       "[1877] \"p1877\"         \"p1878\"         \"p1879\"         \"p1880\"        \n",
       "[1881] \"p1881\"         \"p1882\"         \"p1883\"         \"p1884\"        \n",
       "[1885] \"p1885\"         \"p1886\"         \"p1887\"         \"p1888\"        \n",
       "[1889] \"p1889\"         \"p1890\"         \"p1891\"         \"p1892\"        \n",
       "[1893] \"p1893\"         \"p1894\"         \"p1895\"         \"p1896\"        \n",
       "[1897] \"p1897\"         \"p1898\"         \"p1899\"         \"p1900\"        \n",
       "[1901] \"p1901\"         \"p1902\"         \"p1903\"         \"p1904\"        \n",
       "[1905] \"p1905\"         \"p1906\"         \"p1907\"         \"p1908\"        \n",
       "[1909] \"p1909\"         \"p1910\"         \"p1911\"         \"p1912\"        \n",
       "[1913] \"p1913\"         \"p1914\"         \"p1915\"         \"p1916\"        \n",
       "[1917] \"p1917\"         \"p1918\"         \"p1919\"         \"p1920\"        \n",
       "[1921] \"p1921\"         \"p1922\"         \"p1923\"         \"p1924\"        \n",
       "[1925] \"p1925\"         \"p1926\"         \"p1927\"         \"p1928\"        \n",
       "[1929] \"p1929\"         \"p1930\"         \"p1931\"         \"p1932\"        \n",
       "[1933] \"p1933\"         \"p1934\"         \"p1935\"         \"p1936\"        \n",
       "[1937] \"p1937\"         \"p1938\"         \"p1939\"         \"p1940\"        \n",
       "[1941] \"p1941\"         \"p1942\"         \"p1943\"         \"p1944\"        \n",
       "[1945] \"p1945\"         \"p1946\"         \"p1947\"         \"p1948\"        \n",
       "[1949] \"p1949\"         \"p1950\"         \"p1951\"         \"p1952\"        \n",
       "[1953] \"p1953\"         \"p1954\"         \"p1955\"         \"p1956\"        \n",
       "[1957] \"p1957\"         \"p1958\"         \"p1959\"         \"p1960\"        \n",
       "[1961] \"p1961\"         \"p1962\"         \"p1963\"         \"p1964\"        \n",
       "[1965] \"p1965\"         \"p1966\"         \"p1967\"         \"p1968\"        \n",
       "[1969] \"p1969\"         \"p1970\"         \"p1971\"         \"p1972\"        \n",
       "[1973] \"p1973\"         \"p1974\"         \"p1975\"         \"p1976\"        \n",
       "[1977] \"p1977\"         \"p1978\"         \"p1979\"         \"p1980\"        \n",
       "[1981] \"p1981\"         \"p1982\"         \"p1983\"         \"p1984\"        \n",
       "[1985] \"p1985\"         \"p1986\"         \"p1987\"         \"p1988\"        \n",
       "[1989] \"p1989\"         \"p1990\"         \"p1991\"         \"p1992\"        \n",
       "[1993] \"p1993\"         \"p1994\"         \"p1995\"         \"p1996\"        \n",
       "[1997] \"p1997\"         \"p1998\"         \"p1999\"         \"p2000\"        \n",
       "[2001] \"p2001\"         \"p2002\"         \"p2003\"         \"p2004\"        \n",
       "[2005] \"p2005\"         \"p2006\"         \"p2007\"         \"p2008\"        \n",
       "[2009] \"p2009\"         \"p2010\"         \"p2011\"         \"p2012\"        \n",
       "[2013] \"p2013\"         \"p2014\"         \"p2015\"         \"p2016\"        \n",
       "[2017] \"p2017\"         \"p2018\"         \"p2019\"         \"p2020\"        \n",
       "[2021] \"p2021\"         \"p2022\"         \"p2023\"         \"p2024\"        \n",
       "[2025] \"p2025\"         \"p2026\"         \"p2027\"         \"p2028\"        \n",
       "[2029] \"p2029\"         \"p2030\"         \"p2031\"         \"p2032\"        \n",
       "[2033] \"p2033\"         \"p2034\"         \"p2035\"         \"p2036\"        \n",
       "[2037] \"p2037\"         \"p2038\"         \"p2039\"         \"p2040\"        \n",
       "[2041] \"p2041\"         \"p2042\"         \"p2043\"         \"p2044\"        \n",
       "[2045] \"p2045\"         \"p2046\"         \"p2047\"         \"p2048\"        \n",
       "[2049] \"p2049\"         \"p2050\"         \"p2051\"         \"p2052\"        \n",
       "[2053] \"p2053\"         \"p2054\"         \"p2055\"         \"p2056\"        \n",
       "[2057] \"p2057\"         \"p2058\"         \"p2059\"         \"p2060\"        \n",
       "[2061] \"p2061\"         \"p2062\"         \"p2063\"         \"p2064\"        \n",
       "[2065] \"p2065\"         \"p2066\"         \"p2067\"         \"p2068\"        \n",
       "[2069] \"p2069\"         \"p2070\"         \"p2071\"         \"p2072\"        \n",
       "[2073] \"p2073\"         \"p2074\"         \"p2075\"         \"p2076\"        \n",
       "[2077] \"p2077\"         \"p2078\"         \"p2079\"         \"p2080\"        \n",
       "[2081] \"p2081\"         \"p2082\"         \"p2083\"         \"p2084\"        \n",
       "[2085] \"p2085\"         \"p2086\"         \"p2087\"         \"p2088\"        \n",
       "[2089] \"p2089\"         \"p2090\"         \"p2091\"         \"p2092\"        \n",
       "[2093] \"p2093\"         \"p2094\"         \"p2095\"         \"p2096\"        \n",
       "[2097] \"p2097\"         \"p2098\"         \"p2099\"         \"p2100\"        \n",
       "[2101] \"p2101\"         \"p2102\"         \"p2103\"         \"p2104\"        \n",
       "[2105] \"p2105\"         \"p2106\"         \"p2107\"         \"p2108\"        \n",
       "[2109] \"p2109\"         \"p2110\"         \"p2111\"         \"p2112\"        \n",
       "[2113] \"p2113\"         \"p2114\"         \"p2115\"         \"p2116\"        \n",
       "[2117] \"p2117\"         \"p2118\"         \"p2119\"         \"p2120\"        \n",
       "[2121] \"p2121\"         \"p2122\"         \"p2123\"         \"p2124\"        \n",
       "[2125] \"p2125\"         \"p2126\"         \"p2127\"         \"p2128\"        \n",
       "[2129] \"p2129\"         \"p2130\"         \"p2131\"         \"p2132\"        \n",
       "[2133] \"p2133\"         \"p2134\"         \"p2135\"         \"p2136\"        \n",
       "[2137] \"p2137\"         \"p2138\"         \"p2139\"         \"p2140\"        \n",
       "[2141] \"p2141\"         \"p2142\"         \"p2143\"         \"p2144\"        \n",
       "[2145] \"p2145\"         \"p2146\"         \"p2147\"         \"p2148\"        \n",
       "[2149] \"p2149\"         \"p2150\"         \"p2151\"         \"p2152\"        \n",
       "[2153] \"p2153\"         \"p2154\"         \"p2155\"         \"p2156\"        \n",
       "[2157] \"p2157\"         \"p2158\"         \"p2159\"         \"p2160\"        \n",
       "[2161] \"p2161\"         \"p2162\"         \"p2163\"         \"p2164\"        \n",
       "[2165] \"p2165\"         \"p2166\"         \"p2167\"         \"p2168\"        \n",
       "[2169] \"p2169\"         \"p2170\"         \"p2171\"         \"p2172\"        \n",
       "[2173] \"p2173\"         \"p2174\"         \"p2175\"         \"p2176\"        \n",
       "[2177] \"p2177\"         \"p2178\"         \"p2179\"         \"p2180\"        \n",
       "[2181] \"p2181\"         \"p2182\"         \"p2183\"         \"p2184\"        \n",
       "[2185] \"p2185\"         \"p2186\"         \"p2187\"         \"p2188\"        \n",
       "[2189] \"p2189\"         \"p2190\"         \"p2191\"         \"p2192\"        \n",
       "[2193] \"p2193\"         \"p2194\"         \"p2195\"         \"p2196\"        \n",
       "[2197] \"p2197\"         \"p2198\"         \"p2199\"         \"p2200\"        \n",
       "[2201] \"p2201\"         \"p2202\"         \"p2203\"         \"p2204\"        \n",
       "[2205] \"p2205\"         \"p2206\"         \"p2207\"         \"p2208\"        \n",
       "[2209] \"p2209\"         \"p2210\"         \"p2211\"         \"p2212\"        \n",
       "[2213] \"p2213\"         \"p2214\"         \"p2215\"         \"p2216\"        \n",
       "[2217] \"p2217\"         \"p2218\"         \"p2219\"         \"p2220\"        \n",
       "[2221] \"p2221\"         \"p2222\"         \"p2223\"         \"p2224\"        \n",
       "[2225] \"p2225\"         \"p2226\"         \"p2227\"         \"p2228\"        \n",
       "[2229] \"p2229\"         \"p2230\"         \"p2231\"         \"p2232\"        \n",
       "[2233] \"p2233\"         \"p2234\"         \"p2235\"         \"p2236\"        \n",
       "[2237] \"p2237\"         \"p2238\"         \"p2239\"         \"p2240\"        \n",
       "[2241] \"p2241\"         \"p2242\"         \"p2243\"         \"p2244\"        \n",
       "[2245] \"p2245\"         \"p2246\"         \"p2247\"         \"p2248\"        \n",
       "[2249] \"p2249\"         \"p2250\"         \"p2251\"         \"p2252\"        \n",
       "[2253] \"p2253\"         \"p2254\"         \"p2255\"         \"p2256\"        \n",
       "[2257] \"p2257\"         \"p2258\"         \"p2259\"         \"p2260\"        \n",
       "[2261] \"p2261\"         \"p2262\"         \"p2263\"         \"p2264\"        \n",
       "[2265] \"p2265\"         \"p2266\"         \"p2267\"         \"p2268\"        \n",
       "[2269] \"p2269\"         \"p2270\"         \"p2271\"         \"p2272\"        \n",
       "[2273] \"p2273\"         \"p2274\"         \"p2275\"         \"p2276\"        \n",
       "[2277] \"p2277\"         \"p2278\"         \"p2279\"         \"p2280\"        \n",
       "[2281] \"p2281\"         \"p2282\"         \"p2283\"         \"p2284\"        \n",
       "[2285] \"p2285\"         \"p2286\"         \"p2287\"         \"p2288\"        \n",
       "[2289] \"p2289\"         \"p2290\"         \"p2291\"         \"p2292\"        \n",
       "[2293] \"p2293\"         \"p2294\"         \"p2295\"         \"p2296\"        \n",
       "[2297] \"p2297\"         \"p2298\"         \"p2299\"         \"p2300\"        \n",
       "[2301] \"p2301\"         \"p2302\"         \"p2303\"         \"p2304\"        \n",
       "[2305] \"fsf_h.x.box\"   \"fsf_h.y.box\"   \"fsf_h.width\"   \"fsf_h.high\"   \n",
       "[2309] \"fsf_h.onpix\"   \"fsf_h.x.bar\"   \"fsf_h.y.bar\"   \"fsf_h.x2bar\"  \n",
       "[2313] \"fsf_h.y2bar\"   \"fsf_h.xybar\"   \"fsf_h.x2ybar\"  \"fsf_h.xy2bar\" \n",
       "[2317] \"fsf_h.x.ege\"   \"fsf_h.xegvy\"   \"fsf_h.y.ege\"   \"fsf_h.yegvx\"  \n",
       "[2321] \"m_h\"           \"sd_h\"          \"ske_h\"         \"kur_h\"        \n",
       "[2325] \"entropy_h\"     \"fsf_v.x.box\"   \"fsf_v.y.box\"   \"fsf_v.width\"  \n",
       "[2329] \"fsf_v.high\"    \"fsf_v.onpix\"   \"fsf_v.x.bar\"   \"fsf_v.y.bar\"  \n",
       "[2333] \"fsf_v.x2bar\"   \"fsf_v.y2bar\"   \"fsf_v.xybar\"   \"fsf_v.x2ybar\" \n",
       "[2337] \"fsf_v.xy2bar\"  \"fsf_v.x.ege\"   \"fsf_v.xegvy\"   \"fsf_v.y.ege\"  \n",
       "[2341] \"fsf_v.yegvx\"   \"m_v\"           \"sd_v\"          \"ske_v\"        \n",
       "[2345] \"kur_v\"         \"entropy_v\"     \"fsf_d1.x.box\"  \"fsf_d1.y.box\" \n",
       "[2349] \"fsf_d1.width\"  \"fsf_d1.high\"   \"fsf_d1.onpix\"  \"fsf_d1.x.bar\" \n",
       "[2353] \"fsf_d1.y.bar\"  \"fsf_d1.x2bar\"  \"fsf_d1.y2bar\"  \"fsf_d1.xybar\" \n",
       "[2357] \"fsf_d1.x2ybar\" \"fsf_d1.xy2bar\" \"fsf_d1.x.ege\"  \"fsf_d1.xegvy\" \n",
       "[2361] \"fsf_d1.y.ege\"  \"fsf_d1.yegvx\"  \"m_d1\"          \"sd_d1\"        \n",
       "[2365] \"ske_d1\"        \"kur_d1\"        \"entropy_d1\"    \"fsf_d2.x.box\" \n",
       "[2369] \"fsf_d2.y.box\"  \"fsf_d2.width\"  \"fsf_d2.high\"   \"fsf_d2.onpix\" \n",
       "[2373] \"fsf_d2.x.bar\"  \"fsf_d2.y.bar\"  \"fsf_d2.x2bar\"  \"fsf_d2.y2bar\" \n",
       "[2377] \"fsf_d2.xybar\"  \"fsf_d2.x2ybar\" \"fsf_d2.xy2bar\" \"fsf_d2.x.ege\" \n",
       "[2381] \"fsf_d2.xegvy\"  \"fsf_d2.y.ege\"  \"fsf_d2.yegvx\"  \"m_d2\"         \n",
       "[2385] \"sd_d2\"         \"ske_d2\"        \"kur_d2\"        \"entropy_d2\"   "
      ]
     },
     "metadata": {},
     "output_type": "display_data"
    }
   ],
   "source": [
    "## Created with Group 1's help from last year (2022)\n",
    "\n",
    "# Loading FreySlateFeatures function\n",
    "source(\"https://bit.ly/32um24j\")\n",
    "\n",
    "# Function to compute edge features\n",
    "compute_edge_features <- function(X, threshold = 0.0625, summary = TRUE) {\n",
    "    \n",
    "    # Computes edge and histogram feature for one image\n",
    "    edge <- function(x, summary) {\n",
    "        x <- matrix(x, 48)\n",
    "        output <- edges <- list()\n",
    "        \n",
    "        # Compute edges by differencing neighboring pixels\n",
    "        edges[[\"edge_h\"]] <- (x[-1,] - x[-nrow(x),])       # horizontal\n",
    "        edges[[\"edge_v\"]] <- (x[,-1] - x[,-ncol(x)])      # vertical\n",
    "        edges[[\"edge_d1\"]] <- (edges[[\"edge_h\"]][,-1] - edges[[\"edge_h\"]][,-ncol(edges[[\"edge_h\"]])])     # h - v\n",
    "        edges[[\"edge_d2\"]] <- (edges[[\"edge_v\"]][-1,] - edges[[\"edge_v\"]][-nrow(edges[[\"edge_v\"]]),])    # v - h\n",
    "        \n",
    "        # summary == TRUE; produce histogram features\n",
    "        if (summary) {\n",
    "            edges[[\"edge_h\"]] <- edges[[\"edge_h\"]] < threshold \n",
    "            edges[[\"edge_v\"]] <- edges[[\"edge_v\"]] < threshold \n",
    "            edges[[\"edge_d1\"]] <- edges[[\"edge_d1\"]] < threshold\n",
    "            edges[[\"edge_d2\"]] <- edges[[\"edge_d2\"]] < threshold\n",
    "            \n",
    "            \n",
    "            # Compute features; iterate through the edge types\n",
    "            for (i in c(\"_h\",\"_v\",\"_d1\",\"_d2\")) {\n",
    "\n",
    "                # Frey Slate Features\n",
    "                output[[ paste0(\"fsf\", i) ]] <- FreySlateFeatures(edges[[ paste0(\"edge\", i) ]])\n",
    "\n",
    "                # Mean\n",
    "                output[[ paste0(\"m\", i) ]] <- mean(edges[[ paste0(\"edge\", i) ]])\n",
    "\n",
    "                # SD\n",
    "                output[[ paste0(\"sd\", i) ]] <- sd(edges[[ paste0(\"edge\", i) ]])\n",
    "\n",
    "                # Skew\n",
    "                output[[ paste0(\"ske\", i) ]] <- e1071::skewness(edges[[ paste0(\"edge\", i) ]])\n",
    "\n",
    "                # Kurtosis\n",
    "                output[[ paste0(\"kur\", i) ]] <- e1071::kurtosis(edges[[ paste0(\"edge\", i) ]])\n",
    "\n",
    "                # entropy\n",
    "                output[[ paste0(\"entropy\", i) ]] <- entropy(edges[[ paste0(\"edge\", i) ]])\n",
    "            }\n",
    "            \n",
    "            return(unlist(output))\n",
    "            \n",
    "            \n",
    "        # summary == FALSE; only return edges\n",
    "        } else {\n",
    "            \n",
    "            return(unlist(edges))\n",
    "        }\n",
    "\n",
    "    }\n",
    "    \n",
    "    # Get edges/summary for all images\n",
    "    edges <- apply(X, 1, edge, summary = summary)\n",
    "    \n",
    "    \n",
    "    \n",
    "    # Transpose to get row=image, column=feature matrix\n",
    "    return(t(edges))\n",
    "}\n",
    "\n",
    "# Computing the features\n",
    "\n",
    "X_features <- compute_edge_features(X)\n",
    "X_features <- cbind(X, X_features)\n",
    "\n",
    "head(X_features)\n",
    "colnames(X_features)"
   ]
  },
  {
   "cell_type": "markdown",
   "id": "4c982302",
   "metadata": {
    "papermill": {
     "duration": 0.017727,
     "end_time": "2023-10-19T09:51:12.764882",
     "exception": false,
     "start_time": "2023-10-19T09:51:12.747155",
     "status": "completed"
    },
    "tags": []
   },
   "source": [
    "## 3.3 Statistical Spectral Features <a class=\"anchor\"  id=\"section3.3\"></a>\n",
    "\n",
    "For the spectral and statistical features we were told we can use most of the features used to classify phone sensor signals. In line with that notebook we first  have to transform the data to a long format. After this we make all sorts of statistical and spectral calculations. Finally, we end up with a dataframe where all the pictures are in each row and all the statistical and spectral features are added as columns. \n",
    "\n",
    "We'll use:\n",
    "- **Mode**: Returns the value that has the highest occurrence count within a given set of values.\n",
    "\n",
    "- **Power**: The mean of the row to the power of 2.\n",
    "\n",
    "- **Entropy**: It measures the amount of uncertainty in a set of data or a probability distribution, therefore quantifies the unpredictability of the outcomes in a dataset. Overall, it returns the amount of information present (Grasman, 2018).\n",
    "\n",
    "- **Energy**: Returns the “total power” of a signal in n samples (Grasman, 2018).\n",
    "\n",
    "- **Lagged Correlation**: It measures the correlation between two time series variables with a time delay or lag between them. In other words, lagged correlations explore how one variable is related to another when there is a temporal offset between their observations (Grasman, 2018).\n",
    "\n",
    "- **Spectral Entropy**: Returns the etropy of a spectrum, quantifying the amount of spectral information. It measures how uniformly the power or energy of a signal is distributed across different frequency components (randomness of frequency components in a signal) (Grasman, 2018).\n",
    "\n",
    "- **Spectral Peak**: Returns the frequency component that has the highest amplitude or power (mean of the row to the power of 2).\n",
    "\n",
    "- **Spectral Mean**: Returns the central tendency of the frequency components in a signal's spectrum (Grasman, 2018).\n",
    "\n",
    "- **Spectral SD**: Returns the spread or variability of spectral amplitudes (Grasman, 2018).\n",
    "\n",
    "We also considered the following spectral features, however, we did not find them to imrpove the accuracy of our predictions and therefore did not include them in the final model:\n",
    "- **Mean**: Returns the average value of the dataset.\n",
    "\n",
    "- **Median**: Returns the value which lies in the middle of the dataset.\n",
    "\n",
    "- **Standard deviation**: It measures the dispersion of the data around the mean. Low values indicate tightly clusted datasets while high values indicate highly spread out datasets.\n",
    "\n",
    "- **Variance**: Another measure of dispersion, it returns the average squared deviation of the values in the dataset from the mean.\n",
    "\n",
    "- **Minimum**: Returns the smallest value within the dataset.\n",
    "\n",
    "- **Maximum**: Returns the largest value within the dataset.\n",
    "\n",
    "- **Range**: Returns the difference between the largest and the smallest value within the dataset.\n",
    "\n",
    "- **First quantile**: Returns the value under which 25% of the dataset fall when arranged in increasing order.\n",
    "\n",
    "- **Third quantile**: Returns the value under which 75% of the dataset fall when arranged in increasing order.\n",
    "\n",
    "- **Skewness**: Measures the degree of asymmetry in the probability distribution of values within the dataset.\n",
    "\n",
    "- **Kurtosis**: Measures the tailedness of the distribution of variables in the dataset. This indicates how often outliers occur.\n",
    "\n",
    "- **Spectral Mode**: Returns the frequency component that occurs most often within a signal's spectrum.\n",
    "\n",
    "- **Spectral Median**: Returns the frequency component that lies in the middle of the dataset capturing the signal's spectrum.\n",
    "\n",
    "- **Spectral Kurtosis**: Returns the tailedness of the distribution of the data capturing the signal's spectrum. This indicates how often outliers occur in the dataset."
   ]
  },
  {
   "cell_type": "code",
   "execution_count": 8,
   "id": "4e793eda",
   "metadata": {
    "execution": {
     "iopub.execute_input": "2023-10-19T09:51:12.803390Z",
     "iopub.status.busy": "2023-10-19T09:51:12.801592Z",
     "iopub.status.idle": "2023-10-19T09:51:14.259731Z",
     "shell.execute_reply": "2023-10-19T09:51:14.257641Z"
    },
    "papermill": {
     "duration": 1.481331,
     "end_time": "2023-10-19T09:51:14.263550",
     "exception": false,
     "start_time": "2023-10-19T09:51:12.782219",
     "status": "completed"
    },
    "tags": []
   },
   "outputs": [],
   "source": [
    "# For training set\n",
    "X_n = as_tibble(X, rownames = \"id\")\n",
    "\n",
    "# Cast to long format\n",
    "X_nl = X_n %>%\n",
    "    pivot_longer(-id, names_to = \"px_pos\", values_to = \"px_value\")"
   ]
  },
  {
   "cell_type": "code",
   "execution_count": 9,
   "id": "b6b1d5ad",
   "metadata": {
    "execution": {
     "iopub.execute_input": "2023-10-19T09:51:14.300956Z",
     "iopub.status.busy": "2023-10-19T09:51:14.299059Z",
     "iopub.status.idle": "2023-10-19T09:51:14.336746Z",
     "shell.execute_reply": "2023-10-19T09:51:14.334745Z"
    },
    "papermill": {
     "duration": 0.060241,
     "end_time": "2023-10-19T09:51:14.340225",
     "exception": false,
     "start_time": "2023-10-19T09:51:14.279984",
     "status": "completed"
    },
    "tags": []
   },
   "outputs": [],
   "source": [
    "# Mode\n",
    "most_common_value <- function(x) {\n",
    "  if (!is.numeric(x)) {\n",
    "    stop(\"Input vector must be numeric\")\n",
    "  }\n",
    "  counts <- table(x, useNA = \"no\")\n",
    "  most_frequent_idx <- which.max(counts)\n",
    "  most_frequent_value <- as.numeric(names(counts)[most_frequent_idx])\n",
    "  return(most_frequent_value)\n",
    "}\n",
    "\n",
    "# Power\n",
    "power <- function(x) {\n",
    "    result <- mean(x^2)\n",
    "    return(result)\n",
    "}\n",
    "\n",
    "# Entropy\n",
    "entropy <- function(x, nbreaks = 10) {\n",
    "    r <- range(x)\n",
    "    x_binned <- findInterval(x, seq(r[1], r[2], len = nbreaks))\n",
    "    h <- tabulate(x_binned, nbins = nbreaks) # fast histogram\n",
    "    p <- h / sum(h)\n",
    "    result <- -sum(p[p > 0] * log(p[p > 0]))\n",
    "    return(result)\n",
    "}\n",
    "\n",
    "# Energy\n",
    "energy <- function(x) {\n",
    "    sum(x^2)\n",
    "}\n",
    "\n",
    "# Lagged correlation\n",
    "lagged_cor <- function(x, y = x, lag = 0) {\n",
    "  # compute correlation between x and a time shifted y\n",
    "  r_lagged <- cor(x, dplyr::lag(y, lag), use = \"pairwise\")\n",
    "  return(r_lagged)\n",
    "}\n",
    "\n",
    "# Spectral entropy function\n",
    "sp_entropy <- function(x) {\n",
    "  spec <- spectrum(x, plot = FALSE)$spec\n",
    "  entropy(spec)\n",
    "}\n",
    "\n",
    "# Spectral peak function\n",
    "sp_peak <- function(x) {\n",
    "  spec <- spectrum(x, plot = FALSE)\n",
    "  return(spec$freq[which.max(spec$spec)])\n",
    "}\n",
    "\n",
    "# Spectral mean function\n",
    "sp_mean <- function(x) {\n",
    "  spec <- spectrum(x, plot = FALSE)\n",
    "  df <- spec$freq[2] - spec$freq[1]\n",
    "  return(sum(spec$freq * spec$spec * df))\n",
    "}\n",
    "\n",
    "# Spectral standard deviation function\n",
    "sp_sd <- function(x) {\n",
    "  spec <- spectrum(x, plot = FALSE)\n",
    "  df <- spec$freq[2] - spec$freq[1]\n",
    "  return(sqrt(sum((spec$freq - sp_mean(x))^2 * spec$spec * df)))\n",
    "}\n",
    "\n",
    "# Spectral mode function\n",
    "sp_mode <- function(x) {\n",
    "    spec <- spectrum(x, plot = FALSE)\n",
    "    mode <- max(spec$spec)\n",
    "    return(mode)\n",
    "}"
   ]
  },
  {
   "cell_type": "markdown",
   "id": "e4318672",
   "metadata": {
    "papermill": {
     "duration": 0.01641,
     "end_time": "2023-10-19T09:51:14.373207",
     "exception": false,
     "start_time": "2023-10-19T09:51:14.356797",
     "status": "completed"
    },
    "tags": []
   },
   "source": [
    "Now that all the different functions have been defined its time to add them all together. The function stat_spec_ft combines all the previously defined statistical and spectral fuctions and gives a dataframe where each row has one value and each column one of the statistical/spectral features. "
   ]
  },
  {
   "cell_type": "code",
   "execution_count": 10,
   "id": "72cb75e8",
   "metadata": {
    "execution": {
     "iopub.execute_input": "2023-10-19T09:51:14.410367Z",
     "iopub.status.busy": "2023-10-19T09:51:14.408559Z",
     "iopub.status.idle": "2023-10-19T09:51:40.806504Z",
     "shell.execute_reply": "2023-10-19T09:51:40.803373Z"
    },
    "papermill": {
     "duration": 26.420742,
     "end_time": "2023-10-19T09:51:40.810325",
     "exception": false,
     "start_time": "2023-10-19T09:51:14.389583",
     "status": "completed"
    },
    "tags": []
   },
   "outputs": [
    {
     "data": {
      "text/html": [
       "<table class=\"dataframe\">\n",
       "<caption>A tibble: 6 × 10</caption>\n",
       "<thead>\n",
       "\t<tr><th scope=col>id</th><th scope=col>most_common_value</th><th scope=col>power</th><th scope=col>entropy</th><th scope=col>energy</th><th scope=col>lagged_cor</th><th scope=col>sp_entropy</th><th scope=col>sp_peak</th><th scope=col>sp_mean</th><th scope=col>sp_sd</th></tr>\n",
       "\t<tr><th scope=col>&lt;chr&gt;</th><th scope=col>&lt;dbl&gt;</th><th scope=col>&lt;dbl&gt;</th><th scope=col>&lt;dbl&gt;</th><th scope=col>&lt;dbl&gt;</th><th scope=col>&lt;dbl&gt;</th><th scope=col>&lt;dbl&gt;</th><th scope=col>&lt;dbl&gt;</th><th scope=col>&lt;dbl&gt;</th><th scope=col>&lt;dbl&gt;</th></tr>\n",
       "</thead>\n",
       "<tbody>\n",
       "\t<tr><td>S010_004_00000017a.png</td><td>0</td><td>0.1632724</td><td>1.962549</td><td>376.1797</td><td>1</td><td>0.11245754</td><td>0.0004340278</td><td>0.001483003</td><td>0.01357468</td></tr>\n",
       "\t<tr><td>S010_004_00000017b.png</td><td>1</td><td>0.2319805</td><td>2.082901</td><td>534.4830</td><td>1</td><td>0.08062291</td><td>0.0416666667</td><td>0.002930787</td><td>0.02239665</td></tr>\n",
       "\t<tr><td>S010_004_00000017c.png</td><td>1</td><td>0.2190641</td><td>2.053050</td><td>504.7238</td><td>1</td><td>0.12821622</td><td>0.0004340278</td><td>0.002707822</td><td>0.02088621</td></tr>\n",
       "\t<tr><td>S010_004_00000017d.png</td><td>1</td><td>0.2272147</td><td>2.062124</td><td>523.5026</td><td>1</td><td>0.09793680</td><td>0.0004340278</td><td>0.002736302</td><td>0.02512135</td></tr>\n",
       "\t<tr><td>S010_004_00000017e.png</td><td>1</td><td>0.2491569</td><td>2.088674</td><td>574.0575</td><td>1</td><td>0.13730928</td><td>0.0004340278</td><td>0.002813014</td><td>0.02082563</td></tr>\n",
       "\t<tr><td>S010_004_00000017f.png</td><td>0</td><td>0.1992154</td><td>2.060656</td><td>458.9923</td><td>1</td><td>0.12172306</td><td>0.0416666667</td><td>0.002190686</td><td>0.01887423</td></tr>\n",
       "</tbody>\n",
       "</table>\n"
      ],
      "text/latex": [
       "A tibble: 6 × 10\n",
       "\\begin{tabular}{llllllllll}\n",
       " id & most\\_common\\_value & power & entropy & energy & lagged\\_cor & sp\\_entropy & sp\\_peak & sp\\_mean & sp\\_sd\\\\\n",
       " <chr> & <dbl> & <dbl> & <dbl> & <dbl> & <dbl> & <dbl> & <dbl> & <dbl> & <dbl>\\\\\n",
       "\\hline\n",
       "\t S010\\_004\\_00000017a.png & 0 & 0.1632724 & 1.962549 & 376.1797 & 1 & 0.11245754 & 0.0004340278 & 0.001483003 & 0.01357468\\\\\n",
       "\t S010\\_004\\_00000017b.png & 1 & 0.2319805 & 2.082901 & 534.4830 & 1 & 0.08062291 & 0.0416666667 & 0.002930787 & 0.02239665\\\\\n",
       "\t S010\\_004\\_00000017c.png & 1 & 0.2190641 & 2.053050 & 504.7238 & 1 & 0.12821622 & 0.0004340278 & 0.002707822 & 0.02088621\\\\\n",
       "\t S010\\_004\\_00000017d.png & 1 & 0.2272147 & 2.062124 & 523.5026 & 1 & 0.09793680 & 0.0004340278 & 0.002736302 & 0.02512135\\\\\n",
       "\t S010\\_004\\_00000017e.png & 1 & 0.2491569 & 2.088674 & 574.0575 & 1 & 0.13730928 & 0.0004340278 & 0.002813014 & 0.02082563\\\\\n",
       "\t S010\\_004\\_00000017f.png & 0 & 0.1992154 & 2.060656 & 458.9923 & 1 & 0.12172306 & 0.0416666667 & 0.002190686 & 0.01887423\\\\\n",
       "\\end{tabular}\n"
      ],
      "text/markdown": [
       "\n",
       "A tibble: 6 × 10\n",
       "\n",
       "| id &lt;chr&gt; | most_common_value &lt;dbl&gt; | power &lt;dbl&gt; | entropy &lt;dbl&gt; | energy &lt;dbl&gt; | lagged_cor &lt;dbl&gt; | sp_entropy &lt;dbl&gt; | sp_peak &lt;dbl&gt; | sp_mean &lt;dbl&gt; | sp_sd &lt;dbl&gt; |\n",
       "|---|---|---|---|---|---|---|---|---|---|\n",
       "| S010_004_00000017a.png | 0 | 0.1632724 | 1.962549 | 376.1797 | 1 | 0.11245754 | 0.0004340278 | 0.001483003 | 0.01357468 |\n",
       "| S010_004_00000017b.png | 1 | 0.2319805 | 2.082901 | 534.4830 | 1 | 0.08062291 | 0.0416666667 | 0.002930787 | 0.02239665 |\n",
       "| S010_004_00000017c.png | 1 | 0.2190641 | 2.053050 | 504.7238 | 1 | 0.12821622 | 0.0004340278 | 0.002707822 | 0.02088621 |\n",
       "| S010_004_00000017d.png | 1 | 0.2272147 | 2.062124 | 523.5026 | 1 | 0.09793680 | 0.0004340278 | 0.002736302 | 0.02512135 |\n",
       "| S010_004_00000017e.png | 1 | 0.2491569 | 2.088674 | 574.0575 | 1 | 0.13730928 | 0.0004340278 | 0.002813014 | 0.02082563 |\n",
       "| S010_004_00000017f.png | 0 | 0.1992154 | 2.060656 | 458.9923 | 1 | 0.12172306 | 0.0416666667 | 0.002190686 | 0.01887423 |\n",
       "\n"
      ],
      "text/plain": [
       "  id                     most_common_value power     entropy  energy  \n",
       "1 S010_004_00000017a.png 0                 0.1632724 1.962549 376.1797\n",
       "2 S010_004_00000017b.png 1                 0.2319805 2.082901 534.4830\n",
       "3 S010_004_00000017c.png 1                 0.2190641 2.053050 504.7238\n",
       "4 S010_004_00000017d.png 1                 0.2272147 2.062124 523.5026\n",
       "5 S010_004_00000017e.png 1                 0.2491569 2.088674 574.0575\n",
       "6 S010_004_00000017f.png 0                 0.1992154 2.060656 458.9923\n",
       "  lagged_cor sp_entropy sp_peak      sp_mean     sp_sd     \n",
       "1 1          0.11245754 0.0004340278 0.001483003 0.01357468\n",
       "2 1          0.08062291 0.0416666667 0.002930787 0.02239665\n",
       "3 1          0.12821622 0.0004340278 0.002707822 0.02088621\n",
       "4 1          0.09793680 0.0004340278 0.002736302 0.02512135\n",
       "5 1          0.13730928 0.0004340278 0.002813014 0.02082563\n",
       "6 1          0.12172306 0.0416666667 0.002190686 0.01887423"
      ]
     },
     "metadata": {},
     "output_type": "display_data"
    }
   ],
   "source": [
    "stat_spec_ft = function (pictures) {\n",
    "  pictures %>%\n",
    "    group_by(id) %>%\n",
    "    summarise(   \n",
    "      # Mode\n",
    "      most_common_value = most_common_value(px_value),\n",
    "        \n",
    "      # Power\n",
    "      power = power(px_value),\n",
    "        \n",
    "      # Entropy\n",
    "      entropy = entropy(px_value),\n",
    "        \n",
    "      # Energy\n",
    "      energy = energy(px_value),\n",
    "        \n",
    "      # Lagged correlations\n",
    "      lagged_cor = lagged_cor(px_value),\n",
    "        \n",
    "      # Spectral entropy\n",
    "      sp_entropy = sp_entropy(px_value),\n",
    "        \n",
    "      # Spectral peak\n",
    "      sp_peak = sp_peak(px_value),\n",
    "        \n",
    "      # Spectral mean\n",
    "      sp_mean = sp_mean(px_value),\n",
    "            \n",
    "      # Spectral standard deviation\n",
    "      sp_sd = sp_sd(px_value)\n",
    "    )\n",
    "}\n",
    "\n",
    "X_features_2 <- stat_spec_ft(X_nl)\n",
    "X_features_2 %>% head()"
   ]
  },
  {
   "cell_type": "markdown",
   "id": "42186039",
   "metadata": {
    "papermill": {
     "duration": 0.018458,
     "end_time": "2023-10-19T09:51:40.848588",
     "exception": false,
     "start_time": "2023-10-19T09:51:40.830130",
     "status": "completed"
    },
    "tags": []
   },
   "source": [
    "## 3.4 Histogram of Oriented Gradient (HOG) Features <a class=\"anchor\"  id=\"section3.4\"></a>\n",
    "\n",
    "\n",
    "**Histogram of Oriented Gradient (HOG)** is frequently used to process images. Similarly to the edge features it also focuses only on a certain set of highly informative characteristics of the image. HOG contains the distribution of gradients within an image and therefore allows us to find where neighboring pixels differ significantly. This helps us identify the direction of edges within the images. In summary, the process of extracting histogram of oriented gradient features has 5 steps:\n",
    "\n",
    "1. **Feature Extraction**: it tries to capture the distribution of edge/gradient directions in small regions of the image.\n",
    "\n",
    "2. **Gradient Computation**: the image is divided into a grid of cells and the local gradient information (horizontal and vertical gradients, gradient magnitude, gradient direction) is calculated for each.\n",
    "\n",
    "3. **Histogram Creation**: for each cell a histogram of gradient orientations is constructed which capture the distribution of edge directions in the cell. \n",
    "\n",
    "4. **Normalization**: the histograms usually get normalized within a block of cells.\n",
    "\n",
    "5. **Descriptor Formation**: HOG descriptor is finalized by concatenating the normalized histograms from all cells within a block or region of interest. \n",
    "\n",
    "Inspired by *Team 1* from last year we extracted the Histogram of Oriented Gradient (HOG) features:\n",
    "\n",
    "We start by converting a dataframe with an image per row into a list of pixel matrixes for each image\n"
   ]
  },
  {
   "cell_type": "code",
   "execution_count": 11,
   "id": "b5481ccb",
   "metadata": {
    "execution": {
     "iopub.execute_input": "2023-10-19T09:51:40.890177Z",
     "iopub.status.busy": "2023-10-19T09:51:40.887919Z",
     "iopub.status.idle": "2023-10-19T09:51:41.268360Z",
     "shell.execute_reply": "2023-10-19T09:51:41.266261Z"
    },
    "papermill": {
     "duration": 0.404461,
     "end_time": "2023-10-19T09:51:41.271248",
     "exception": false,
     "start_time": "2023-10-19T09:51:40.866787",
     "status": "completed"
    },
    "tags": []
   },
   "outputs": [
    {
     "data": {
      "text/html": [
       "<style>\n",
       ".list-inline {list-style: none; margin:0; padding: 0}\n",
       ".list-inline>li {display: inline-block}\n",
       ".list-inline>li:not(:last-child)::after {content: \"\\00b7\"; padding: 0 .5ex}\n",
       "</style>\n",
       "<ol class=list-inline><li>48</li><li>48</li></ol>\n"
      ],
      "text/latex": [
       "\\begin{enumerate*}\n",
       "\\item 48\n",
       "\\item 48\n",
       "\\end{enumerate*}\n"
      ],
      "text/markdown": [
       "1. 48\n",
       "2. 48\n",
       "\n",
       "\n"
      ],
      "text/plain": [
       "[1] 48 48"
      ]
     },
     "metadata": {},
     "output_type": "display_data"
    }
   ],
   "source": [
    "format_matrices = function(image_matrix, col = 48, row = 48) {\n",
    "  \n",
    "  image_pixels = list()\n",
    "  \n",
    "  for(i in 1:nrow(image_matrix)) {\n",
    "    \n",
    "    # Extract pixel matrix for each image\n",
    "    image_pixels[[i]] = image_matrix[i, ] %>% matrix(ncol = col, nrow = row) \n",
    "  }\n",
    "  return(image_pixels)\n",
    "}\n",
    "\n",
    "dim(format_matrices(X)[[1]])"
   ]
  },
  {
   "cell_type": "markdown",
   "id": "4fa670b9",
   "metadata": {
    "papermill": {
     "duration": 0.017229,
     "end_time": "2023-10-19T09:51:41.305619",
     "exception": false,
     "start_time": "2023-10-19T09:51:41.288390",
     "status": "completed"
    },
    "tags": []
   },
   "source": [
    "Here we take the 48x48 pixel matrices created in the previous step and calculate their horizontal and vertical gradients, their gradient magnitude and gradient direction."
   ]
  },
  {
   "cell_type": "code",
   "execution_count": 12,
   "id": "0101b562",
   "metadata": {
    "execution": {
     "iopub.execute_input": "2023-10-19T09:51:41.344082Z",
     "iopub.status.busy": "2023-10-19T09:51:41.342332Z",
     "iopub.status.idle": "2023-10-19T09:51:41.359708Z",
     "shell.execute_reply": "2023-10-19T09:51:41.357568Z"
    },
    "papermill": {
     "duration": 0.03962,
     "end_time": "2023-10-19T09:51:41.362372",
     "exception": false,
     "start_time": "2023-10-19T09:51:41.322752",
     "status": "completed"
    },
    "tags": []
   },
   "outputs": [],
   "source": [
    "get_gradients = function(formatted_matrices, size = 48) {   \n",
    "\n",
    "  add_zeros_column = matrix(rep(0, size), ncol = 1)\n",
    "  add_zeros_row = matrix(rep(0, size), nrow = 1)\n",
    "  x_gradient = y_gradient = list()\n",
    "  \n",
    "  for(i in 1:length(formatted_matrices)) {\n",
    "    \n",
    "    # Calculate x gradient\n",
    "    removed_column = formatted_matrices[[i]][,-size]\n",
    "    x_gradient[[i]] = formatted_matrices[[i]] - cbind(add_zeros_column, removed_column)\n",
    "  \n",
    "    # Calculate y gradient\n",
    "    removed_row = formatted_matrices[[i]][-1, ]\n",
    "    y_gradient[[i]] = formatted_matrices[[i]] - rbind(removed_row, add_zeros_row)\n",
    "    \n",
    "  }\n",
    "  return(list(x = x_gradient, y = y_gradient))\n",
    "}"
   ]
  },
  {
   "cell_type": "markdown",
   "id": "74b422bc",
   "metadata": {
    "papermill": {
     "duration": 0.021503,
     "end_time": "2023-10-19T09:51:41.462872",
     "exception": false,
     "start_time": "2023-10-19T09:51:41.441369",
     "status": "completed"
    },
    "tags": []
   },
   "source": [
    "Here we calculate gradient magnitudes and direction\n"
   ]
  },
  {
   "cell_type": "code",
   "execution_count": 13,
   "id": "41f229b3",
   "metadata": {
    "execution": {
     "iopub.execute_input": "2023-10-19T09:51:41.503418Z",
     "iopub.status.busy": "2023-10-19T09:51:41.501406Z",
     "iopub.status.idle": "2023-10-19T09:51:41.521870Z",
     "shell.execute_reply": "2023-10-19T09:51:41.519385Z"
    },
    "papermill": {
     "duration": 0.044556,
     "end_time": "2023-10-19T09:51:41.524885",
     "exception": false,
     "start_time": "2023-10-19T09:51:41.480329",
     "status": "completed"
    },
    "tags": []
   },
   "outputs": [],
   "source": [
    "gradient_magnitude = function(x_gradient, y_gradient) {\n",
    "  \n",
    "  magnitude = list()\n",
    "  \n",
    "  for(i in 1:length(x_gradient)) {\n",
    "    \n",
    "    magnitude[[i]] = sqrt(x_gradient[[i]]^2 + y_gradient[[i]]^2)\n",
    "  }\n",
    "  return(magnitude)\n",
    "}\n",
    "\n",
    "# Calculate gradient direction\n",
    "gradient_angle = function(x_gradient, y_gradient) {\n",
    "  \n",
    "  radian = angle = list()\n",
    "  \n",
    "  # loop over images\n",
    "  for(i in 1:length(x_gradient)) {\n",
    "    \n",
    "    # atan() returns the radian\n",
    "    radian[[i]] = atan(y_gradient[[i]] / x_gradient[[i]])\n",
    "    \n",
    "    # Replace NaNs with 0\n",
    "    radian[[i]][is.na(radian[[i]])] = 0\n",
    "    \n",
    "    # Conversion to degree: 1 radian = 180/pi (wikipedia)\n",
    "    angle[[i]] = radian[[i]] * (180/pi)\n",
    "    \n",
    "    # Add 180 to all pixels < 0\n",
    "    index = angle[[i]] < 0\n",
    "    angle[[i]][index] = angle[[i]][index] + 180\n",
    "  }\n",
    "  return(angle)\n",
    "}"
   ]
  },
  {
   "cell_type": "markdown",
   "id": "743a713d",
   "metadata": {
    "papermill": {
     "duration": 0.01789,
     "end_time": "2023-10-19T09:51:41.561545",
     "exception": false,
     "start_time": "2023-10-19T09:51:41.543655",
     "status": "completed"
    },
    "tags": []
   },
   "source": [
    "We will now visualize the gradient features that we have calculated in the previous step. This helps us both check that our functions have done what they were supposed and more intuitively understand the process of calculating the HOG features."
   ]
  },
  {
   "cell_type": "code",
   "execution_count": 14,
   "id": "61de90cc",
   "metadata": {
    "execution": {
     "iopub.execute_input": "2023-10-19T09:51:41.603166Z",
     "iopub.status.busy": "2023-10-19T09:51:41.601285Z",
     "iopub.status.idle": "2023-10-19T09:51:43.771735Z",
     "shell.execute_reply": "2023-10-19T09:51:43.769554Z"
    },
    "papermill": {
     "duration": 2.194521,
     "end_time": "2023-10-19T09:51:43.774534",
     "exception": false,
     "start_time": "2023-10-19T09:51:41.580013",
     "status": "completed"
    },
    "tags": []
   },
   "outputs": [
    {
     "data": {
      "image/png": "[encoded data removed]"
     },
     "metadata": {
      "image/png": {
       "height": 240,
       "width": 960
      }
     },
     "output_type": "display_data"
    }
   ],
   "source": [
    "# Visualization utility function (from Raoul)\n",
    "as_image <- function(x, nr=sqrt(length(x))) {opar=par(mar=rep(0,4)); on.exit(par(opar)); image(t(matrix(x,nr))[,nr:1], col = gray(0:255/255),axes=F)}\n",
    "\n",
    "# Visualize the magnitude and direction pixel matrices\n",
    "image_matrices = format_matrices(X)\n",
    "x_gradient = get_gradients(image_matrices)$x\n",
    "y_gradient = get_gradients(image_matrices)$y\n",
    "\n",
    "options(repr.plot.width=4*4, repr.plot.height=4)\n",
    "layout(t(1:2))\n",
    "as_image(gradient_magnitude(x_gradient, y_gradient)[[55]]) # right\n",
    "as_image(gradient_angle(x_gradient, y_gradient)[[55]])     # left"
   ]
  },
  {
   "cell_type": "markdown",
   "id": "ec76c834",
   "metadata": {
    "papermill": {
     "duration": 0.017862,
     "end_time": "2023-10-19T09:51:43.811862",
     "exception": false,
     "start_time": "2023-10-19T09:51:43.794000",
     "status": "completed"
    },
    "tags": []
   },
   "source": [
    "Next, we move on to creating a funciton which calculates the HOG features for smaller areas of the images. For this, it first has to split the images into blocks of 4 by 4 pixels. It then gets the previously calculated gradient features for each of these smaller blocks and returns them as a vector."
   ]
  },
  {
   "cell_type": "code",
   "execution_count": 15,
   "id": "8a9210e9",
   "metadata": {
    "execution": {
     "iopub.execute_input": "2023-10-19T09:51:43.852338Z",
     "iopub.status.busy": "2023-10-19T09:51:43.850549Z",
     "iopub.status.idle": "2023-10-19T09:51:43.868468Z",
     "shell.execute_reply": "2023-10-19T09:51:43.866450Z"
    },
    "papermill": {
     "duration": 0.041388,
     "end_time": "2023-10-19T09:51:43.871117",
     "exception": false,
     "start_time": "2023-10-19T09:51:43.829729",
     "status": "completed"
    },
    "tags": []
   },
   "outputs": [],
   "source": [
    "# Compute the list of HOG feature vectors for 4x4 blocks\n",
    "\n",
    "get_HOGs_of_blocks = function(angle_matrix, magnitude_matrix) {\n",
    "  \n",
    "  upper_limit = seq(20, 160, 20)\n",
    "  lower_limit = seq(0, 140, 20)\n",
    "  column = list()\n",
    "  row_blocks = list()\n",
    "  \n",
    "  # Separate image into blocks\n",
    "  pixels = seq(0, 44, by = 4)\n",
    "  \n",
    "  # Loop over columns in 4*4 blocks\n",
    "  for(c in pixels){\n",
    "    \n",
    "    # Loop over rows in 4*4 blocks\n",
    "    for(r in pixels){ \n",
    "      \n",
    "      angle_block = angle_matrix[(r + 1):(r + 4), (c + 1):(c + 4)]\n",
    "      magnitude_block = magnitude_matrix[(r + 1):(r + 4), (c + 1):(c + 4)]\n",
    "      \n",
    "      # Because the intervals are closed to the right the last break point is set \n",
    "      # manually so that values of 180 are included\n",
    "      bin_index = cut(angle_block, breaks = c(seq(0, 160, 20), 181), \n",
    "                       right = FALSE, labels = FALSE)\n",
    "      bin_index_matrix = matrix(bin_index, 4, 4)\n",
    "      \n",
    "      # The bins are emptied for every matrix\n",
    "      bin = numeric()\n",
    "      \n",
    "      for(j in 1:9){\n",
    "        \n",
    "        # Special case bin 9\n",
    "        if(j == 9){\n",
    "          \n",
    "          # sum(magnitude_vector * ((180 - angle_vector) / 20))\n",
    "          bin[j] = sum(c(magnitude_block[bin_index_matrix == j]) * \n",
    "                    ((180 - c(angle_block[bin_index_matrix == j])) / 20))\n",
    "          \n",
    "          # bin_content + sum(magnitude_vector * ((angle_vector - 0) / 20))\n",
    "          bin[1] = bin[1] + sum(c(magnitude_block[bin_index_matrix == j]) * \n",
    "                    ((c(angle_block[bin_index_matrix == j]) - 0)/20))# 0 or 160?\n",
    "          \n",
    "          row_blocks[[which(pixels == r)]] <- bin\n",
    "          column[[which(pixels == c)]] <- row_blocks\n",
    "              }\n",
    "        \n",
    "        # sum(magnitude_vector * ((upper_limit - angle_vector)/20))\n",
    "        bin[j] = sum(c(magnitude_block[bin_index_matrix == j]) * \n",
    "                  ((upper_limit[j] - c(angle_block[bin_index_matrix == j])) /\n",
    "                  20))\n",
    "        \n",
    "        \n",
    "        # sum(magnitude_vector * ((angle_vector - lower_limit)/20))\n",
    "        bin[j + 1] = sum(c(magnitude_block[bin_index_matrix == j]) * \n",
    "                      ((c(angle_block[bin_index_matrix == j]) - lower_limit[j]) \n",
    "                       / 20))\n",
    "      }\n",
    "    }\n",
    "  }\n",
    "  return(column)\n",
    "}"
   ]
  },
  {
   "cell_type": "markdown",
   "id": "8484a19a",
   "metadata": {
    "papermill": {
     "duration": 0.017756,
     "end_time": "2023-10-19T09:51:43.906513",
     "exception": false,
     "start_time": "2023-10-19T09:51:43.888757",
     "status": "completed"
    },
    "tags": []
   },
   "source": [
    "We also have to create a function which will then concatenate these vectors representing different 4x4 blocks belonging to the same image into one object."
   ]
  },
  {
   "cell_type": "code",
   "execution_count": 16,
   "id": "d2daaed2",
   "metadata": {
    "execution": {
     "iopub.execute_input": "2023-10-19T09:51:43.946016Z",
     "iopub.status.busy": "2023-10-19T09:51:43.944243Z",
     "iopub.status.idle": "2023-10-19T09:51:43.961489Z",
     "shell.execute_reply": "2023-10-19T09:51:43.959404Z"
    },
    "papermill": {
     "duration": 0.040154,
     "end_time": "2023-10-19T09:51:43.964195",
     "exception": false,
     "start_time": "2023-10-19T09:51:43.924041",
     "status": "completed"
    },
    "tags": []
   },
   "outputs": [],
   "source": [
    "# Normalized HOG vectors of one image matrix\n",
    "concatenate_block_HOGs = function(blocks) {\n",
    "  \n",
    "  concatenated_columns = concatenated_all = list()\n",
    "  \n",
    "  # Loop over column\n",
    "  for(i in 1:11) {\n",
    "    \n",
    "    # Loop over row\n",
    "    for(j in 1:11){\n",
    "      \n",
    "      concatenated_columns[[j]] = unlist(as.vector(c(blocks[[i]][j], blocks[[i]][j + 1],\n",
    "                                                 blocks[[i + 1]][j], blocks[[i + 1]][j + 1])))\n",
    "    }\n",
    "    concatenated_all[[i]] = concatenated_columns\n",
    "  }\n",
    "  return(concatenated_all)\n",
    "}"
   ]
  },
  {
   "cell_type": "markdown",
   "id": "09a36436",
   "metadata": {
    "papermill": {
     "duration": 0.018767,
     "end_time": "2023-10-19T09:51:44.000940",
     "exception": false,
     "start_time": "2023-10-19T09:51:43.982173",
     "status": "completed"
    },
    "tags": []
   },
   "source": [
    "Finally, we combine all of the functions we have created into one big function that we can pass our training data to and it will output a matrix of HOG features for all of the images in this dataset. We then apply this big function to our particular training set."
   ]
  },
  {
   "cell_type": "code",
   "execution_count": 17,
   "id": "b774c65c",
   "metadata": {
    "execution": {
     "iopub.execute_input": "2023-10-19T09:51:44.042062Z",
     "iopub.status.busy": "2023-10-19T09:51:44.040145Z",
     "iopub.status.idle": "2023-10-19T09:51:44.059661Z",
     "shell.execute_reply": "2023-10-19T09:51:44.057410Z"
    },
    "papermill": {
     "duration": 0.043127,
     "end_time": "2023-10-19T09:51:44.062316",
     "exception": false,
     "start_time": "2023-10-19T09:51:44.019189",
     "status": "completed"
    },
    "tags": []
   },
   "outputs": [],
   "source": [
    "#  Build final function\n",
    "HOG_features <- function(train_data){\n",
    "  \n",
    "  HOGs_feature_matrix = matrix(0, nrow(train_data), 4356)\n",
    "  \n",
    "  # Get all image matrices in the right format\n",
    "  image_matrices = format_matrices(train_data)\n",
    "  \n",
    "  # Get x & y gradients\n",
    "  x_gradient = get_gradients(image_matrices)$x\n",
    "  y_gradient = get_gradients(image_matrices)$y\n",
    "  \n",
    "  angle_matrix = gradient_angle(x_gradient, y_gradient)\n",
    "  magnitude_matrix = gradient_magnitude(x_gradient, y_gradient)\n",
    "  \n",
    "  \n",
    "  for(i in 1:nrow(train_data)) { \n",
    "    \n",
    "    HOGs = get_HOGs_of_blocks(angle_matrix[[i]], magnitude_matrix[[i]])\n",
    "    \n",
    "    HOG_feature = concatenate_block_HOGs(HOGs)\n",
    "    \n",
    "    HOGs_feature_matrix[i,] = matrix(unlist(HOG_feature), 1, 4356)\n",
    "      \n",
    "  }\n",
    "  \n",
    "  return(as.data.frame(HOGs_feature_matrix))\n",
    "  \n",
    "}"
   ]
  },
  {
   "cell_type": "code",
   "execution_count": 18,
   "id": "675541cb",
   "metadata": {
    "execution": {
     "iopub.execute_input": "2023-10-19T09:51:44.102620Z",
     "iopub.status.busy": "2023-10-19T09:51:44.100800Z",
     "iopub.status.idle": "2023-10-19T09:53:23.935482Z",
     "shell.execute_reply": "2023-10-19T09:53:23.933593Z"
    },
    "papermill": {
     "duration": 99.859039,
     "end_time": "2023-10-19T09:53:23.938642",
     "exception": false,
     "start_time": "2023-10-19T09:51:44.079603",
     "status": "completed"
    },
    "tags": []
   },
   "outputs": [
    {
     "data": {
      "text/html": [
       "FALSE"
      ],
      "text/latex": [
       "FALSE"
      ],
      "text/markdown": [
       "FALSE"
      ],
      "text/plain": [
       "[1] FALSE"
      ]
     },
     "metadata": {},
     "output_type": "display_data"
    },
    {
     "data": {
      "text/html": [
       "<table class=\"dataframe\">\n",
       "<caption>A data.frame: 6 × 4356</caption>\n",
       "<thead>\n",
       "\t<tr><th></th><th scope=col>V1</th><th scope=col>V2</th><th scope=col>V3</th><th scope=col>V4</th><th scope=col>V5</th><th scope=col>V6</th><th scope=col>V7</th><th scope=col>V8</th><th scope=col>V9</th><th scope=col>V10</th><th scope=col>⋯</th><th scope=col>V4347</th><th scope=col>V4348</th><th scope=col>V4349</th><th scope=col>V4350</th><th scope=col>V4351</th><th scope=col>V4352</th><th scope=col>V4353</th><th scope=col>V4354</th><th scope=col>V4355</th><th scope=col>V4356</th></tr>\n",
       "\t<tr><th></th><th scope=col>&lt;dbl&gt;</th><th scope=col>&lt;dbl&gt;</th><th scope=col>&lt;dbl&gt;</th><th scope=col>&lt;dbl&gt;</th><th scope=col>&lt;dbl&gt;</th><th scope=col>&lt;dbl&gt;</th><th scope=col>&lt;dbl&gt;</th><th scope=col>&lt;dbl&gt;</th><th scope=col>&lt;dbl&gt;</th><th scope=col>&lt;dbl&gt;</th><th scope=col>⋯</th><th scope=col>&lt;dbl&gt;</th><th scope=col>&lt;dbl&gt;</th><th scope=col>&lt;dbl&gt;</th><th scope=col>&lt;dbl&gt;</th><th scope=col>&lt;dbl&gt;</th><th scope=col>&lt;dbl&gt;</th><th scope=col>&lt;dbl&gt;</th><th scope=col>&lt;dbl&gt;</th><th scope=col>&lt;dbl&gt;</th><th scope=col>&lt;dbl&gt;</th></tr>\n",
       "</thead>\n",
       "<tbody>\n",
       "\t<tr><th scope=row>1</th><td> 1.1753774</td><td>0.048642263</td><td>0.000000000</td><td>0.001309681</td><td>0.007843137</td><td>0.01290593</td><td>0.000000000</td><td>0.03874300</td><td>0.06815417</td><td> 1.3522920</td><td>⋯</td><td>0.22643470</td><td>0.004891986</td><td>0.01767145</td><td>0.00521754</td><td>0.03021610</td><td>1.295366</td><td>0.0000000</td><td>0.00000000</td><td>0.00000000</td><td>0.00000000</td></tr>\n",
       "\t<tr><th scope=row>2</th><td> 1.3976058</td><td>0.005890482</td><td>0.000000000</td><td>0.001309681</td><td>0.000000000</td><td>0.00000000</td><td>0.002772968</td><td>0.05067974</td><td>0.06794914</td><td> 1.0493726</td><td>⋯</td><td>0.00000000</td><td>0.184313725</td><td>0.00000000</td><td>0.00000000</td><td>0.00000000</td><td>2.022485</td><td>0.0000000</td><td>0.00000000</td><td>0.00000000</td><td>0.00000000</td></tr>\n",
       "\t<tr><th scope=row>3</th><td> 2.2868035</td><td>0.000000000</td><td>0.000000000</td><td>0.001309681</td><td>0.058823529</td><td>0.00000000</td><td>0.052418715</td><td>0.07589169</td><td>0.19331534</td><td> 2.8188558</td><td>⋯</td><td>0.01123473</td><td>0.242026578</td><td>0.00000000</td><td>0.00000000</td><td>0.00000000</td><td>2.000000</td><td>0.0000000</td><td>0.00000000</td><td>0.00000000</td><td>0.02276161</td></tr>\n",
       "\t<tr><th scope=row>4</th><td> 0.9903704</td><td>0.000000000</td><td>1.055322702</td><td>0.000000000</td><td>1.234158975</td><td>0.00000000</td><td>0.000000000</td><td>0.06066135</td><td>0.01134763</td><td> 0.5759234</td><td>⋯</td><td>0.04498204</td><td>1.048827838</td><td>0.03694474</td><td>0.00782631</td><td>0.52104717</td><td>1.101550</td><td>0.0000000</td><td>0.00000000</td><td>0.01253512</td><td>0.00000000</td></tr>\n",
       "\t<tr><th scope=row>5</th><td>21.1078113</td><td>0.000000000</td><td>0.000000000</td><td>0.000000000</td><td>1.423529412</td><td>0.00000000</td><td>0.000000000</td><td>0.00000000</td><td>0.11274206</td><td>16.3275997</td><td>⋯</td><td>0.00000000</td><td>2.093298350</td><td>0.00000000</td><td>0.00260877</td><td>0.01706445</td><td>1.260663</td><td>0.1892281</td><td>0.01707658</td><td>0.00000000</td><td>0.11284056</td></tr>\n",
       "\t<tr><th scope=row>6</th><td>20.6265717</td><td>0.000000000</td><td>0.008318903</td><td>0.003263109</td><td>0.925909192</td><td>0.00000000</td><td>0.000000000</td><td>0.00000000</td><td>0.32658565</td><td>17.3589660</td><td>⋯</td><td>0.00000000</td><td>1.629143687</td><td>0.00000000</td><td>0.00000000</td><td>0.00000000</td><td>1.729981</td><td>0.6522614</td><td>0.17142340</td><td>0.12841031</td><td>0.17112145</td></tr>\n",
       "</tbody>\n",
       "</table>\n"
      ],
      "text/latex": [
       "A data.frame: 6 × 4356\n",
       "\\begin{tabular}{r|lllllllllllllllllllll}\n",
       "  & V1 & V2 & V3 & V4 & V5 & V6 & V7 & V8 & V9 & V10 & ⋯ & V4347 & V4348 & V4349 & V4350 & V4351 & V4352 & V4353 & V4354 & V4355 & V4356\\\\\n",
       "  & <dbl> & <dbl> & <dbl> & <dbl> & <dbl> & <dbl> & <dbl> & <dbl> & <dbl> & <dbl> & ⋯ & <dbl> & <dbl> & <dbl> & <dbl> & <dbl> & <dbl> & <dbl> & <dbl> & <dbl> & <dbl>\\\\\n",
       "\\hline\n",
       "\t1 &  1.1753774 & 0.048642263 & 0.000000000 & 0.001309681 & 0.007843137 & 0.01290593 & 0.000000000 & 0.03874300 & 0.06815417 &  1.3522920 & ⋯ & 0.22643470 & 0.004891986 & 0.01767145 & 0.00521754 & 0.03021610 & 1.295366 & 0.0000000 & 0.00000000 & 0.00000000 & 0.00000000\\\\\n",
       "\t2 &  1.3976058 & 0.005890482 & 0.000000000 & 0.001309681 & 0.000000000 & 0.00000000 & 0.002772968 & 0.05067974 & 0.06794914 &  1.0493726 & ⋯ & 0.00000000 & 0.184313725 & 0.00000000 & 0.00000000 & 0.00000000 & 2.022485 & 0.0000000 & 0.00000000 & 0.00000000 & 0.00000000\\\\\n",
       "\t3 &  2.2868035 & 0.000000000 & 0.000000000 & 0.001309681 & 0.058823529 & 0.00000000 & 0.052418715 & 0.07589169 & 0.19331534 &  2.8188558 & ⋯ & 0.01123473 & 0.242026578 & 0.00000000 & 0.00000000 & 0.00000000 & 2.000000 & 0.0000000 & 0.00000000 & 0.00000000 & 0.02276161\\\\\n",
       "\t4 &  0.9903704 & 0.000000000 & 1.055322702 & 0.000000000 & 1.234158975 & 0.00000000 & 0.000000000 & 0.06066135 & 0.01134763 &  0.5759234 & ⋯ & 0.04498204 & 1.048827838 & 0.03694474 & 0.00782631 & 0.52104717 & 1.101550 & 0.0000000 & 0.00000000 & 0.01253512 & 0.00000000\\\\\n",
       "\t5 & 21.1078113 & 0.000000000 & 0.000000000 & 0.000000000 & 1.423529412 & 0.00000000 & 0.000000000 & 0.00000000 & 0.11274206 & 16.3275997 & ⋯ & 0.00000000 & 2.093298350 & 0.00000000 & 0.00260877 & 0.01706445 & 1.260663 & 0.1892281 & 0.01707658 & 0.00000000 & 0.11284056\\\\\n",
       "\t6 & 20.6265717 & 0.000000000 & 0.008318903 & 0.003263109 & 0.925909192 & 0.00000000 & 0.000000000 & 0.00000000 & 0.32658565 & 17.3589660 & ⋯ & 0.00000000 & 1.629143687 & 0.00000000 & 0.00000000 & 0.00000000 & 1.729981 & 0.6522614 & 0.17142340 & 0.12841031 & 0.17112145\\\\\n",
       "\\end{tabular}\n"
      ],
      "text/markdown": [
       "\n",
       "A data.frame: 6 × 4356\n",
       "\n",
       "| <!--/--> | V1 &lt;dbl&gt; | V2 &lt;dbl&gt; | V3 &lt;dbl&gt; | V4 &lt;dbl&gt; | V5 &lt;dbl&gt; | V6 &lt;dbl&gt; | V7 &lt;dbl&gt; | V8 &lt;dbl&gt; | V9 &lt;dbl&gt; | V10 &lt;dbl&gt; | ⋯ ⋯ | V4347 &lt;dbl&gt; | V4348 &lt;dbl&gt; | V4349 &lt;dbl&gt; | V4350 &lt;dbl&gt; | V4351 &lt;dbl&gt; | V4352 &lt;dbl&gt; | V4353 &lt;dbl&gt; | V4354 &lt;dbl&gt; | V4355 &lt;dbl&gt; | V4356 &lt;dbl&gt; |\n",
       "|---|---|---|---|---|---|---|---|---|---|---|---|---|---|---|---|---|---|---|---|---|---|\n",
       "| 1 |  1.1753774 | 0.048642263 | 0.000000000 | 0.001309681 | 0.007843137 | 0.01290593 | 0.000000000 | 0.03874300 | 0.06815417 |  1.3522920 | ⋯ | 0.22643470 | 0.004891986 | 0.01767145 | 0.00521754 | 0.03021610 | 1.295366 | 0.0000000 | 0.00000000 | 0.00000000 | 0.00000000 |\n",
       "| 2 |  1.3976058 | 0.005890482 | 0.000000000 | 0.001309681 | 0.000000000 | 0.00000000 | 0.002772968 | 0.05067974 | 0.06794914 |  1.0493726 | ⋯ | 0.00000000 | 0.184313725 | 0.00000000 | 0.00000000 | 0.00000000 | 2.022485 | 0.0000000 | 0.00000000 | 0.00000000 | 0.00000000 |\n",
       "| 3 |  2.2868035 | 0.000000000 | 0.000000000 | 0.001309681 | 0.058823529 | 0.00000000 | 0.052418715 | 0.07589169 | 0.19331534 |  2.8188558 | ⋯ | 0.01123473 | 0.242026578 | 0.00000000 | 0.00000000 | 0.00000000 | 2.000000 | 0.0000000 | 0.00000000 | 0.00000000 | 0.02276161 |\n",
       "| 4 |  0.9903704 | 0.000000000 | 1.055322702 | 0.000000000 | 1.234158975 | 0.00000000 | 0.000000000 | 0.06066135 | 0.01134763 |  0.5759234 | ⋯ | 0.04498204 | 1.048827838 | 0.03694474 | 0.00782631 | 0.52104717 | 1.101550 | 0.0000000 | 0.00000000 | 0.01253512 | 0.00000000 |\n",
       "| 5 | 21.1078113 | 0.000000000 | 0.000000000 | 0.000000000 | 1.423529412 | 0.00000000 | 0.000000000 | 0.00000000 | 0.11274206 | 16.3275997 | ⋯ | 0.00000000 | 2.093298350 | 0.00000000 | 0.00260877 | 0.01706445 | 1.260663 | 0.1892281 | 0.01707658 | 0.00000000 | 0.11284056 |\n",
       "| 6 | 20.6265717 | 0.000000000 | 0.008318903 | 0.003263109 | 0.925909192 | 0.00000000 | 0.000000000 | 0.00000000 | 0.32658565 | 17.3589660 | ⋯ | 0.00000000 | 1.629143687 | 0.00000000 | 0.00000000 | 0.00000000 | 1.729981 | 0.6522614 | 0.17142340 | 0.12841031 | 0.17112145 |\n",
       "\n"
      ],
      "text/plain": [
       "  V1         V2          V3          V4          V5          V6        \n",
       "1  1.1753774 0.048642263 0.000000000 0.001309681 0.007843137 0.01290593\n",
       "2  1.3976058 0.005890482 0.000000000 0.001309681 0.000000000 0.00000000\n",
       "3  2.2868035 0.000000000 0.000000000 0.001309681 0.058823529 0.00000000\n",
       "4  0.9903704 0.000000000 1.055322702 0.000000000 1.234158975 0.00000000\n",
       "5 21.1078113 0.000000000 0.000000000 0.000000000 1.423529412 0.00000000\n",
       "6 20.6265717 0.000000000 0.008318903 0.003263109 0.925909192 0.00000000\n",
       "  V7          V8         V9         V10        ⋯ V4347      V4348      \n",
       "1 0.000000000 0.03874300 0.06815417  1.3522920 ⋯ 0.22643470 0.004891986\n",
       "2 0.002772968 0.05067974 0.06794914  1.0493726 ⋯ 0.00000000 0.184313725\n",
       "3 0.052418715 0.07589169 0.19331534  2.8188558 ⋯ 0.01123473 0.242026578\n",
       "4 0.000000000 0.06066135 0.01134763  0.5759234 ⋯ 0.04498204 1.048827838\n",
       "5 0.000000000 0.00000000 0.11274206 16.3275997 ⋯ 0.00000000 2.093298350\n",
       "6 0.000000000 0.00000000 0.32658565 17.3589660 ⋯ 0.00000000 1.629143687\n",
       "  V4349      V4350      V4351      V4352    V4353     V4354      V4355     \n",
       "1 0.01767145 0.00521754 0.03021610 1.295366 0.0000000 0.00000000 0.00000000\n",
       "2 0.00000000 0.00000000 0.00000000 2.022485 0.0000000 0.00000000 0.00000000\n",
       "3 0.00000000 0.00000000 0.00000000 2.000000 0.0000000 0.00000000 0.00000000\n",
       "4 0.03694474 0.00782631 0.52104717 1.101550 0.0000000 0.00000000 0.01253512\n",
       "5 0.00000000 0.00260877 0.01706445 1.260663 0.1892281 0.01707658 0.00000000\n",
       "6 0.00000000 0.00000000 0.00000000 1.729981 0.6522614 0.17142340 0.12841031\n",
       "  V4356     \n",
       "1 0.00000000\n",
       "2 0.00000000\n",
       "3 0.02276161\n",
       "4 0.00000000\n",
       "5 0.11284056\n",
       "6 0.17112145"
      ]
     },
     "metadata": {},
     "output_type": "display_data"
    },
    {
     "data": {
      "text/html": [
       "<style>\n",
       ".list-inline {list-style: none; margin:0; padding: 0}\n",
       ".list-inline>li {display: inline-block}\n",
       ".list-inline>li:not(:last-child)::after {content: \"\\00b7\"; padding: 0 .5ex}\n",
       "</style>\n",
       "<ol class=list-inline><li>3618</li><li>4356</li></ol>\n"
      ],
      "text/latex": [
       "\\begin{enumerate*}\n",
       "\\item 3618\n",
       "\\item 4356\n",
       "\\end{enumerate*}\n"
      ],
      "text/markdown": [
       "1. 3618\n",
       "2. 4356\n",
       "\n",
       "\n"
      ],
      "text/plain": [
       "[1] 3618 4356"
      ]
     },
     "metadata": {},
     "output_type": "display_data"
    }
   ],
   "source": [
    "# Apply function to data\n",
    "X_features_3 <- HOG_features(X)\n",
    "\n",
    "# Check for NA values\n",
    "any(is.na(X_features_3)) #`FALSE` = no NAs present\n",
    "\n",
    "# Inspect data frame\n",
    "head(X_features_3); dim(X_features_3)"
   ]
  },
  {
   "cell_type": "markdown",
   "id": "0bd11ef5",
   "metadata": {
    "papermill": {
     "duration": 0.017579,
     "end_time": "2023-10-19T09:53:23.976943",
     "exception": false,
     "start_time": "2023-10-19T09:53:23.959364",
     "status": "completed"
    },
    "tags": []
   },
   "source": [
    "## 3.5 Creating a Full Feature Data Frame <a class=\"anchor\"  id=\"section3.5\"></a>\n",
    "\n",
    "Now we combine all of the above created features into one data frame."
   ]
  },
  {
   "cell_type": "code",
   "execution_count": 19,
   "id": "1a8b0bce",
   "metadata": {
    "execution": {
     "iopub.execute_input": "2023-10-19T09:53:24.016788Z",
     "iopub.status.busy": "2023-10-19T09:53:24.015029Z",
     "iopub.status.idle": "2023-10-19T09:53:26.949517Z",
     "shell.execute_reply": "2023-10-19T09:53:26.947647Z"
    },
    "papermill": {
     "duration": 2.958597,
     "end_time": "2023-10-19T09:53:26.952941",
     "exception": false,
     "start_time": "2023-10-19T09:53:23.994344",
     "status": "completed"
    },
    "tags": []
   },
   "outputs": [
    {
     "data": {
      "text/html": [
       "<table class=\"dataframe\">\n",
       "<caption>A data.frame: 6 × 6754</caption>\n",
       "<thead>\n",
       "\t<tr><th></th><th scope=col>p1</th><th scope=col>p2</th><th scope=col>p3</th><th scope=col>p4</th><th scope=col>p5</th><th scope=col>p6</th><th scope=col>p7</th><th scope=col>p8</th><th scope=col>p9</th><th scope=col>p10</th><th scope=col>⋯</th><th scope=col>V4347</th><th scope=col>V4348</th><th scope=col>V4349</th><th scope=col>V4350</th><th scope=col>V4351</th><th scope=col>V4352</th><th scope=col>V4353</th><th scope=col>V4354</th><th scope=col>V4355</th><th scope=col>V4356</th></tr>\n",
       "\t<tr><th></th><th scope=col>&lt;dbl&gt;</th><th scope=col>&lt;dbl&gt;</th><th scope=col>&lt;dbl&gt;</th><th scope=col>&lt;dbl&gt;</th><th scope=col>&lt;dbl&gt;</th><th scope=col>&lt;dbl&gt;</th><th scope=col>&lt;dbl&gt;</th><th scope=col>&lt;dbl&gt;</th><th scope=col>&lt;dbl&gt;</th><th scope=col>&lt;dbl&gt;</th><th scope=col>⋯</th><th scope=col>&lt;dbl&gt;</th><th scope=col>&lt;dbl&gt;</th><th scope=col>&lt;dbl&gt;</th><th scope=col>&lt;dbl&gt;</th><th scope=col>&lt;dbl&gt;</th><th scope=col>&lt;dbl&gt;</th><th scope=col>&lt;dbl&gt;</th><th scope=col>&lt;dbl&gt;</th><th scope=col>&lt;dbl&gt;</th><th scope=col>&lt;dbl&gt;</th></tr>\n",
       "</thead>\n",
       "<tbody>\n",
       "\t<tr><th scope=row>anger/S010_004_00000018a.png</th><td>0.06666667</td><td>0.04705882</td><td>0.03529412</td><td>0.01960784</td><td>0.03137255</td><td>0.05490196</td><td>0.05882353</td><td>0.07450980</td><td>0.06666667</td><td>0.04705882</td><td>⋯</td><td>0.22643470</td><td>0.004891986</td><td>0.01767145</td><td>0.00521754</td><td>0.03021610</td><td>1.295366</td><td>0.0000000</td><td>0.00000000</td><td>0.00000000</td><td>0.00000000</td></tr>\n",
       "\t<tr><th scope=row>anger/S010_004_00000018b.png</th><td>0.06274510</td><td>0.07058824</td><td>0.07058824</td><td>0.05490196</td><td>0.03921569</td><td>0.03921569</td><td>0.03921569</td><td>0.04313725</td><td>0.04313725</td><td>0.04313725</td><td>⋯</td><td>0.00000000</td><td>0.184313725</td><td>0.00000000</td><td>0.00000000</td><td>0.00000000</td><td>2.022485</td><td>0.0000000</td><td>0.00000000</td><td>0.00000000</td><td>0.00000000</td></tr>\n",
       "\t<tr><th scope=row>anger/S010_004_00000018c.png</th><td>0.00000000</td><td>0.04705882</td><td>0.04705882</td><td>0.05882353</td><td>0.07058824</td><td>0.08235294</td><td>0.08627451</td><td>0.08627451</td><td>0.07450980</td><td>0.06666667</td><td>⋯</td><td>0.01123473</td><td>0.242026578</td><td>0.00000000</td><td>0.00000000</td><td>0.00000000</td><td>2.000000</td><td>0.0000000</td><td>0.00000000</td><td>0.00000000</td><td>0.02276161</td></tr>\n",
       "\t<tr><th scope=row>anger/S010_004_00000018d.png</th><td>1.00000000</td><td>0.94901961</td><td>0.02352941</td><td>0.04313725</td><td>0.02745098</td><td>0.02745098</td><td>0.03529412</td><td>0.02745098</td><td>0.03137255</td><td>0.04313725</td><td>⋯</td><td>0.04498204</td><td>1.048827838</td><td>0.03694474</td><td>0.00782631</td><td>0.52104717</td><td>1.101550</td><td>0.0000000</td><td>0.00000000</td><td>0.01253512</td><td>0.00000000</td></tr>\n",
       "\t<tr><th scope=row>anger/S010_004_00000018e.png</th><td>1.00000000</td><td>1.00000000</td><td>1.00000000</td><td>1.00000000</td><td>1.00000000</td><td>1.00000000</td><td>1.00000000</td><td>1.00000000</td><td>1.00000000</td><td>1.00000000</td><td>⋯</td><td>0.00000000</td><td>2.093298350</td><td>0.00000000</td><td>0.00260877</td><td>0.01706445</td><td>1.260663</td><td>0.1892281</td><td>0.01707658</td><td>0.00000000</td><td>0.11284056</td></tr>\n",
       "\t<tr><th scope=row>anger/S010_004_00000018f.png</th><td>1.00000000</td><td>1.00000000</td><td>1.00000000</td><td>1.00000000</td><td>1.00000000</td><td>1.00000000</td><td>1.00000000</td><td>1.00000000</td><td>1.00000000</td><td>1.00000000</td><td>⋯</td><td>0.00000000</td><td>1.629143687</td><td>0.00000000</td><td>0.00000000</td><td>0.00000000</td><td>1.729981</td><td>0.6522614</td><td>0.17142340</td><td>0.12841031</td><td>0.17112145</td></tr>\n",
       "</tbody>\n",
       "</table>\n"
      ],
      "text/latex": [
       "A data.frame: 6 × 6754\n",
       "\\begin{tabular}{r|lllllllllllllllllllll}\n",
       "  & p1 & p2 & p3 & p4 & p5 & p6 & p7 & p8 & p9 & p10 & ⋯ & V4347 & V4348 & V4349 & V4350 & V4351 & V4352 & V4353 & V4354 & V4355 & V4356\\\\\n",
       "  & <dbl> & <dbl> & <dbl> & <dbl> & <dbl> & <dbl> & <dbl> & <dbl> & <dbl> & <dbl> & ⋯ & <dbl> & <dbl> & <dbl> & <dbl> & <dbl> & <dbl> & <dbl> & <dbl> & <dbl> & <dbl>\\\\\n",
       "\\hline\n",
       "\tanger/S010\\_004\\_00000018a.png & 0.06666667 & 0.04705882 & 0.03529412 & 0.01960784 & 0.03137255 & 0.05490196 & 0.05882353 & 0.07450980 & 0.06666667 & 0.04705882 & ⋯ & 0.22643470 & 0.004891986 & 0.01767145 & 0.00521754 & 0.03021610 & 1.295366 & 0.0000000 & 0.00000000 & 0.00000000 & 0.00000000\\\\\n",
       "\tanger/S010\\_004\\_00000018b.png & 0.06274510 & 0.07058824 & 0.07058824 & 0.05490196 & 0.03921569 & 0.03921569 & 0.03921569 & 0.04313725 & 0.04313725 & 0.04313725 & ⋯ & 0.00000000 & 0.184313725 & 0.00000000 & 0.00000000 & 0.00000000 & 2.022485 & 0.0000000 & 0.00000000 & 0.00000000 & 0.00000000\\\\\n",
       "\tanger/S010\\_004\\_00000018c.png & 0.00000000 & 0.04705882 & 0.04705882 & 0.05882353 & 0.07058824 & 0.08235294 & 0.08627451 & 0.08627451 & 0.07450980 & 0.06666667 & ⋯ & 0.01123473 & 0.242026578 & 0.00000000 & 0.00000000 & 0.00000000 & 2.000000 & 0.0000000 & 0.00000000 & 0.00000000 & 0.02276161\\\\\n",
       "\tanger/S010\\_004\\_00000018d.png & 1.00000000 & 0.94901961 & 0.02352941 & 0.04313725 & 0.02745098 & 0.02745098 & 0.03529412 & 0.02745098 & 0.03137255 & 0.04313725 & ⋯ & 0.04498204 & 1.048827838 & 0.03694474 & 0.00782631 & 0.52104717 & 1.101550 & 0.0000000 & 0.00000000 & 0.01253512 & 0.00000000\\\\\n",
       "\tanger/S010\\_004\\_00000018e.png & 1.00000000 & 1.00000000 & 1.00000000 & 1.00000000 & 1.00000000 & 1.00000000 & 1.00000000 & 1.00000000 & 1.00000000 & 1.00000000 & ⋯ & 0.00000000 & 2.093298350 & 0.00000000 & 0.00260877 & 0.01706445 & 1.260663 & 0.1892281 & 0.01707658 & 0.00000000 & 0.11284056\\\\\n",
       "\tanger/S010\\_004\\_00000018f.png & 1.00000000 & 1.00000000 & 1.00000000 & 1.00000000 & 1.00000000 & 1.00000000 & 1.00000000 & 1.00000000 & 1.00000000 & 1.00000000 & ⋯ & 0.00000000 & 1.629143687 & 0.00000000 & 0.00000000 & 0.00000000 & 1.729981 & 0.6522614 & 0.17142340 & 0.12841031 & 0.17112145\\\\\n",
       "\\end{tabular}\n"
      ],
      "text/markdown": [
       "\n",
       "A data.frame: 6 × 6754\n",
       "\n",
       "| <!--/--> | p1 &lt;dbl&gt; | p2 &lt;dbl&gt; | p3 &lt;dbl&gt; | p4 &lt;dbl&gt; | p5 &lt;dbl&gt; | p6 &lt;dbl&gt; | p7 &lt;dbl&gt; | p8 &lt;dbl&gt; | p9 &lt;dbl&gt; | p10 &lt;dbl&gt; | ⋯ ⋯ | V4347 &lt;dbl&gt; | V4348 &lt;dbl&gt; | V4349 &lt;dbl&gt; | V4350 &lt;dbl&gt; | V4351 &lt;dbl&gt; | V4352 &lt;dbl&gt; | V4353 &lt;dbl&gt; | V4354 &lt;dbl&gt; | V4355 &lt;dbl&gt; | V4356 &lt;dbl&gt; |\n",
       "|---|---|---|---|---|---|---|---|---|---|---|---|---|---|---|---|---|---|---|---|---|---|\n",
       "| anger/S010_004_00000018a.png | 0.06666667 | 0.04705882 | 0.03529412 | 0.01960784 | 0.03137255 | 0.05490196 | 0.05882353 | 0.07450980 | 0.06666667 | 0.04705882 | ⋯ | 0.22643470 | 0.004891986 | 0.01767145 | 0.00521754 | 0.03021610 | 1.295366 | 0.0000000 | 0.00000000 | 0.00000000 | 0.00000000 |\n",
       "| anger/S010_004_00000018b.png | 0.06274510 | 0.07058824 | 0.07058824 | 0.05490196 | 0.03921569 | 0.03921569 | 0.03921569 | 0.04313725 | 0.04313725 | 0.04313725 | ⋯ | 0.00000000 | 0.184313725 | 0.00000000 | 0.00000000 | 0.00000000 | 2.022485 | 0.0000000 | 0.00000000 | 0.00000000 | 0.00000000 |\n",
       "| anger/S010_004_00000018c.png | 0.00000000 | 0.04705882 | 0.04705882 | 0.05882353 | 0.07058824 | 0.08235294 | 0.08627451 | 0.08627451 | 0.07450980 | 0.06666667 | ⋯ | 0.01123473 | 0.242026578 | 0.00000000 | 0.00000000 | 0.00000000 | 2.000000 | 0.0000000 | 0.00000000 | 0.00000000 | 0.02276161 |\n",
       "| anger/S010_004_00000018d.png | 1.00000000 | 0.94901961 | 0.02352941 | 0.04313725 | 0.02745098 | 0.02745098 | 0.03529412 | 0.02745098 | 0.03137255 | 0.04313725 | ⋯ | 0.04498204 | 1.048827838 | 0.03694474 | 0.00782631 | 0.52104717 | 1.101550 | 0.0000000 | 0.00000000 | 0.01253512 | 0.00000000 |\n",
       "| anger/S010_004_00000018e.png | 1.00000000 | 1.00000000 | 1.00000000 | 1.00000000 | 1.00000000 | 1.00000000 | 1.00000000 | 1.00000000 | 1.00000000 | 1.00000000 | ⋯ | 0.00000000 | 2.093298350 | 0.00000000 | 0.00260877 | 0.01706445 | 1.260663 | 0.1892281 | 0.01707658 | 0.00000000 | 0.11284056 |\n",
       "| anger/S010_004_00000018f.png | 1.00000000 | 1.00000000 | 1.00000000 | 1.00000000 | 1.00000000 | 1.00000000 | 1.00000000 | 1.00000000 | 1.00000000 | 1.00000000 | ⋯ | 0.00000000 | 1.629143687 | 0.00000000 | 0.00000000 | 0.00000000 | 1.729981 | 0.6522614 | 0.17142340 | 0.12841031 | 0.17112145 |\n",
       "\n"
      ],
      "text/plain": [
       "                             p1         p2         p3         p4        \n",
       "anger/S010_004_00000018a.png 0.06666667 0.04705882 0.03529412 0.01960784\n",
       "anger/S010_004_00000018b.png 0.06274510 0.07058824 0.07058824 0.05490196\n",
       "anger/S010_004_00000018c.png 0.00000000 0.04705882 0.04705882 0.05882353\n",
       "anger/S010_004_00000018d.png 1.00000000 0.94901961 0.02352941 0.04313725\n",
       "anger/S010_004_00000018e.png 1.00000000 1.00000000 1.00000000 1.00000000\n",
       "anger/S010_004_00000018f.png 1.00000000 1.00000000 1.00000000 1.00000000\n",
       "                             p5         p6         p7         p8        \n",
       "anger/S010_004_00000018a.png 0.03137255 0.05490196 0.05882353 0.07450980\n",
       "anger/S010_004_00000018b.png 0.03921569 0.03921569 0.03921569 0.04313725\n",
       "anger/S010_004_00000018c.png 0.07058824 0.08235294 0.08627451 0.08627451\n",
       "anger/S010_004_00000018d.png 0.02745098 0.02745098 0.03529412 0.02745098\n",
       "anger/S010_004_00000018e.png 1.00000000 1.00000000 1.00000000 1.00000000\n",
       "anger/S010_004_00000018f.png 1.00000000 1.00000000 1.00000000 1.00000000\n",
       "                             p9         p10        ⋯ V4347      V4348      \n",
       "anger/S010_004_00000018a.png 0.06666667 0.04705882 ⋯ 0.22643470 0.004891986\n",
       "anger/S010_004_00000018b.png 0.04313725 0.04313725 ⋯ 0.00000000 0.184313725\n",
       "anger/S010_004_00000018c.png 0.07450980 0.06666667 ⋯ 0.01123473 0.242026578\n",
       "anger/S010_004_00000018d.png 0.03137255 0.04313725 ⋯ 0.04498204 1.048827838\n",
       "anger/S010_004_00000018e.png 1.00000000 1.00000000 ⋯ 0.00000000 2.093298350\n",
       "anger/S010_004_00000018f.png 1.00000000 1.00000000 ⋯ 0.00000000 1.629143687\n",
       "                             V4349      V4350      V4351      V4352   \n",
       "anger/S010_004_00000018a.png 0.01767145 0.00521754 0.03021610 1.295366\n",
       "anger/S010_004_00000018b.png 0.00000000 0.00000000 0.00000000 2.022485\n",
       "anger/S010_004_00000018c.png 0.00000000 0.00000000 0.00000000 2.000000\n",
       "anger/S010_004_00000018d.png 0.03694474 0.00782631 0.52104717 1.101550\n",
       "anger/S010_004_00000018e.png 0.00000000 0.00260877 0.01706445 1.260663\n",
       "anger/S010_004_00000018f.png 0.00000000 0.00000000 0.00000000 1.729981\n",
       "                             V4353     V4354      V4355      V4356     \n",
       "anger/S010_004_00000018a.png 0.0000000 0.00000000 0.00000000 0.00000000\n",
       "anger/S010_004_00000018b.png 0.0000000 0.00000000 0.00000000 0.00000000\n",
       "anger/S010_004_00000018c.png 0.0000000 0.00000000 0.00000000 0.02276161\n",
       "anger/S010_004_00000018d.png 0.0000000 0.00000000 0.01253512 0.00000000\n",
       "anger/S010_004_00000018e.png 0.1892281 0.01707658 0.00000000 0.11284056\n",
       "anger/S010_004_00000018f.png 0.6522614 0.17142340 0.12841031 0.17112145"
      ]
     },
     "metadata": {},
     "output_type": "display_data"
    },
    {
     "data": {
      "text/html": [
       "3618"
      ],
      "text/latex": [
       "3618"
      ],
      "text/markdown": [
       "3618"
      ],
      "text/plain": [
       "[1] 3618"
      ]
     },
     "metadata": {},
     "output_type": "display_data"
    },
    {
     "data": {
      "text/html": [
       "3618"
      ],
      "text/latex": [
       "3618"
      ],
      "text/markdown": [
       "3618"
      ],
      "text/plain": [
       "[1] 3618"
      ]
     },
     "metadata": {},
     "output_type": "display_data"
    },
    {
     "data": {
      "text/html": [
       "3618"
      ],
      "text/latex": [
       "3618"
      ],
      "text/markdown": [
       "3618"
      ],
      "text/plain": [
       "[1] 3618"
      ]
     },
     "metadata": {},
     "output_type": "display_data"
    },
    {
     "data": {
      "text/html": [
       "2388"
      ],
      "text/latex": [
       "2388"
      ],
      "text/markdown": [
       "2388"
      ],
      "text/plain": [
       "[1] 2388"
      ]
     },
     "metadata": {},
     "output_type": "display_data"
    },
    {
     "data": {
      "text/html": [
       "10"
      ],
      "text/latex": [
       "10"
      ],
      "text/markdown": [
       "10"
      ],
      "text/plain": [
       "[1] 10"
      ]
     },
     "metadata": {},
     "output_type": "display_data"
    },
    {
     "data": {
      "text/html": [
       "4356"
      ],
      "text/latex": [
       "4356"
      ],
      "text/markdown": [
       "4356"
      ],
      "text/plain": [
       "[1] 4356"
      ]
     },
     "metadata": {},
     "output_type": "display_data"
    }
   ],
   "source": [
    "# Merging all resulting feature sets\n",
    "features_df <- cbind(X_features, X_features_2, X_features_3)\n",
    "features_df %>% head()\n",
    "\n",
    "nrow(X_features)\n",
    "nrow(X_features_2)\n",
    "nrow(X_features_3)\n",
    "ncol(X_features)\n",
    "ncol(X_features_2)\n",
    "ncol(X_features_3)"
   ]
  },
  {
   "cell_type": "markdown",
   "id": "90585e2a",
   "metadata": {
    "papermill": {
     "duration": 0.019033,
     "end_time": "2023-10-19T09:53:26.991286",
     "exception": false,
     "start_time": "2023-10-19T09:53:26.972253",
     "status": "completed"
    },
    "tags": []
   },
   "source": [
    "## 3.6 Cleaning Feature Data Frame <a class=\"anchor\"  id=\"section3.6\"></a>\n",
    "\n",
    "### Removing Near Zero Variances\n",
    "\n",
    "Filtering out features that do not (or hardly) differ between all observations. Although caret::nearZeroVar is useful, LDA seemed to still experience problems due to near-zero variances in the data. Therefore, we remove near-zero variance manually."
   ]
  },
  {
   "cell_type": "code",
   "execution_count": 20,
   "id": "f5f0c355",
   "metadata": {
    "execution": {
     "iopub.execute_input": "2023-10-19T09:53:27.033538Z",
     "iopub.status.busy": "2023-10-19T09:53:27.031863Z",
     "iopub.status.idle": "2023-10-19T09:53:53.481578Z",
     "shell.execute_reply": "2023-10-19T09:53:53.479536Z"
    },
    "papermill": {
     "duration": 26.473568,
     "end_time": "2023-10-19T09:53:53.483937",
     "exception": false,
     "start_time": "2023-10-19T09:53:27.010369",
     "status": "completed"
    },
    "tags": []
   },
   "outputs": [
    {
     "data": {
      "text/html": [
       "<table class=\"dataframe\">\n",
       "<caption>A tibble: 6 × 4601</caption>\n",
       "<thead>\n",
       "\t<tr><th scope=col>p1</th><th scope=col>p2</th><th scope=col>p3</th><th scope=col>p4</th><th scope=col>p5</th><th scope=col>p6</th><th scope=col>p7</th><th scope=col>p8</th><th scope=col>p9</th><th scope=col>p10</th><th scope=col>⋯</th><th scope=col>V4338</th><th scope=col>V4339</th><th scope=col>V4343</th><th scope=col>V4347</th><th scope=col>V4348</th><th scope=col>V4350</th><th scope=col>V4351</th><th scope=col>V4352</th><th scope=col>V4353</th><th scope=col>V4356</th></tr>\n",
       "\t<tr><th scope=col>&lt;dbl&gt;</th><th scope=col>&lt;dbl&gt;</th><th scope=col>&lt;dbl&gt;</th><th scope=col>&lt;dbl&gt;</th><th scope=col>&lt;dbl&gt;</th><th scope=col>&lt;dbl&gt;</th><th scope=col>&lt;dbl&gt;</th><th scope=col>&lt;dbl&gt;</th><th scope=col>&lt;dbl&gt;</th><th scope=col>&lt;dbl&gt;</th><th scope=col>⋯</th><th scope=col>&lt;dbl&gt;</th><th scope=col>&lt;dbl&gt;</th><th scope=col>&lt;dbl&gt;</th><th scope=col>&lt;dbl&gt;</th><th scope=col>&lt;dbl&gt;</th><th scope=col>&lt;dbl&gt;</th><th scope=col>&lt;dbl&gt;</th><th scope=col>&lt;dbl&gt;</th><th scope=col>&lt;dbl&gt;</th><th scope=col>&lt;dbl&gt;</th></tr>\n",
       "</thead>\n",
       "<tbody>\n",
       "\t<tr><td>0.06666667</td><td>0.04705882</td><td>0.03529412</td><td>0.01960784</td><td>0.03137255</td><td>0.05490196</td><td>0.05882353</td><td>0.07450980</td><td>0.06666667</td><td>0.04705882</td><td>⋯</td><td>0.00000000</td><td>3.37830770</td><td>0.41753984</td><td>0.22643470</td><td>0.004891986</td><td>0.00521754</td><td>0.03021610</td><td>1.295366</td><td>0.0000000</td><td>0.00000000</td></tr>\n",
       "\t<tr><td>0.06274510</td><td>0.07058824</td><td>0.07058824</td><td>0.05490196</td><td>0.03921569</td><td>0.03921569</td><td>0.03921569</td><td>0.04313725</td><td>0.04313725</td><td>0.04313725</td><td>⋯</td><td>0.25888500</td><td>1.80784314</td><td>0.00000000</td><td>0.00000000</td><td>0.184313725</td><td>0.00000000</td><td>0.00000000</td><td>2.022485</td><td>0.0000000</td><td>0.00000000</td></tr>\n",
       "\t<tr><td>0.00000000</td><td>0.04705882</td><td>0.04705882</td><td>0.05882353</td><td>0.07058824</td><td>0.08235294</td><td>0.08627451</td><td>0.08627451</td><td>0.07450980</td><td>0.06666667</td><td>⋯</td><td>0.00000000</td><td>3.89933083</td><td>0.27674859</td><td>0.01123473</td><td>0.242026578</td><td>0.00000000</td><td>0.00000000</td><td>2.000000</td><td>0.0000000</td><td>0.02276161</td></tr>\n",
       "\t<tr><td>1.00000000</td><td>0.94901961</td><td>0.02352941</td><td>0.04313725</td><td>0.02745098</td><td>0.02745098</td><td>0.03529412</td><td>0.02745098</td><td>0.03137255</td><td>0.04313725</td><td>⋯</td><td>0.00000000</td><td>3.43226629</td><td>0.27584612</td><td>0.04498204</td><td>1.048827838</td><td>0.00782631</td><td>0.52104717</td><td>1.101550</td><td>0.0000000</td><td>0.00000000</td></tr>\n",
       "\t<tr><td>1.00000000</td><td>1.00000000</td><td>1.00000000</td><td>1.00000000</td><td>1.00000000</td><td>1.00000000</td><td>1.00000000</td><td>1.00000000</td><td>1.00000000</td><td>1.00000000</td><td>⋯</td><td>0.09052695</td><td>0.00000000</td><td>0.50015522</td><td>0.00000000</td><td>2.093298350</td><td>0.00260877</td><td>0.01706445</td><td>1.260663</td><td>0.1892281</td><td>0.11284056</td></tr>\n",
       "\t<tr><td>1.00000000</td><td>1.00000000</td><td>1.00000000</td><td>1.00000000</td><td>1.00000000</td><td>1.00000000</td><td>1.00000000</td><td>1.00000000</td><td>1.00000000</td><td>1.00000000</td><td>⋯</td><td>0.00000000</td><td>0.01568627</td><td>0.04474494</td><td>0.00000000</td><td>1.629143687</td><td>0.00000000</td><td>0.00000000</td><td>1.729981</td><td>0.6522614</td><td>0.17112145</td></tr>\n",
       "</tbody>\n",
       "</table>\n"
      ],
      "text/latex": [
       "A tibble: 6 × 4601\n",
       "\\begin{tabular}{lllllllllllllllllllll}\n",
       " p1 & p2 & p3 & p4 & p5 & p6 & p7 & p8 & p9 & p10 & ⋯ & V4338 & V4339 & V4343 & V4347 & V4348 & V4350 & V4351 & V4352 & V4353 & V4356\\\\\n",
       " <dbl> & <dbl> & <dbl> & <dbl> & <dbl> & <dbl> & <dbl> & <dbl> & <dbl> & <dbl> & ⋯ & <dbl> & <dbl> & <dbl> & <dbl> & <dbl> & <dbl> & <dbl> & <dbl> & <dbl> & <dbl>\\\\\n",
       "\\hline\n",
       "\t 0.06666667 & 0.04705882 & 0.03529412 & 0.01960784 & 0.03137255 & 0.05490196 & 0.05882353 & 0.07450980 & 0.06666667 & 0.04705882 & ⋯ & 0.00000000 & 3.37830770 & 0.41753984 & 0.22643470 & 0.004891986 & 0.00521754 & 0.03021610 & 1.295366 & 0.0000000 & 0.00000000\\\\\n",
       "\t 0.06274510 & 0.07058824 & 0.07058824 & 0.05490196 & 0.03921569 & 0.03921569 & 0.03921569 & 0.04313725 & 0.04313725 & 0.04313725 & ⋯ & 0.25888500 & 1.80784314 & 0.00000000 & 0.00000000 & 0.184313725 & 0.00000000 & 0.00000000 & 2.022485 & 0.0000000 & 0.00000000\\\\\n",
       "\t 0.00000000 & 0.04705882 & 0.04705882 & 0.05882353 & 0.07058824 & 0.08235294 & 0.08627451 & 0.08627451 & 0.07450980 & 0.06666667 & ⋯ & 0.00000000 & 3.89933083 & 0.27674859 & 0.01123473 & 0.242026578 & 0.00000000 & 0.00000000 & 2.000000 & 0.0000000 & 0.02276161\\\\\n",
       "\t 1.00000000 & 0.94901961 & 0.02352941 & 0.04313725 & 0.02745098 & 0.02745098 & 0.03529412 & 0.02745098 & 0.03137255 & 0.04313725 & ⋯ & 0.00000000 & 3.43226629 & 0.27584612 & 0.04498204 & 1.048827838 & 0.00782631 & 0.52104717 & 1.101550 & 0.0000000 & 0.00000000\\\\\n",
       "\t 1.00000000 & 1.00000000 & 1.00000000 & 1.00000000 & 1.00000000 & 1.00000000 & 1.00000000 & 1.00000000 & 1.00000000 & 1.00000000 & ⋯ & 0.09052695 & 0.00000000 & 0.50015522 & 0.00000000 & 2.093298350 & 0.00260877 & 0.01706445 & 1.260663 & 0.1892281 & 0.11284056\\\\\n",
       "\t 1.00000000 & 1.00000000 & 1.00000000 & 1.00000000 & 1.00000000 & 1.00000000 & 1.00000000 & 1.00000000 & 1.00000000 & 1.00000000 & ⋯ & 0.00000000 & 0.01568627 & 0.04474494 & 0.00000000 & 1.629143687 & 0.00000000 & 0.00000000 & 1.729981 & 0.6522614 & 0.17112145\\\\\n",
       "\\end{tabular}\n"
      ],
      "text/markdown": [
       "\n",
       "A tibble: 6 × 4601\n",
       "\n",
       "| p1 &lt;dbl&gt; | p2 &lt;dbl&gt; | p3 &lt;dbl&gt; | p4 &lt;dbl&gt; | p5 &lt;dbl&gt; | p6 &lt;dbl&gt; | p7 &lt;dbl&gt; | p8 &lt;dbl&gt; | p9 &lt;dbl&gt; | p10 &lt;dbl&gt; | ⋯ ⋯ | V4338 &lt;dbl&gt; | V4339 &lt;dbl&gt; | V4343 &lt;dbl&gt; | V4347 &lt;dbl&gt; | V4348 &lt;dbl&gt; | V4350 &lt;dbl&gt; | V4351 &lt;dbl&gt; | V4352 &lt;dbl&gt; | V4353 &lt;dbl&gt; | V4356 &lt;dbl&gt; |\n",
       "|---|---|---|---|---|---|---|---|---|---|---|---|---|---|---|---|---|---|---|---|---|\n",
       "| 0.06666667 | 0.04705882 | 0.03529412 | 0.01960784 | 0.03137255 | 0.05490196 | 0.05882353 | 0.07450980 | 0.06666667 | 0.04705882 | ⋯ | 0.00000000 | 3.37830770 | 0.41753984 | 0.22643470 | 0.004891986 | 0.00521754 | 0.03021610 | 1.295366 | 0.0000000 | 0.00000000 |\n",
       "| 0.06274510 | 0.07058824 | 0.07058824 | 0.05490196 | 0.03921569 | 0.03921569 | 0.03921569 | 0.04313725 | 0.04313725 | 0.04313725 | ⋯ | 0.25888500 | 1.80784314 | 0.00000000 | 0.00000000 | 0.184313725 | 0.00000000 | 0.00000000 | 2.022485 | 0.0000000 | 0.00000000 |\n",
       "| 0.00000000 | 0.04705882 | 0.04705882 | 0.05882353 | 0.07058824 | 0.08235294 | 0.08627451 | 0.08627451 | 0.07450980 | 0.06666667 | ⋯ | 0.00000000 | 3.89933083 | 0.27674859 | 0.01123473 | 0.242026578 | 0.00000000 | 0.00000000 | 2.000000 | 0.0000000 | 0.02276161 |\n",
       "| 1.00000000 | 0.94901961 | 0.02352941 | 0.04313725 | 0.02745098 | 0.02745098 | 0.03529412 | 0.02745098 | 0.03137255 | 0.04313725 | ⋯ | 0.00000000 | 3.43226629 | 0.27584612 | 0.04498204 | 1.048827838 | 0.00782631 | 0.52104717 | 1.101550 | 0.0000000 | 0.00000000 |\n",
       "| 1.00000000 | 1.00000000 | 1.00000000 | 1.00000000 | 1.00000000 | 1.00000000 | 1.00000000 | 1.00000000 | 1.00000000 | 1.00000000 | ⋯ | 0.09052695 | 0.00000000 | 0.50015522 | 0.00000000 | 2.093298350 | 0.00260877 | 0.01706445 | 1.260663 | 0.1892281 | 0.11284056 |\n",
       "| 1.00000000 | 1.00000000 | 1.00000000 | 1.00000000 | 1.00000000 | 1.00000000 | 1.00000000 | 1.00000000 | 1.00000000 | 1.00000000 | ⋯ | 0.00000000 | 0.01568627 | 0.04474494 | 0.00000000 | 1.629143687 | 0.00000000 | 0.00000000 | 1.729981 | 0.6522614 | 0.17112145 |\n",
       "\n"
      ],
      "text/plain": [
       "  p1         p2         p3         p4         p5         p6         p7        \n",
       "1 0.06666667 0.04705882 0.03529412 0.01960784 0.03137255 0.05490196 0.05882353\n",
       "2 0.06274510 0.07058824 0.07058824 0.05490196 0.03921569 0.03921569 0.03921569\n",
       "3 0.00000000 0.04705882 0.04705882 0.05882353 0.07058824 0.08235294 0.08627451\n",
       "4 1.00000000 0.94901961 0.02352941 0.04313725 0.02745098 0.02745098 0.03529412\n",
       "5 1.00000000 1.00000000 1.00000000 1.00000000 1.00000000 1.00000000 1.00000000\n",
       "6 1.00000000 1.00000000 1.00000000 1.00000000 1.00000000 1.00000000 1.00000000\n",
       "  p8         p9         p10        ⋯ V4338      V4339      V4343     \n",
       "1 0.07450980 0.06666667 0.04705882 ⋯ 0.00000000 3.37830770 0.41753984\n",
       "2 0.04313725 0.04313725 0.04313725 ⋯ 0.25888500 1.80784314 0.00000000\n",
       "3 0.08627451 0.07450980 0.06666667 ⋯ 0.00000000 3.89933083 0.27674859\n",
       "4 0.02745098 0.03137255 0.04313725 ⋯ 0.00000000 3.43226629 0.27584612\n",
       "5 1.00000000 1.00000000 1.00000000 ⋯ 0.09052695 0.00000000 0.50015522\n",
       "6 1.00000000 1.00000000 1.00000000 ⋯ 0.00000000 0.01568627 0.04474494\n",
       "  V4347      V4348       V4350      V4351      V4352    V4353     V4356     \n",
       "1 0.22643470 0.004891986 0.00521754 0.03021610 1.295366 0.0000000 0.00000000\n",
       "2 0.00000000 0.184313725 0.00000000 0.00000000 2.022485 0.0000000 0.00000000\n",
       "3 0.01123473 0.242026578 0.00000000 0.00000000 2.000000 0.0000000 0.02276161\n",
       "4 0.04498204 1.048827838 0.00782631 0.52104717 1.101550 0.0000000 0.00000000\n",
       "5 0.00000000 2.093298350 0.00260877 0.01706445 1.260663 0.1892281 0.11284056\n",
       "6 0.00000000 1.629143687 0.00000000 0.00000000 1.729981 0.6522614 0.17112145"
      ]
     },
     "metadata": {},
     "output_type": "display_data"
    },
    {
     "data": {
      "text/html": [
       "<table class=\"dataframe\">\n",
       "<caption>A data.frame: 6 × 6754</caption>\n",
       "<thead>\n",
       "\t<tr><th></th><th scope=col>p1</th><th scope=col>p2</th><th scope=col>p3</th><th scope=col>p4</th><th scope=col>p5</th><th scope=col>p6</th><th scope=col>p7</th><th scope=col>p8</th><th scope=col>p9</th><th scope=col>p10</th><th scope=col>⋯</th><th scope=col>V4347</th><th scope=col>V4348</th><th scope=col>V4349</th><th scope=col>V4350</th><th scope=col>V4351</th><th scope=col>V4352</th><th scope=col>V4353</th><th scope=col>V4354</th><th scope=col>V4355</th><th scope=col>V4356</th></tr>\n",
       "\t<tr><th></th><th scope=col>&lt;dbl&gt;</th><th scope=col>&lt;dbl&gt;</th><th scope=col>&lt;dbl&gt;</th><th scope=col>&lt;dbl&gt;</th><th scope=col>&lt;dbl&gt;</th><th scope=col>&lt;dbl&gt;</th><th scope=col>&lt;dbl&gt;</th><th scope=col>&lt;dbl&gt;</th><th scope=col>&lt;dbl&gt;</th><th scope=col>&lt;dbl&gt;</th><th scope=col>⋯</th><th scope=col>&lt;dbl&gt;</th><th scope=col>&lt;dbl&gt;</th><th scope=col>&lt;dbl&gt;</th><th scope=col>&lt;dbl&gt;</th><th scope=col>&lt;dbl&gt;</th><th scope=col>&lt;dbl&gt;</th><th scope=col>&lt;dbl&gt;</th><th scope=col>&lt;dbl&gt;</th><th scope=col>&lt;dbl&gt;</th><th scope=col>&lt;dbl&gt;</th></tr>\n",
       "</thead>\n",
       "<tbody>\n",
       "\t<tr><th scope=row>anger/S010_004_00000018a.png</th><td>0.06666667</td><td>0.04705882</td><td>0.03529412</td><td>0.01960784</td><td>0.03137255</td><td>0.05490196</td><td>0.05882353</td><td>0.07450980</td><td>0.06666667</td><td>0.04705882</td><td>⋯</td><td>0.22643470</td><td>0.004891986</td><td>0.01767145</td><td>0.00521754</td><td>0.03021610</td><td>1.295366</td><td>0.0000000</td><td>0.00000000</td><td>0.00000000</td><td>0.00000000</td></tr>\n",
       "\t<tr><th scope=row>anger/S010_004_00000018b.png</th><td>0.06274510</td><td>0.07058824</td><td>0.07058824</td><td>0.05490196</td><td>0.03921569</td><td>0.03921569</td><td>0.03921569</td><td>0.04313725</td><td>0.04313725</td><td>0.04313725</td><td>⋯</td><td>0.00000000</td><td>0.184313725</td><td>0.00000000</td><td>0.00000000</td><td>0.00000000</td><td>2.022485</td><td>0.0000000</td><td>0.00000000</td><td>0.00000000</td><td>0.00000000</td></tr>\n",
       "\t<tr><th scope=row>anger/S010_004_00000018c.png</th><td>0.00000000</td><td>0.04705882</td><td>0.04705882</td><td>0.05882353</td><td>0.07058824</td><td>0.08235294</td><td>0.08627451</td><td>0.08627451</td><td>0.07450980</td><td>0.06666667</td><td>⋯</td><td>0.01123473</td><td>0.242026578</td><td>0.00000000</td><td>0.00000000</td><td>0.00000000</td><td>2.000000</td><td>0.0000000</td><td>0.00000000</td><td>0.00000000</td><td>0.02276161</td></tr>\n",
       "\t<tr><th scope=row>anger/S010_004_00000018d.png</th><td>1.00000000</td><td>0.94901961</td><td>0.02352941</td><td>0.04313725</td><td>0.02745098</td><td>0.02745098</td><td>0.03529412</td><td>0.02745098</td><td>0.03137255</td><td>0.04313725</td><td>⋯</td><td>0.04498204</td><td>1.048827838</td><td>0.03694474</td><td>0.00782631</td><td>0.52104717</td><td>1.101550</td><td>0.0000000</td><td>0.00000000</td><td>0.01253512</td><td>0.00000000</td></tr>\n",
       "\t<tr><th scope=row>anger/S010_004_00000018e.png</th><td>1.00000000</td><td>1.00000000</td><td>1.00000000</td><td>1.00000000</td><td>1.00000000</td><td>1.00000000</td><td>1.00000000</td><td>1.00000000</td><td>1.00000000</td><td>1.00000000</td><td>⋯</td><td>0.00000000</td><td>2.093298350</td><td>0.00000000</td><td>0.00260877</td><td>0.01706445</td><td>1.260663</td><td>0.1892281</td><td>0.01707658</td><td>0.00000000</td><td>0.11284056</td></tr>\n",
       "\t<tr><th scope=row>anger/S010_004_00000018f.png</th><td>1.00000000</td><td>1.00000000</td><td>1.00000000</td><td>1.00000000</td><td>1.00000000</td><td>1.00000000</td><td>1.00000000</td><td>1.00000000</td><td>1.00000000</td><td>1.00000000</td><td>⋯</td><td>0.00000000</td><td>1.629143687</td><td>0.00000000</td><td>0.00000000</td><td>0.00000000</td><td>1.729981</td><td>0.6522614</td><td>0.17142340</td><td>0.12841031</td><td>0.17112145</td></tr>\n",
       "</tbody>\n",
       "</table>\n"
      ],
      "text/latex": [
       "A data.frame: 6 × 6754\n",
       "\\begin{tabular}{r|lllllllllllllllllllll}\n",
       "  & p1 & p2 & p3 & p4 & p5 & p6 & p7 & p8 & p9 & p10 & ⋯ & V4347 & V4348 & V4349 & V4350 & V4351 & V4352 & V4353 & V4354 & V4355 & V4356\\\\\n",
       "  & <dbl> & <dbl> & <dbl> & <dbl> & <dbl> & <dbl> & <dbl> & <dbl> & <dbl> & <dbl> & ⋯ & <dbl> & <dbl> & <dbl> & <dbl> & <dbl> & <dbl> & <dbl> & <dbl> & <dbl> & <dbl>\\\\\n",
       "\\hline\n",
       "\tanger/S010\\_004\\_00000018a.png & 0.06666667 & 0.04705882 & 0.03529412 & 0.01960784 & 0.03137255 & 0.05490196 & 0.05882353 & 0.07450980 & 0.06666667 & 0.04705882 & ⋯ & 0.22643470 & 0.004891986 & 0.01767145 & 0.00521754 & 0.03021610 & 1.295366 & 0.0000000 & 0.00000000 & 0.00000000 & 0.00000000\\\\\n",
       "\tanger/S010\\_004\\_00000018b.png & 0.06274510 & 0.07058824 & 0.07058824 & 0.05490196 & 0.03921569 & 0.03921569 & 0.03921569 & 0.04313725 & 0.04313725 & 0.04313725 & ⋯ & 0.00000000 & 0.184313725 & 0.00000000 & 0.00000000 & 0.00000000 & 2.022485 & 0.0000000 & 0.00000000 & 0.00000000 & 0.00000000\\\\\n",
       "\tanger/S010\\_004\\_00000018c.png & 0.00000000 & 0.04705882 & 0.04705882 & 0.05882353 & 0.07058824 & 0.08235294 & 0.08627451 & 0.08627451 & 0.07450980 & 0.06666667 & ⋯ & 0.01123473 & 0.242026578 & 0.00000000 & 0.00000000 & 0.00000000 & 2.000000 & 0.0000000 & 0.00000000 & 0.00000000 & 0.02276161\\\\\n",
       "\tanger/S010\\_004\\_00000018d.png & 1.00000000 & 0.94901961 & 0.02352941 & 0.04313725 & 0.02745098 & 0.02745098 & 0.03529412 & 0.02745098 & 0.03137255 & 0.04313725 & ⋯ & 0.04498204 & 1.048827838 & 0.03694474 & 0.00782631 & 0.52104717 & 1.101550 & 0.0000000 & 0.00000000 & 0.01253512 & 0.00000000\\\\\n",
       "\tanger/S010\\_004\\_00000018e.png & 1.00000000 & 1.00000000 & 1.00000000 & 1.00000000 & 1.00000000 & 1.00000000 & 1.00000000 & 1.00000000 & 1.00000000 & 1.00000000 & ⋯ & 0.00000000 & 2.093298350 & 0.00000000 & 0.00260877 & 0.01706445 & 1.260663 & 0.1892281 & 0.01707658 & 0.00000000 & 0.11284056\\\\\n",
       "\tanger/S010\\_004\\_00000018f.png & 1.00000000 & 1.00000000 & 1.00000000 & 1.00000000 & 1.00000000 & 1.00000000 & 1.00000000 & 1.00000000 & 1.00000000 & 1.00000000 & ⋯ & 0.00000000 & 1.629143687 & 0.00000000 & 0.00000000 & 0.00000000 & 1.729981 & 0.6522614 & 0.17142340 & 0.12841031 & 0.17112145\\\\\n",
       "\\end{tabular}\n"
      ],
      "text/markdown": [
       "\n",
       "A data.frame: 6 × 6754\n",
       "\n",
       "| <!--/--> | p1 &lt;dbl&gt; | p2 &lt;dbl&gt; | p3 &lt;dbl&gt; | p4 &lt;dbl&gt; | p5 &lt;dbl&gt; | p6 &lt;dbl&gt; | p7 &lt;dbl&gt; | p8 &lt;dbl&gt; | p9 &lt;dbl&gt; | p10 &lt;dbl&gt; | ⋯ ⋯ | V4347 &lt;dbl&gt; | V4348 &lt;dbl&gt; | V4349 &lt;dbl&gt; | V4350 &lt;dbl&gt; | V4351 &lt;dbl&gt; | V4352 &lt;dbl&gt; | V4353 &lt;dbl&gt; | V4354 &lt;dbl&gt; | V4355 &lt;dbl&gt; | V4356 &lt;dbl&gt; |\n",
       "|---|---|---|---|---|---|---|---|---|---|---|---|---|---|---|---|---|---|---|---|---|---|\n",
       "| anger/S010_004_00000018a.png | 0.06666667 | 0.04705882 | 0.03529412 | 0.01960784 | 0.03137255 | 0.05490196 | 0.05882353 | 0.07450980 | 0.06666667 | 0.04705882 | ⋯ | 0.22643470 | 0.004891986 | 0.01767145 | 0.00521754 | 0.03021610 | 1.295366 | 0.0000000 | 0.00000000 | 0.00000000 | 0.00000000 |\n",
       "| anger/S010_004_00000018b.png | 0.06274510 | 0.07058824 | 0.07058824 | 0.05490196 | 0.03921569 | 0.03921569 | 0.03921569 | 0.04313725 | 0.04313725 | 0.04313725 | ⋯ | 0.00000000 | 0.184313725 | 0.00000000 | 0.00000000 | 0.00000000 | 2.022485 | 0.0000000 | 0.00000000 | 0.00000000 | 0.00000000 |\n",
       "| anger/S010_004_00000018c.png | 0.00000000 | 0.04705882 | 0.04705882 | 0.05882353 | 0.07058824 | 0.08235294 | 0.08627451 | 0.08627451 | 0.07450980 | 0.06666667 | ⋯ | 0.01123473 | 0.242026578 | 0.00000000 | 0.00000000 | 0.00000000 | 2.000000 | 0.0000000 | 0.00000000 | 0.00000000 | 0.02276161 |\n",
       "| anger/S010_004_00000018d.png | 1.00000000 | 0.94901961 | 0.02352941 | 0.04313725 | 0.02745098 | 0.02745098 | 0.03529412 | 0.02745098 | 0.03137255 | 0.04313725 | ⋯ | 0.04498204 | 1.048827838 | 0.03694474 | 0.00782631 | 0.52104717 | 1.101550 | 0.0000000 | 0.00000000 | 0.01253512 | 0.00000000 |\n",
       "| anger/S010_004_00000018e.png | 1.00000000 | 1.00000000 | 1.00000000 | 1.00000000 | 1.00000000 | 1.00000000 | 1.00000000 | 1.00000000 | 1.00000000 | 1.00000000 | ⋯ | 0.00000000 | 2.093298350 | 0.00000000 | 0.00260877 | 0.01706445 | 1.260663 | 0.1892281 | 0.01707658 | 0.00000000 | 0.11284056 |\n",
       "| anger/S010_004_00000018f.png | 1.00000000 | 1.00000000 | 1.00000000 | 1.00000000 | 1.00000000 | 1.00000000 | 1.00000000 | 1.00000000 | 1.00000000 | 1.00000000 | ⋯ | 0.00000000 | 1.629143687 | 0.00000000 | 0.00000000 | 0.00000000 | 1.729981 | 0.6522614 | 0.17142340 | 0.12841031 | 0.17112145 |\n",
       "\n"
      ],
      "text/plain": [
       "                             p1         p2         p3         p4        \n",
       "anger/S010_004_00000018a.png 0.06666667 0.04705882 0.03529412 0.01960784\n",
       "anger/S010_004_00000018b.png 0.06274510 0.07058824 0.07058824 0.05490196\n",
       "anger/S010_004_00000018c.png 0.00000000 0.04705882 0.04705882 0.05882353\n",
       "anger/S010_004_00000018d.png 1.00000000 0.94901961 0.02352941 0.04313725\n",
       "anger/S010_004_00000018e.png 1.00000000 1.00000000 1.00000000 1.00000000\n",
       "anger/S010_004_00000018f.png 1.00000000 1.00000000 1.00000000 1.00000000\n",
       "                             p5         p6         p7         p8        \n",
       "anger/S010_004_00000018a.png 0.03137255 0.05490196 0.05882353 0.07450980\n",
       "anger/S010_004_00000018b.png 0.03921569 0.03921569 0.03921569 0.04313725\n",
       "anger/S010_004_00000018c.png 0.07058824 0.08235294 0.08627451 0.08627451\n",
       "anger/S010_004_00000018d.png 0.02745098 0.02745098 0.03529412 0.02745098\n",
       "anger/S010_004_00000018e.png 1.00000000 1.00000000 1.00000000 1.00000000\n",
       "anger/S010_004_00000018f.png 1.00000000 1.00000000 1.00000000 1.00000000\n",
       "                             p9         p10        ⋯ V4347      V4348      \n",
       "anger/S010_004_00000018a.png 0.06666667 0.04705882 ⋯ 0.22643470 0.004891986\n",
       "anger/S010_004_00000018b.png 0.04313725 0.04313725 ⋯ 0.00000000 0.184313725\n",
       "anger/S010_004_00000018c.png 0.07450980 0.06666667 ⋯ 0.01123473 0.242026578\n",
       "anger/S010_004_00000018d.png 0.03137255 0.04313725 ⋯ 0.04498204 1.048827838\n",
       "anger/S010_004_00000018e.png 1.00000000 1.00000000 ⋯ 0.00000000 2.093298350\n",
       "anger/S010_004_00000018f.png 1.00000000 1.00000000 ⋯ 0.00000000 1.629143687\n",
       "                             V4349      V4350      V4351      V4352   \n",
       "anger/S010_004_00000018a.png 0.01767145 0.00521754 0.03021610 1.295366\n",
       "anger/S010_004_00000018b.png 0.00000000 0.00000000 0.00000000 2.022485\n",
       "anger/S010_004_00000018c.png 0.00000000 0.00000000 0.00000000 2.000000\n",
       "anger/S010_004_00000018d.png 0.03694474 0.00782631 0.52104717 1.101550\n",
       "anger/S010_004_00000018e.png 0.00000000 0.00260877 0.01706445 1.260663\n",
       "anger/S010_004_00000018f.png 0.00000000 0.00000000 0.00000000 1.729981\n",
       "                             V4353     V4354      V4355      V4356     \n",
       "anger/S010_004_00000018a.png 0.0000000 0.00000000 0.00000000 0.00000000\n",
       "anger/S010_004_00000018b.png 0.0000000 0.00000000 0.00000000 0.00000000\n",
       "anger/S010_004_00000018c.png 0.0000000 0.00000000 0.00000000 0.02276161\n",
       "anger/S010_004_00000018d.png 0.0000000 0.00000000 0.01253512 0.00000000\n",
       "anger/S010_004_00000018e.png 0.1892281 0.01707658 0.00000000 0.11284056\n",
       "anger/S010_004_00000018f.png 0.6522614 0.17142340 0.12841031 0.17112145"
      ]
     },
     "metadata": {},
     "output_type": "display_data"
    }
   ],
   "source": [
    "# Converting matrix into a tibble\n",
    "features <- features_df %>%\n",
    "    as_tibble \n",
    "\n",
    "NearZeroVar <- function(data, threshold) {\n",
    "    # Find features with near zero variance\n",
    "    nzv <- data %>%\n",
    "        summarise_if(is.numeric, var, na.rm = TRUE)\n",
    "    \n",
    "    # Features with nzv\n",
    "    is_nzv <- nzv < threshold\n",
    "    \n",
    "    # Some features have NaN variance and must be removed manually\n",
    "    is_nzv[is.na(is_nzv)] <- TRUE\n",
    "    \n",
    "    nzv <- colnames(nzv)[is_nzv] \n",
    "    \n",
    "    return(nzv)\n",
    "}\n",
    "\n",
    "# Removing near zero variance features\n",
    "features_nzv <- features %>%\n",
    "    select(-all_of(NearZeroVar(features, .01)))\n",
    "\n",
    "# Removing \"id\" for further processing\n",
    "features_nzv <- features_nzv[, -which(names(features_nzv) == \"id\")]\n",
    "\n",
    "head(features_nzv)\n",
    "head(features_df)"
   ]
  },
  {
   "cell_type": "markdown",
   "id": "041dc3e5",
   "metadata": {
    "papermill": {
     "duration": 0.019156,
     "end_time": "2023-10-19T09:53:53.522889",
     "exception": false,
     "start_time": "2023-10-19T09:53:53.503733",
     "status": "completed"
    },
    "tags": []
   },
   "source": [
    "### Removing High Correlations\n",
    "\n",
    "Removing one of the highly correlated features can often improve model performance by reducing noise and simplifying the relationships that the model needs to learn. It also reduces the chance of overfitting the model, improves interpretability since it becomes more parsimonious and becomes for efficient since it has less predictors to process. For this we will use the findCorrelation function from the Caret package. "
   ]
  },
  {
   "cell_type": "code",
   "execution_count": 21,
   "id": "3cd5c525",
   "metadata": {
    "execution": {
     "iopub.execute_input": "2023-10-19T09:53:53.568004Z",
     "iopub.status.busy": "2023-10-19T09:53:53.565955Z",
     "iopub.status.idle": "2023-10-19T09:55:15.667519Z",
     "shell.execute_reply": "2023-10-19T09:55:15.665686Z"
    },
    "papermill": {
     "duration": 82.126545,
     "end_time": "2023-10-19T09:55:15.670389",
     "exception": false,
     "start_time": "2023-10-19T09:53:53.543844",
     "status": "completed"
    },
    "tags": []
   },
   "outputs": [
    {
     "data": {
      "text/html": [
       "<table class=\"dataframe\">\n",
       "<caption>A tibble: 6 × 3761</caption>\n",
       "<thead>\n",
       "\t<tr><th scope=col>p4</th><th scope=col>p5</th><th scope=col>p6</th><th scope=col>p7</th><th scope=col>p8</th><th scope=col>p9</th><th scope=col>p10</th><th scope=col>p11</th><th scope=col>p12</th><th scope=col>p13</th><th scope=col>⋯</th><th scope=col>V3952</th><th scope=col>V3954</th><th scope=col>V3955</th><th scope=col>V3956</th><th scope=col>V3957</th><th scope=col>V3958</th><th scope=col>V3960</th><th scope=col>V4312</th><th scope=col>V4316</th><th scope=col>V4320</th></tr>\n",
       "\t<tr><th scope=col>&lt;dbl&gt;</th><th scope=col>&lt;dbl&gt;</th><th scope=col>&lt;dbl&gt;</th><th scope=col>&lt;dbl&gt;</th><th scope=col>&lt;dbl&gt;</th><th scope=col>&lt;dbl&gt;</th><th scope=col>&lt;dbl&gt;</th><th scope=col>&lt;dbl&gt;</th><th scope=col>&lt;dbl&gt;</th><th scope=col>&lt;dbl&gt;</th><th scope=col>⋯</th><th scope=col>&lt;dbl&gt;</th><th scope=col>&lt;dbl&gt;</th><th scope=col>&lt;dbl&gt;</th><th scope=col>&lt;dbl&gt;</th><th scope=col>&lt;dbl&gt;</th><th scope=col>&lt;dbl&gt;</th><th scope=col>&lt;dbl&gt;</th><th scope=col>&lt;dbl&gt;</th><th scope=col>&lt;dbl&gt;</th><th scope=col>&lt;dbl&gt;</th></tr>\n",
       "</thead>\n",
       "<tbody>\n",
       "\t<tr><td>0.01960784</td><td>0.03137255</td><td>0.05490196</td><td>0.05882353</td><td>0.07450980</td><td>0.06666667</td><td>0.04705882</td><td>0.05490196</td><td>0.05882353</td><td>0.05098039</td><td>⋯</td><td>0.4103944</td><td>0.007870108</td><td>0.24455542</td><td>0.9987282</td><td>0.008657012</td><td>0.014303614</td><td>0.00000000</td><td>3.37830770</td><td>0.41753984</td><td>0.22643470</td></tr>\n",
       "\t<tr><td>0.05490196</td><td>0.03921569</td><td>0.03921569</td><td>0.03921569</td><td>0.04313725</td><td>0.04313725</td><td>0.04313725</td><td>0.04705882</td><td>0.04705882</td><td>0.04705882</td><td>⋯</td><td>8.8139679</td><td>0.008318903</td><td>0.59044770</td><td>0.9626368</td><td>0.003012070</td><td>0.005545936</td><td>0.25888500</td><td>1.80784314</td><td>0.00000000</td><td>0.00000000</td></tr>\n",
       "\t<tr><td>0.05882353</td><td>0.07058824</td><td>0.08235294</td><td>0.08627451</td><td>0.08627451</td><td>0.07450980</td><td>0.06666667</td><td>0.05490196</td><td>0.04705882</td><td>0.04705882</td><td>⋯</td><td>0.0000000</td><td>0.000000000</td><td>0.00000000</td><td>2.0000000</td><td>0.125375488</td><td>0.089290853</td><td>0.00000000</td><td>3.89933083</td><td>0.27674859</td><td>0.01123473</td></tr>\n",
       "\t<tr><td>0.04313725</td><td>0.02745098</td><td>0.02745098</td><td>0.03529412</td><td>0.02745098</td><td>0.03137255</td><td>0.04313725</td><td>0.04705882</td><td>0.05490196</td><td>0.05098039</td><td>⋯</td><td>0.0000000</td><td>0.000000000</td><td>0.03205353</td><td>1.3040623</td><td>0.074845103</td><td>0.000000000</td><td>0.00000000</td><td>3.43226629</td><td>0.27584612</td><td>0.04498204</td></tr>\n",
       "\t<tr><td>1.00000000</td><td>1.00000000</td><td>1.00000000</td><td>1.00000000</td><td>1.00000000</td><td>1.00000000</td><td>1.00000000</td><td>1.00000000</td><td>1.00000000</td><td>1.00000000</td><td>⋯</td><td>3.7499569</td><td>0.002608770</td><td>0.66892444</td><td>0.6309269</td><td>0.000000000</td><td>0.074868221</td><td>0.09052695</td><td>0.00000000</td><td>0.50015522</td><td>0.00000000</td></tr>\n",
       "\t<tr><td>1.00000000</td><td>1.00000000</td><td>1.00000000</td><td>1.00000000</td><td>1.00000000</td><td>1.00000000</td><td>1.00000000</td><td>1.00000000</td><td>1.00000000</td><td>1.00000000</td><td>⋯</td><td>0.0000000</td><td>0.037809758</td><td>0.77322026</td><td>1.6471186</td><td>0.000000000</td><td>0.000000000</td><td>0.00000000</td><td>0.01568627</td><td>0.04474494</td><td>0.00000000</td></tr>\n",
       "</tbody>\n",
       "</table>\n"
      ],
      "text/latex": [
       "A tibble: 6 × 3761\n",
       "\\begin{tabular}{lllllllllllllllllllll}\n",
       " p4 & p5 & p6 & p7 & p8 & p9 & p10 & p11 & p12 & p13 & ⋯ & V3952 & V3954 & V3955 & V3956 & V3957 & V3958 & V3960 & V4312 & V4316 & V4320\\\\\n",
       " <dbl> & <dbl> & <dbl> & <dbl> & <dbl> & <dbl> & <dbl> & <dbl> & <dbl> & <dbl> & ⋯ & <dbl> & <dbl> & <dbl> & <dbl> & <dbl> & <dbl> & <dbl> & <dbl> & <dbl> & <dbl>\\\\\n",
       "\\hline\n",
       "\t 0.01960784 & 0.03137255 & 0.05490196 & 0.05882353 & 0.07450980 & 0.06666667 & 0.04705882 & 0.05490196 & 0.05882353 & 0.05098039 & ⋯ & 0.4103944 & 0.007870108 & 0.24455542 & 0.9987282 & 0.008657012 & 0.014303614 & 0.00000000 & 3.37830770 & 0.41753984 & 0.22643470\\\\\n",
       "\t 0.05490196 & 0.03921569 & 0.03921569 & 0.03921569 & 0.04313725 & 0.04313725 & 0.04313725 & 0.04705882 & 0.04705882 & 0.04705882 & ⋯ & 8.8139679 & 0.008318903 & 0.59044770 & 0.9626368 & 0.003012070 & 0.005545936 & 0.25888500 & 1.80784314 & 0.00000000 & 0.00000000\\\\\n",
       "\t 0.05882353 & 0.07058824 & 0.08235294 & 0.08627451 & 0.08627451 & 0.07450980 & 0.06666667 & 0.05490196 & 0.04705882 & 0.04705882 & ⋯ & 0.0000000 & 0.000000000 & 0.00000000 & 2.0000000 & 0.125375488 & 0.089290853 & 0.00000000 & 3.89933083 & 0.27674859 & 0.01123473\\\\\n",
       "\t 0.04313725 & 0.02745098 & 0.02745098 & 0.03529412 & 0.02745098 & 0.03137255 & 0.04313725 & 0.04705882 & 0.05490196 & 0.05098039 & ⋯ & 0.0000000 & 0.000000000 & 0.03205353 & 1.3040623 & 0.074845103 & 0.000000000 & 0.00000000 & 3.43226629 & 0.27584612 & 0.04498204\\\\\n",
       "\t 1.00000000 & 1.00000000 & 1.00000000 & 1.00000000 & 1.00000000 & 1.00000000 & 1.00000000 & 1.00000000 & 1.00000000 & 1.00000000 & ⋯ & 3.7499569 & 0.002608770 & 0.66892444 & 0.6309269 & 0.000000000 & 0.074868221 & 0.09052695 & 0.00000000 & 0.50015522 & 0.00000000\\\\\n",
       "\t 1.00000000 & 1.00000000 & 1.00000000 & 1.00000000 & 1.00000000 & 1.00000000 & 1.00000000 & 1.00000000 & 1.00000000 & 1.00000000 & ⋯ & 0.0000000 & 0.037809758 & 0.77322026 & 1.6471186 & 0.000000000 & 0.000000000 & 0.00000000 & 0.01568627 & 0.04474494 & 0.00000000\\\\\n",
       "\\end{tabular}\n"
      ],
      "text/markdown": [
       "\n",
       "A tibble: 6 × 3761\n",
       "\n",
       "| p4 &lt;dbl&gt; | p5 &lt;dbl&gt; | p6 &lt;dbl&gt; | p7 &lt;dbl&gt; | p8 &lt;dbl&gt; | p9 &lt;dbl&gt; | p10 &lt;dbl&gt; | p11 &lt;dbl&gt; | p12 &lt;dbl&gt; | p13 &lt;dbl&gt; | ⋯ ⋯ | V3952 &lt;dbl&gt; | V3954 &lt;dbl&gt; | V3955 &lt;dbl&gt; | V3956 &lt;dbl&gt; | V3957 &lt;dbl&gt; | V3958 &lt;dbl&gt; | V3960 &lt;dbl&gt; | V4312 &lt;dbl&gt; | V4316 &lt;dbl&gt; | V4320 &lt;dbl&gt; |\n",
       "|---|---|---|---|---|---|---|---|---|---|---|---|---|---|---|---|---|---|---|---|---|\n",
       "| 0.01960784 | 0.03137255 | 0.05490196 | 0.05882353 | 0.07450980 | 0.06666667 | 0.04705882 | 0.05490196 | 0.05882353 | 0.05098039 | ⋯ | 0.4103944 | 0.007870108 | 0.24455542 | 0.9987282 | 0.008657012 | 0.014303614 | 0.00000000 | 3.37830770 | 0.41753984 | 0.22643470 |\n",
       "| 0.05490196 | 0.03921569 | 0.03921569 | 0.03921569 | 0.04313725 | 0.04313725 | 0.04313725 | 0.04705882 | 0.04705882 | 0.04705882 | ⋯ | 8.8139679 | 0.008318903 | 0.59044770 | 0.9626368 | 0.003012070 | 0.005545936 | 0.25888500 | 1.80784314 | 0.00000000 | 0.00000000 |\n",
       "| 0.05882353 | 0.07058824 | 0.08235294 | 0.08627451 | 0.08627451 | 0.07450980 | 0.06666667 | 0.05490196 | 0.04705882 | 0.04705882 | ⋯ | 0.0000000 | 0.000000000 | 0.00000000 | 2.0000000 | 0.125375488 | 0.089290853 | 0.00000000 | 3.89933083 | 0.27674859 | 0.01123473 |\n",
       "| 0.04313725 | 0.02745098 | 0.02745098 | 0.03529412 | 0.02745098 | 0.03137255 | 0.04313725 | 0.04705882 | 0.05490196 | 0.05098039 | ⋯ | 0.0000000 | 0.000000000 | 0.03205353 | 1.3040623 | 0.074845103 | 0.000000000 | 0.00000000 | 3.43226629 | 0.27584612 | 0.04498204 |\n",
       "| 1.00000000 | 1.00000000 | 1.00000000 | 1.00000000 | 1.00000000 | 1.00000000 | 1.00000000 | 1.00000000 | 1.00000000 | 1.00000000 | ⋯ | 3.7499569 | 0.002608770 | 0.66892444 | 0.6309269 | 0.000000000 | 0.074868221 | 0.09052695 | 0.00000000 | 0.50015522 | 0.00000000 |\n",
       "| 1.00000000 | 1.00000000 | 1.00000000 | 1.00000000 | 1.00000000 | 1.00000000 | 1.00000000 | 1.00000000 | 1.00000000 | 1.00000000 | ⋯ | 0.0000000 | 0.037809758 | 0.77322026 | 1.6471186 | 0.000000000 | 0.000000000 | 0.00000000 | 0.01568627 | 0.04474494 | 0.00000000 |\n",
       "\n"
      ],
      "text/plain": [
       "  p4         p5         p6         p7         p8         p9         p10       \n",
       "1 0.01960784 0.03137255 0.05490196 0.05882353 0.07450980 0.06666667 0.04705882\n",
       "2 0.05490196 0.03921569 0.03921569 0.03921569 0.04313725 0.04313725 0.04313725\n",
       "3 0.05882353 0.07058824 0.08235294 0.08627451 0.08627451 0.07450980 0.06666667\n",
       "4 0.04313725 0.02745098 0.02745098 0.03529412 0.02745098 0.03137255 0.04313725\n",
       "5 1.00000000 1.00000000 1.00000000 1.00000000 1.00000000 1.00000000 1.00000000\n",
       "6 1.00000000 1.00000000 1.00000000 1.00000000 1.00000000 1.00000000 1.00000000\n",
       "  p11        p12        p13        ⋯ V3952     V3954       V3955      V3956    \n",
       "1 0.05490196 0.05882353 0.05098039 ⋯ 0.4103944 0.007870108 0.24455542 0.9987282\n",
       "2 0.04705882 0.04705882 0.04705882 ⋯ 8.8139679 0.008318903 0.59044770 0.9626368\n",
       "3 0.05490196 0.04705882 0.04705882 ⋯ 0.0000000 0.000000000 0.00000000 2.0000000\n",
       "4 0.04705882 0.05490196 0.05098039 ⋯ 0.0000000 0.000000000 0.03205353 1.3040623\n",
       "5 1.00000000 1.00000000 1.00000000 ⋯ 3.7499569 0.002608770 0.66892444 0.6309269\n",
       "6 1.00000000 1.00000000 1.00000000 ⋯ 0.0000000 0.037809758 0.77322026 1.6471186\n",
       "  V3957       V3958       V3960      V4312      V4316      V4320     \n",
       "1 0.008657012 0.014303614 0.00000000 3.37830770 0.41753984 0.22643470\n",
       "2 0.003012070 0.005545936 0.25888500 1.80784314 0.00000000 0.00000000\n",
       "3 0.125375488 0.089290853 0.00000000 3.89933083 0.27674859 0.01123473\n",
       "4 0.074845103 0.000000000 0.00000000 3.43226629 0.27584612 0.04498204\n",
       "5 0.000000000 0.074868221 0.09052695 0.00000000 0.50015522 0.00000000\n",
       "6 0.000000000 0.000000000 0.00000000 0.01568627 0.04474494 0.00000000"
      ]
     },
     "metadata": {},
     "output_type": "display_data"
    },
    {
     "data": {
      "text/html": [
       "<table class=\"dataframe\">\n",
       "<caption>A tibble: 6 × 4601</caption>\n",
       "<thead>\n",
       "\t<tr><th scope=col>p1</th><th scope=col>p2</th><th scope=col>p3</th><th scope=col>p4</th><th scope=col>p5</th><th scope=col>p6</th><th scope=col>p7</th><th scope=col>p8</th><th scope=col>p9</th><th scope=col>p10</th><th scope=col>⋯</th><th scope=col>V4338</th><th scope=col>V4339</th><th scope=col>V4343</th><th scope=col>V4347</th><th scope=col>V4348</th><th scope=col>V4350</th><th scope=col>V4351</th><th scope=col>V4352</th><th scope=col>V4353</th><th scope=col>V4356</th></tr>\n",
       "\t<tr><th scope=col>&lt;dbl&gt;</th><th scope=col>&lt;dbl&gt;</th><th scope=col>&lt;dbl&gt;</th><th scope=col>&lt;dbl&gt;</th><th scope=col>&lt;dbl&gt;</th><th scope=col>&lt;dbl&gt;</th><th scope=col>&lt;dbl&gt;</th><th scope=col>&lt;dbl&gt;</th><th scope=col>&lt;dbl&gt;</th><th scope=col>&lt;dbl&gt;</th><th scope=col>⋯</th><th scope=col>&lt;dbl&gt;</th><th scope=col>&lt;dbl&gt;</th><th scope=col>&lt;dbl&gt;</th><th scope=col>&lt;dbl&gt;</th><th scope=col>&lt;dbl&gt;</th><th scope=col>&lt;dbl&gt;</th><th scope=col>&lt;dbl&gt;</th><th scope=col>&lt;dbl&gt;</th><th scope=col>&lt;dbl&gt;</th><th scope=col>&lt;dbl&gt;</th></tr>\n",
       "</thead>\n",
       "<tbody>\n",
       "\t<tr><td>0.06666667</td><td>0.04705882</td><td>0.03529412</td><td>0.01960784</td><td>0.03137255</td><td>0.05490196</td><td>0.05882353</td><td>0.07450980</td><td>0.06666667</td><td>0.04705882</td><td>⋯</td><td>0.00000000</td><td>3.37830770</td><td>0.41753984</td><td>0.22643470</td><td>0.004891986</td><td>0.00521754</td><td>0.03021610</td><td>1.295366</td><td>0.0000000</td><td>0.00000000</td></tr>\n",
       "\t<tr><td>0.06274510</td><td>0.07058824</td><td>0.07058824</td><td>0.05490196</td><td>0.03921569</td><td>0.03921569</td><td>0.03921569</td><td>0.04313725</td><td>0.04313725</td><td>0.04313725</td><td>⋯</td><td>0.25888500</td><td>1.80784314</td><td>0.00000000</td><td>0.00000000</td><td>0.184313725</td><td>0.00000000</td><td>0.00000000</td><td>2.022485</td><td>0.0000000</td><td>0.00000000</td></tr>\n",
       "\t<tr><td>0.00000000</td><td>0.04705882</td><td>0.04705882</td><td>0.05882353</td><td>0.07058824</td><td>0.08235294</td><td>0.08627451</td><td>0.08627451</td><td>0.07450980</td><td>0.06666667</td><td>⋯</td><td>0.00000000</td><td>3.89933083</td><td>0.27674859</td><td>0.01123473</td><td>0.242026578</td><td>0.00000000</td><td>0.00000000</td><td>2.000000</td><td>0.0000000</td><td>0.02276161</td></tr>\n",
       "\t<tr><td>1.00000000</td><td>0.94901961</td><td>0.02352941</td><td>0.04313725</td><td>0.02745098</td><td>0.02745098</td><td>0.03529412</td><td>0.02745098</td><td>0.03137255</td><td>0.04313725</td><td>⋯</td><td>0.00000000</td><td>3.43226629</td><td>0.27584612</td><td>0.04498204</td><td>1.048827838</td><td>0.00782631</td><td>0.52104717</td><td>1.101550</td><td>0.0000000</td><td>0.00000000</td></tr>\n",
       "\t<tr><td>1.00000000</td><td>1.00000000</td><td>1.00000000</td><td>1.00000000</td><td>1.00000000</td><td>1.00000000</td><td>1.00000000</td><td>1.00000000</td><td>1.00000000</td><td>1.00000000</td><td>⋯</td><td>0.09052695</td><td>0.00000000</td><td>0.50015522</td><td>0.00000000</td><td>2.093298350</td><td>0.00260877</td><td>0.01706445</td><td>1.260663</td><td>0.1892281</td><td>0.11284056</td></tr>\n",
       "\t<tr><td>1.00000000</td><td>1.00000000</td><td>1.00000000</td><td>1.00000000</td><td>1.00000000</td><td>1.00000000</td><td>1.00000000</td><td>1.00000000</td><td>1.00000000</td><td>1.00000000</td><td>⋯</td><td>0.00000000</td><td>0.01568627</td><td>0.04474494</td><td>0.00000000</td><td>1.629143687</td><td>0.00000000</td><td>0.00000000</td><td>1.729981</td><td>0.6522614</td><td>0.17112145</td></tr>\n",
       "</tbody>\n",
       "</table>\n"
      ],
      "text/latex": [
       "A tibble: 6 × 4601\n",
       "\\begin{tabular}{lllllllllllllllllllll}\n",
       " p1 & p2 & p3 & p4 & p5 & p6 & p7 & p8 & p9 & p10 & ⋯ & V4338 & V4339 & V4343 & V4347 & V4348 & V4350 & V4351 & V4352 & V4353 & V4356\\\\\n",
       " <dbl> & <dbl> & <dbl> & <dbl> & <dbl> & <dbl> & <dbl> & <dbl> & <dbl> & <dbl> & ⋯ & <dbl> & <dbl> & <dbl> & <dbl> & <dbl> & <dbl> & <dbl> & <dbl> & <dbl> & <dbl>\\\\\n",
       "\\hline\n",
       "\t 0.06666667 & 0.04705882 & 0.03529412 & 0.01960784 & 0.03137255 & 0.05490196 & 0.05882353 & 0.07450980 & 0.06666667 & 0.04705882 & ⋯ & 0.00000000 & 3.37830770 & 0.41753984 & 0.22643470 & 0.004891986 & 0.00521754 & 0.03021610 & 1.295366 & 0.0000000 & 0.00000000\\\\\n",
       "\t 0.06274510 & 0.07058824 & 0.07058824 & 0.05490196 & 0.03921569 & 0.03921569 & 0.03921569 & 0.04313725 & 0.04313725 & 0.04313725 & ⋯ & 0.25888500 & 1.80784314 & 0.00000000 & 0.00000000 & 0.184313725 & 0.00000000 & 0.00000000 & 2.022485 & 0.0000000 & 0.00000000\\\\\n",
       "\t 0.00000000 & 0.04705882 & 0.04705882 & 0.05882353 & 0.07058824 & 0.08235294 & 0.08627451 & 0.08627451 & 0.07450980 & 0.06666667 & ⋯ & 0.00000000 & 3.89933083 & 0.27674859 & 0.01123473 & 0.242026578 & 0.00000000 & 0.00000000 & 2.000000 & 0.0000000 & 0.02276161\\\\\n",
       "\t 1.00000000 & 0.94901961 & 0.02352941 & 0.04313725 & 0.02745098 & 0.02745098 & 0.03529412 & 0.02745098 & 0.03137255 & 0.04313725 & ⋯ & 0.00000000 & 3.43226629 & 0.27584612 & 0.04498204 & 1.048827838 & 0.00782631 & 0.52104717 & 1.101550 & 0.0000000 & 0.00000000\\\\\n",
       "\t 1.00000000 & 1.00000000 & 1.00000000 & 1.00000000 & 1.00000000 & 1.00000000 & 1.00000000 & 1.00000000 & 1.00000000 & 1.00000000 & ⋯ & 0.09052695 & 0.00000000 & 0.50015522 & 0.00000000 & 2.093298350 & 0.00260877 & 0.01706445 & 1.260663 & 0.1892281 & 0.11284056\\\\\n",
       "\t 1.00000000 & 1.00000000 & 1.00000000 & 1.00000000 & 1.00000000 & 1.00000000 & 1.00000000 & 1.00000000 & 1.00000000 & 1.00000000 & ⋯ & 0.00000000 & 0.01568627 & 0.04474494 & 0.00000000 & 1.629143687 & 0.00000000 & 0.00000000 & 1.729981 & 0.6522614 & 0.17112145\\\\\n",
       "\\end{tabular}\n"
      ],
      "text/markdown": [
       "\n",
       "A tibble: 6 × 4601\n",
       "\n",
       "| p1 &lt;dbl&gt; | p2 &lt;dbl&gt; | p3 &lt;dbl&gt; | p4 &lt;dbl&gt; | p5 &lt;dbl&gt; | p6 &lt;dbl&gt; | p7 &lt;dbl&gt; | p8 &lt;dbl&gt; | p9 &lt;dbl&gt; | p10 &lt;dbl&gt; | ⋯ ⋯ | V4338 &lt;dbl&gt; | V4339 &lt;dbl&gt; | V4343 &lt;dbl&gt; | V4347 &lt;dbl&gt; | V4348 &lt;dbl&gt; | V4350 &lt;dbl&gt; | V4351 &lt;dbl&gt; | V4352 &lt;dbl&gt; | V4353 &lt;dbl&gt; | V4356 &lt;dbl&gt; |\n",
       "|---|---|---|---|---|---|---|---|---|---|---|---|---|---|---|---|---|---|---|---|---|\n",
       "| 0.06666667 | 0.04705882 | 0.03529412 | 0.01960784 | 0.03137255 | 0.05490196 | 0.05882353 | 0.07450980 | 0.06666667 | 0.04705882 | ⋯ | 0.00000000 | 3.37830770 | 0.41753984 | 0.22643470 | 0.004891986 | 0.00521754 | 0.03021610 | 1.295366 | 0.0000000 | 0.00000000 |\n",
       "| 0.06274510 | 0.07058824 | 0.07058824 | 0.05490196 | 0.03921569 | 0.03921569 | 0.03921569 | 0.04313725 | 0.04313725 | 0.04313725 | ⋯ | 0.25888500 | 1.80784314 | 0.00000000 | 0.00000000 | 0.184313725 | 0.00000000 | 0.00000000 | 2.022485 | 0.0000000 | 0.00000000 |\n",
       "| 0.00000000 | 0.04705882 | 0.04705882 | 0.05882353 | 0.07058824 | 0.08235294 | 0.08627451 | 0.08627451 | 0.07450980 | 0.06666667 | ⋯ | 0.00000000 | 3.89933083 | 0.27674859 | 0.01123473 | 0.242026578 | 0.00000000 | 0.00000000 | 2.000000 | 0.0000000 | 0.02276161 |\n",
       "| 1.00000000 | 0.94901961 | 0.02352941 | 0.04313725 | 0.02745098 | 0.02745098 | 0.03529412 | 0.02745098 | 0.03137255 | 0.04313725 | ⋯ | 0.00000000 | 3.43226629 | 0.27584612 | 0.04498204 | 1.048827838 | 0.00782631 | 0.52104717 | 1.101550 | 0.0000000 | 0.00000000 |\n",
       "| 1.00000000 | 1.00000000 | 1.00000000 | 1.00000000 | 1.00000000 | 1.00000000 | 1.00000000 | 1.00000000 | 1.00000000 | 1.00000000 | ⋯ | 0.09052695 | 0.00000000 | 0.50015522 | 0.00000000 | 2.093298350 | 0.00260877 | 0.01706445 | 1.260663 | 0.1892281 | 0.11284056 |\n",
       "| 1.00000000 | 1.00000000 | 1.00000000 | 1.00000000 | 1.00000000 | 1.00000000 | 1.00000000 | 1.00000000 | 1.00000000 | 1.00000000 | ⋯ | 0.00000000 | 0.01568627 | 0.04474494 | 0.00000000 | 1.629143687 | 0.00000000 | 0.00000000 | 1.729981 | 0.6522614 | 0.17112145 |\n",
       "\n"
      ],
      "text/plain": [
       "  p1         p2         p3         p4         p5         p6         p7        \n",
       "1 0.06666667 0.04705882 0.03529412 0.01960784 0.03137255 0.05490196 0.05882353\n",
       "2 0.06274510 0.07058824 0.07058824 0.05490196 0.03921569 0.03921569 0.03921569\n",
       "3 0.00000000 0.04705882 0.04705882 0.05882353 0.07058824 0.08235294 0.08627451\n",
       "4 1.00000000 0.94901961 0.02352941 0.04313725 0.02745098 0.02745098 0.03529412\n",
       "5 1.00000000 1.00000000 1.00000000 1.00000000 1.00000000 1.00000000 1.00000000\n",
       "6 1.00000000 1.00000000 1.00000000 1.00000000 1.00000000 1.00000000 1.00000000\n",
       "  p8         p9         p10        ⋯ V4338      V4339      V4343     \n",
       "1 0.07450980 0.06666667 0.04705882 ⋯ 0.00000000 3.37830770 0.41753984\n",
       "2 0.04313725 0.04313725 0.04313725 ⋯ 0.25888500 1.80784314 0.00000000\n",
       "3 0.08627451 0.07450980 0.06666667 ⋯ 0.00000000 3.89933083 0.27674859\n",
       "4 0.02745098 0.03137255 0.04313725 ⋯ 0.00000000 3.43226629 0.27584612\n",
       "5 1.00000000 1.00000000 1.00000000 ⋯ 0.09052695 0.00000000 0.50015522\n",
       "6 1.00000000 1.00000000 1.00000000 ⋯ 0.00000000 0.01568627 0.04474494\n",
       "  V4347      V4348       V4350      V4351      V4352    V4353     V4356     \n",
       "1 0.22643470 0.004891986 0.00521754 0.03021610 1.295366 0.0000000 0.00000000\n",
       "2 0.00000000 0.184313725 0.00000000 0.00000000 2.022485 0.0000000 0.00000000\n",
       "3 0.01123473 0.242026578 0.00000000 0.00000000 2.000000 0.0000000 0.02276161\n",
       "4 0.04498204 1.048827838 0.00782631 0.52104717 1.101550 0.0000000 0.00000000\n",
       "5 0.00000000 2.093298350 0.00260877 0.01706445 1.260663 0.1892281 0.11284056\n",
       "6 0.00000000 1.629143687 0.00000000 0.00000000 1.729981 0.6522614 0.17112145"
      ]
     },
     "metadata": {},
     "output_type": "display_data"
    },
    {
     "data": {
      "text/html": [
       "<table class=\"dataframe\">\n",
       "<caption>A data.frame: 6 × 6754</caption>\n",
       "<thead>\n",
       "\t<tr><th></th><th scope=col>p1</th><th scope=col>p2</th><th scope=col>p3</th><th scope=col>p4</th><th scope=col>p5</th><th scope=col>p6</th><th scope=col>p7</th><th scope=col>p8</th><th scope=col>p9</th><th scope=col>p10</th><th scope=col>⋯</th><th scope=col>V4347</th><th scope=col>V4348</th><th scope=col>V4349</th><th scope=col>V4350</th><th scope=col>V4351</th><th scope=col>V4352</th><th scope=col>V4353</th><th scope=col>V4354</th><th scope=col>V4355</th><th scope=col>V4356</th></tr>\n",
       "\t<tr><th></th><th scope=col>&lt;dbl&gt;</th><th scope=col>&lt;dbl&gt;</th><th scope=col>&lt;dbl&gt;</th><th scope=col>&lt;dbl&gt;</th><th scope=col>&lt;dbl&gt;</th><th scope=col>&lt;dbl&gt;</th><th scope=col>&lt;dbl&gt;</th><th scope=col>&lt;dbl&gt;</th><th scope=col>&lt;dbl&gt;</th><th scope=col>&lt;dbl&gt;</th><th scope=col>⋯</th><th scope=col>&lt;dbl&gt;</th><th scope=col>&lt;dbl&gt;</th><th scope=col>&lt;dbl&gt;</th><th scope=col>&lt;dbl&gt;</th><th scope=col>&lt;dbl&gt;</th><th scope=col>&lt;dbl&gt;</th><th scope=col>&lt;dbl&gt;</th><th scope=col>&lt;dbl&gt;</th><th scope=col>&lt;dbl&gt;</th><th scope=col>&lt;dbl&gt;</th></tr>\n",
       "</thead>\n",
       "<tbody>\n",
       "\t<tr><th scope=row>anger/S010_004_00000018a.png</th><td>0.06666667</td><td>0.04705882</td><td>0.03529412</td><td>0.01960784</td><td>0.03137255</td><td>0.05490196</td><td>0.05882353</td><td>0.07450980</td><td>0.06666667</td><td>0.04705882</td><td>⋯</td><td>0.22643470</td><td>0.004891986</td><td>0.01767145</td><td>0.00521754</td><td>0.03021610</td><td>1.295366</td><td>0.0000000</td><td>0.00000000</td><td>0.00000000</td><td>0.00000000</td></tr>\n",
       "\t<tr><th scope=row>anger/S010_004_00000018b.png</th><td>0.06274510</td><td>0.07058824</td><td>0.07058824</td><td>0.05490196</td><td>0.03921569</td><td>0.03921569</td><td>0.03921569</td><td>0.04313725</td><td>0.04313725</td><td>0.04313725</td><td>⋯</td><td>0.00000000</td><td>0.184313725</td><td>0.00000000</td><td>0.00000000</td><td>0.00000000</td><td>2.022485</td><td>0.0000000</td><td>0.00000000</td><td>0.00000000</td><td>0.00000000</td></tr>\n",
       "\t<tr><th scope=row>anger/S010_004_00000018c.png</th><td>0.00000000</td><td>0.04705882</td><td>0.04705882</td><td>0.05882353</td><td>0.07058824</td><td>0.08235294</td><td>0.08627451</td><td>0.08627451</td><td>0.07450980</td><td>0.06666667</td><td>⋯</td><td>0.01123473</td><td>0.242026578</td><td>0.00000000</td><td>0.00000000</td><td>0.00000000</td><td>2.000000</td><td>0.0000000</td><td>0.00000000</td><td>0.00000000</td><td>0.02276161</td></tr>\n",
       "\t<tr><th scope=row>anger/S010_004_00000018d.png</th><td>1.00000000</td><td>0.94901961</td><td>0.02352941</td><td>0.04313725</td><td>0.02745098</td><td>0.02745098</td><td>0.03529412</td><td>0.02745098</td><td>0.03137255</td><td>0.04313725</td><td>⋯</td><td>0.04498204</td><td>1.048827838</td><td>0.03694474</td><td>0.00782631</td><td>0.52104717</td><td>1.101550</td><td>0.0000000</td><td>0.00000000</td><td>0.01253512</td><td>0.00000000</td></tr>\n",
       "\t<tr><th scope=row>anger/S010_004_00000018e.png</th><td>1.00000000</td><td>1.00000000</td><td>1.00000000</td><td>1.00000000</td><td>1.00000000</td><td>1.00000000</td><td>1.00000000</td><td>1.00000000</td><td>1.00000000</td><td>1.00000000</td><td>⋯</td><td>0.00000000</td><td>2.093298350</td><td>0.00000000</td><td>0.00260877</td><td>0.01706445</td><td>1.260663</td><td>0.1892281</td><td>0.01707658</td><td>0.00000000</td><td>0.11284056</td></tr>\n",
       "\t<tr><th scope=row>anger/S010_004_00000018f.png</th><td>1.00000000</td><td>1.00000000</td><td>1.00000000</td><td>1.00000000</td><td>1.00000000</td><td>1.00000000</td><td>1.00000000</td><td>1.00000000</td><td>1.00000000</td><td>1.00000000</td><td>⋯</td><td>0.00000000</td><td>1.629143687</td><td>0.00000000</td><td>0.00000000</td><td>0.00000000</td><td>1.729981</td><td>0.6522614</td><td>0.17142340</td><td>0.12841031</td><td>0.17112145</td></tr>\n",
       "</tbody>\n",
       "</table>\n"
      ],
      "text/latex": [
       "A data.frame: 6 × 6754\n",
       "\\begin{tabular}{r|lllllllllllllllllllll}\n",
       "  & p1 & p2 & p3 & p4 & p5 & p6 & p7 & p8 & p9 & p10 & ⋯ & V4347 & V4348 & V4349 & V4350 & V4351 & V4352 & V4353 & V4354 & V4355 & V4356\\\\\n",
       "  & <dbl> & <dbl> & <dbl> & <dbl> & <dbl> & <dbl> & <dbl> & <dbl> & <dbl> & <dbl> & ⋯ & <dbl> & <dbl> & <dbl> & <dbl> & <dbl> & <dbl> & <dbl> & <dbl> & <dbl> & <dbl>\\\\\n",
       "\\hline\n",
       "\tanger/S010\\_004\\_00000018a.png & 0.06666667 & 0.04705882 & 0.03529412 & 0.01960784 & 0.03137255 & 0.05490196 & 0.05882353 & 0.07450980 & 0.06666667 & 0.04705882 & ⋯ & 0.22643470 & 0.004891986 & 0.01767145 & 0.00521754 & 0.03021610 & 1.295366 & 0.0000000 & 0.00000000 & 0.00000000 & 0.00000000\\\\\n",
       "\tanger/S010\\_004\\_00000018b.png & 0.06274510 & 0.07058824 & 0.07058824 & 0.05490196 & 0.03921569 & 0.03921569 & 0.03921569 & 0.04313725 & 0.04313725 & 0.04313725 & ⋯ & 0.00000000 & 0.184313725 & 0.00000000 & 0.00000000 & 0.00000000 & 2.022485 & 0.0000000 & 0.00000000 & 0.00000000 & 0.00000000\\\\\n",
       "\tanger/S010\\_004\\_00000018c.png & 0.00000000 & 0.04705882 & 0.04705882 & 0.05882353 & 0.07058824 & 0.08235294 & 0.08627451 & 0.08627451 & 0.07450980 & 0.06666667 & ⋯ & 0.01123473 & 0.242026578 & 0.00000000 & 0.00000000 & 0.00000000 & 2.000000 & 0.0000000 & 0.00000000 & 0.00000000 & 0.02276161\\\\\n",
       "\tanger/S010\\_004\\_00000018d.png & 1.00000000 & 0.94901961 & 0.02352941 & 0.04313725 & 0.02745098 & 0.02745098 & 0.03529412 & 0.02745098 & 0.03137255 & 0.04313725 & ⋯ & 0.04498204 & 1.048827838 & 0.03694474 & 0.00782631 & 0.52104717 & 1.101550 & 0.0000000 & 0.00000000 & 0.01253512 & 0.00000000\\\\\n",
       "\tanger/S010\\_004\\_00000018e.png & 1.00000000 & 1.00000000 & 1.00000000 & 1.00000000 & 1.00000000 & 1.00000000 & 1.00000000 & 1.00000000 & 1.00000000 & 1.00000000 & ⋯ & 0.00000000 & 2.093298350 & 0.00000000 & 0.00260877 & 0.01706445 & 1.260663 & 0.1892281 & 0.01707658 & 0.00000000 & 0.11284056\\\\\n",
       "\tanger/S010\\_004\\_00000018f.png & 1.00000000 & 1.00000000 & 1.00000000 & 1.00000000 & 1.00000000 & 1.00000000 & 1.00000000 & 1.00000000 & 1.00000000 & 1.00000000 & ⋯ & 0.00000000 & 1.629143687 & 0.00000000 & 0.00000000 & 0.00000000 & 1.729981 & 0.6522614 & 0.17142340 & 0.12841031 & 0.17112145\\\\\n",
       "\\end{tabular}\n"
      ],
      "text/markdown": [
       "\n",
       "A data.frame: 6 × 6754\n",
       "\n",
       "| <!--/--> | p1 &lt;dbl&gt; | p2 &lt;dbl&gt; | p3 &lt;dbl&gt; | p4 &lt;dbl&gt; | p5 &lt;dbl&gt; | p6 &lt;dbl&gt; | p7 &lt;dbl&gt; | p8 &lt;dbl&gt; | p9 &lt;dbl&gt; | p10 &lt;dbl&gt; | ⋯ ⋯ | V4347 &lt;dbl&gt; | V4348 &lt;dbl&gt; | V4349 &lt;dbl&gt; | V4350 &lt;dbl&gt; | V4351 &lt;dbl&gt; | V4352 &lt;dbl&gt; | V4353 &lt;dbl&gt; | V4354 &lt;dbl&gt; | V4355 &lt;dbl&gt; | V4356 &lt;dbl&gt; |\n",
       "|---|---|---|---|---|---|---|---|---|---|---|---|---|---|---|---|---|---|---|---|---|---|\n",
       "| anger/S010_004_00000018a.png | 0.06666667 | 0.04705882 | 0.03529412 | 0.01960784 | 0.03137255 | 0.05490196 | 0.05882353 | 0.07450980 | 0.06666667 | 0.04705882 | ⋯ | 0.22643470 | 0.004891986 | 0.01767145 | 0.00521754 | 0.03021610 | 1.295366 | 0.0000000 | 0.00000000 | 0.00000000 | 0.00000000 |\n",
       "| anger/S010_004_00000018b.png | 0.06274510 | 0.07058824 | 0.07058824 | 0.05490196 | 0.03921569 | 0.03921569 | 0.03921569 | 0.04313725 | 0.04313725 | 0.04313725 | ⋯ | 0.00000000 | 0.184313725 | 0.00000000 | 0.00000000 | 0.00000000 | 2.022485 | 0.0000000 | 0.00000000 | 0.00000000 | 0.00000000 |\n",
       "| anger/S010_004_00000018c.png | 0.00000000 | 0.04705882 | 0.04705882 | 0.05882353 | 0.07058824 | 0.08235294 | 0.08627451 | 0.08627451 | 0.07450980 | 0.06666667 | ⋯ | 0.01123473 | 0.242026578 | 0.00000000 | 0.00000000 | 0.00000000 | 2.000000 | 0.0000000 | 0.00000000 | 0.00000000 | 0.02276161 |\n",
       "| anger/S010_004_00000018d.png | 1.00000000 | 0.94901961 | 0.02352941 | 0.04313725 | 0.02745098 | 0.02745098 | 0.03529412 | 0.02745098 | 0.03137255 | 0.04313725 | ⋯ | 0.04498204 | 1.048827838 | 0.03694474 | 0.00782631 | 0.52104717 | 1.101550 | 0.0000000 | 0.00000000 | 0.01253512 | 0.00000000 |\n",
       "| anger/S010_004_00000018e.png | 1.00000000 | 1.00000000 | 1.00000000 | 1.00000000 | 1.00000000 | 1.00000000 | 1.00000000 | 1.00000000 | 1.00000000 | 1.00000000 | ⋯ | 0.00000000 | 2.093298350 | 0.00000000 | 0.00260877 | 0.01706445 | 1.260663 | 0.1892281 | 0.01707658 | 0.00000000 | 0.11284056 |\n",
       "| anger/S010_004_00000018f.png | 1.00000000 | 1.00000000 | 1.00000000 | 1.00000000 | 1.00000000 | 1.00000000 | 1.00000000 | 1.00000000 | 1.00000000 | 1.00000000 | ⋯ | 0.00000000 | 1.629143687 | 0.00000000 | 0.00000000 | 0.00000000 | 1.729981 | 0.6522614 | 0.17142340 | 0.12841031 | 0.17112145 |\n",
       "\n"
      ],
      "text/plain": [
       "                             p1         p2         p3         p4        \n",
       "anger/S010_004_00000018a.png 0.06666667 0.04705882 0.03529412 0.01960784\n",
       "anger/S010_004_00000018b.png 0.06274510 0.07058824 0.07058824 0.05490196\n",
       "anger/S010_004_00000018c.png 0.00000000 0.04705882 0.04705882 0.05882353\n",
       "anger/S010_004_00000018d.png 1.00000000 0.94901961 0.02352941 0.04313725\n",
       "anger/S010_004_00000018e.png 1.00000000 1.00000000 1.00000000 1.00000000\n",
       "anger/S010_004_00000018f.png 1.00000000 1.00000000 1.00000000 1.00000000\n",
       "                             p5         p6         p7         p8        \n",
       "anger/S010_004_00000018a.png 0.03137255 0.05490196 0.05882353 0.07450980\n",
       "anger/S010_004_00000018b.png 0.03921569 0.03921569 0.03921569 0.04313725\n",
       "anger/S010_004_00000018c.png 0.07058824 0.08235294 0.08627451 0.08627451\n",
       "anger/S010_004_00000018d.png 0.02745098 0.02745098 0.03529412 0.02745098\n",
       "anger/S010_004_00000018e.png 1.00000000 1.00000000 1.00000000 1.00000000\n",
       "anger/S010_004_00000018f.png 1.00000000 1.00000000 1.00000000 1.00000000\n",
       "                             p9         p10        ⋯ V4347      V4348      \n",
       "anger/S010_004_00000018a.png 0.06666667 0.04705882 ⋯ 0.22643470 0.004891986\n",
       "anger/S010_004_00000018b.png 0.04313725 0.04313725 ⋯ 0.00000000 0.184313725\n",
       "anger/S010_004_00000018c.png 0.07450980 0.06666667 ⋯ 0.01123473 0.242026578\n",
       "anger/S010_004_00000018d.png 0.03137255 0.04313725 ⋯ 0.04498204 1.048827838\n",
       "anger/S010_004_00000018e.png 1.00000000 1.00000000 ⋯ 0.00000000 2.093298350\n",
       "anger/S010_004_00000018f.png 1.00000000 1.00000000 ⋯ 0.00000000 1.629143687\n",
       "                             V4349      V4350      V4351      V4352   \n",
       "anger/S010_004_00000018a.png 0.01767145 0.00521754 0.03021610 1.295366\n",
       "anger/S010_004_00000018b.png 0.00000000 0.00000000 0.00000000 2.022485\n",
       "anger/S010_004_00000018c.png 0.00000000 0.00000000 0.00000000 2.000000\n",
       "anger/S010_004_00000018d.png 0.03694474 0.00782631 0.52104717 1.101550\n",
       "anger/S010_004_00000018e.png 0.00000000 0.00260877 0.01706445 1.260663\n",
       "anger/S010_004_00000018f.png 0.00000000 0.00000000 0.00000000 1.729981\n",
       "                             V4353     V4354      V4355      V4356     \n",
       "anger/S010_004_00000018a.png 0.0000000 0.00000000 0.00000000 0.00000000\n",
       "anger/S010_004_00000018b.png 0.0000000 0.00000000 0.00000000 0.00000000\n",
       "anger/S010_004_00000018c.png 0.0000000 0.00000000 0.00000000 0.02276161\n",
       "anger/S010_004_00000018d.png 0.0000000 0.00000000 0.01253512 0.00000000\n",
       "anger/S010_004_00000018e.png 0.1892281 0.01707658 0.00000000 0.11284056\n",
       "anger/S010_004_00000018f.png 0.6522614 0.17142340 0.12841031 0.17112145"
      ]
     },
     "metadata": {},
     "output_type": "display_data"
    }
   ],
   "source": [
    "high_correlations <- caret::findCorrelation(cor(features_nzv[,-ncol(features_nzv)]))\n",
    "features_final_df <- features_nzv[,high_correlations]\n",
    "\n",
    "head(features_final_df)\n",
    "head(features_nzv)\n",
    "head(features_df)"
   ]
  },
  {
   "cell_type": "markdown",
   "id": "8ae3f586",
   "metadata": {
    "papermill": {
     "duration": 0.021423,
     "end_time": "2023-10-19T09:55:15.715608",
     "exception": false,
     "start_time": "2023-10-19T09:55:15.694185",
     "status": "completed"
    },
    "tags": []
   },
   "source": [
    "## 3.7 Resulting Final Feature Data Frame <a class=\"anchor\"  id=\"section3.7\"></a>\n",
    "\n",
    "We then construct the final feature data frame that will be used to fit our models."
   ]
  },
  {
   "cell_type": "code",
   "execution_count": 22,
   "id": "5202a59e",
   "metadata": {
    "execution": {
     "iopub.execute_input": "2023-10-19T09:55:15.763525Z",
     "iopub.status.busy": "2023-10-19T09:55:15.761775Z",
     "iopub.status.idle": "2023-10-19T09:55:17.342576Z",
     "shell.execute_reply": "2023-10-19T09:55:17.340694Z"
    },
    "papermill": {
     "duration": 1.608244,
     "end_time": "2023-10-19T09:55:17.344899",
     "exception": false,
     "start_time": "2023-10-19T09:55:15.736655",
     "status": "completed"
    },
    "tags": []
   },
   "outputs": [
    {
     "data": {
      "text/html": [
       "<table class=\"dataframe\">\n",
       "<caption>A data.frame: 6 × 3761</caption>\n",
       "<thead>\n",
       "\t<tr><th></th><th scope=col>p4</th><th scope=col>p5</th><th scope=col>p6</th><th scope=col>p7</th><th scope=col>p8</th><th scope=col>p9</th><th scope=col>p10</th><th scope=col>p11</th><th scope=col>p12</th><th scope=col>p13</th><th scope=col>⋯</th><th scope=col>V3952</th><th scope=col>V3954</th><th scope=col>V3955</th><th scope=col>V3956</th><th scope=col>V3957</th><th scope=col>V3958</th><th scope=col>V3960</th><th scope=col>V4312</th><th scope=col>V4316</th><th scope=col>V4320</th></tr>\n",
       "\t<tr><th></th><th scope=col>&lt;dbl&gt;</th><th scope=col>&lt;dbl&gt;</th><th scope=col>&lt;dbl&gt;</th><th scope=col>&lt;dbl&gt;</th><th scope=col>&lt;dbl&gt;</th><th scope=col>&lt;dbl&gt;</th><th scope=col>&lt;dbl&gt;</th><th scope=col>&lt;dbl&gt;</th><th scope=col>&lt;dbl&gt;</th><th scope=col>&lt;dbl&gt;</th><th scope=col>⋯</th><th scope=col>&lt;dbl&gt;</th><th scope=col>&lt;dbl&gt;</th><th scope=col>&lt;dbl&gt;</th><th scope=col>&lt;dbl&gt;</th><th scope=col>&lt;dbl&gt;</th><th scope=col>&lt;dbl&gt;</th><th scope=col>&lt;dbl&gt;</th><th scope=col>&lt;dbl&gt;</th><th scope=col>&lt;dbl&gt;</th><th scope=col>&lt;dbl&gt;</th></tr>\n",
       "</thead>\n",
       "<tbody>\n",
       "\t<tr><th scope=row>anger/S010_004_00000018a.png</th><td>0.01960784</td><td>0.03137255</td><td>0.05490196</td><td>0.05882353</td><td>0.07450980</td><td>0.06666667</td><td>0.04705882</td><td>0.05490196</td><td>0.05882353</td><td>0.05098039</td><td>⋯</td><td>0.4103944</td><td>0.007870108</td><td>0.24455542</td><td>0.9987282</td><td>0.008657012</td><td>0.014303614</td><td>0.00000000</td><td>3.37830770</td><td>0.41753984</td><td>0.22643470</td></tr>\n",
       "\t<tr><th scope=row>anger/S010_004_00000018b.png</th><td>0.05490196</td><td>0.03921569</td><td>0.03921569</td><td>0.03921569</td><td>0.04313725</td><td>0.04313725</td><td>0.04313725</td><td>0.04705882</td><td>0.04705882</td><td>0.04705882</td><td>⋯</td><td>8.8139679</td><td>0.008318903</td><td>0.59044770</td><td>0.9626368</td><td>0.003012070</td><td>0.005545936</td><td>0.25888500</td><td>1.80784314</td><td>0.00000000</td><td>0.00000000</td></tr>\n",
       "\t<tr><th scope=row>anger/S010_004_00000018c.png</th><td>0.05882353</td><td>0.07058824</td><td>0.08235294</td><td>0.08627451</td><td>0.08627451</td><td>0.07450980</td><td>0.06666667</td><td>0.05490196</td><td>0.04705882</td><td>0.04705882</td><td>⋯</td><td>0.0000000</td><td>0.000000000</td><td>0.00000000</td><td>2.0000000</td><td>0.125375488</td><td>0.089290853</td><td>0.00000000</td><td>3.89933083</td><td>0.27674859</td><td>0.01123473</td></tr>\n",
       "\t<tr><th scope=row>anger/S010_004_00000018d.png</th><td>0.04313725</td><td>0.02745098</td><td>0.02745098</td><td>0.03529412</td><td>0.02745098</td><td>0.03137255</td><td>0.04313725</td><td>0.04705882</td><td>0.05490196</td><td>0.05098039</td><td>⋯</td><td>0.0000000</td><td>0.000000000</td><td>0.03205353</td><td>1.3040623</td><td>0.074845103</td><td>0.000000000</td><td>0.00000000</td><td>3.43226629</td><td>0.27584612</td><td>0.04498204</td></tr>\n",
       "\t<tr><th scope=row>anger/S010_004_00000018e.png</th><td>1.00000000</td><td>1.00000000</td><td>1.00000000</td><td>1.00000000</td><td>1.00000000</td><td>1.00000000</td><td>1.00000000</td><td>1.00000000</td><td>1.00000000</td><td>1.00000000</td><td>⋯</td><td>3.7499569</td><td>0.002608770</td><td>0.66892444</td><td>0.6309269</td><td>0.000000000</td><td>0.074868221</td><td>0.09052695</td><td>0.00000000</td><td>0.50015522</td><td>0.00000000</td></tr>\n",
       "\t<tr><th scope=row>anger/S010_004_00000018f.png</th><td>1.00000000</td><td>1.00000000</td><td>1.00000000</td><td>1.00000000</td><td>1.00000000</td><td>1.00000000</td><td>1.00000000</td><td>1.00000000</td><td>1.00000000</td><td>1.00000000</td><td>⋯</td><td>0.0000000</td><td>0.037809758</td><td>0.77322026</td><td>1.6471186</td><td>0.000000000</td><td>0.000000000</td><td>0.00000000</td><td>0.01568627</td><td>0.04474494</td><td>0.00000000</td></tr>\n",
       "</tbody>\n",
       "</table>\n"
      ],
      "text/latex": [
       "A data.frame: 6 × 3761\n",
       "\\begin{tabular}{r|lllllllllllllllllllll}\n",
       "  & p4 & p5 & p6 & p7 & p8 & p9 & p10 & p11 & p12 & p13 & ⋯ & V3952 & V3954 & V3955 & V3956 & V3957 & V3958 & V3960 & V4312 & V4316 & V4320\\\\\n",
       "  & <dbl> & <dbl> & <dbl> & <dbl> & <dbl> & <dbl> & <dbl> & <dbl> & <dbl> & <dbl> & ⋯ & <dbl> & <dbl> & <dbl> & <dbl> & <dbl> & <dbl> & <dbl> & <dbl> & <dbl> & <dbl>\\\\\n",
       "\\hline\n",
       "\tanger/S010\\_004\\_00000018a.png & 0.01960784 & 0.03137255 & 0.05490196 & 0.05882353 & 0.07450980 & 0.06666667 & 0.04705882 & 0.05490196 & 0.05882353 & 0.05098039 & ⋯ & 0.4103944 & 0.007870108 & 0.24455542 & 0.9987282 & 0.008657012 & 0.014303614 & 0.00000000 & 3.37830770 & 0.41753984 & 0.22643470\\\\\n",
       "\tanger/S010\\_004\\_00000018b.png & 0.05490196 & 0.03921569 & 0.03921569 & 0.03921569 & 0.04313725 & 0.04313725 & 0.04313725 & 0.04705882 & 0.04705882 & 0.04705882 & ⋯ & 8.8139679 & 0.008318903 & 0.59044770 & 0.9626368 & 0.003012070 & 0.005545936 & 0.25888500 & 1.80784314 & 0.00000000 & 0.00000000\\\\\n",
       "\tanger/S010\\_004\\_00000018c.png & 0.05882353 & 0.07058824 & 0.08235294 & 0.08627451 & 0.08627451 & 0.07450980 & 0.06666667 & 0.05490196 & 0.04705882 & 0.04705882 & ⋯ & 0.0000000 & 0.000000000 & 0.00000000 & 2.0000000 & 0.125375488 & 0.089290853 & 0.00000000 & 3.89933083 & 0.27674859 & 0.01123473\\\\\n",
       "\tanger/S010\\_004\\_00000018d.png & 0.04313725 & 0.02745098 & 0.02745098 & 0.03529412 & 0.02745098 & 0.03137255 & 0.04313725 & 0.04705882 & 0.05490196 & 0.05098039 & ⋯ & 0.0000000 & 0.000000000 & 0.03205353 & 1.3040623 & 0.074845103 & 0.000000000 & 0.00000000 & 3.43226629 & 0.27584612 & 0.04498204\\\\\n",
       "\tanger/S010\\_004\\_00000018e.png & 1.00000000 & 1.00000000 & 1.00000000 & 1.00000000 & 1.00000000 & 1.00000000 & 1.00000000 & 1.00000000 & 1.00000000 & 1.00000000 & ⋯ & 3.7499569 & 0.002608770 & 0.66892444 & 0.6309269 & 0.000000000 & 0.074868221 & 0.09052695 & 0.00000000 & 0.50015522 & 0.00000000\\\\\n",
       "\tanger/S010\\_004\\_00000018f.png & 1.00000000 & 1.00000000 & 1.00000000 & 1.00000000 & 1.00000000 & 1.00000000 & 1.00000000 & 1.00000000 & 1.00000000 & 1.00000000 & ⋯ & 0.0000000 & 0.037809758 & 0.77322026 & 1.6471186 & 0.000000000 & 0.000000000 & 0.00000000 & 0.01568627 & 0.04474494 & 0.00000000\\\\\n",
       "\\end{tabular}\n"
      ],
      "text/markdown": [
       "\n",
       "A data.frame: 6 × 3761\n",
       "\n",
       "| <!--/--> | p4 &lt;dbl&gt; | p5 &lt;dbl&gt; | p6 &lt;dbl&gt; | p7 &lt;dbl&gt; | p8 &lt;dbl&gt; | p9 &lt;dbl&gt; | p10 &lt;dbl&gt; | p11 &lt;dbl&gt; | p12 &lt;dbl&gt; | p13 &lt;dbl&gt; | ⋯ ⋯ | V3952 &lt;dbl&gt; | V3954 &lt;dbl&gt; | V3955 &lt;dbl&gt; | V3956 &lt;dbl&gt; | V3957 &lt;dbl&gt; | V3958 &lt;dbl&gt; | V3960 &lt;dbl&gt; | V4312 &lt;dbl&gt; | V4316 &lt;dbl&gt; | V4320 &lt;dbl&gt; |\n",
       "|---|---|---|---|---|---|---|---|---|---|---|---|---|---|---|---|---|---|---|---|---|---|\n",
       "| anger/S010_004_00000018a.png | 0.01960784 | 0.03137255 | 0.05490196 | 0.05882353 | 0.07450980 | 0.06666667 | 0.04705882 | 0.05490196 | 0.05882353 | 0.05098039 | ⋯ | 0.4103944 | 0.007870108 | 0.24455542 | 0.9987282 | 0.008657012 | 0.014303614 | 0.00000000 | 3.37830770 | 0.41753984 | 0.22643470 |\n",
       "| anger/S010_004_00000018b.png | 0.05490196 | 0.03921569 | 0.03921569 | 0.03921569 | 0.04313725 | 0.04313725 | 0.04313725 | 0.04705882 | 0.04705882 | 0.04705882 | ⋯ | 8.8139679 | 0.008318903 | 0.59044770 | 0.9626368 | 0.003012070 | 0.005545936 | 0.25888500 | 1.80784314 | 0.00000000 | 0.00000000 |\n",
       "| anger/S010_004_00000018c.png | 0.05882353 | 0.07058824 | 0.08235294 | 0.08627451 | 0.08627451 | 0.07450980 | 0.06666667 | 0.05490196 | 0.04705882 | 0.04705882 | ⋯ | 0.0000000 | 0.000000000 | 0.00000000 | 2.0000000 | 0.125375488 | 0.089290853 | 0.00000000 | 3.89933083 | 0.27674859 | 0.01123473 |\n",
       "| anger/S010_004_00000018d.png | 0.04313725 | 0.02745098 | 0.02745098 | 0.03529412 | 0.02745098 | 0.03137255 | 0.04313725 | 0.04705882 | 0.05490196 | 0.05098039 | ⋯ | 0.0000000 | 0.000000000 | 0.03205353 | 1.3040623 | 0.074845103 | 0.000000000 | 0.00000000 | 3.43226629 | 0.27584612 | 0.04498204 |\n",
       "| anger/S010_004_00000018e.png | 1.00000000 | 1.00000000 | 1.00000000 | 1.00000000 | 1.00000000 | 1.00000000 | 1.00000000 | 1.00000000 | 1.00000000 | 1.00000000 | ⋯ | 3.7499569 | 0.002608770 | 0.66892444 | 0.6309269 | 0.000000000 | 0.074868221 | 0.09052695 | 0.00000000 | 0.50015522 | 0.00000000 |\n",
       "| anger/S010_004_00000018f.png | 1.00000000 | 1.00000000 | 1.00000000 | 1.00000000 | 1.00000000 | 1.00000000 | 1.00000000 | 1.00000000 | 1.00000000 | 1.00000000 | ⋯ | 0.0000000 | 0.037809758 | 0.77322026 | 1.6471186 | 0.000000000 | 0.000000000 | 0.00000000 | 0.01568627 | 0.04474494 | 0.00000000 |\n",
       "\n"
      ],
      "text/plain": [
       "                             p4         p5         p6         p7        \n",
       "anger/S010_004_00000018a.png 0.01960784 0.03137255 0.05490196 0.05882353\n",
       "anger/S010_004_00000018b.png 0.05490196 0.03921569 0.03921569 0.03921569\n",
       "anger/S010_004_00000018c.png 0.05882353 0.07058824 0.08235294 0.08627451\n",
       "anger/S010_004_00000018d.png 0.04313725 0.02745098 0.02745098 0.03529412\n",
       "anger/S010_004_00000018e.png 1.00000000 1.00000000 1.00000000 1.00000000\n",
       "anger/S010_004_00000018f.png 1.00000000 1.00000000 1.00000000 1.00000000\n",
       "                             p8         p9         p10        p11       \n",
       "anger/S010_004_00000018a.png 0.07450980 0.06666667 0.04705882 0.05490196\n",
       "anger/S010_004_00000018b.png 0.04313725 0.04313725 0.04313725 0.04705882\n",
       "anger/S010_004_00000018c.png 0.08627451 0.07450980 0.06666667 0.05490196\n",
       "anger/S010_004_00000018d.png 0.02745098 0.03137255 0.04313725 0.04705882\n",
       "anger/S010_004_00000018e.png 1.00000000 1.00000000 1.00000000 1.00000000\n",
       "anger/S010_004_00000018f.png 1.00000000 1.00000000 1.00000000 1.00000000\n",
       "                             p12        p13        ⋯ V3952     V3954      \n",
       "anger/S010_004_00000018a.png 0.05882353 0.05098039 ⋯ 0.4103944 0.007870108\n",
       "anger/S010_004_00000018b.png 0.04705882 0.04705882 ⋯ 8.8139679 0.008318903\n",
       "anger/S010_004_00000018c.png 0.04705882 0.04705882 ⋯ 0.0000000 0.000000000\n",
       "anger/S010_004_00000018d.png 0.05490196 0.05098039 ⋯ 0.0000000 0.000000000\n",
       "anger/S010_004_00000018e.png 1.00000000 1.00000000 ⋯ 3.7499569 0.002608770\n",
       "anger/S010_004_00000018f.png 1.00000000 1.00000000 ⋯ 0.0000000 0.037809758\n",
       "                             V3955      V3956     V3957       V3958      \n",
       "anger/S010_004_00000018a.png 0.24455542 0.9987282 0.008657012 0.014303614\n",
       "anger/S010_004_00000018b.png 0.59044770 0.9626368 0.003012070 0.005545936\n",
       "anger/S010_004_00000018c.png 0.00000000 2.0000000 0.125375488 0.089290853\n",
       "anger/S010_004_00000018d.png 0.03205353 1.3040623 0.074845103 0.000000000\n",
       "anger/S010_004_00000018e.png 0.66892444 0.6309269 0.000000000 0.074868221\n",
       "anger/S010_004_00000018f.png 0.77322026 1.6471186 0.000000000 0.000000000\n",
       "                             V3960      V4312      V4316      V4320     \n",
       "anger/S010_004_00000018a.png 0.00000000 3.37830770 0.41753984 0.22643470\n",
       "anger/S010_004_00000018b.png 0.25888500 1.80784314 0.00000000 0.00000000\n",
       "anger/S010_004_00000018c.png 0.00000000 3.89933083 0.27674859 0.01123473\n",
       "anger/S010_004_00000018d.png 0.00000000 3.43226629 0.27584612 0.04498204\n",
       "anger/S010_004_00000018e.png 0.09052695 0.00000000 0.50015522 0.00000000\n",
       "anger/S010_004_00000018f.png 0.00000000 0.01568627 0.04474494 0.00000000"
      ]
     },
     "metadata": {},
     "output_type": "display_data"
    },
    {
     "data": {
      "text/html": [
       "3618"
      ],
      "text/latex": [
       "3618"
      ],
      "text/markdown": [
       "3618"
      ],
      "text/plain": [
       "[1] 3618"
      ]
     },
     "metadata": {},
     "output_type": "display_data"
    },
    {
     "data": {
      "text/html": [
       "3761"
      ],
      "text/latex": [
       "3761"
      ],
      "text/markdown": [
       "3761"
      ],
      "text/plain": [
       "[1] 3761"
      ]
     },
     "metadata": {},
     "output_type": "display_data"
    }
   ],
   "source": [
    "# Adding IDs back to the dataframe\n",
    "features_final_df <- cbind(features_df[\"id\"], features_final_df)\n",
    "features_final_df <- features_final_df[, !names(features_final_df) %in% \"id\"]\n",
    "\n",
    "features_final_df %>% head()\n",
    "nrow(features_final_df)\n",
    "ncol(features_final_df)"
   ]
  },
  {
   "cell_type": "markdown",
   "id": "8a936513",
   "metadata": {
    "papermill": {
     "duration": 0.021948,
     "end_time": "2023-10-19T09:55:17.388841",
     "exception": false,
     "start_time": "2023-10-19T09:55:17.366893",
     "status": "completed"
    },
    "tags": []
   },
   "source": [
    "## 3.8 New Train-Test Split <a class=\"anchor\"  id=\"section3.8\"></a>\n",
    "\n",
    "As we have previously merged the train and test data to compute our features we now have to split them up again in order to be able to train our models on just the training data."
   ]
  },
  {
   "cell_type": "code",
   "execution_count": 23,
   "id": "d48cd3ec",
   "metadata": {
    "execution": {
     "iopub.execute_input": "2023-10-19T09:55:17.439285Z",
     "iopub.status.busy": "2023-10-19T09:55:17.437301Z",
     "iopub.status.idle": "2023-10-19T09:55:20.688097Z",
     "shell.execute_reply": "2023-10-19T09:55:20.686125Z"
    },
    "papermill": {
     "duration": 3.2785,
     "end_time": "2023-10-19T09:55:20.690820",
     "exception": false,
     "start_time": "2023-10-19T09:55:17.412320",
     "status": "completed"
    },
    "tags": []
   },
   "outputs": [
    {
     "data": {
      "text/html": [
       "<table class=\"dataframe\">\n",
       "<caption>A data.frame: 6 × 3761</caption>\n",
       "<thead>\n",
       "\t<tr><th></th><th scope=col>p4</th><th scope=col>p5</th><th scope=col>p6</th><th scope=col>p7</th><th scope=col>p8</th><th scope=col>p9</th><th scope=col>p10</th><th scope=col>p11</th><th scope=col>p12</th><th scope=col>p13</th><th scope=col>⋯</th><th scope=col>V3952</th><th scope=col>V3954</th><th scope=col>V3955</th><th scope=col>V3956</th><th scope=col>V3957</th><th scope=col>V3958</th><th scope=col>V3960</th><th scope=col>V4312</th><th scope=col>V4316</th><th scope=col>V4320</th></tr>\n",
       "\t<tr><th></th><th scope=col>&lt;dbl&gt;</th><th scope=col>&lt;dbl&gt;</th><th scope=col>&lt;dbl&gt;</th><th scope=col>&lt;dbl&gt;</th><th scope=col>&lt;dbl&gt;</th><th scope=col>&lt;dbl&gt;</th><th scope=col>&lt;dbl&gt;</th><th scope=col>&lt;dbl&gt;</th><th scope=col>&lt;dbl&gt;</th><th scope=col>&lt;dbl&gt;</th><th scope=col>⋯</th><th scope=col>&lt;dbl&gt;</th><th scope=col>&lt;dbl&gt;</th><th scope=col>&lt;dbl&gt;</th><th scope=col>&lt;dbl&gt;</th><th scope=col>&lt;dbl&gt;</th><th scope=col>&lt;dbl&gt;</th><th scope=col>&lt;dbl&gt;</th><th scope=col>&lt;dbl&gt;</th><th scope=col>&lt;dbl&gt;</th><th scope=col>&lt;dbl&gt;</th></tr>\n",
       "</thead>\n",
       "<tbody>\n",
       "\t<tr><th scope=row>anger/S010_004_00000018a.png</th><td>0.01960784</td><td>0.03137255</td><td>0.05490196</td><td>0.05882353</td><td>0.07450980</td><td>0.06666667</td><td>0.04705882</td><td>0.05490196</td><td>0.05882353</td><td>0.05098039</td><td>⋯</td><td>0.4103944</td><td>0.007870108</td><td>0.24455542</td><td>0.9987282</td><td>0.008657012</td><td>0.014303614</td><td>0.00000000</td><td>3.37830770</td><td>0.41753984</td><td>0.22643470</td></tr>\n",
       "\t<tr><th scope=row>anger/S010_004_00000018b.png</th><td>0.05490196</td><td>0.03921569</td><td>0.03921569</td><td>0.03921569</td><td>0.04313725</td><td>0.04313725</td><td>0.04313725</td><td>0.04705882</td><td>0.04705882</td><td>0.04705882</td><td>⋯</td><td>8.8139679</td><td>0.008318903</td><td>0.59044770</td><td>0.9626368</td><td>0.003012070</td><td>0.005545936</td><td>0.25888500</td><td>1.80784314</td><td>0.00000000</td><td>0.00000000</td></tr>\n",
       "\t<tr><th scope=row>anger/S010_004_00000018c.png</th><td>0.05882353</td><td>0.07058824</td><td>0.08235294</td><td>0.08627451</td><td>0.08627451</td><td>0.07450980</td><td>0.06666667</td><td>0.05490196</td><td>0.04705882</td><td>0.04705882</td><td>⋯</td><td>0.0000000</td><td>0.000000000</td><td>0.00000000</td><td>2.0000000</td><td>0.125375488</td><td>0.089290853</td><td>0.00000000</td><td>3.89933083</td><td>0.27674859</td><td>0.01123473</td></tr>\n",
       "\t<tr><th scope=row>anger/S010_004_00000018d.png</th><td>0.04313725</td><td>0.02745098</td><td>0.02745098</td><td>0.03529412</td><td>0.02745098</td><td>0.03137255</td><td>0.04313725</td><td>0.04705882</td><td>0.05490196</td><td>0.05098039</td><td>⋯</td><td>0.0000000</td><td>0.000000000</td><td>0.03205353</td><td>1.3040623</td><td>0.074845103</td><td>0.000000000</td><td>0.00000000</td><td>3.43226629</td><td>0.27584612</td><td>0.04498204</td></tr>\n",
       "\t<tr><th scope=row>anger/S010_004_00000018e.png</th><td>1.00000000</td><td>1.00000000</td><td>1.00000000</td><td>1.00000000</td><td>1.00000000</td><td>1.00000000</td><td>1.00000000</td><td>1.00000000</td><td>1.00000000</td><td>1.00000000</td><td>⋯</td><td>3.7499569</td><td>0.002608770</td><td>0.66892444</td><td>0.6309269</td><td>0.000000000</td><td>0.074868221</td><td>0.09052695</td><td>0.00000000</td><td>0.50015522</td><td>0.00000000</td></tr>\n",
       "\t<tr><th scope=row>anger/S010_004_00000018f.png</th><td>1.00000000</td><td>1.00000000</td><td>1.00000000</td><td>1.00000000</td><td>1.00000000</td><td>1.00000000</td><td>1.00000000</td><td>1.00000000</td><td>1.00000000</td><td>1.00000000</td><td>⋯</td><td>0.0000000</td><td>0.037809758</td><td>0.77322026</td><td>1.6471186</td><td>0.000000000</td><td>0.000000000</td><td>0.00000000</td><td>0.01568627</td><td>0.04474494</td><td>0.00000000</td></tr>\n",
       "</tbody>\n",
       "</table>\n"
      ],
      "text/latex": [
       "A data.frame: 6 × 3761\n",
       "\\begin{tabular}{r|lllllllllllllllllllll}\n",
       "  & p4 & p5 & p6 & p7 & p8 & p9 & p10 & p11 & p12 & p13 & ⋯ & V3952 & V3954 & V3955 & V3956 & V3957 & V3958 & V3960 & V4312 & V4316 & V4320\\\\\n",
       "  & <dbl> & <dbl> & <dbl> & <dbl> & <dbl> & <dbl> & <dbl> & <dbl> & <dbl> & <dbl> & ⋯ & <dbl> & <dbl> & <dbl> & <dbl> & <dbl> & <dbl> & <dbl> & <dbl> & <dbl> & <dbl>\\\\\n",
       "\\hline\n",
       "\tanger/S010\\_004\\_00000018a.png & 0.01960784 & 0.03137255 & 0.05490196 & 0.05882353 & 0.07450980 & 0.06666667 & 0.04705882 & 0.05490196 & 0.05882353 & 0.05098039 & ⋯ & 0.4103944 & 0.007870108 & 0.24455542 & 0.9987282 & 0.008657012 & 0.014303614 & 0.00000000 & 3.37830770 & 0.41753984 & 0.22643470\\\\\n",
       "\tanger/S010\\_004\\_00000018b.png & 0.05490196 & 0.03921569 & 0.03921569 & 0.03921569 & 0.04313725 & 0.04313725 & 0.04313725 & 0.04705882 & 0.04705882 & 0.04705882 & ⋯ & 8.8139679 & 0.008318903 & 0.59044770 & 0.9626368 & 0.003012070 & 0.005545936 & 0.25888500 & 1.80784314 & 0.00000000 & 0.00000000\\\\\n",
       "\tanger/S010\\_004\\_00000018c.png & 0.05882353 & 0.07058824 & 0.08235294 & 0.08627451 & 0.08627451 & 0.07450980 & 0.06666667 & 0.05490196 & 0.04705882 & 0.04705882 & ⋯ & 0.0000000 & 0.000000000 & 0.00000000 & 2.0000000 & 0.125375488 & 0.089290853 & 0.00000000 & 3.89933083 & 0.27674859 & 0.01123473\\\\\n",
       "\tanger/S010\\_004\\_00000018d.png & 0.04313725 & 0.02745098 & 0.02745098 & 0.03529412 & 0.02745098 & 0.03137255 & 0.04313725 & 0.04705882 & 0.05490196 & 0.05098039 & ⋯ & 0.0000000 & 0.000000000 & 0.03205353 & 1.3040623 & 0.074845103 & 0.000000000 & 0.00000000 & 3.43226629 & 0.27584612 & 0.04498204\\\\\n",
       "\tanger/S010\\_004\\_00000018e.png & 1.00000000 & 1.00000000 & 1.00000000 & 1.00000000 & 1.00000000 & 1.00000000 & 1.00000000 & 1.00000000 & 1.00000000 & 1.00000000 & ⋯ & 3.7499569 & 0.002608770 & 0.66892444 & 0.6309269 & 0.000000000 & 0.074868221 & 0.09052695 & 0.00000000 & 0.50015522 & 0.00000000\\\\\n",
       "\tanger/S010\\_004\\_00000018f.png & 1.00000000 & 1.00000000 & 1.00000000 & 1.00000000 & 1.00000000 & 1.00000000 & 1.00000000 & 1.00000000 & 1.00000000 & 1.00000000 & ⋯ & 0.0000000 & 0.037809758 & 0.77322026 & 1.6471186 & 0.000000000 & 0.000000000 & 0.00000000 & 0.01568627 & 0.04474494 & 0.00000000\\\\\n",
       "\\end{tabular}\n"
      ],
      "text/markdown": [
       "\n",
       "A data.frame: 6 × 3761\n",
       "\n",
       "| <!--/--> | p4 &lt;dbl&gt; | p5 &lt;dbl&gt; | p6 &lt;dbl&gt; | p7 &lt;dbl&gt; | p8 &lt;dbl&gt; | p9 &lt;dbl&gt; | p10 &lt;dbl&gt; | p11 &lt;dbl&gt; | p12 &lt;dbl&gt; | p13 &lt;dbl&gt; | ⋯ ⋯ | V3952 &lt;dbl&gt; | V3954 &lt;dbl&gt; | V3955 &lt;dbl&gt; | V3956 &lt;dbl&gt; | V3957 &lt;dbl&gt; | V3958 &lt;dbl&gt; | V3960 &lt;dbl&gt; | V4312 &lt;dbl&gt; | V4316 &lt;dbl&gt; | V4320 &lt;dbl&gt; |\n",
       "|---|---|---|---|---|---|---|---|---|---|---|---|---|---|---|---|---|---|---|---|---|---|\n",
       "| anger/S010_004_00000018a.png | 0.01960784 | 0.03137255 | 0.05490196 | 0.05882353 | 0.07450980 | 0.06666667 | 0.04705882 | 0.05490196 | 0.05882353 | 0.05098039 | ⋯ | 0.4103944 | 0.007870108 | 0.24455542 | 0.9987282 | 0.008657012 | 0.014303614 | 0.00000000 | 3.37830770 | 0.41753984 | 0.22643470 |\n",
       "| anger/S010_004_00000018b.png | 0.05490196 | 0.03921569 | 0.03921569 | 0.03921569 | 0.04313725 | 0.04313725 | 0.04313725 | 0.04705882 | 0.04705882 | 0.04705882 | ⋯ | 8.8139679 | 0.008318903 | 0.59044770 | 0.9626368 | 0.003012070 | 0.005545936 | 0.25888500 | 1.80784314 | 0.00000000 | 0.00000000 |\n",
       "| anger/S010_004_00000018c.png | 0.05882353 | 0.07058824 | 0.08235294 | 0.08627451 | 0.08627451 | 0.07450980 | 0.06666667 | 0.05490196 | 0.04705882 | 0.04705882 | ⋯ | 0.0000000 | 0.000000000 | 0.00000000 | 2.0000000 | 0.125375488 | 0.089290853 | 0.00000000 | 3.89933083 | 0.27674859 | 0.01123473 |\n",
       "| anger/S010_004_00000018d.png | 0.04313725 | 0.02745098 | 0.02745098 | 0.03529412 | 0.02745098 | 0.03137255 | 0.04313725 | 0.04705882 | 0.05490196 | 0.05098039 | ⋯ | 0.0000000 | 0.000000000 | 0.03205353 | 1.3040623 | 0.074845103 | 0.000000000 | 0.00000000 | 3.43226629 | 0.27584612 | 0.04498204 |\n",
       "| anger/S010_004_00000018e.png | 1.00000000 | 1.00000000 | 1.00000000 | 1.00000000 | 1.00000000 | 1.00000000 | 1.00000000 | 1.00000000 | 1.00000000 | 1.00000000 | ⋯ | 3.7499569 | 0.002608770 | 0.66892444 | 0.6309269 | 0.000000000 | 0.074868221 | 0.09052695 | 0.00000000 | 0.50015522 | 0.00000000 |\n",
       "| anger/S010_004_00000018f.png | 1.00000000 | 1.00000000 | 1.00000000 | 1.00000000 | 1.00000000 | 1.00000000 | 1.00000000 | 1.00000000 | 1.00000000 | 1.00000000 | ⋯ | 0.0000000 | 0.037809758 | 0.77322026 | 1.6471186 | 0.000000000 | 0.000000000 | 0.00000000 | 0.01568627 | 0.04474494 | 0.00000000 |\n",
       "\n"
      ],
      "text/plain": [
       "                             p4         p5         p6         p7        \n",
       "anger/S010_004_00000018a.png 0.01960784 0.03137255 0.05490196 0.05882353\n",
       "anger/S010_004_00000018b.png 0.05490196 0.03921569 0.03921569 0.03921569\n",
       "anger/S010_004_00000018c.png 0.05882353 0.07058824 0.08235294 0.08627451\n",
       "anger/S010_004_00000018d.png 0.04313725 0.02745098 0.02745098 0.03529412\n",
       "anger/S010_004_00000018e.png 1.00000000 1.00000000 1.00000000 1.00000000\n",
       "anger/S010_004_00000018f.png 1.00000000 1.00000000 1.00000000 1.00000000\n",
       "                             p8         p9         p10        p11       \n",
       "anger/S010_004_00000018a.png 0.07450980 0.06666667 0.04705882 0.05490196\n",
       "anger/S010_004_00000018b.png 0.04313725 0.04313725 0.04313725 0.04705882\n",
       "anger/S010_004_00000018c.png 0.08627451 0.07450980 0.06666667 0.05490196\n",
       "anger/S010_004_00000018d.png 0.02745098 0.03137255 0.04313725 0.04705882\n",
       "anger/S010_004_00000018e.png 1.00000000 1.00000000 1.00000000 1.00000000\n",
       "anger/S010_004_00000018f.png 1.00000000 1.00000000 1.00000000 1.00000000\n",
       "                             p12        p13        ⋯ V3952     V3954      \n",
       "anger/S010_004_00000018a.png 0.05882353 0.05098039 ⋯ 0.4103944 0.007870108\n",
       "anger/S010_004_00000018b.png 0.04705882 0.04705882 ⋯ 8.8139679 0.008318903\n",
       "anger/S010_004_00000018c.png 0.04705882 0.04705882 ⋯ 0.0000000 0.000000000\n",
       "anger/S010_004_00000018d.png 0.05490196 0.05098039 ⋯ 0.0000000 0.000000000\n",
       "anger/S010_004_00000018e.png 1.00000000 1.00000000 ⋯ 3.7499569 0.002608770\n",
       "anger/S010_004_00000018f.png 1.00000000 1.00000000 ⋯ 0.0000000 0.037809758\n",
       "                             V3955      V3956     V3957       V3958      \n",
       "anger/S010_004_00000018a.png 0.24455542 0.9987282 0.008657012 0.014303614\n",
       "anger/S010_004_00000018b.png 0.59044770 0.9626368 0.003012070 0.005545936\n",
       "anger/S010_004_00000018c.png 0.00000000 2.0000000 0.125375488 0.089290853\n",
       "anger/S010_004_00000018d.png 0.03205353 1.3040623 0.074845103 0.000000000\n",
       "anger/S010_004_00000018e.png 0.66892444 0.6309269 0.000000000 0.074868221\n",
       "anger/S010_004_00000018f.png 0.77322026 1.6471186 0.000000000 0.000000000\n",
       "                             V3960      V4312      V4316      V4320     \n",
       "anger/S010_004_00000018a.png 0.00000000 3.37830770 0.41753984 0.22643470\n",
       "anger/S010_004_00000018b.png 0.25888500 1.80784314 0.00000000 0.00000000\n",
       "anger/S010_004_00000018c.png 0.00000000 3.89933083 0.27674859 0.01123473\n",
       "anger/S010_004_00000018d.png 0.00000000 3.43226629 0.27584612 0.04498204\n",
       "anger/S010_004_00000018e.png 0.09052695 0.00000000 0.50015522 0.00000000\n",
       "anger/S010_004_00000018f.png 0.00000000 0.01568627 0.04474494 0.00000000"
      ]
     },
     "metadata": {},
     "output_type": "display_data"
    },
    {
     "data": {
      "text/html": [
       "2538"
      ],
      "text/latex": [
       "2538"
      ],
      "text/markdown": [
       "2538"
      ],
      "text/plain": [
       "[1] 2538"
      ]
     },
     "metadata": {},
     "output_type": "display_data"
    },
    {
     "data": {
      "text/html": [
       "3761"
      ],
      "text/latex": [
       "3761"
      ],
      "text/markdown": [
       "3761"
      ],
      "text/plain": [
       "[1] 3761"
      ]
     },
     "metadata": {},
     "output_type": "display_data"
    },
    {
     "data": {
      "text/html": [
       "<table class=\"dataframe\">\n",
       "<caption>A data.frame: 6 × 3761</caption>\n",
       "<thead>\n",
       "\t<tr><th></th><th scope=col>p4</th><th scope=col>p5</th><th scope=col>p6</th><th scope=col>p7</th><th scope=col>p8</th><th scope=col>p9</th><th scope=col>p10</th><th scope=col>p11</th><th scope=col>p12</th><th scope=col>p13</th><th scope=col>⋯</th><th scope=col>V3952</th><th scope=col>V3954</th><th scope=col>V3955</th><th scope=col>V3956</th><th scope=col>V3957</th><th scope=col>V3958</th><th scope=col>V3960</th><th scope=col>V4312</th><th scope=col>V4316</th><th scope=col>V4320</th></tr>\n",
       "\t<tr><th></th><th scope=col>&lt;dbl&gt;</th><th scope=col>&lt;dbl&gt;</th><th scope=col>&lt;dbl&gt;</th><th scope=col>&lt;dbl&gt;</th><th scope=col>&lt;dbl&gt;</th><th scope=col>&lt;dbl&gt;</th><th scope=col>&lt;dbl&gt;</th><th scope=col>&lt;dbl&gt;</th><th scope=col>&lt;dbl&gt;</th><th scope=col>&lt;dbl&gt;</th><th scope=col>⋯</th><th scope=col>&lt;dbl&gt;</th><th scope=col>&lt;dbl&gt;</th><th scope=col>&lt;dbl&gt;</th><th scope=col>&lt;dbl&gt;</th><th scope=col>&lt;dbl&gt;</th><th scope=col>&lt;dbl&gt;</th><th scope=col>&lt;dbl&gt;</th><th scope=col>&lt;dbl&gt;</th><th scope=col>&lt;dbl&gt;</th><th scope=col>&lt;dbl&gt;</th></tr>\n",
       "</thead>\n",
       "<tbody>\n",
       "\t<tr><th scope=row>S010_004_00000017a.png</th><td>0.02352941</td><td>0.02352941</td><td>0.03921569</td><td>0.05490196</td><td>0.08235294</td><td>0.07450980</td><td>0.05882353</td><td>0.05098039</td><td>0.058823529</td><td>0.058823529</td><td>⋯</td><td>0.371760808</td><td>0.00000000</td><td>0.28994626</td><td>0.9478342</td><td>0.02169854</td><td>0.002772968</td><td>0.00000000</td><td>1.0501365</td><td>0.30077620</td><td>0.07929144</td></tr>\n",
       "\t<tr><th scope=row>S010_004_00000017b.png</th><td>0.05882353</td><td>0.04313725</td><td>0.04313725</td><td>0.04313725</td><td>0.04705882</td><td>0.05098039</td><td>0.05098039</td><td>0.05490196</td><td>0.054901961</td><td>0.050980392</td><td>⋯</td><td>0.000000000</td><td>0.00000000</td><td>0.00000000</td><td>2.7287486</td><td>0.00000000</td><td>0.000000000</td><td>0.00000000</td><td>1.5146959</td><td>0.00000000</td><td>0.00000000</td></tr>\n",
       "\t<tr><th scope=row>S010_004_00000017c.png</th><td>1.00000000</td><td>1.00000000</td><td>0.07450980</td><td>0.03529412</td><td>0.03529412</td><td>0.03137255</td><td>0.02745098</td><td>0.01960784</td><td>0.003921569</td><td>0.007843137</td><td>⋯</td><td>2.165756482</td><td>0.00000000</td><td>0.30683809</td><td>0.4700730</td><td>0.00000000</td><td>0.000000000</td><td>0.03372904</td><td>0.0572154</td><td>0.91554186</td><td>0.00000000</td></tr>\n",
       "\t<tr><th scope=row>S010_004_00000017d.png</th><td>0.03137255</td><td>0.02745098</td><td>0.03529412</td><td>0.03529412</td><td>0.04313725</td><td>0.05490196</td><td>0.05490196</td><td>0.05490196</td><td>0.050980392</td><td>0.058823529</td><td>⋯</td><td>0.003921569</td><td>0.02079726</td><td>0.01378908</td><td>1.2953812</td><td>0.02724785</td><td>0.002772968</td><td>0.00000000</td><td>2.3333333</td><td>0.17254902</td><td>0.00000000</td></tr>\n",
       "\t<tr><th scope=row>S010_004_00000017e.png</th><td>0.04705882</td><td>0.05882353</td><td>0.07058824</td><td>0.06666667</td><td>0.05098039</td><td>0.04313725</td><td>0.04313725</td><td>0.05098039</td><td>0.047058824</td><td>0.047058824</td><td>⋯</td><td>2.169964156</td><td>0.00000000</td><td>0.35804338</td><td>1.2564858</td><td>0.29386415</td><td>0.111162798</td><td>0.06750819</td><td>3.0470588</td><td>0.00000000</td><td>0.00000000</td></tr>\n",
       "\t<tr><th scope=row>S010_004_00000017f.png</th><td>0.03529412</td><td>0.03529412</td><td>0.03921569</td><td>0.03529412</td><td>0.03921569</td><td>0.04705882</td><td>0.05098039</td><td>0.05490196</td><td>0.047058824</td><td>0.047058824</td><td>⋯</td><td>0.000000000</td><td>0.00000000</td><td>0.00000000</td><td>2.3165042</td><td>0.59524016</td><td>0.447447667</td><td>0.00000000</td><td>0.1041007</td><td>0.04075058</td><td>0.01143067</td></tr>\n",
       "</tbody>\n",
       "</table>\n"
      ],
      "text/latex": [
       "A data.frame: 6 × 3761\n",
       "\\begin{tabular}{r|lllllllllllllllllllll}\n",
       "  & p4 & p5 & p6 & p7 & p8 & p9 & p10 & p11 & p12 & p13 & ⋯ & V3952 & V3954 & V3955 & V3956 & V3957 & V3958 & V3960 & V4312 & V4316 & V4320\\\\\n",
       "  & <dbl> & <dbl> & <dbl> & <dbl> & <dbl> & <dbl> & <dbl> & <dbl> & <dbl> & <dbl> & ⋯ & <dbl> & <dbl> & <dbl> & <dbl> & <dbl> & <dbl> & <dbl> & <dbl> & <dbl> & <dbl>\\\\\n",
       "\\hline\n",
       "\tS010\\_004\\_00000017a.png & 0.02352941 & 0.02352941 & 0.03921569 & 0.05490196 & 0.08235294 & 0.07450980 & 0.05882353 & 0.05098039 & 0.058823529 & 0.058823529 & ⋯ & 0.371760808 & 0.00000000 & 0.28994626 & 0.9478342 & 0.02169854 & 0.002772968 & 0.00000000 & 1.0501365 & 0.30077620 & 0.07929144\\\\\n",
       "\tS010\\_004\\_00000017b.png & 0.05882353 & 0.04313725 & 0.04313725 & 0.04313725 & 0.04705882 & 0.05098039 & 0.05098039 & 0.05490196 & 0.054901961 & 0.050980392 & ⋯ & 0.000000000 & 0.00000000 & 0.00000000 & 2.7287486 & 0.00000000 & 0.000000000 & 0.00000000 & 1.5146959 & 0.00000000 & 0.00000000\\\\\n",
       "\tS010\\_004\\_00000017c.png & 1.00000000 & 1.00000000 & 0.07450980 & 0.03529412 & 0.03529412 & 0.03137255 & 0.02745098 & 0.01960784 & 0.003921569 & 0.007843137 & ⋯ & 2.165756482 & 0.00000000 & 0.30683809 & 0.4700730 & 0.00000000 & 0.000000000 & 0.03372904 & 0.0572154 & 0.91554186 & 0.00000000\\\\\n",
       "\tS010\\_004\\_00000017d.png & 0.03137255 & 0.02745098 & 0.03529412 & 0.03529412 & 0.04313725 & 0.05490196 & 0.05490196 & 0.05490196 & 0.050980392 & 0.058823529 & ⋯ & 0.003921569 & 0.02079726 & 0.01378908 & 1.2953812 & 0.02724785 & 0.002772968 & 0.00000000 & 2.3333333 & 0.17254902 & 0.00000000\\\\\n",
       "\tS010\\_004\\_00000017e.png & 0.04705882 & 0.05882353 & 0.07058824 & 0.06666667 & 0.05098039 & 0.04313725 & 0.04313725 & 0.05098039 & 0.047058824 & 0.047058824 & ⋯ & 2.169964156 & 0.00000000 & 0.35804338 & 1.2564858 & 0.29386415 & 0.111162798 & 0.06750819 & 3.0470588 & 0.00000000 & 0.00000000\\\\\n",
       "\tS010\\_004\\_00000017f.png & 0.03529412 & 0.03529412 & 0.03921569 & 0.03529412 & 0.03921569 & 0.04705882 & 0.05098039 & 0.05490196 & 0.047058824 & 0.047058824 & ⋯ & 0.000000000 & 0.00000000 & 0.00000000 & 2.3165042 & 0.59524016 & 0.447447667 & 0.00000000 & 0.1041007 & 0.04075058 & 0.01143067\\\\\n",
       "\\end{tabular}\n"
      ],
      "text/markdown": [
       "\n",
       "A data.frame: 6 × 3761\n",
       "\n",
       "| <!--/--> | p4 &lt;dbl&gt; | p5 &lt;dbl&gt; | p6 &lt;dbl&gt; | p7 &lt;dbl&gt; | p8 &lt;dbl&gt; | p9 &lt;dbl&gt; | p10 &lt;dbl&gt; | p11 &lt;dbl&gt; | p12 &lt;dbl&gt; | p13 &lt;dbl&gt; | ⋯ ⋯ | V3952 &lt;dbl&gt; | V3954 &lt;dbl&gt; | V3955 &lt;dbl&gt; | V3956 &lt;dbl&gt; | V3957 &lt;dbl&gt; | V3958 &lt;dbl&gt; | V3960 &lt;dbl&gt; | V4312 &lt;dbl&gt; | V4316 &lt;dbl&gt; | V4320 &lt;dbl&gt; |\n",
       "|---|---|---|---|---|---|---|---|---|---|---|---|---|---|---|---|---|---|---|---|---|---|\n",
       "| S010_004_00000017a.png | 0.02352941 | 0.02352941 | 0.03921569 | 0.05490196 | 0.08235294 | 0.07450980 | 0.05882353 | 0.05098039 | 0.058823529 | 0.058823529 | ⋯ | 0.371760808 | 0.00000000 | 0.28994626 | 0.9478342 | 0.02169854 | 0.002772968 | 0.00000000 | 1.0501365 | 0.30077620 | 0.07929144 |\n",
       "| S010_004_00000017b.png | 0.05882353 | 0.04313725 | 0.04313725 | 0.04313725 | 0.04705882 | 0.05098039 | 0.05098039 | 0.05490196 | 0.054901961 | 0.050980392 | ⋯ | 0.000000000 | 0.00000000 | 0.00000000 | 2.7287486 | 0.00000000 | 0.000000000 | 0.00000000 | 1.5146959 | 0.00000000 | 0.00000000 |\n",
       "| S010_004_00000017c.png | 1.00000000 | 1.00000000 | 0.07450980 | 0.03529412 | 0.03529412 | 0.03137255 | 0.02745098 | 0.01960784 | 0.003921569 | 0.007843137 | ⋯ | 2.165756482 | 0.00000000 | 0.30683809 | 0.4700730 | 0.00000000 | 0.000000000 | 0.03372904 | 0.0572154 | 0.91554186 | 0.00000000 |\n",
       "| S010_004_00000017d.png | 0.03137255 | 0.02745098 | 0.03529412 | 0.03529412 | 0.04313725 | 0.05490196 | 0.05490196 | 0.05490196 | 0.050980392 | 0.058823529 | ⋯ | 0.003921569 | 0.02079726 | 0.01378908 | 1.2953812 | 0.02724785 | 0.002772968 | 0.00000000 | 2.3333333 | 0.17254902 | 0.00000000 |\n",
       "| S010_004_00000017e.png | 0.04705882 | 0.05882353 | 0.07058824 | 0.06666667 | 0.05098039 | 0.04313725 | 0.04313725 | 0.05098039 | 0.047058824 | 0.047058824 | ⋯ | 2.169964156 | 0.00000000 | 0.35804338 | 1.2564858 | 0.29386415 | 0.111162798 | 0.06750819 | 3.0470588 | 0.00000000 | 0.00000000 |\n",
       "| S010_004_00000017f.png | 0.03529412 | 0.03529412 | 0.03921569 | 0.03529412 | 0.03921569 | 0.04705882 | 0.05098039 | 0.05490196 | 0.047058824 | 0.047058824 | ⋯ | 0.000000000 | 0.00000000 | 0.00000000 | 2.3165042 | 0.59524016 | 0.447447667 | 0.00000000 | 0.1041007 | 0.04075058 | 0.01143067 |\n",
       "\n"
      ],
      "text/plain": [
       "                       p4         p5         p6         p7         p8        \n",
       "S010_004_00000017a.png 0.02352941 0.02352941 0.03921569 0.05490196 0.08235294\n",
       "S010_004_00000017b.png 0.05882353 0.04313725 0.04313725 0.04313725 0.04705882\n",
       "S010_004_00000017c.png 1.00000000 1.00000000 0.07450980 0.03529412 0.03529412\n",
       "S010_004_00000017d.png 0.03137255 0.02745098 0.03529412 0.03529412 0.04313725\n",
       "S010_004_00000017e.png 0.04705882 0.05882353 0.07058824 0.06666667 0.05098039\n",
       "S010_004_00000017f.png 0.03529412 0.03529412 0.03921569 0.03529412 0.03921569\n",
       "                       p9         p10        p11        p12         p13        \n",
       "S010_004_00000017a.png 0.07450980 0.05882353 0.05098039 0.058823529 0.058823529\n",
       "S010_004_00000017b.png 0.05098039 0.05098039 0.05490196 0.054901961 0.050980392\n",
       "S010_004_00000017c.png 0.03137255 0.02745098 0.01960784 0.003921569 0.007843137\n",
       "S010_004_00000017d.png 0.05490196 0.05490196 0.05490196 0.050980392 0.058823529\n",
       "S010_004_00000017e.png 0.04313725 0.04313725 0.05098039 0.047058824 0.047058824\n",
       "S010_004_00000017f.png 0.04705882 0.05098039 0.05490196 0.047058824 0.047058824\n",
       "                       ⋯ V3952       V3954      V3955      V3956     V3957     \n",
       "S010_004_00000017a.png ⋯ 0.371760808 0.00000000 0.28994626 0.9478342 0.02169854\n",
       "S010_004_00000017b.png ⋯ 0.000000000 0.00000000 0.00000000 2.7287486 0.00000000\n",
       "S010_004_00000017c.png ⋯ 2.165756482 0.00000000 0.30683809 0.4700730 0.00000000\n",
       "S010_004_00000017d.png ⋯ 0.003921569 0.02079726 0.01378908 1.2953812 0.02724785\n",
       "S010_004_00000017e.png ⋯ 2.169964156 0.00000000 0.35804338 1.2564858 0.29386415\n",
       "S010_004_00000017f.png ⋯ 0.000000000 0.00000000 0.00000000 2.3165042 0.59524016\n",
       "                       V3958       V3960      V4312     V4316      V4320     \n",
       "S010_004_00000017a.png 0.002772968 0.00000000 1.0501365 0.30077620 0.07929144\n",
       "S010_004_00000017b.png 0.000000000 0.00000000 1.5146959 0.00000000 0.00000000\n",
       "S010_004_00000017c.png 0.000000000 0.03372904 0.0572154 0.91554186 0.00000000\n",
       "S010_004_00000017d.png 0.002772968 0.00000000 2.3333333 0.17254902 0.00000000\n",
       "S010_004_00000017e.png 0.111162798 0.06750819 3.0470588 0.00000000 0.00000000\n",
       "S010_004_00000017f.png 0.447447667 0.00000000 0.1041007 0.04075058 0.01143067"
      ]
     },
     "metadata": {},
     "output_type": "display_data"
    },
    {
     "data": {
      "text/html": [
       "1080"
      ],
      "text/latex": [
       "1080"
      ],
      "text/markdown": [
       "1080"
      ],
      "text/plain": [
       "[1] 1080"
      ]
     },
     "metadata": {},
     "output_type": "display_data"
    },
    {
     "data": {
      "text/html": [
       "3761"
      ],
      "text/latex": [
       "3761"
      ],
      "text/markdown": [
       "3761"
      ],
      "text/plain": [
       "[1] 3761"
      ]
     },
     "metadata": {},
     "output_type": "display_data"
    }
   ],
   "source": [
    "# Select training set\n",
    "train <- features_final_df[train_index,]\n",
    "\n",
    "# Select test set\n",
    "test <- features_final_df[-train_index,]\n",
    "\n",
    "# Use multiple cores whenever possible\n",
    "doParallel::registerDoParallel(cores = 4)\n",
    "\n",
    "suppressMessages(require(caret))\n",
    "\n",
    "# Creating Cross-Validation argument\n",
    "trCntrl <- trainControl('cv', 5, allowParallel = TRUE, savePredictions = \"final\")\n",
    "\n",
    "head(train)\n",
    "nrow(train)\n",
    "ncol(train)\n",
    "\n",
    "head(test)\n",
    "nrow(test)\n",
    "ncol(test)"
   ]
  },
  {
   "cell_type": "markdown",
   "id": "e56b5a52",
   "metadata": {
    "papermill": {
     "duration": 0.022269,
     "end_time": "2023-10-19T09:55:20.736002",
     "exception": false,
     "start_time": "2023-10-19T09:55:20.713733",
     "status": "completed"
    },
    "tags": []
   },
   "source": [
    "# 4. Model Fitting <a class=\"anchor\"  id=\"section4\"></a>\n",
    "\n",
    "## 4.1 Classification Tree <a class=\"anchor\"  id=\"section4.1\"></a>\n",
    "\n",
    "To figure out which model provides the best trade off between bias and variance, between accuracy and flexibility, one strategy is to fit both a flexible and a more rigid model and determine from CV error which direction on the flexiblity axis we should go to avoid overtraining.\n",
    "\n",
    "We'll consider classification trees here. These split the data according to the value of one of the predictors at each step establishing the decision rule that results in the highest node purity. This results in a series of decision rules that split the data into the final nodes. New observations can then be classified according to the majority class present in the node to which they belong."
   ]
  },
  {
   "cell_type": "code",
   "execution_count": 24,
   "id": "e608a0e3",
   "metadata": {
    "execution": {
     "iopub.execute_input": "2023-10-19T09:55:20.786084Z",
     "iopub.status.busy": "2023-10-19T09:55:20.784209Z",
     "iopub.status.idle": "2023-10-19T09:55:50.318160Z",
     "shell.execute_reply": "2023-10-19T09:55:50.315912Z"
    },
    "papermill": {
     "duration": 29.562218,
     "end_time": "2023-10-19T09:55:50.321372",
     "exception": false,
     "start_time": "2023-10-19T09:55:20.759154",
     "status": "completed"
    },
    "tags": []
   },
   "outputs": [
    {
     "data": {
      "text/plain": [
       "CART \n",
       "\n",
       "2538 samples\n",
       "3761 predictors\n",
       "   4 classes: 'anger', 'disgust', 'happy', 'sad' \n",
       "\n",
       "No pre-processing\n",
       "Resampling: Cross-Validated (5 fold) \n",
       "Summary of sample sizes: 2030, 2031, 2030, 2031, 2030 \n",
       "Resampling results:\n",
       "\n",
       "  Accuracy   Kappa    \n",
       "  0.5870879  0.4280406\n",
       "\n",
       "Tuning parameter 'cp' was held constant at a value of 0.02"
      ]
     },
     "metadata": {},
     "output_type": "display_data"
    },
    {
     "data": {
      "text/plain": [
       "Time difference of 29.50902 secs"
      ]
     },
     "metadata": {},
     "output_type": "display_data"
    }
   ],
   "source": [
    "# Fit a CART using 5-fold cross-validation to tune the complexity parameter\n",
    "tt <- Sys.time()\n",
    "fittree = train(x = train, y = factor(y), method='rpart', trControl = trCntrl, tuneGrid = data.frame(cp=.02))\n",
    "fittree\n",
    "\n",
    "(dur <- Sys.time() - tt)"
   ]
  },
  {
   "cell_type": "code",
   "execution_count": 25,
   "id": "26a0a254",
   "metadata": {
    "execution": {
     "iopub.execute_input": "2023-10-19T09:55:50.376486Z",
     "iopub.status.busy": "2023-10-19T09:55:50.374462Z",
     "iopub.status.idle": "2023-10-19T09:55:50.635114Z",
     "shell.execute_reply": "2023-10-19T09:55:50.632642Z"
    },
    "papermill": {
     "duration": 0.291529,
     "end_time": "2023-10-19T09:55:50.638180",
     "exception": false,
     "start_time": "2023-10-19T09:55:50.346651",
     "status": "completed"
    },
    "tags": []
   },
   "outputs": [
    {
     "data": {
      "text/plain": [
       "n= 2538 \n",
       "\n",
       "node), split, n, loss, yval, (yprob)\n",
       "      * denotes terminal node\n",
       "\n",
       " 1) root 2538 1668 happy (0.22458629 0.29314421 0.34278960 0.13947991)  \n",
       "   2) V3019< 0.1494354 1959 1282 disgust (0.27922409 0.34558448 0.20061256 0.17457887)  \n",
       "     4) V3415< 0.1096334 1807 1151 disgust (0.29939126 0.36303265 0.14997233 0.18760376)  \n",
       "       8) V3018< 0.06331194 1207  746 anger (0.38193869 0.28003314 0.09776305 0.24026512)  \n",
       "        16) V1616< 0.08962619 1054  611 anger (0.42030361 0.29886148 0.10531309 0.17552182)  \n",
       "          32) V1072< 0.04667831 333  110 anger (0.66966967 0.15615616 0.04804805 0.12612613) *\n",
       "          33) V1072>=0.04667831 721  458 disgust (0.30513176 0.36477115 0.13176144 0.19833564)  \n",
       "            66) V1036< 0.2579293 326  178 anger (0.45398773 0.19938650 0.13496933 0.21165644) *\n",
       "            67) V1036>=0.2579293 395  197 disgust (0.18227848 0.50126582 0.12911392 0.18734177) *\n",
       "        17) V1616>=0.08962619 153   48 sad (0.11764706 0.15032680 0.04575163 0.68627451) *\n",
       "       9) V3018>=0.06331194 600  282 disgust (0.13333333 0.53000000 0.25500000 0.08166667)  \n",
       "        18) p764< 0.7392157 539  224 disgust (0.14842301 0.58441558 0.17625232 0.09090909) *\n",
       "        19) p764>=0.7392157 61    3 happy (0.00000000 0.04918033 0.95081967 0.00000000) *\n",
       "     5) V3415>=0.1096334 152   30 happy (0.03947368 0.13815789 0.80263158 0.01973684) *\n",
       "   3) V3019>=0.1494354 579  102 happy (0.03972366 0.11571675 0.82383420 0.02072539) *"
      ]
     },
     "metadata": {},
     "output_type": "display_data"
    },
    {
     "data": {
      "image/png": "[encoded data removed]"
     },
     "metadata": {
      "image/png": {
       "height": 480,
       "width": 840
      }
     },
     "output_type": "display_data"
    }
   ],
   "source": [
    "# Graphical visualization of the decision tree\n",
    "options(repr.plot.width = 14, repr.plot.height = 8)\n",
    "plot(fittree$final,\n",
    "     compress = TRUE,\n",
    "     uniform = TRUE,\n",
    "     margin = 0.05,\n",
    "     branch = .75)\n",
    "\n",
    "text(fittree$final,\n",
    "     cex = 0.8,\n",
    "     all = TRUE,\n",
    "     use.n = TRUE)\n",
    "\n",
    "# Textual visualization of the decision tree\n",
    "fittree$finalModel"
   ]
  },
  {
   "cell_type": "markdown",
   "id": "fb685af8",
   "metadata": {
    "papermill": {
     "duration": 0.026625,
     "end_time": "2023-10-19T09:55:50.690548",
     "exception": false,
     "start_time": "2023-10-19T09:55:50.663923",
     "status": "completed"
    },
    "tags": []
   },
   "source": [
    "## 4.2 Linear Discriminant Analysis with PCA (LDApca)<a class=\"anchor\"  id=\"section4.2\"></a>\n",
    "\n",
    "Latent Discriminant Analysis (LDA) is a statistical technique used for dimensionality reduction and feature extraction. We think it could be used in the context of emotion recognition from facial images. In this application, the LDA tries to, based on the features we constructed, uncover the most discriminative facial features that capture the variations associated with different emotional expressions. Additionally, is possible that the computed features are all normally distributed within each classes, which is an assumption of this model. Furthermore, the classes could share a common covariance matrix, given mostly similar facial inputs (not too big variation picturewide, e.g.: high correlation between certain features). On the other hand, within-class variance equivalence might not true, adding this bias in high-dimensional is beneficial.\n",
    "\n",
    "**Additionally, PCA has been used to lower the feature set, given RAM overloading effects of standard LDA (constant restart of kernel).**"
   ]
  },
  {
   "cell_type": "code",
   "execution_count": 26,
   "id": "72555b40",
   "metadata": {
    "execution": {
     "iopub.execute_input": "2023-10-19T09:55:50.747973Z",
     "iopub.status.busy": "2023-10-19T09:55:50.745872Z",
     "iopub.status.idle": "2023-10-19T09:56:39.282115Z",
     "shell.execute_reply": "2023-10-19T09:56:39.278441Z"
    },
    "papermill": {
     "duration": 48.630428,
     "end_time": "2023-10-19T09:56:39.346886",
     "exception": false,
     "start_time": "2023-10-19T09:55:50.716458",
     "status": "completed"
    },
    "tags": []
   },
   "outputs": [
    {
     "data": {
      "text/plain": [
       "Linear Discriminant Analysis \n",
       "\n",
       "2538 samples\n",
       "3761 predictors\n",
       "   4 classes: 'anger', 'disgust', 'happy', 'sad' \n",
       "\n",
       "Pre-processing: principal component signal extraction (3761), centered\n",
       " (3761), scaled (3761) \n",
       "Resampling: Cross-Validated (2 fold) \n",
       "Summary of sample sizes: 1269, 1269 \n",
       "Resampling results:\n",
       "\n",
       "  Accuracy  Kappa    \n",
       "  0.927502  0.9003342\n"
      ]
     },
     "metadata": {},
     "output_type": "display_data"
    }
   ],
   "source": [
    "suppressMessages(require(caret))\n",
    "\n",
    "trControl <- trainControl('cv', \n",
    "                         number = 2, \n",
    "                         p = 0.8)\n",
    "\n",
    "# Train a model with PCA\n",
    "ldafit_with_pca <- train(x = train, \n",
    "                        y = y, \n",
    "                        method = \"lda\", \n",
    "                        preProcess = \"pca\",\n",
    "                        trControl = trControl)\n",
    "ldafit_with_pca"
   ]
  },
  {
   "cell_type": "markdown",
   "id": "b6ff45c2",
   "metadata": {
    "papermill": {
     "duration": 0.024492,
     "end_time": "2023-10-19T09:56:39.409306",
     "exception": false,
     "start_time": "2023-10-19T09:56:39.384814",
     "status": "completed"
    },
    "tags": []
   },
   "source": [
    "## 4.3 Lasso-Fitted Multinomial Regression (LR) <a class=\"anchor\"  id=\"section4,3\"></a>\n",
    "\n",
    "Lasso-fitted multinomial regression is a statistical modeling technique which we think could be used for predicting emotions since it is able to predict a categorical outcome such as happy. It does this based on a set of predictor variables we constructed. Lasso is typically used in high dimensional data, which this is, since it adds a penalty term to the model that encourages some of the regression coefficients to be exactly zero. This is a form of feature selection and it helps to prevent overfitting the model."
   ]
  },
  {
   "cell_type": "code",
   "execution_count": 27,
   "id": "3473fd92",
   "metadata": {
    "execution": {
     "iopub.execute_input": "2023-10-19T09:56:39.462786Z",
     "iopub.status.busy": "2023-10-19T09:56:39.460801Z",
     "iopub.status.idle": "2023-10-19T09:58:14.172359Z",
     "shell.execute_reply": "2023-10-19T09:58:14.170373Z"
    },
    "papermill": {
     "duration": 94.741726,
     "end_time": "2023-10-19T09:58:14.175677",
     "exception": false,
     "start_time": "2023-10-19T09:56:39.433951",
     "status": "completed"
    },
    "tags": []
   },
   "outputs": [
    {
     "data": {
      "text/plain": [
       "\n",
       "Call:  glmnet::cv.glmnet(x = as.matrix(train), y = factor(y), type.measure = \"class\",      nfolds = 5, family = \"multinomial\", alpha = 1, standardize = TRUE) \n",
       "\n",
       "Measure: Misclassification Error \n",
       "\n",
       "      Lambda Index Measure       SE Nonzero\n",
       "min 0.002687    99 0.05556 0.005323     260\n",
       "1se 0.003898    91 0.06068 0.005776     246"
      ]
     },
     "metadata": {},
     "output_type": "display_data"
    },
    {
     "data": {
      "image/png": "[encoded data removed]"
     },
     "metadata": {
      "image/png": {
       "height": 420,
       "width": 420
      }
     },
     "output_type": "display_data"
    }
   ],
   "source": [
    "doMC::registerDoMC(cores = 4)\n",
    "\n",
    "# Performing lasso regression\n",
    "fit_lasso <- glmnet::cv.glmnet(as.matrix(train), \n",
    "                       factor(y), \n",
    "                       family = \"multinomial\",\n",
    "                       nfolds = 5,\n",
    "                       alpha = 1, \n",
    "                       type.measure = \"class\",\n",
    "                       standardize = TRUE)\n",
    "fit_lasso\n",
    "\n",
    "options(repr.plot.width = 7, repr.plot.height = 7)\n",
    "\n",
    "# Plot misclassicication rate over the log of Lambda \n",
    "plot(fit_lasso)"
   ]
  },
  {
   "cell_type": "markdown",
   "id": "14ffb455",
   "metadata": {
    "papermill": {
     "duration": 0.026535,
     "end_time": "2023-10-19T09:58:14.233064",
     "exception": false,
     "start_time": "2023-10-19T09:58:14.206529",
     "status": "completed"
    },
    "tags": []
   },
   "source": [
    "## 4.4 Ridge-Fitted Multinomial Regression (RR) <a class=\"anchor\"  id=\"section4.4\"></a>\n",
    "\n",
    "Ridge-fitted multinomial regression is also a statistical technique used to predict categorical outcomes. Just like Lasso, it handles high dimensional data well but they differ in how they apply regularization and their effects on the regression model:\n",
    "- Ridge penalizes large coefficients without necessarily setting any of them to zero\n",
    "- Ridge typically keeps all the features in the model but shrinks their coefficients whereas lasso tends to produce sparse models (e.g. reducing the number of features used in the final model)\n",
    "- Lasso is used when you expect a lot of irrelevant predictors and creates simpler models. Ridge if used when you want to adress the impact of multicollinearity which results in more stable models. "
   ]
  },
  {
   "cell_type": "code",
   "execution_count": 28,
   "id": "5081c255",
   "metadata": {
    "execution": {
     "iopub.execute_input": "2023-10-19T09:58:14.290996Z",
     "iopub.status.busy": "2023-10-19T09:58:14.288856Z",
     "iopub.status.idle": "2023-10-19T10:02:59.487036Z",
     "shell.execute_reply": "2023-10-19T10:02:59.468839Z"
    },
    "papermill": {
     "duration": 285.23337,
     "end_time": "2023-10-19T10:02:59.492434",
     "exception": false,
     "start_time": "2023-10-19T09:58:14.259064",
     "status": "completed"
    },
    "tags": []
   },
   "outputs": [
    {
     "data": {
      "text/plain": [
       "\n",
       "Call:  glmnet::cv.glmnet(x = as.matrix(train), y = factor(y), type.measure = \"class\",      nfolds = 5, family = \"multinomial\", alpha = 0, standardize = TRUE) \n",
       "\n",
       "Measure: Misclassification Error \n",
       "\n",
       "    Lambda Index Measure       SE Nonzero\n",
       "min  2.565   100 0.08511 0.004282    3761\n",
       "1se  2.815    98 0.08708 0.003747    3761"
      ]
     },
     "metadata": {},
     "output_type": "display_data"
    },
    {
     "data": {
      "image/png": "[encoded data removed]"
     },
     "metadata": {
      "image/png": {
       "height": 420,
       "width": 420
      }
     },
     "output_type": "display_data"
    }
   ],
   "source": [
    "# Speed up tuning by using all 4 CPU cores\n",
    "doMC::registerDoMC(cores = 4)\n",
    "\n",
    "# Performing ridge regression\n",
    "fit_ridge <- glmnet::cv.glmnet(as.matrix(train),\n",
    "                       factor(y),\n",
    "                       family = \"multinomial\",\n",
    "                       nfolds = 5,\n",
    "                       alpha = 0,\n",
    "                       type.measure = \"class\",\n",
    "                       standardize = TRUE)\n",
    "fit_ridge\n",
    "\n",
    "# Plot misclassification rate over the log of Lambda\n",
    "plot(fit_ridge)"
   ]
  },
  {
   "cell_type": "markdown",
   "id": "716bab29",
   "metadata": {
    "papermill": {
     "duration": 0.026787,
     "end_time": "2023-10-19T10:02:59.557006",
     "exception": false,
     "start_time": "2023-10-19T10:02:59.530219",
     "status": "completed"
    },
    "tags": []
   },
   "source": [
    "## 4.5 Random Forests (RF) <a class=\"anchor\"  id=\"section4.5\"></a>\n",
    "\n",
    "\n",
    "Random Forest is a machine learning algorithm that we believe can also be used for emotion recognition from images. RF consists of multiple decision trees which each gets constructed independently based on a subset of the training data with replacement (bootstrapping) and a subset of the features (thus adressing overfitting). Each 'tree' in the forest provides its own prediction (emotion) and the final prediction is usually done with a 'majority vote'. \n",
    "\n",
    "One of the algorithms that can automatically learn non-linearities and interactions between pixels and emotion classes.\n",
    "\n",
    "**This method has been dropped for now, due to its long running times.**"
   ]
  },
  {
   "cell_type": "code",
   "execution_count": 29,
   "id": "5c408997",
   "metadata": {
    "execution": {
     "iopub.execute_input": "2023-10-19T10:02:59.614571Z",
     "iopub.status.busy": "2023-10-19T10:02:59.612819Z",
     "iopub.status.idle": "2023-10-19T10:02:59.629978Z",
     "shell.execute_reply": "2023-10-19T10:02:59.626606Z"
    },
    "papermill": {
     "duration": 0.049071,
     "end_time": "2023-10-19T10:02:59.632566",
     "exception": false,
     "start_time": "2023-10-19T10:02:59.583495",
     "status": "completed"
    },
    "tags": []
   },
   "outputs": [],
   "source": [
    "#doParallel::registerDoParallel(cores = 4)\n",
    "\n",
    "#fit_rf <- train(x = train,\n",
    "#                y = factor(y),\n",
    "#                method = \"rf\",\n",
    "#                trControl = trCntrl,\n",
    "#                preProcess = c(\"center\", \"scale\"),\n",
    "#                tuneLength = 5)\n",
    "#fit_rf"
   ]
  },
  {
   "cell_type": "markdown",
   "id": "d69a2386",
   "metadata": {
    "papermill": {
     "duration": 0.026128,
     "end_time": "2023-10-19T10:02:59.685718",
     "exception": false,
     "start_time": "2023-10-19T10:02:59.659590",
     "status": "completed"
    },
    "tags": []
   },
   "source": [
    "## 4.6 Support Vector Machines (SVMs) <a class=\"anchor\"  id=\"section4.6\"></a>\n",
    "\n",
    "Support Vector Machines (SVMs) are  machine learning algorithms suitable which we think are suitable for emotion recognition from facial images. They work by training on a dataset of labeled face images, extracting relevant features, and determining an optimal decision boundary that separates different emotion categories. The advantage of SVMs is that they are flexible, using both linear and non-linear relationships between features and in this case emotions. They're also good in maximizing the margin between classes so that seperation is better. They require some tuning but when done correctly they can be good predictors and generalize well."
   ]
  },
  {
   "cell_type": "code",
   "execution_count": 30,
   "id": "4f98dfd0",
   "metadata": {
    "execution": {
     "iopub.execute_input": "2023-10-19T10:02:59.742495Z",
     "iopub.status.busy": "2023-10-19T10:02:59.740639Z",
     "iopub.status.idle": "2023-10-19T10:14:57.139157Z",
     "shell.execute_reply": "2023-10-19T10:14:57.136861Z"
    },
    "papermill": {
     "duration": 717.455685,
     "end_time": "2023-10-19T10:14:57.167550",
     "exception": false,
     "start_time": "2023-10-19T10:02:59.711865",
     "status": "completed"
    },
    "tags": []
   },
   "outputs": [
    {
     "data": {
      "text/plain": [
       "Support Vector Machines with Radial Basis Function Kernel \n",
       "\n",
       "2538 samples\n",
       "3761 predictors\n",
       "   4 classes: 'anger', 'disgust', 'happy', 'sad' \n",
       "\n",
       "Pre-processing: centered (3761), scaled (3761) \n",
       "Resampling: Cross-Validated (5 fold) \n",
       "Summary of sample sizes: 2031, 2030, 2031, 2030, 2030 \n",
       "Resampling results across tuning parameters:\n",
       "\n",
       "  C     Accuracy   Kappa    \n",
       "  0.25  0.8317702  0.7636939\n",
       "  0.50  0.9145071  0.8814116\n",
       "  1.00  0.9535107  0.9358685\n",
       "  2.00  0.9720263  0.9614734\n",
       "  4.00  0.9830577  0.9766711\n",
       "\n",
       "Tuning parameter 'sigma' was held constant at a value of 0.0001519618\n",
       "Accuracy was used to select the optimal model using the largest value.\n",
       "The final values used for the model were sigma = 0.0001519618 and C = 4."
      ]
     },
     "metadata": {},
     "output_type": "display_data"
    }
   ],
   "source": [
    "# Using caret\n",
    "doParallel::registerDoParallel(cores = 4)\n",
    "fit_svm_caret <- train(x = train,\n",
    "                 y = factor(y),\n",
    "                 method = \"svmRadial\",\n",
    "                 trControl = trCntrl,\n",
    "                 preProcess = c(\"center\", \"scale\"),\n",
    "                 tuneLength = 5)\n",
    "fit_svm_caret"
   ]
  },
  {
   "cell_type": "markdown",
   "id": "8634b7cc",
   "metadata": {
    "papermill": {
     "duration": 0.027866,
     "end_time": "2023-10-19T10:14:57.223176",
     "exception": false,
     "start_time": "2023-10-19T10:14:57.195310",
     "status": "completed"
    },
    "tags": []
   },
   "source": [
    "## 4.7 k-Nearest Neighbours (kNN) <a class=\"anchor\"  id=\"section4.7\"></a>\n",
    "\n",
    "k-Nearest Neighbors (kNN) is a simple and flexible machine learning algorithm that we think could be used for emotion recognition based on images. It works by comparing the features extracted from the images with those of the 'k' nearest neighbors in the training data, assigning the emotion category most common among them to make predictions. k-NN is good at capturing patterns in facial expressions and doesn't assume a specific underlying model. This results in adaptability to non-linear feature-emotion relationships. The only hard part is selecting the right 'k' value, which is a crucial part of the model. Furthermore, the model only works properly if the features have high quality, which could be an issue with so many predictors."
   ]
  },
  {
   "cell_type": "code",
   "execution_count": 31,
   "id": "1bfcdb9c",
   "metadata": {
    "execution": {
     "iopub.execute_input": "2023-10-19T10:14:57.283943Z",
     "iopub.status.busy": "2023-10-19T10:14:57.281956Z",
     "iopub.status.idle": "2023-10-19T10:26:40.859782Z",
     "shell.execute_reply": "2023-10-19T10:26:40.855263Z"
    },
    "papermill": {
     "duration": 703.636233,
     "end_time": "2023-10-19T10:26:40.887414",
     "exception": false,
     "start_time": "2023-10-19T10:14:57.251181",
     "status": "completed"
    },
    "tags": []
   },
   "outputs": [
    {
     "data": {
      "text/plain": [
       "k-Nearest Neighbors \n",
       "\n",
       "2538 samples\n",
       "3761 predictors\n",
       "   4 classes: 'anger', 'disgust', 'happy', 'sad' \n",
       "\n",
       "No pre-processing\n",
       "Resampling: Cross-Validated (5 fold) \n",
       "Summary of sample sizes: 2031, 2030, 2031, 2030, 2030 \n",
       "Resampling results across tuning parameters:\n",
       "\n",
       "  k  Accuracy   Kappa    \n",
       "  5  0.5322998  0.3523683\n",
       "  7  0.5334778  0.3490773\n",
       "  9  0.5409759  0.3583678\n",
       "\n",
       "Accuracy was used to select the optimal model using the largest value.\n",
       "The final value used for the model was k = 9."
      ]
     },
     "metadata": {},
     "output_type": "display_data"
    }
   ],
   "source": [
    "fit_knn <-  train(x = train, y = factor(y), method='knn', trControl=trCntrl)\n",
    "fit_knn"
   ]
  },
  {
   "cell_type": "markdown",
   "id": "88c5aa38",
   "metadata": {
    "papermill": {
     "duration": 0.028699,
     "end_time": "2023-10-19T10:26:40.944332",
     "exception": false,
     "start_time": "2023-10-19T10:26:40.915633",
     "status": "completed"
    },
    "tags": []
   },
   "source": [
    "# 5. Model Evaluations <a class=\"anchor\"  id=\"section5\"></a>\n",
    "\n",
    "Here we will evaluate each of the models based on their predictions on the training set. This will allow us to select the best model for our submission to the test set. As accuracy is the measure our final model will be evaluated on it is of particular importance to us. However, as the values for accuracy of each model can be seen in the output above in this section we decided to delve deeper and look at the senstivity and the specificity of the models which are related to accuracy. Sensitivity is the probability of a prediction being identified as positive (here presence of a given emotion) given that it is positive. Meanwhile, specificity is the probability of a prediction being identified as negative (here the absence of a given emotion) given that it is negative.\n",
    "\n",
    "## 5.1 Classification and Regression Trees (CART) <a class=\"anchor\"  id=\"section5.1\"></a>\n",
    "\n",
    "We can see that the classification tree has a high or very high specificity on all classes. However, its sensitivity is worse and is particularly bad in the sad class where on,y 29.66% of sad faces were identified as such. Overall, we can say that this model did not perform that well even on the training set."
   ]
  },
  {
   "cell_type": "code",
   "execution_count": 32,
   "id": "59fd8e9e",
   "metadata": {
    "execution": {
     "iopub.execute_input": "2023-10-19T10:26:41.005738Z",
     "iopub.status.busy": "2023-10-19T10:26:41.003498Z",
     "iopub.status.idle": "2023-10-19T10:26:42.176770Z",
     "shell.execute_reply": "2023-10-19T10:26:42.174649Z"
    },
    "papermill": {
     "duration": 1.207476,
     "end_time": "2023-10-19T10:26:42.179839",
     "exception": false,
     "start_time": "2023-10-19T10:26:40.972363",
     "status": "completed"
    },
    "tags": []
   },
   "outputs": [
    {
     "data": {
      "text/plain": [
       "          Reference\n",
       "Prediction anger disgust happy sad\n",
       "   anger     371     117    60 111\n",
       "   disgust   152     513   146 123\n",
       "   happy      29      91   657  15\n",
       "   sad        18      23     7 105"
      ]
     },
     "metadata": {},
     "output_type": "display_data"
    },
    {
     "data": {
      "text/html": [
       "<table class=\"dataframe\">\n",
       "<caption>A matrix: 4 × 2 of type dbl</caption>\n",
       "<thead>\n",
       "\t<tr><th></th><th scope=col>Sensitivity</th><th scope=col>Specificity</th></tr>\n",
       "</thead>\n",
       "<tbody>\n",
       "\t<tr><th scope=row>Class: anger</th><td>0.6508772</td><td>0.8536585</td></tr>\n",
       "\t<tr><th scope=row>Class: disgust</th><td>0.6895161</td><td>0.7653289</td></tr>\n",
       "\t<tr><th scope=row>Class: happy</th><td>0.7551724</td><td>0.9190647</td></tr>\n",
       "\t<tr><th scope=row>Class: sad</th><td>0.2966102</td><td>0.9780220</td></tr>\n",
       "</tbody>\n",
       "</table>\n"
      ],
      "text/latex": [
       "A matrix: 4 × 2 of type dbl\n",
       "\\begin{tabular}{r|ll}\n",
       "  & Sensitivity & Specificity\\\\\n",
       "\\hline\n",
       "\tClass: anger & 0.6508772 & 0.8536585\\\\\n",
       "\tClass: disgust & 0.6895161 & 0.7653289\\\\\n",
       "\tClass: happy & 0.7551724 & 0.9190647\\\\\n",
       "\tClass: sad & 0.2966102 & 0.9780220\\\\\n",
       "\\end{tabular}\n"
      ],
      "text/markdown": [
       "\n",
       "A matrix: 4 × 2 of type dbl\n",
       "\n",
       "| <!--/--> | Sensitivity | Specificity |\n",
       "|---|---|---|\n",
       "| Class: anger | 0.6508772 | 0.8536585 |\n",
       "| Class: disgust | 0.6895161 | 0.7653289 |\n",
       "| Class: happy | 0.7551724 | 0.9190647 |\n",
       "| Class: sad | 0.2966102 | 0.9780220 |\n",
       "\n"
      ],
      "text/plain": [
       "               Sensitivity Specificity\n",
       "Class: anger   0.6508772   0.8536585  \n",
       "Class: disgust 0.6895161   0.7653289  \n",
       "Class: happy   0.7551724   0.9190647  \n",
       "Class: sad     0.2966102   0.9780220  "
      ]
     },
     "metadata": {},
     "output_type": "display_data"
    }
   ],
   "source": [
    "predtree = predict(fittree, train, type='raw') \n",
    "treeCon <- confusionMatrix(predtree, factor(y))\n",
    "\n",
    "treeCon$table\n",
    "treeCon$byClass[,1:2]"
   ]
  },
  {
   "cell_type": "markdown",
   "id": "22f8ad39",
   "metadata": {
    "papermill": {
     "duration": 0.027813,
     "end_time": "2023-10-19T10:26:42.234782",
     "exception": false,
     "start_time": "2023-10-19T10:26:42.206969",
     "status": "completed"
    },
    "tags": []
   },
   "source": [
    "## 5.2 Linear Discriminant Analysis with PCA (LDApca) <a class=\"anchor\"  id=\"section5.2\"></a>\n",
    "\n",
    "We can see that the LDA with PCA model performs very well with both sensitivity and specificity being very high for all classes. However, as we are currently evaluating the model performance on the test set we need to be way of overfitting which such values (especially the specificity of 1 for happiness) can be evidence of. Especially, since LDA has strong assumptions of a linear boundary between the classes it can produce very accurate predictions if this conditions are met on the training set but biased predictions if the assumptions are violated on the test set."
   ]
  },
  {
   "cell_type": "code",
   "execution_count": 33,
   "id": "18dcc699",
   "metadata": {
    "execution": {
     "iopub.execute_input": "2023-10-19T10:26:42.296382Z",
     "iopub.status.busy": "2023-10-19T10:26:42.294488Z",
     "iopub.status.idle": "2023-10-19T10:26:45.471114Z",
     "shell.execute_reply": "2023-10-19T10:26:45.466200Z"
    },
    "papermill": {
     "duration": 3.213662,
     "end_time": "2023-10-19T10:26:45.476906",
     "exception": false,
     "start_time": "2023-10-19T10:26:42.263244",
     "status": "completed"
    },
    "tags": []
   },
   "outputs": [
    {
     "data": {
      "text/plain": [
       "          Reference\n",
       "Prediction anger disgust happy sad\n",
       "   anger     558       9     1  16\n",
       "   disgust     4     734     0   0\n",
       "   happy       0       0   869   0\n",
       "   sad         8       1     0 338"
      ]
     },
     "metadata": {},
     "output_type": "display_data"
    },
    {
     "data": {
      "text/html": [
       "<table class=\"dataframe\">\n",
       "<caption>A matrix: 4 × 2 of type dbl</caption>\n",
       "<thead>\n",
       "\t<tr><th></th><th scope=col>Sensitivity</th><th scope=col>Specificity</th></tr>\n",
       "</thead>\n",
       "<tbody>\n",
       "\t<tr><th scope=row>Class: anger</th><td>0.9789474</td><td>0.9867886</td></tr>\n",
       "\t<tr><th scope=row>Class: disgust</th><td>0.9865591</td><td>0.9977703</td></tr>\n",
       "\t<tr><th scope=row>Class: happy</th><td>0.9988506</td><td>1.0000000</td></tr>\n",
       "\t<tr><th scope=row>Class: sad</th><td>0.9548023</td><td>0.9958791</td></tr>\n",
       "</tbody>\n",
       "</table>\n"
      ],
      "text/latex": [
       "A matrix: 4 × 2 of type dbl\n",
       "\\begin{tabular}{r|ll}\n",
       "  & Sensitivity & Specificity\\\\\n",
       "\\hline\n",
       "\tClass: anger & 0.9789474 & 0.9867886\\\\\n",
       "\tClass: disgust & 0.9865591 & 0.9977703\\\\\n",
       "\tClass: happy & 0.9988506 & 1.0000000\\\\\n",
       "\tClass: sad & 0.9548023 & 0.9958791\\\\\n",
       "\\end{tabular}\n"
      ],
      "text/markdown": [
       "\n",
       "A matrix: 4 × 2 of type dbl\n",
       "\n",
       "| <!--/--> | Sensitivity | Specificity |\n",
       "|---|---|---|\n",
       "| Class: anger | 0.9789474 | 0.9867886 |\n",
       "| Class: disgust | 0.9865591 | 0.9977703 |\n",
       "| Class: happy | 0.9988506 | 1.0000000 |\n",
       "| Class: sad | 0.9548023 | 0.9958791 |\n",
       "\n"
      ],
      "text/plain": [
       "               Sensitivity Specificity\n",
       "Class: anger   0.9789474   0.9867886  \n",
       "Class: disgust 0.9865591   0.9977703  \n",
       "Class: happy   0.9988506   1.0000000  \n",
       "Class: sad     0.9548023   0.9958791  "
      ]
     },
     "metadata": {},
     "output_type": "display_data"
    }
   ],
   "source": [
    "# Performance evaluation CV LDApca\n",
    "pred_ldapca <- predict(ldafit_with_pca, train, type='raw')\n",
    "\n",
    "# Assessing Accuracy in Confusion-Matrix\n",
    "pred_ldapcaCon <- confusionMatrix(pred_ldapca, factor(y))\n",
    "\n",
    "pred_ldapcaCon$table\n",
    "\n",
    "pred_ldapcaCon$byClass[,1:2]"
   ]
  },
  {
   "cell_type": "markdown",
   "id": "29907bc5",
   "metadata": {
    "papermill": {
     "duration": 0.028367,
     "end_time": "2023-10-19T10:26:45.556039",
     "exception": false,
     "start_time": "2023-10-19T10:26:45.527672",
     "status": "completed"
    },
    "tags": []
   },
   "source": [
    "## 5.3 Lasso-Fitted Multinomial Regression (LR) <a class=\"anchor\"  id=\"section5.3\"></a>\n",
    "\n",
    "Once again, the lasso-fitted multinomial regression model performs very well with  both sensitivity and specificity values being high for all classes. Similarly, to  the LDA with PCA model there could be signs of overfitting due to the presence of 1s in the sensitivity-specificity table. However, a lasso-fitted regression model is more variable and less biased than an LDA with PCA model and therefore should be able to adapt better also to the test set."
   ]
  },
  {
   "cell_type": "code",
   "execution_count": 34,
   "id": "ce77a89f",
   "metadata": {
    "execution": {
     "iopub.execute_input": "2023-10-19T10:26:45.617519Z",
     "iopub.status.busy": "2023-10-19T10:26:45.615387Z",
     "iopub.status.idle": "2023-10-19T10:26:47.573634Z",
     "shell.execute_reply": "2023-10-19T10:26:47.571450Z"
    },
    "papermill": {
     "duration": 1.993193,
     "end_time": "2023-10-19T10:26:47.577014",
     "exception": false,
     "start_time": "2023-10-19T10:26:45.583821",
     "status": "completed"
    },
    "tags": []
   },
   "outputs": [
    {
     "data": {
      "text/plain": [
       "          Reference\n",
       "Prediction anger disgust happy sad\n",
       "   anger     568       0     0   3\n",
       "   disgust     1     744     0   0\n",
       "   happy       0       0   870   0\n",
       "   sad         1       0     0 351"
      ]
     },
     "metadata": {},
     "output_type": "display_data"
    },
    {
     "data": {
      "text/html": [
       "<table class=\"dataframe\">\n",
       "<caption>A matrix: 4 × 2 of type dbl</caption>\n",
       "<thead>\n",
       "\t<tr><th></th><th scope=col>Sensitivity</th><th scope=col>Specificity</th></tr>\n",
       "</thead>\n",
       "<tbody>\n",
       "\t<tr><th scope=row>Class: anger</th><td>0.9964912</td><td>0.9984756</td></tr>\n",
       "\t<tr><th scope=row>Class: disgust</th><td>1.0000000</td><td>0.9994426</td></tr>\n",
       "\t<tr><th scope=row>Class: happy</th><td>1.0000000</td><td>1.0000000</td></tr>\n",
       "\t<tr><th scope=row>Class: sad</th><td>0.9915254</td><td>0.9995421</td></tr>\n",
       "</tbody>\n",
       "</table>\n"
      ],
      "text/latex": [
       "A matrix: 4 × 2 of type dbl\n",
       "\\begin{tabular}{r|ll}\n",
       "  & Sensitivity & Specificity\\\\\n",
       "\\hline\n",
       "\tClass: anger & 0.9964912 & 0.9984756\\\\\n",
       "\tClass: disgust & 1.0000000 & 0.9994426\\\\\n",
       "\tClass: happy & 1.0000000 & 1.0000000\\\\\n",
       "\tClass: sad & 0.9915254 & 0.9995421\\\\\n",
       "\\end{tabular}\n"
      ],
      "text/markdown": [
       "\n",
       "A matrix: 4 × 2 of type dbl\n",
       "\n",
       "| <!--/--> | Sensitivity | Specificity |\n",
       "|---|---|---|\n",
       "| Class: anger | 0.9964912 | 0.9984756 |\n",
       "| Class: disgust | 1.0000000 | 0.9994426 |\n",
       "| Class: happy | 1.0000000 | 1.0000000 |\n",
       "| Class: sad | 0.9915254 | 0.9995421 |\n",
       "\n"
      ],
      "text/plain": [
       "               Sensitivity Specificity\n",
       "Class: anger   0.9964912   0.9984756  \n",
       "Class: disgust 1.0000000   0.9994426  \n",
       "Class: happy   1.0000000   1.0000000  \n",
       "Class: sad     0.9915254   0.9995421  "
      ]
     },
     "metadata": {},
     "output_type": "display_data"
    }
   ],
   "source": [
    "# Performance evaluation CV Lasso\n",
    "pred_lasso <- predict(fit_lasso, \n",
    "                     as.matrix(train), \n",
    "                     s = 'lambda.min', \n",
    "                     type = 'class') %>% \n",
    "                     as.factor()\n",
    "\n",
    "# Assessing Accuracy in Confusion-Matrix\n",
    "conLasso <- caret::confusionMatrix(pred_lasso,factor(y))\n",
    "\n",
    "conLasso$table\n",
    "\n",
    "conLasso$byClass[,1:2]"
   ]
  },
  {
   "cell_type": "markdown",
   "id": "a95d19fe",
   "metadata": {
    "papermill": {
     "duration": 0.028819,
     "end_time": "2023-10-19T10:26:47.634551",
     "exception": false,
     "start_time": "2023-10-19T10:26:47.605732",
     "status": "completed"
    },
    "tags": []
   },
   "source": [
    "## 5.4 Ridge-Fitted Multinomial Regression (RR) <a class=\"anchor\"  id=\"section5.4\"></a>\n",
    "The values for ridge-fitted multinomial regression are lower than for the LDA with PCA and lasso-fitted multinomial regression models. However, they are still very high except for the sensitivity in the 'sad' class."
   ]
  },
  {
   "cell_type": "code",
   "execution_count": 35,
   "id": "da136d5c",
   "metadata": {
    "execution": {
     "iopub.execute_input": "2023-10-19T10:26:47.696013Z",
     "iopub.status.busy": "2023-10-19T10:26:47.694206Z",
     "iopub.status.idle": "2023-10-19T10:26:49.290594Z",
     "shell.execute_reply": "2023-10-19T10:26:49.288110Z"
    },
    "papermill": {
     "duration": 1.630696,
     "end_time": "2023-10-19T10:26:49.294046",
     "exception": false,
     "start_time": "2023-10-19T10:26:47.663350",
     "status": "completed"
    },
    "tags": []
   },
   "outputs": [
    {
     "data": {
      "text/plain": [
       "          Reference\n",
       "Prediction anger disgust happy sad\n",
       "   anger     534       7     4  54\n",
       "   disgust    23     731     0  20\n",
       "   happy       0       5   866   0\n",
       "   sad        13       1     0 280"
      ]
     },
     "metadata": {},
     "output_type": "display_data"
    },
    {
     "data": {
      "text/html": [
       "<table class=\"dataframe\">\n",
       "<caption>A matrix: 4 × 2 of type dbl</caption>\n",
       "<thead>\n",
       "\t<tr><th></th><th scope=col>Sensitivity</th><th scope=col>Specificity</th></tr>\n",
       "</thead>\n",
       "<tbody>\n",
       "\t<tr><th scope=row>Class: anger</th><td>0.9368421</td><td>0.9669715</td></tr>\n",
       "\t<tr><th scope=row>Class: disgust</th><td>0.9825269</td><td>0.9760312</td></tr>\n",
       "\t<tr><th scope=row>Class: happy</th><td>0.9954023</td><td>0.9970024</td></tr>\n",
       "\t<tr><th scope=row>Class: sad</th><td>0.7909605</td><td>0.9935897</td></tr>\n",
       "</tbody>\n",
       "</table>\n"
      ],
      "text/latex": [
       "A matrix: 4 × 2 of type dbl\n",
       "\\begin{tabular}{r|ll}\n",
       "  & Sensitivity & Specificity\\\\\n",
       "\\hline\n",
       "\tClass: anger & 0.9368421 & 0.9669715\\\\\n",
       "\tClass: disgust & 0.9825269 & 0.9760312\\\\\n",
       "\tClass: happy & 0.9954023 & 0.9970024\\\\\n",
       "\tClass: sad & 0.7909605 & 0.9935897\\\\\n",
       "\\end{tabular}\n"
      ],
      "text/markdown": [
       "\n",
       "A matrix: 4 × 2 of type dbl\n",
       "\n",
       "| <!--/--> | Sensitivity | Specificity |\n",
       "|---|---|---|\n",
       "| Class: anger | 0.9368421 | 0.9669715 |\n",
       "| Class: disgust | 0.9825269 | 0.9760312 |\n",
       "| Class: happy | 0.9954023 | 0.9970024 |\n",
       "| Class: sad | 0.7909605 | 0.9935897 |\n",
       "\n"
      ],
      "text/plain": [
       "               Sensitivity Specificity\n",
       "Class: anger   0.9368421   0.9669715  \n",
       "Class: disgust 0.9825269   0.9760312  \n",
       "Class: happy   0.9954023   0.9970024  \n",
       "Class: sad     0.7909605   0.9935897  "
      ]
     },
     "metadata": {},
     "output_type": "display_data"
    }
   ],
   "source": [
    "# Performance evaluation CV Ridge\n",
    "pred_ridge = predict(fit_ridge, \n",
    "                     as.matrix(train), \n",
    "                     s = 'lambda.min', \n",
    "                     type = 'class') %>% \n",
    "as.factor()\n",
    "\n",
    "# Assessing Accuracy in Confusion-Matrix\n",
    "conRidge <- caret::confusionMatrix(pred_ridge,factor(y))\n",
    "\n",
    "conRidge$table\n",
    "\n",
    "conRidge$byClass[,1:2]"
   ]
  },
  {
   "cell_type": "markdown",
   "id": "6b6e8b6d",
   "metadata": {
    "papermill": {
     "duration": 0.028903,
     "end_time": "2023-10-19T10:26:49.351576",
     "exception": false,
     "start_time": "2023-10-19T10:26:49.322673",
     "status": "completed"
    },
    "tags": []
   },
   "source": [
    "## 5.5 Support Vector Machines (SVMs) <a class=\"anchor\"  id=\"section5.5\"></a>\n",
    "For the support vector machines the sensitivity and specificity values for all classes are also very high. Here we also get additional measures of performance including the balanced accuracy which is a mean of sensitivity and specificity accounting for imbalances in the classes being predicted. As our dataset is not very balanced this can be a helpful metric to consider. We can see that even on this metric the performance of the SVM remains very high."
   ]
  },
  {
   "cell_type": "code",
   "execution_count": 36,
   "id": "49803d0c",
   "metadata": {
    "execution": {
     "iopub.execute_input": "2023-10-19T10:26:49.413176Z",
     "iopub.status.busy": "2023-10-19T10:26:49.411314Z",
     "iopub.status.idle": "2023-10-19T10:26:49.456653Z",
     "shell.execute_reply": "2023-10-19T10:26:49.454019Z"
    },
    "papermill": {
     "duration": 0.079521,
     "end_time": "2023-10-19T10:26:49.460188",
     "exception": false,
     "start_time": "2023-10-19T10:26:49.380667",
     "status": "completed"
    },
    "tags": []
   },
   "outputs": [
    {
     "data": {
      "text/plain": [
       "Confusion Matrix and Statistics\n",
       "\n",
       "          Reference\n",
       "Prediction anger disgust happy sad\n",
       "   anger     550       2     0  16\n",
       "   disgust    11     739     1   1\n",
       "   happy       0       1   869   0\n",
       "   sad         9       2     0 337\n",
       "\n",
       "Overall Statistics\n",
       "                                          \n",
       "               Accuracy : 0.9831          \n",
       "                 95% CI : (0.9772, 0.9877)\n",
       "    No Information Rate : 0.3428          \n",
       "    P-Value [Acc > NIR] : < 2.2e-16       \n",
       "                                          \n",
       "                  Kappa : 0.9767          \n",
       "                                          \n",
       " Mcnemar's Test P-Value : NA              \n",
       "\n",
       "Statistics by Class:\n",
       "\n",
       "                     Class: anger Class: disgust Class: happy Class: sad\n",
       "Sensitivity                0.9649         0.9933       0.9989     0.9520\n",
       "Specificity                0.9909         0.9928       0.9994     0.9950\n",
       "Pos Pred Value             0.9683         0.9827       0.9989     0.9684\n",
       "Neg Pred Value             0.9898         0.9972       0.9994     0.9922\n",
       "Prevalence                 0.2246         0.2931       0.3428     0.1395\n",
       "Detection Rate             0.2167         0.2912       0.3424     0.1328\n",
       "Detection Prevalence       0.2238         0.2963       0.3428     0.1371\n",
       "Balanced Accuracy          0.9779         0.9930       0.9991     0.9735"
      ]
     },
     "metadata": {},
     "output_type": "display_data"
    }
   ],
   "source": [
    "## SVM Caret\n",
    "# Calculate predictions\n",
    "svmpred <- fit_svm_caret$pred[order(fit_svm_caret$pred$rowIndex), \"pred\"] %>% as.vector()\n",
    "\n",
    "# Ensure that the factor levels for svmpred and y match\n",
    "svmpred <- factor(svmpred, levels = levels(factor(y)))\n",
    "\n",
    "# Compute confusion matrix\n",
    "svmCon <- caret::confusionMatrix(svmpred, factor(y))\n",
    "\n",
    "# View the confusion matrix\n",
    "svmCon"
   ]
  },
  {
   "cell_type": "markdown",
   "id": "ae8155b3",
   "metadata": {
    "papermill": {
     "duration": 0.029033,
     "end_time": "2023-10-19T10:26:49.517769",
     "exception": false,
     "start_time": "2023-10-19T10:26:49.488736",
     "status": "completed"
    },
    "tags": []
   },
   "source": [
    "## 5.6 k-Nearest Neighbors (kNN) <a class=\"anchor\"  id=\"section5.6\"></a>\n",
    "For the k-Nearest Neighbors classifier the sensitivity and specificity values are considerably lower than for the few previous models. The balanced accuracy metric also reflects that. Therefore, we can say that overall this model does not perform as well as LDA with PCA, multinomial regression or SVMs."
   ]
  },
  {
   "cell_type": "code",
   "execution_count": 37,
   "id": "9298cf42",
   "metadata": {
    "execution": {
     "iopub.execute_input": "2023-10-19T10:26:49.578476Z",
     "iopub.status.busy": "2023-10-19T10:26:49.576647Z",
     "iopub.status.idle": "2023-10-19T10:26:49.619744Z",
     "shell.execute_reply": "2023-10-19T10:26:49.617094Z"
    },
    "papermill": {
     "duration": 0.077047,
     "end_time": "2023-10-19T10:26:49.623031",
     "exception": false,
     "start_time": "2023-10-19T10:26:49.545984",
     "status": "completed"
    },
    "tags": []
   },
   "outputs": [
    {
     "data": {
      "text/plain": [
       "Confusion Matrix and Statistics\n",
       "\n",
       "          Reference\n",
       "Prediction anger disgust happy sad\n",
       "   anger     249     124    84  72\n",
       "   disgust   163     438   156  93\n",
       "   happy     101     151   596  99\n",
       "   sad        57      31    34  90\n",
       "\n",
       "Overall Statistics\n",
       "                                          \n",
       "               Accuracy : 0.541           \n",
       "                 95% CI : (0.5214, 0.5605)\n",
       "    No Information Rate : 0.3428          \n",
       "    P-Value [Acc > NIR] : < 2.2e-16       \n",
       "                                          \n",
       "                  Kappa : 0.3584          \n",
       "                                          \n",
       " Mcnemar's Test P-Value : 2.057e-13       \n",
       "\n",
       "Statistics by Class:\n",
       "\n",
       "                     Class: anger Class: disgust Class: happy Class: sad\n",
       "Sensitivity               0.43684         0.5887       0.6851    0.25424\n",
       "Specificity               0.85772         0.7703       0.7896    0.94414\n",
       "Pos Pred Value            0.47070         0.5153       0.6294    0.42453\n",
       "Neg Pred Value            0.84022         0.8187       0.8278    0.88650\n",
       "Prevalence                0.22459         0.2931       0.3428    0.13948\n",
       "Detection Rate            0.09811         0.1726       0.2348    0.03546\n",
       "Detection Prevalence      0.20843         0.3349       0.3731    0.08353\n",
       "Balanced Accuracy         0.64728         0.6795       0.7373    0.59919"
      ]
     },
     "metadata": {},
     "output_type": "display_data"
    }
   ],
   "source": [
    "# Calculate predictions\n",
    "knn_pred <- fit_knn$pred[order(fit_knn$pred$rowIndex), \"pred\"] %>% as.vector()\n",
    "\n",
    "# Ensure that the factor levels for svmpred and y match\n",
    "knn_pred <- factor(knn_pred, levels = levels(factor(y)))\n",
    "\n",
    "# Compute confusion matrix\n",
    "knnCon <- caret::confusionMatrix(knn_pred, factor(y))\n",
    "\n",
    "# View the confusion matrix\n",
    "knnCon"
   ]
  },
  {
   "cell_type": "markdown",
   "id": "be2eb396",
   "metadata": {
    "papermill": {
     "duration": 0.030303,
     "end_time": "2023-10-19T10:26:49.681636",
     "exception": false,
     "start_time": "2023-10-19T10:26:49.651333",
     "status": "completed"
    },
    "tags": []
   },
   "source": [
    "# 6. Final Model Selection <a class=\"anchor\"  id=\"section6\"></a>\n",
    "\n",
    "Here we select the best performing model on the basis of the above-calculated evaluations. For each model we derrived its accuracy based on a confusion matrix (also in the caret package). We've stored the accuracy of each model in a dataframe and using the which.max funciton we determined the model with the highest accuracy. Then we visualized the accuracies to get an easy overview of the models' performance."
   ]
  },
  {
   "cell_type": "code",
   "execution_count": 38,
   "id": "47213cf9",
   "metadata": {
    "execution": {
     "iopub.execute_input": "2023-10-19T10:26:49.745444Z",
     "iopub.status.busy": "2023-10-19T10:26:49.743464Z",
     "iopub.status.idle": "2023-10-19T10:26:50.500168Z",
     "shell.execute_reply": "2023-10-19T10:26:50.498189Z"
    },
    "papermill": {
     "duration": 0.791741,
     "end_time": "2023-10-19T10:26:50.503560",
     "exception": false,
     "start_time": "2023-10-19T10:26:49.711819",
     "status": "completed"
    },
    "tags": []
   },
   "outputs": [
    {
     "name": "stdout",
     "output_type": "stream",
     "text": [
      "The model with the highest accuarcy is Lasso with 0.9980299 ."
     ]
    },
    {
     "data": {
      "image/png": "[encoded data removed]"
     },
     "metadata": {
      "image/png": {
       "height": 420,
       "width": 420
      }
     },
     "output_type": "display_data"
    }
   ],
   "source": [
    "# Accuracy of models\n",
    "Models <- c(\"CART\", \"LDA_PCA\", \"Lasso\", \"Ridge\", \"SVM (caret)\", \"kNN\")\n",
    "Accuracy <- as.numeric(c(treeCon$overall[1], pred_ldapcaCon$overall[1],\n",
    "                         conLasso$overall[1], conRidge$overall[1],\n",
    "                         svmCon$overall[1], knnCon$overall[1]))\n",
    "\n",
    "# Create a data frame for plotting\n",
    "model_data <- data.frame(Models, Accuracy, upper = Accuracy + 0.01, lower = Accuracy - 0.01)\n",
    "\n",
    "# Find the index of the highest accuracy model\n",
    "max_acc_index <- which.max(Accuracy)\n",
    "\n",
    "# Create a label color vector\n",
    "label_colors <- rep(\"black\", length(Models))\n",
    "label_colors[max_acc_index] <- \"red\"\n",
    "\n",
    "# Plot the data\n",
    "ggplot(model_data, aes(x = Models, y = Accuracy, fill = Models, label = Models)) +\n",
    "  geom_col() +\n",
    "  geom_errorbar(aes(ymax = upper, ymin = lower), width = 0.25) +\n",
    "  scale_x_discrete(labels = Models, breaks = Models) +\n",
    "  theme_minimal() +\n",
    "  theme(axis.text.x = element_text(size = 20, angle = 45, vjust = 0.5), \n",
    "        axis.title = element_text(size = 25),\n",
    "        plot.title = element_text(size = 25), \n",
    "        legend.text = element_text(size = 20),\n",
    "        legend.title = element_text(size = 25) ) +\n",
    "  labs(title = \"Accuracy Estimates for Each Model\", color = label_colors)\n",
    "\n",
    "# Find the index of the highest accuracy model\n",
    "max_acc_index <- which.max(Accuracy)\n",
    "max_model <- Models[max_acc_index]\n",
    "max_accuracy <- Accuracy[max_acc_index]\n",
    "\n",
    "# Print the line of text\n",
    "cat(\"The model with the highest accuarcy is\", max_model, \"with\", max_accuracy,\".\")"
   ]
  },
  {
   "cell_type": "markdown",
   "id": "2693ce55",
   "metadata": {
    "papermill": {
     "duration": 0.031399,
     "end_time": "2023-10-19T10:26:50.567259",
     "exception": false,
     "start_time": "2023-10-19T10:26:50.535860",
     "status": "completed"
    },
    "tags": []
   },
   "source": [
    "Although the lasso-fitted regression model has been selected as the best-performing one on the training set we have selected the SVM as our model of choice. This is because:\n",
    "\n",
    "* SVMs can **effectively handle non-linear relationships** by using various kernel functions (e.g.: radial basis function (RBF) kernels). This flexibility can be crucial for capturing complex patterns in the data that a linear regression model could miss.\n",
    "\n",
    "* SVMs are **less sensitive to outliers** compared to linear regression models. They prioritize finding a decision boundary that maximizes the margin between classes, which reduces the impact of outliers.\n",
    "\n",
    "* SVMs tend to have **good generalization performance**, which is crucial for predicting on unseen data. This is especially important if the training set is not entirely representative of the population or if data distribution changes over time.\n",
    "\n",
    "* SVMs offer **various hyperparameters**, such as the choice of kernel, regularization strength (C), and the kernel parameters. With proper hyperparameter tuning, SVMs can be customized to suit the specific needs of the problem, potentially outperforming a lasso-fitted regression model.\n",
    "\n",
    "* SVMs often result in **sparser models**, meaning they select a subset of the most informative features for decision making. This can lead to better interpretability and reduced overfitting, especially when dealing with high-dimensional data (like this one).\n",
    "\n",
    "Overall, while the lasso-fitted regression model may perform slightly better on the training set, the SVM's ability to handle non-linearity, outliers, and its generalization capabilities, along with its suitability for our specific problem, make it our model of choice for this application.\n",
    "\n",
    "We now store our selected model - the SVM - in a variable to facilitate easier prediction on the test set:"
   ]
  },
  {
   "cell_type": "code",
   "execution_count": 39,
   "id": "d9832308",
   "metadata": {
    "execution": {
     "iopub.execute_input": "2023-10-19T10:26:50.634295Z",
     "iopub.status.busy": "2023-10-19T10:26:50.632564Z",
     "iopub.status.idle": "2023-10-19T10:26:50.649579Z",
     "shell.execute_reply": "2023-10-19T10:26:50.647548Z"
    },
    "papermill": {
     "duration": 0.053811,
     "end_time": "2023-10-19T10:26:50.652213",
     "exception": false,
     "start_time": "2023-10-19T10:26:50.598402",
     "status": "completed"
    },
    "tags": []
   },
   "outputs": [],
   "source": [
    "# Selecting SVM as the best performing model\n",
    "best_model <- fit_svm_caret"
   ]
  },
  {
   "cell_type": "markdown",
   "id": "ed63dfb3",
   "metadata": {
    "papermill": {
     "duration": 0.031943,
     "end_time": "2023-10-19T10:26:50.714607",
     "exception": false,
     "start_time": "2023-10-19T10:26:50.682664",
     "status": "completed"
    },
    "tags": []
   },
   "source": [
    "## 6.1 Formatting Your Submission File <a class=\"anchor\"  id=\"section6.1\"></a>\n",
    "\n",
    "Finally, we create the submission file with our predictions on the test set using the best performing model on the training set, in this case the lasso-fitted multinomial regression."
   ]
  },
  {
   "cell_type": "code",
   "execution_count": 40,
   "id": "2c5b9a1c",
   "metadata": {
    "execution": {
     "iopub.execute_input": "2023-10-19T10:26:50.781196Z",
     "iopub.status.busy": "2023-10-19T10:26:50.779448Z",
     "iopub.status.idle": "2023-10-19T10:26:56.117700Z",
     "shell.execute_reply": "2023-10-19T10:26:56.114769Z"
    },
    "papermill": {
     "duration": 5.376189,
     "end_time": "2023-10-19T10:26:56.121523",
     "exception": false,
     "start_time": "2023-10-19T10:26:50.745334",
     "status": "completed"
    },
    "tags": []
   },
   "outputs": [
    {
     "name": "stderr",
     "output_type": "stream",
     "text": [
      "Warning message:\n",
      "“\u001b[1m\u001b[22mThe `path` argument of `write_csv()` is deprecated as of readr 1.4.0.\n",
      "\u001b[36mℹ\u001b[39m Please use the `file` argument instead.”\n"
     ]
    },
    {
     "name": "stdout",
     "output_type": "stream",
     "text": [
      "file,category\n",
      "S010_004_00000017a.png,anger\n",
      "S010_004_00000017b.png,anger\n",
      "S010_004_00000017c.png,anger\n",
      "S010_004_00000017d.png,anger\n",
      "S010_004_00000017e.png,anger\n",
      "S010_004_00000017f.png,anger\n",
      "S011_002_00000022a.png,sad\n",
      "S011_002_00000022b.png,sad\n",
      "S011_002_00000022c.png,sad\n",
      "S011_002_00000022d.png,sad\n",
      "S011_002_00000022e.png,sad\n",
      "S011_002_00000022f.png,sad\n",
      "S011_005_00000018a.png,disgust\n",
      "S011_005_00000018b.png,disgust\n",
      "S011_005_00000018c.png,disgust\n",
      "S011_005_00000018d.png,disgust\n",
      "S011_005_00000018e.png,disgust\n",
      "S011_005_00000018f.png,disgust\n",
      "S011_006_00000013a.png,happy\n"
     ]
    }
   ],
   "source": [
    "## Make predictions\n",
    "predtree <- predict(best_model, as.matrix(test), s = 'lambda.min') %>% as.factor()\n",
    "\n",
    "## Write to file\n",
    "tibble(file = rownames(test), category = predtree) %>% \n",
    "    write_csv(path = \"submission.csv\")\n",
    "\n",
    "## Check result\n",
    "cat(readLines(\"submission.csv\",n=20), sep=\"\\n\")"
   ]
  },
  {
   "cell_type": "markdown",
   "id": "75535f10",
   "metadata": {
    "papermill": {
     "duration": 0.031175,
     "end_time": "2023-10-19T10:26:56.182832",
     "exception": false,
     "start_time": "2023-10-19T10:26:56.151657",
     "status": "completed"
    },
    "tags": []
   },
   "source": [
    "**Conclusions**\n",
    "\n",
    "Our goal was to find a model that the most accurately recognizes one of four emotions - anger, disgust, hapiness or sadness - from photos of people's faces. This was judged not just on our avaiable data, but later will be tested on a test set, therefore we have adjusted the choice of our model from the best performing one on the training set, considering generalizability to new environments.\n",
    "\n",
    "Overall, this algorithm has performed better than humans generally do so on these four emotions. Therefore, our \"hypothesis\" was satisfied and this case the machine actually performed better than humans do. As of improvements, this algorithm should be trained and tested on a larger and more diverse sample as well as to incriese the number of classes in this multi-class classification problem. On the other hand, multi-label classification (the output can take up multiple classes at once) should be tried as well, given that humans convey multiple emotions at once (e.g.: ambivalent emotions)."
   ]
  },
  {
   "cell_type": "markdown",
   "id": "5224ee7b",
   "metadata": {
    "papermill": {
     "duration": 0.030973,
     "end_time": "2023-10-19T10:26:56.244628",
     "exception": false,
     "start_time": "2023-10-19T10:26:56.213655",
     "status": "completed"
    },
    "tags": []
   },
   "source": [
    "# 7. Contributions <a class=\"anchor\"  id=\"section7\"></a>\n",
    "\n",
    "* **Rebeka Prívozníková**: Features, data cleaning, texts + notebook formatting\n",
    "\n",
    "* **Bram Le Febre**: Features, descriptions of features/models\n",
    "\n",
    "* **Bence Marosi**: Models, data considerations, features, text editing, model evaluations"
   ]
  },
  {
   "cell_type": "markdown",
   "id": "20569d31",
   "metadata": {
    "papermill": {
     "duration": 0.032438,
     "end_time": "2023-10-19T10:26:56.307901",
     "exception": false,
     "start_time": "2023-10-19T10:26:56.275463",
     "status": "completed"
    },
    "tags": []
   },
   "source": [
    "# References\n",
    "* dan_vdmeer, Dave Leitritz, Raoul. (2023). Facial Expressions BDA 2023. Kaggle. https://kaggle.com/competitions/bda-2023-facial-expressions\n",
    "\n",
    "* Grasman, R. (2018). Feature extraction from Signals. Dropbox Paper. Retrieved September 21, 2023, from https://paper.dropbox.com/doc/Feature-extraction-from-Signals-qCp5uvj47gmyuw5nmB8lL\n",
    "\n",
    "* Mollahosseini, A., Abdollahi, H., Sweeny, T. D., Cole, R. A., & Mahoor, M. H. (n.d.). Role of embodiment and presence in human perception of robots’ facial cues. International Journal of Human-Computer Studies, 116, 25–39. https://doi.org/10.1016/j.ijhcs.2018.04.005\n",
    "\n",
    "* P. Lucey, J. F. Cohn, T. Kanade, J. Saragih, Z. Ambadar and I. Matthews (2010). The Extended Cohn-Kanade Dataset (CK+): A complete dataset for action unit and emotion-specified expression. IEEE Computer Society Conference on Computer Vision and Pattern Recognition - Workshops, San Francisco, CA, 2010, pp. 94-101, doi: 10.1109/CVPRW.2010.5543262."
   ]
  }
 ],
 "metadata": {
  "kernelspec": {
   "display_name": "R",
   "language": "R",
   "name": "ir"
  },
  "language_info": {
   "codemirror_mode": "r",
   "file_extension": ".r",
   "mimetype": "text/x-r-source",
   "name": "R",
   "pygments_lexer": "r",
   "version": "4.0.5"
  },
  "papermill": {
   "default_parameters": {},
   "duration": 2186.765923,
   "end_time": "2023-10-19T10:26:56.865704",
   "environment_variables": {},
   "exception": null,
   "input_path": "__notebook__.ipynb",
   "output_path": "__notebook__.ipynb",
   "parameters": {},
   "start_time": "2023-10-19T09:50:30.099781",
   "version": "2.4.0"
  }
 },
 "nbformat": 4,
 "nbformat_minor": 5
}
